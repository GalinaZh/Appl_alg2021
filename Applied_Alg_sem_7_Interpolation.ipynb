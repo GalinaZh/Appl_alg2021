{
  "nbformat": 4,
  "nbformat_minor": 0,
  "metadata": {
    "kernelspec": {
      "display_name": "Python 3",
      "language": "python",
      "name": "python3"
    },
    "colab": {
      "name": "Applied_Alg_sem_7_Interpolation",
      "provenance": [],
      "collapsed_sections": [],
      "include_colab_link": true
    }
  },
  "cells": [
    {
      "cell_type": "markdown",
      "metadata": {
        "id": "view-in-github",
        "colab_type": "text"
      },
      "source": [
        "<a href=\"https://colab.research.google.com/github/GalinaZh/Appl_alg2021/blob/main/Applied_Alg_sem_7_Interpolation.ipynb\" target=\"_parent\"><img src=\"https://colab.research.google.com/assets/colab-badge.svg\" alt=\"Open In Colab\"/></a>"
      ]
    },
    {
      "cell_type": "markdown",
      "metadata": {
        "id": "fis1w-TTVnuw"
      },
      "source": [
        "# Занятие 7 \n",
        "# Прикладная алгебра и численные методы\n",
        "## Многочлены Чебышева"
      ]
    },
    {
      "cell_type": "code",
      "metadata": {
        "colab": {
          "base_uri": "https://localhost:8080/"
        },
        "id": "A7Sm92ZCwHJ_",
        "outputId": "6ab6a568-2f7f-4d60-e703-4b87dd064dad"
      },
      "source": [
        "!python -m pip install sympy --upgrade"
      ],
      "execution_count": 1,
      "outputs": [
        {
          "output_type": "stream",
          "text": [
            "Collecting sympy\n",
            "\u001b[?25l  Downloading https://files.pythonhosted.org/packages/ff/69/b16fc81b939d3efdd0b552f2e3e54f7fa1423d0c320cced2e69e675dde26/sympy-1.7.1-py3-none-any.whl (5.9MB)\n",
            "\u001b[K     |████████████████████████████████| 5.9MB 2.2MB/s \n",
            "\u001b[?25hRequirement already satisfied, skipping upgrade: mpmath>=0.19 in /usr/local/lib/python3.6/dist-packages (from sympy) (1.1.0)\n",
            "Installing collected packages: sympy\n",
            "  Found existing installation: sympy 1.1.1\n",
            "    Uninstalling sympy-1.1.1:\n",
            "      Successfully uninstalled sympy-1.1.1\n",
            "Successfully installed sympy-1.7.1\n"
          ],
          "name": "stdout"
        }
      ]
    },
    {
      "cell_type": "code",
      "metadata": {
        "colab": {
          "base_uri": "https://localhost:8080/"
        },
        "id": "S4trtkBBnXpb",
        "outputId": "5349066f-af8e-4d40-d072-49eb6806f795"
      },
      "source": [
        "!python -m pip install numpy --upgrade"
      ],
      "execution_count": 55,
      "outputs": [
        {
          "output_type": "stream",
          "text": [
            "Requirement already up-to-date: numpy in /usr/local/lib/python3.6/dist-packages (1.19.5)\n"
          ],
          "name": "stdout"
        }
      ]
    },
    {
      "cell_type": "code",
      "metadata": {
        "id": "mGFcxneQVnu6"
      },
      "source": [
        "import numpy as np\n",
        "import sympy\n",
        "from sympy import S\n",
        "from sympy.functions.special.polynomials import chebyshevt, chebyshevu\n",
        "from numpy.polynomial.chebyshev import chebinterpolate\n",
        "import matplotlib.pyplot as plt\n",
        "import pandas as pd\n",
        "from google.colab import files\n",
        "%matplotlib inline"
      ],
      "execution_count": 1,
      "outputs": []
    },
    {
      "cell_type": "code",
      "metadata": {
        "colab": {
          "base_uri": "https://localhost:8080/"
        },
        "id": "8I2nsbIp-Tzb",
        "outputId": "99ee0b45-d9d9-4eb0-a863-0407fd942516"
      },
      "source": [
        "import sympy\r\n",
        "import numpy\r\n",
        "sympy.__version__, numpy.__version__"
      ],
      "execution_count": 2,
      "outputs": [
        {
          "output_type": "execute_result",
          "data": {
            "text/plain": [
              "('1.7.1', '1.19.5')"
            ]
          },
          "metadata": {
            "tags": []
          },
          "execution_count": 2
        }
      ]
    },
    {
      "cell_type": "markdown",
      "metadata": {
        "id": "jxu6pmTL3B7K"
      },
      "source": [
        "https://docs.scipy.org/doc/scipy/reference/generated/scipy.linalg.norm.html#scipy.linalg.norm\r\n",
        "\r\n",
        "https://numpy.org/doc/stable/reference/generated/numpy.linalg.norm.html\r\n"
      ]
    },
    {
      "cell_type": "markdown",
      "metadata": {
        "id": "XMPgEBNnVnu8"
      },
      "source": [
        "## Многочлен Чебышева первого рода\n",
        "$T_0(x) = 1$, $T_1(x) = x$, $T_(x) = 2xT_{n - 1}(x) - T_{n - 2}(x)$, $n\\ge 2$.\n",
        "## Пример 1\n",
        "Построим графики многочленов Чебышева первого рода при $n = 4, 5$."
      ]
    },
    {
      "cell_type": "code",
      "metadata": {
        "colab": {
          "base_uri": "https://localhost:8080/",
          "height": 340
        },
        "id": "J1-3qHPfr3YN",
        "outputId": "702842d3-8d93-40ed-fc04-fd8ad6a012e7"
      },
      "source": [
        "x = S('x')\r\n",
        "def T(n, x):\r\n",
        "  if n == 0:\r\n",
        "    return 1\r\n",
        "  if n == 1:\r\n",
        "    return x\r\n",
        "  return sympy.expand(sympy.simplify(2*x*T(n - 1, x) - T(n - 2, x)))\r\n",
        "\r\n",
        "display(T(4, x), T(5, x))\r\n",
        "p = sympy.plot(T(4, x), (x, -1, 1), line_color='green', show=False)\r\n",
        "p.extend(sympy.plot(T(5, x), (x, -1, 1), line_color='red', show=False))\r\n",
        "p.show()"
      ],
      "execution_count": 3,
      "outputs": [
        {
          "output_type": "display_data",
          "data": {
            "text/latex": "$\\displaystyle 8 x^{4} - 8 x^{2} + 1$",
            "text/plain": [
              "8*x**4 - 8*x**2 + 1"
            ]
          },
          "metadata": {
            "tags": []
          }
        },
        {
          "output_type": "display_data",
          "data": {
            "text/latex": "$\\displaystyle 16 x^{5} - 20 x^{3} + 5 x$",
            "text/plain": [
              "16*x**5 - 20*x**3 + 5*x"
            ]
          },
          "metadata": {
            "tags": []
          }
        },
        {
          "output_type": "display_data",
          "data": {
            "image/png": "[encoded data removed]",
            "text/plain": [
              "<Figure size 432x288 with 1 Axes>"
            ]
          },
          "metadata": {
            "tags": [],
            "needs_background": "light"
          }
        }
      ]
    },
    {
      "cell_type": "markdown",
      "metadata": {
        "id": "Lg-M6tXP_MtJ"
      },
      "source": [
        "## Пример 2.\r\n",
        "$$\r\n",
        "T_n(x) = \\frac{(x + \\sqrt{x^2 - 1})^n + (x - \\sqrt{x^2 - 1})^n}{2}, \\quad |x| \\ge 1.\r\n",
        "$$\r\n",
        "Построим многочлен Чебышева первого рода порядка 15 по приведенной выше формуле и по рекурсивной формуле Примера 1.\r\n",
        "\r\n",
        "На сетке значений $x$ от 2 до 3 с шагом 0.001 вычислить нормы разностей значений многочлена Чебышева, полученных двумя способами."
      ]
    },
    {
      "cell_type": "code",
      "metadata": {
        "colab": {
          "base_uri": "https://localhost:8080/",
          "height": 310
        },
        "id": "YMED4kW9s9Ls",
        "outputId": "e1632642-fe98-4e34-ba86-af6356f8f38c"
      },
      "source": [
        "def T_new(n, x):\r\n",
        "  return ((x + sympy.sqrt(x**2 - 1))**n + (x - sympy.sqrt(x**2 - 1))**n)/2\r\n",
        "\r\n",
        "X = np.linspace(2, 3, 1001)\r\n",
        "Y1 = sympy.lambdify(x, T(15, x))(X)\r\n",
        "Y2 = sympy.lambdify(x, T_new(15, x))(X)\r\n",
        "\r\n",
        "print(*[np.linalg.norm(Y1 - Y2, k) for k in [1, 2, 3]])\r\n",
        "plt.plot(X, Y1, 'g-', label=sympy.latex(sympy.Eq(S('T15(x)'), T(15, x)), mode='inline'))\r\n",
        "plt.plot(X, Y2, 'r:', label=sympy.latex(sympy.Eq(S('newT15(x)'), T_new(15, x)), mode='inline'))\r\n",
        "plt.legend()"
      ],
      "execution_count": 4,
      "outputs": [
        {
          "output_type": "stream",
          "text": [
            "0.020938336849212646 0.0013388702364580465 0.0006147238041184818\n"
          ],
          "name": "stdout"
        },
        {
          "output_type": "execute_result",
          "data": {
            "text/plain": [
              "<matplotlib.legend.Legend at 0x7fae30e0b6d8>"
            ]
          },
          "metadata": {
            "tags": []
          },
          "execution_count": 4
        },
        {
          "output_type": "display_data",
          "data": {
            "image/png": "[encoded data removed]",
            "text/plain": [
              "<Figure size 432x288 with 1 Axes>"
            ]
          },
          "metadata": {
            "tags": [],
            "needs_background": "light"
          }
        }
      ]
    },
    {
      "cell_type": "markdown",
      "metadata": {
        "id": "HNiu_ihuCWVk"
      },
      "source": [
        "## Пример 3\r\n",
        "Многочлен Чебышева второго рода:\r\n",
        "$$\r\n",
        "U_n = \\frac{1}{n + 1}T'_{n + 1}(x), \\quad n \\ge 0.\r\n",
        "$$\r\n",
        "$$\r\n",
        "U_n(x) = \\frac{(x + \\sqrt{x^2 - 1})^{n + 1} - (x - \\sqrt{x^2 - 1})^{n + 1}}{2\\sqrt{x^2 - 1}}, \\quad |x| \\ge 1.\r\n",
        "$$\r\n",
        "\r\n",
        "Построим многочлен Чебышева степени 7 двумя способами, сравним нормы разностей на сетке как в Примере 2."
      ]
    },
    {
      "cell_type": "code",
      "metadata": {
        "colab": {
          "base_uri": "https://localhost:8080/",
          "height": 82
        },
        "id": "KhPDtTsAuC2M",
        "outputId": "47cf0082-6f92-4228-b9ee-48f5cdf15295"
      },
      "source": [
        "def U(n, x):\r\n",
        "    return sympy.expand(sympy.simplify(T(n + 1, x).diff(x)/(n + 1)))\r\n",
        "def U_new(n, x):\r\n",
        "    return sympy.expand(sympy.simplify(sympy.expand(((x + sympy.sqrt(x**2 - 1))**(n + 1) - (x - sympy.sqrt(x**2 - 1))**(n + 1)))/(2*sympy.sqrt(x**2 - 1))))\r\n",
        "def U1(n, x):\r\n",
        "    return sympy.expand(sympy.simplify(T_new(n + 1, x).diff(x)/(n + 1)))\r\n",
        "display(U(7, x), U_new(7, x), U1(7, x))    \r\n"
      ],
      "execution_count": 5,
      "outputs": [
        {
          "output_type": "display_data",
          "data": {
            "text/latex": "$\\displaystyle 128 x^{7} - 192 x^{5} + 80 x^{3} - 8 x$",
            "text/plain": [
              "128*x**7 - 192*x**5 + 80*x**3 - 8*x"
            ]
          },
          "metadata": {
            "tags": []
          }
        },
        {
          "output_type": "display_data",
          "data": {
            "text/latex": "$\\displaystyle 128 x^{7} - 192 x^{5} + 80 x^{3} - 8 x$",
            "text/plain": [
              "128*x**7 - 192*x**5 + 80*x**3 - 8*x"
            ]
          },
          "metadata": {
            "tags": []
          }
        },
        {
          "output_type": "display_data",
          "data": {
            "text/latex": "$\\displaystyle 128 x^{7} - 192 x^{5} + 80 x^{3} - 8 x$",
            "text/plain": [
              "128*x**7 - 192*x**5 + 80*x**3 - 8*x"
            ]
          },
          "metadata": {
            "tags": []
          }
        }
      ]
    },
    {
      "cell_type": "markdown",
      "metadata": {
        "id": "BDxg4eyqrSYz"
      },
      "source": [
        "## Многочлен Чебышева в Sympy.\r\n",
        "В sympy.functions.special.polynomials есть chebyshevt и chebyshevu,\r\n",
        "возвращающие соответственно многочлен Чебышева первого и второго рода, аргументы - порядок многочлена и переменная.\r\n",
        "\r\n",
        "## Пример 4.\r\n",
        "Построим полиномы Чебышева первого и второго рода порядка 5:"
      ]
    },
    {
      "cell_type": "code",
      "metadata": {
        "colab": {
          "base_uri": "https://localhost:8080/",
          "height": 60
        },
        "id": "ce5fHBHhrdws",
        "outputId": "39037b39-4a94-40e2-88aa-2b56fc672e70"
      },
      "source": [
        "display(chebyshevt(5, x), chebyshevu(5, x))  "
      ],
      "execution_count": 6,
      "outputs": [
        {
          "output_type": "display_data",
          "data": {
            "text/latex": "$\\displaystyle 16 x^{5} - 20 x^{3} + 5 x$",
            "text/plain": [
              "16*x**5 - 20*x**3 + 5*x"
            ]
          },
          "metadata": {
            "tags": []
          }
        },
        {
          "output_type": "display_data",
          "data": {
            "text/latex": "$\\displaystyle 32 x^{5} - 32 x^{3} + 6 x$",
            "text/plain": [
              "32*x**5 - 32*x**3 + 6*x"
            ]
          },
          "metadata": {
            "tags": []
          }
        }
      ]
    },
    {
      "cell_type": "markdown",
      "metadata": {
        "id": "_mgBxs-ruRpL"
      },
      "source": [
        "## Пример 5\r\n",
        "Норма Чебышева (максимум модуля на данном отрезке):\r\n",
        "$$\r\n",
        "|f|_0 = \\max_{[-1, 1]}|f(x)|.\r\n",
        "$$\r\n",
        "Площадь под графиком функции на данном отрезке:\r\n",
        "$$\r\n",
        "|f|_1 = \\int_{-1}^1|f(x)|\\,dx.\r\n",
        "$$\r\n",
        "Вычислить норму Чебышева и площадь под графиком для $f(x) = \\frac{x^3}{e^x}$ на отрезке [-1, 1]."
      ]
    },
    {
      "cell_type": "code",
      "metadata": {
        "colab": {
          "base_uri": "https://localhost:8080/",
          "height": 53
        },
        "id": "304fjIT1v_MD",
        "outputId": "7dc5abc8-803d-414f-d1d4-6b2f2d312de3"
      },
      "source": [
        "x = S('x')\r\n",
        "\r\n",
        "def f5(x):\r\n",
        "  return x**3/sympy.exp(x)\r\n",
        "\r\n",
        "f5_norm0 = sympy.calculus.util.maximum(f5(x), x, domain=sympy.Interval(-1, 1))\r\n",
        "f5_norm1 = sympy.Abs(f5(x)).integrate((x, -1, 1))\r\n",
        "display('|f4|0 = {0} = {1}'.format(f5_norm0, round(f5_norm0, 3)),\r\n",
        "        '|f4|1 = {0} = {1}'.format(f5_norm1, round(f5_norm1, 3)))  "
      ],
      "execution_count": 7,
      "outputs": [
        {
          "output_type": "display_data",
          "data": {
            "application/vnd.google.colaboratory.intrinsic+json": {
              "type": "string"
            },
            "text/plain": [
              "'|f4|0 = exp(-1) = 0.368'"
            ]
          },
          "metadata": {
            "tags": []
          }
        },
        {
          "output_type": "display_data",
          "data": {
            "application/vnd.google.colaboratory.intrinsic+json": {
              "type": "string"
            },
            "text/plain": [
              "'|f4|1 = -16*exp(-1) - 2*E + 12 = 0.677'"
            ]
          },
          "metadata": {
            "tags": []
          }
        }
      ]
    },
    {
      "cell_type": "markdown",
      "metadata": {
        "id": "zGKkUqjTv_0Q"
      },
      "source": [
        "## Пример 6\r\n",
        "Наилучшее приближение функции $f(x)$ многочленом степени $\\le n$:\r\n",
        "$$\r\n",
        "\\tilde{f}(x) = \\sum_{i=0}^n \\frac{<T_i, f>}{<T_i, T_i>}T_i(x),\r\n",
        "$$\r\n",
        "$T_i(x)$ многочлен Чебышева первого рода степени $i$,\r\n",
        "$$\r\n",
        "<f, g> = \\int_{-1}^1 \\frac{f(x)g(x)}{\\sqrt{1 - x^2}}\\,dx, \\quad \r\n",
        "|f| = \\sqrt{<f, f>} = \\sqrt{\\int_{-1}^1 \\frac{f^2(x)}{\\sqrt{1 - x^2}}\\,dx}\r\n",
        "$$\r\n",
        "\r\n",
        "Построим многочлен степени не выше 3, наилучшим образом приближающий $x^5 - 1$ на [-1, 1]"
      ]
    },
    {
      "cell_type": "code",
      "metadata": {
        "colab": {
          "base_uri": "https://localhost:8080/",
          "height": 402
        },
        "id": "MhHmu_cFx4me",
        "outputId": "2fbf99fc-d089-4450-ee1d-387bfdfc17bd"
      },
      "source": [
        "x = S('x')\r\n",
        "def f6(x):\r\n",
        "    return x**5 - 1\r\n",
        "\r\n",
        "def dot_prod_cheb(f, g, x):\r\n",
        "    return (f*g/sympy.sqrt(1 - x**2)).integrate((x, -1, 1))\r\n",
        "\r\n",
        "def f_cheb(f, n, x):\r\n",
        "    res = 0\r\n",
        "    for k in range(n + 1):\r\n",
        "        cheb_k = chebyshevt(k, x)\r\n",
        "        coef = dot_prod_cheb(cheb_k, f, x)/dot_prod_cheb(cheb_k, cheb_k, x)\r\n",
        "        print(coef)\r\n",
        "        res += coef*cheb_k\r\n",
        "    return res   \r\n",
        "res6 = f_cheb(f6(x), 3, x)   \r\n",
        "sympy.plot((res6, (x, -1, 1)), (f6(x), (x, -1, 1)))  \r\n",
        "display(res6)"
      ],
      "execution_count": 8,
      "outputs": [
        {
          "output_type": "stream",
          "text": [
            "-1\n",
            "5/8\n",
            "0\n",
            "5/16\n"
          ],
          "name": "stdout"
        },
        {
          "output_type": "display_data",
          "data": {
            "image/png": "[encoded data removed]",
            "text/plain": [
              "<Figure size 432x288 with 1 Axes>"
            ]
          },
          "metadata": {
            "tags": [],
            "needs_background": "light"
          }
        },
        {
          "output_type": "display_data",
          "data": {
            "text/latex": "$\\displaystyle \\frac{5 x^{3}}{4} - \\frac{5 x}{16} - 1$",
            "text/plain": [
              "5*x**3/4 - 5*x/16 - 1"
            ]
          },
          "metadata": {
            "tags": []
          }
        }
      ]
    },
    {
      "cell_type": "markdown",
      "metadata": {
        "id": "iWsn4oPPmDSk"
      },
      "source": [
        "## Наилучшее приближение функции $f(x)$ многочленом Чебышева, Numpy.\r\n",
        "\r\n",
        "https://numpy.org/doc/stable/reference/generated/numpy.polynomial.chebyshev.Chebyshev.html\r\n",
        "\r\n",
        "Для построения многочлена Чебышева используем chebinterpolate из \r\n",
        "numpy.polynomial.chebyshev \r\n",
        "\r\n",
        "Первый (обязательный) аргумент  chebinterpolate - имя функции, второй - порядок многочлена.\r\n",
        "\r\n",
        "Возвращает chebinterpolate коэффициенты $a_i$ при многочленах Чебышева, в порядке возрастания степени:\r\n",
        "$$\r\n",
        "f(x) = a_0T_0 + a_1T_1 + ... + a_nT_n.\r\n",
        "$$\r\n",
        "## Пример 7\r\n",
        "Построим многочлен Чебышева для Примера 6 с помощью chebinterpolate.\r\n",
        "\r\n"
      ]
    },
    {
      "cell_type": "code",
      "metadata": {
        "colab": {
          "base_uri": "https://localhost:8080/"
        },
        "id": "A6kpYChEo3em",
        "outputId": "53d51097-da06-4442-8222-873c396288d0"
      },
      "source": [
        "res7 = chebinterpolate(f6, 3)\r\n",
        "res7"
      ],
      "execution_count": 9,
      "outputs": [
        {
          "output_type": "execute_result",
          "data": {
            "text/plain": [
              "array([-1.00000000e+00,  6.25000000e-01,  8.32667268e-17,  2.50000000e-01])"
            ]
          },
          "metadata": {
            "tags": []
          },
          "execution_count": 9
        }
      ]
    },
    {
      "cell_type": "markdown",
      "metadata": {
        "id": "41n5rIw44QdG"
      },
      "source": [
        "Представим функцию $f_6$ с помощью полиномов Чебышева:"
      ]
    },
    {
      "cell_type": "code",
      "metadata": {
        "colab": {
          "base_uri": "https://localhost:8080/",
          "height": 38
        },
        "id": "uX54s4u8pexb",
        "outputId": "26698c2b-a14e-4498-fbb6-4f9123dbdddf"
      },
      "source": [
        "res7poly = res7[0]\r\n",
        "for k in range(1, len(res7)):\r\n",
        "    res7poly += res7[k]*chebyshevt(k, x)\r\n",
        "display(res7poly)    "
      ],
      "execution_count": 10,
      "outputs": [
        {
          "output_type": "display_data",
          "data": {
            "text/latex": "$\\displaystyle 1.0 x^{3} + 1.66533453693773 \\cdot 10^{-16} x^{2} - 0.125 x - 1.0$",
            "text/plain": [
              "1.0*x**3 + 1.66533453693773e-16*x**2 - 0.125*x - 1.0"
            ]
          },
          "metadata": {
            "tags": []
          }
        }
      ]
    },
    {
      "cell_type": "markdown",
      "metadata": {
        "id": "H1jn4U_64kEP"
      },
      "source": [
        "Изобразим на одном графике функцию $f_6$ и ее представление полиномами Чебышева, полученными с помощью Sympy и Numpy:"
      ]
    },
    {
      "cell_type": "code",
      "metadata": {
        "colab": {
          "base_uri": "https://localhost:8080/",
          "height": 297
        },
        "id": "CvRRyo8ZsmRK",
        "outputId": "e2bfa3d9-a583-496c-ae01-c8d53dbc7c2a"
      },
      "source": [
        "p = sympy.plot(res7poly, (x, -1, 1), line_color='green', show=False)\r\n",
        "p.extend(sympy.plot(f6(x), (x, -1, 1), line_color='black', show=False))\r\n",
        "p.extend(sympy.plot(res6, (x, -1, 1), line_color='red', show=False))\r\n",
        "p.show()"
      ],
      "execution_count": 12,
      "outputs": [
        {
          "output_type": "display_data",
          "data": {
            "image/png": "[encoded data removed]",
            "text/plain": [
              "<Figure size 432x288 with 1 Axes>"
            ]
          },
          "metadata": {
            "tags": [],
            "needs_background": "light"
          }
        }
      ]
    },
    {
      "cell_type": "markdown",
      "metadata": {
        "id": "rL8-wM335QiQ"
      },
      "source": [
        "Представления $f_6$, полученные с помощью Sympy и Numpy несколько различаются. \r\n",
        "\r\n",
        "Сравним нормы разностей функции $f_6$ и ее разложений:"
      ]
    },
    {
      "cell_type": "code",
      "metadata": {
        "colab": {
          "base_uri": "https://localhost:8080/",
          "height": 89
        },
        "id": "qLieSkKtviz3",
        "outputId": "a58267f8-e1f9-40e5-a3f6-6a82be0e58aa"
      },
      "source": [
        "for item in (res7poly, res6):\r\n",
        "    f7_norm0 = sympy.calculus.util.maximum(f6(x) - item, x, domain=sympy.Interval(-1, 1))\r\n",
        "    f7_norm1 = sympy.Abs(f6(x) - item).integrate((x, -1, 1))\r\n",
        "    display('|f7|0 = {0}'.format(round(f7_norm0, 3)),\r\n",
        "        '|f7|1 = {0}'.format(round(f7_norm1, 3)))  \r\n"
      ],
      "execution_count": 13,
      "outputs": [
        {
          "output_type": "display_data",
          "data": {
            "application/vnd.google.colaboratory.intrinsic+json": {
              "type": "string"
            },
            "text/plain": [
              "'|f7|0 = 0.125'"
            ]
          },
          "metadata": {
            "tags": []
          }
        },
        {
          "output_type": "display_data",
          "data": {
            "application/vnd.google.colaboratory.intrinsic+json": {
              "type": "string"
            },
            "text/plain": [
              "'|f7|1 = 0.076'"
            ]
          },
          "metadata": {
            "tags": []
          }
        },
        {
          "output_type": "display_data",
          "data": {
            "application/vnd.google.colaboratory.intrinsic+json": {
              "type": "string"
            },
            "text/plain": [
              "'|f7|0 = 0.062'"
            ]
          },
          "metadata": {
            "tags": []
          }
        },
        {
          "output_type": "display_data",
          "data": {
            "application/vnd.google.colaboratory.intrinsic+json": {
              "type": "string"
            },
            "text/plain": [
              "'|f7|1 = 0.079'"
            ]
          },
          "metadata": {
            "tags": []
          }
        }
      ]
    },
    {
      "cell_type": "markdown",
      "metadata": {
        "id": "98z88Wmi6p9x"
      },
      "source": [
        "Как видно, у разложения Numpy меньше максимум модуля отклонения от функции на отрезке [-1, 1], а у разложения Sympy - площадь между графиками функции и ее разложения. \r\n",
        "\r\n",
        "Посмотрим, как Numpy и Sympy раскладывают по полиномам Чебышева $x^5 - 1$ в полином степени не больше 5 (должно получиться ровно $x^5 - 1$)."
      ]
    },
    {
      "cell_type": "code",
      "metadata": {
        "colab": {
          "base_uri": "https://localhost:8080/",
          "height": 60
        },
        "id": "xPyc9raf2dLZ",
        "outputId": "b99867ab-178c-464e-d4f8-b531fad7ec43"
      },
      "source": [
        "res10= chebinterpolate(lambda x: x**5 - 1, 5)\r\n",
        "res10poly = res10[0]\r\n",
        "for k in range(1, len(res10)):\r\n",
        "    res10poly += res10[k]*chebyshevt(k, x)\r\n",
        "res10poly     "
      ],
      "execution_count": 14,
      "outputs": [
        {
          "output_type": "execute_result",
          "data": {
            "text/latex": "$\\displaystyle 0.999999999999991 x^{5} + 7.99360577730113 \\cdot 10^{-15} x^{4} + 9.32587340685131 \\cdot 10^{-15} x^{3} - 7.38298311375729 \\cdot 10^{-15} x^{2} - 1.27675647831893 \\cdot 10^{-15} x - 0.999999999999999$",
            "text/plain": [
              "0.999999999999991*x**5 + 7.99360577730113e-15*x**4 + 9.32587340685131e-15*x**3 - 7.38298311375729e-15*x**2 - 1.27675647831893e-15*x - 0.999999999999999"
            ]
          },
          "metadata": {
            "tags": []
          },
          "execution_count": 14
        }
      ]
    },
    {
      "cell_type": "code",
      "metadata": {
        "colab": {
          "base_uri": "https://localhost:8080/",
          "height": 419
        },
        "id": "zu9z_P4i24Im",
        "outputId": "4132987c-1641-4363-919e-fb9f22e854d1"
      },
      "source": [
        "x = S('x')\r\n",
        "def f0(x):\r\n",
        "    return x**5 - 1\r\n",
        "  \r\n",
        "res = f_cheb(f0(x), 5, x)   \r\n",
        "sympy.plot((res, (x, -1, 1)), (f0(x), (x, -1, 1)))  \r\n",
        "display(res)"
      ],
      "execution_count": 15,
      "outputs": [
        {
          "output_type": "stream",
          "text": [
            "-1\n",
            "5/8\n",
            "0\n",
            "5/16\n",
            "0\n",
            "1/16\n"
          ],
          "name": "stdout"
        },
        {
          "output_type": "display_data",
          "data": {
            "image/png": "[encoded data removed]",
            "text/plain": [
              "<Figure size 432x288 with 1 Axes>"
            ]
          },
          "metadata": {
            "tags": [],
            "needs_background": "light"
          }
        },
        {
          "output_type": "display_data",
          "data": {
            "text/latex": "$\\displaystyle x^{5} - 1$",
            "text/plain": [
              "x**5 - 1"
            ]
          },
          "metadata": {
            "tags": []
          }
        }
      ]
    }
  ]
}