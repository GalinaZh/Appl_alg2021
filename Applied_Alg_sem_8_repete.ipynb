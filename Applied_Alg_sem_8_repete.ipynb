{
  "nbformat": 4,
  "nbformat_minor": 0,
  "metadata": {
    "kernelspec": {
      "display_name": "Python 3",
      "language": "python",
      "name": "python3"
    },
    "colab": {
      "name": "Applied_Alg_sem_8_repete",
      "provenance": [],
      "collapsed_sections": [],
      "include_colab_link": true
    }
  },
  "cells": [
    {
      "cell_type": "markdown",
      "metadata": {
        "id": "view-in-github",
        "colab_type": "text"
      },
      "source": [
        "<a href=\"https://colab.research.google.com/github/GalinaZh/Appl_alg2021/blob/main/Applied_Alg_sem_8_repete.ipynb\" target=\"_parent\"><img src=\"https://colab.research.google.com/assets/colab-badge.svg\" alt=\"Open In Colab\"/></a>"
      ]
    },
    {
      "cell_type": "markdown",
      "metadata": {
        "id": "fis1w-TTVnuw"
      },
      "source": [
        "# Занятие 8 \n",
        "# Прикладная алгебра и численные методы\n",
        "## Повторение: псевдообратная матрица, ортогонализация Грама-Шмидта, LU, QR."
      ]
    },
    {
      "cell_type": "code",
      "metadata": {
        "colab": {
          "base_uri": "https://localhost:8080/"
        },
        "id": "A7Sm92ZCwHJ_",
        "outputId": "520f9c10-ed16-4fa1-f1af-7c842e84a3d9"
      },
      "source": [
        "!python -m pip install sympy --upgrade"
      ],
      "execution_count": 2,
      "outputs": [
        {
          "output_type": "stream",
          "text": [
            "Requirement already up-to-date: sympy in /usr/local/lib/python3.7/dist-packages (1.7.1)\n",
            "Requirement already satisfied, skipping upgrade: mpmath>=0.19 in /usr/local/lib/python3.7/dist-packages (from sympy) (1.2.1)\n"
          ],
          "name": "stdout"
        }
      ]
    },
    {
      "cell_type": "code",
      "metadata": {
        "id": "mGFcxneQVnu6"
      },
      "source": [
        "import numpy as np\n",
        "import sympy\n",
        "from sympy import S, latex, Matrix, I, simplify, expand, GramSchmidt\n",
        "import scipy.linalg\n",
        "import numpy.linalg\n",
        "from sympy.functions.special.polynomials import chebyshevt, chebyshevu\n",
        "from numpy.polynomial.chebyshev import chebinterpolate\n",
        "import matplotlib.pyplot as plt\n",
        "from google.colab import files\n",
        "%matplotlib inline"
      ],
      "execution_count": 3,
      "outputs": []
    },
    {
      "cell_type": "code",
      "metadata": {
        "colab": {
          "base_uri": "https://localhost:8080/"
        },
        "id": "8I2nsbIp-Tzb",
        "outputId": "08998fb4-f973-498c-a7bd-6c6cccbc5967"
      },
      "source": [
        "import sympy\r\n",
        "import numpy\r\n",
        "sympy.__version__, numpy.__version__"
      ],
      "execution_count": 4,
      "outputs": [
        {
          "output_type": "execute_result",
          "data": {
            "text/plain": [
              "('1.7.1', '1.19.5')"
            ]
          },
          "metadata": {
            "tags": []
          },
          "execution_count": 4
        }
      ]
    },
    {
      "cell_type": "code",
      "metadata": {
        "id": "Kk-cQGTzPdY8"
      },
      "source": [
        "sympy.init_printing(use_unicode=False, wrap_line=False, no_global=True)"
      ],
      "execution_count": 5,
      "outputs": []
    },
    {
      "cell_type": "markdown",
      "metadata": {
        "id": "_JT1iMxoMIgQ"
      },
      "source": [
        "## Псевдообратная матрица\r\n",
        "В numpy псевдообратная матрица находится с помощью np.linalg.pinv\r\n",
        "## Пример 1\r\n",
        "Найти псевдообратную матрицу к матрице\r\n",
        "$$\r\n",
        "\\left(\r\n",
        "\\begin{matrix}\r\n",
        "1 & 4 & 7 & 10 & 13\\\\\r\n",
        "16 & 19 & 22 & 25 & 28\\\\\r\n",
        "31 & 34 & 37 & 40 & 43\\\\\r\n",
        "46 & 49 & 52 & 55 & 58\r\n",
        "\\end{matrix}\r\n",
        "\\right)\r\n",
        "$$"
      ]
    },
    {
      "cell_type": "code",
      "metadata": {
        "colab": {
          "base_uri": "https://localhost:8080/",
          "height": 516
        },
        "id": "6QzAwzBNMHqh",
        "outputId": "a650a2bc-5e62-4099-e1e9-ec8f031d303d"
      },
      "source": [
        "m = 4\r\n",
        "n = 5\r\n",
        "A = np.arange(1, 3*m*n + 1, 3).reshape((m, n))\r\n",
        "As = Matrix(A)\r\n",
        "As_pinv = As.pinv()\r\n",
        "display(As, As_pinv, As_pinv.evalf(8))\r\n",
        "for item in (np.linalg.pinv(A), scipy.linalg.pinv(A)):\r\n",
        "    print('A^+ = {0},\\n A = A A^+ A  {1}, A^+ = A^+ A ^+ {2}'.format(item, np.allclose(A, np.dot(A, np.dot(item, A))), np.allclose(item, np.dot(item, np.dot(A, item)))))"
      ],
      "execution_count": 6,
      "outputs": [
        {
          "output_type": "display_data",
          "data": {
            "text/latex": "$\\displaystyle \\left[\\begin{matrix}1 & 4 & 7 & 10 & 13\\\\16 & 19 & 22 & 25 & 28\\\\31 & 34 & 37 & 40 & 43\\\\46 & 49 & 52 & 55 & 58\\end{matrix}\\right]$",
            "text/plain": [
              "[1   4   7   10  13]\n",
              "[                  ]\n",
              "[16  19  22  25  28]\n",
              "[                  ]\n",
              "[31  34  37  40  43]\n",
              "[                  ]\n",
              "[46  49  52  55  58]"
            ]
          },
          "metadata": {
            "tags": []
          }
        },
        {
          "output_type": "display_data",
          "data": {
            "text/latex": "$\\displaystyle \\left[\\begin{matrix}- \\frac{3}{50} & - \\frac{7}{225} & - \\frac{1}{450} & \\frac{2}{75}\\\\- \\frac{4}{125} & - \\frac{73}{4500} & - \\frac{1}{2250} & \\frac{23}{1500}\\\\- \\frac{1}{250} & - \\frac{1}{750} & \\frac{1}{750} & \\frac{1}{250}\\\\\\frac{3}{125} & \\frac{61}{4500} & \\frac{7}{2250} & - \\frac{11}{1500}\\\\\\frac{13}{250} & \\frac{32}{1125} & \\frac{11}{2250} & - \\frac{7}{375}\\end{matrix}\\right]$",
            "text/plain": [
              "[-3/50   -7/225  -1/450    2/75 ]\n",
              "[                               ]\n",
              "[         -73               23  ]\n",
              "[-4/125   ----   -1/2250   ---- ]\n",
              "[         4500             1500 ]\n",
              "[                               ]\n",
              "[-1/250  -1/750   1/750   1/250 ]\n",
              "[                               ]\n",
              "[          61              -11  ]\n",
              "[3/125    ----   7/2250    ---- ]\n",
              "[         4500             1500 ]\n",
              "[                               ]\n",
              "[  13      32      11           ]\n",
              "[ ---     ----    ----    -7/375]\n",
              "[ 250     1125    2250          ]"
            ]
          },
          "metadata": {
            "tags": []
          }
        },
        {
          "output_type": "display_data",
          "data": {
            "text/latex": "$\\displaystyle \\left[\\begin{matrix}-0.06 & -0.031111111 & -0.0022222222 & 0.026666667\\\\-0.032 & -0.016222222 & -0.00044444444 & 0.015333333\\\\-0.004 & -0.0013333333 & 0.0013333333 & 0.004\\\\0.024 & 0.013555556 & 0.0031111111 & -0.0073333333\\\\0.052 & 0.028444444 & 0.0048888889 & -0.018666667\\end{matrix}\\right]$",
            "text/plain": [
              "[-0.06   -0.031111111   -0.0022222222    0.026666667 ]\n",
              "[                                                    ]\n",
              "[-0.032  -0.016222222   -0.00044444444   0.015333333 ]\n",
              "[                                                    ]\n",
              "[-0.004  -0.0013333333   0.0013333333       0.004    ]\n",
              "[                                                    ]\n",
              "[0.024    0.013555556    0.0031111111   -0.0073333333]\n",
              "[                                                    ]\n",
              "[0.052    0.028444444    0.0048888889   -0.018666667 ]"
            ]
          },
          "metadata": {
            "tags": []
          }
        },
        {
          "output_type": "stream",
          "text": [
            "A^+ = [[-0.06       -0.03111111 -0.00222222  0.02666667]\n",
            " [-0.032      -0.01622222 -0.00044444  0.01533333]\n",
            " [-0.004      -0.00133333  0.00133333  0.004     ]\n",
            " [ 0.024       0.01355556  0.00311111 -0.00733333]\n",
            " [ 0.052       0.02844444  0.00488889 -0.01866667]],\n",
            " A = A A^+ A  True, A^+ = A^+ A ^+ True\n",
            "A^+ = [[-0.06       -0.03111111 -0.00222222  0.02666667]\n",
            " [-0.032      -0.01622222 -0.00044444  0.01533333]\n",
            " [-0.004      -0.00133333  0.00133333  0.004     ]\n",
            " [ 0.024       0.01355556  0.00311111 -0.00733333]\n",
            " [ 0.052       0.02844444  0.00488889 -0.01866667]],\n",
            " A = A A^+ A  True, A^+ = A^+ A ^+ True\n"
          ],
          "name": "stdout"
        }
      ]
    },
    {
      "cell_type": "code",
      "metadata": {
        "colab": {
          "base_uri": "https://localhost:8080/",
          "height": 35
        },
        "id": "D1qi0jS6SMP7",
        "outputId": "4a021bf1-f25f-454f-e645-a314055a95d0"
      },
      "source": [
        "latex(As)"
      ],
      "execution_count": 7,
      "outputs": [
        {
          "output_type": "execute_result",
          "data": {
            "application/vnd.google.colaboratory.intrinsic+json": {
              "type": "string"
            },
            "text/plain": [
              "'\\\\left[\\\\begin{matrix}1 & 4 & 7 & 10 & 13\\\\\\\\16 & 19 & 22 & 25 & 28\\\\\\\\31 & 34 & 37 & 40 & 43\\\\\\\\46 & 49 & 52 & 55 & 58\\\\end{matrix}\\\\right]'"
            ]
          },
          "metadata": {
            "tags": []
          },
          "execution_count": 7
        }
      ]
    },
    {
      "cell_type": "markdown",
      "metadata": {
        "id": "1x-2rU76TPBR"
      },
      "source": [
        "### LU разложение\r\n",
        "$PA = LU$ для матрицы $A$\r\n",
        "\r\n",
        "$L$ - левая треугольная матрица с единицами на главной диагонали,\r\n",
        "$U$ - правая треугольная (трапециевидная) матрица,\r\n",
        "$P$ - матрица перестановок.\r\n",
        "\r\n",
        "$A = P^{-1}LU$.\r\n",
        "### Пример 2.\r\n",
        "Построим  LU разложение для матрицы \r\n",
        "$$\r\n",
        "M=\\left(\r\n",
        "\\begin{matrix}\r\n",
        "0 & 3+ I & 5 - 2I\\\\\r\n",
        " - I & 2 & 1 - I\\\\\r\n",
        "5 & -1 + 4I & -3\r\n",
        "\\end{matrix}\r\n",
        "\\right)\r\n",
        "$$"
      ]
    },
    {
      "cell_type": "code",
      "metadata": {
        "colab": {
          "base_uri": "https://localhost:8080/",
          "height": 381
        },
        "id": "GpCvTy4MYkI0",
        "outputId": "51f79b11-e9fc-49c5-eeee-3570f6be1b5d"
      },
      "source": [
        "M = Matrix([[0, 3 + I, 5 - 2*I], [-I, 2, 1 - I], [5, -1 + 4*I, -3]])\r\n",
        "L, U, perm = M.LUdecomposition()\r\n",
        "display('L', L, 'U', U, 'LU', simplify(expand(L*U)), 'M', M, 'perm', perm)"
      ],
      "execution_count": 8,
      "outputs": [
        {
          "output_type": "display_data",
          "data": {
            "application/vnd.google.colaboratory.intrinsic+json": {
              "type": "string"
            },
            "text/plain": [
              "'L'"
            ]
          },
          "metadata": {
            "tags": []
          }
        },
        {
          "output_type": "display_data",
          "data": {
            "text/latex": "$\\displaystyle \\left[\\begin{matrix}1 & 0 & 0\\\\0 & 1 & 0\\\\5 i & \\frac{\\left(-1 - 6 i\\right) \\left(3 - i\\right)}{10} & 1\\end{matrix}\\right]$",
            "text/plain": [
              "[ 1           0           0]\n",
              "[                          ]\n",
              "[ 0           1           0]\n",
              "[                          ]\n",
              "[     (-1 - 6*I)*(3 - I)   ]\n",
              "[5*I  ------------------  1]\n",
              "[             10           ]"
            ]
          },
          "metadata": {
            "tags": []
          }
        },
        {
          "output_type": "display_data",
          "data": {
            "application/vnd.google.colaboratory.intrinsic+json": {
              "type": "string"
            },
            "text/plain": [
              "'U'"
            ]
          },
          "metadata": {
            "tags": []
          }
        },
        {
          "output_type": "display_data",
          "data": {
            "text/latex": "$\\displaystyle \\left[\\begin{matrix}- i & 2 & 1 - i\\\\0 & 3 + i & 5 - 2 i\\\\0 & 0 & -3 - 5 i \\left(1 - i\\right) - \\frac{\\left(-1 - 6 i\\right) \\left(3 - i\\right) \\left(5 - 2 i\\right)}{10}\\end{matrix}\\right]$",
            "text/plain": [
              "[-I    2                         1 - I                     ]\n",
              "[                                                          ]\n",
              "[0   3 + I                      5 - 2*I                    ]\n",
              "[                                                          ]\n",
              "[                              (-1 - 6*I)*(3 - I)*(5 - 2*I)]\n",
              "[0     0    -3 - 5*I*(1 - I) - ----------------------------]\n",
              "[                                           10             ]"
            ]
          },
          "metadata": {
            "tags": []
          }
        },
        {
          "output_type": "display_data",
          "data": {
            "application/vnd.google.colaboratory.intrinsic+json": {
              "type": "string"
            },
            "text/plain": [
              "'LU'"
            ]
          },
          "metadata": {
            "tags": []
          }
        },
        {
          "output_type": "display_data",
          "data": {
            "text/latex": "$\\displaystyle \\left[\\begin{matrix}- i & 2 & 1 - i\\\\0 & 3 + i & 5 - 2 i\\\\5 & -1 + 4 i & -3\\end{matrix}\\right]$",
            "text/plain": [
              "[-I     2       1 - I ]\n",
              "[                     ]\n",
              "[0    3 + I    5 - 2*I]\n",
              "[                     ]\n",
              "[5   -1 + 4*I    -3   ]"
            ]
          },
          "metadata": {
            "tags": []
          }
        },
        {
          "output_type": "display_data",
          "data": {
            "application/vnd.google.colaboratory.intrinsic+json": {
              "type": "string"
            },
            "text/plain": [
              "'M'"
            ]
          },
          "metadata": {
            "tags": []
          }
        },
        {
          "output_type": "display_data",
          "data": {
            "text/latex": "$\\displaystyle \\left[\\begin{matrix}0 & 3 + i & 5 - 2 i\\\\- i & 2 & 1 - i\\\\5 & -1 + 4 i & -3\\end{matrix}\\right]$",
            "text/plain": [
              "[0    3 + I    5 - 2*I]\n",
              "[                     ]\n",
              "[-I     2       1 - I ]\n",
              "[                     ]\n",
              "[5   -1 + 4*I    -3   ]"
            ]
          },
          "metadata": {
            "tags": []
          }
        },
        {
          "output_type": "display_data",
          "data": {
            "application/vnd.google.colaboratory.intrinsic+json": {
              "type": "string"
            },
            "text/plain": [
              "'perm'"
            ]
          },
          "metadata": {
            "tags": []
          }
        },
        {
          "output_type": "display_data",
          "data": {
            "image/png": "[encoded data removed]",
            "text/latex": "$\\displaystyle \\left[ \\left[ 0, \\  1\\right]\\right]$",
            "text/plain": [
              "[[0, 1]]"
            ]
          },
          "metadata": {
            "tags": []
          }
        }
      ]
    },
    {
      "cell_type": "markdown",
      "metadata": {
        "id": "df4WzzLmZV90"
      },
      "source": [
        "Произведение матриц LU отличается от исходной матрицы M перестановкой строк. Восстановим матрицу M, применяя перестановки в соответствии с результатом, выдаваемым LUdecomposition:"
      ]
    },
    {
      "cell_type": "code",
      "metadata": {
        "colab": {
          "base_uri": "https://localhost:8080/",
          "height": 496
        },
        "id": "tsqadq50ZW4D",
        "outputId": "d01c7818-2fc7-45e8-ce4d-33446dad8ee4"
      },
      "source": [
        "number_of_rows = M.shape[0]\r\n",
        "L, U, perm = M.LUdecomposition()\r\n",
        "LU = simplify(expand((L*U).permuteBkwd(perm)))\r\n",
        "P = sympy.eye(number_of_rows).permuteFwd(perm)\r\n",
        "display('L', L, 'U', U, 'perm', perm, 'P', P, 'LU', LU, \r\n",
        "        'M', M, 'PM == LU', P*M == simplify(expand(L*U))) "
      ],
      "execution_count": 9,
      "outputs": [
        {
          "output_type": "display_data",
          "data": {
            "application/vnd.google.colaboratory.intrinsic+json": {
              "type": "string"
            },
            "text/plain": [
              "'L'"
            ]
          },
          "metadata": {
            "tags": []
          }
        },
        {
          "output_type": "display_data",
          "data": {
            "text/latex": "$\\displaystyle \\left[\\begin{matrix}1 & 0 & 0\\\\0 & 1 & 0\\\\5 i & \\frac{\\left(-1 - 6 i\\right) \\left(3 - i\\right)}{10} & 1\\end{matrix}\\right]$",
            "text/plain": [
              "[ 1           0           0]\n",
              "[                          ]\n",
              "[ 0           1           0]\n",
              "[                          ]\n",
              "[     (-1 - 6*I)*(3 - I)   ]\n",
              "[5*I  ------------------  1]\n",
              "[             10           ]"
            ]
          },
          "metadata": {
            "tags": []
          }
        },
        {
          "output_type": "display_data",
          "data": {
            "application/vnd.google.colaboratory.intrinsic+json": {
              "type": "string"
            },
            "text/plain": [
              "'U'"
            ]
          },
          "metadata": {
            "tags": []
          }
        },
        {
          "output_type": "display_data",
          "data": {
            "text/latex": "$\\displaystyle \\left[\\begin{matrix}- i & 2 & 1 - i\\\\0 & 3 + i & 5 - 2 i\\\\0 & 0 & -3 - 5 i \\left(1 - i\\right) - \\frac{\\left(-1 - 6 i\\right) \\left(3 - i\\right) \\left(5 - 2 i\\right)}{10}\\end{matrix}\\right]$",
            "text/plain": [
              "[-I    2                         1 - I                     ]\n",
              "[                                                          ]\n",
              "[0   3 + I                      5 - 2*I                    ]\n",
              "[                                                          ]\n",
              "[                              (-1 - 6*I)*(3 - I)*(5 - 2*I)]\n",
              "[0     0    -3 - 5*I*(1 - I) - ----------------------------]\n",
              "[                                           10             ]"
            ]
          },
          "metadata": {
            "tags": []
          }
        },
        {
          "output_type": "display_data",
          "data": {
            "application/vnd.google.colaboratory.intrinsic+json": {
              "type": "string"
            },
            "text/plain": [
              "'perm'"
            ]
          },
          "metadata": {
            "tags": []
          }
        },
        {
          "output_type": "display_data",
          "data": {
            "image/png": "[encoded data removed]",
            "text/latex": "$\\displaystyle \\left[ \\left[ 0, \\  1\\right]\\right]$",
            "text/plain": [
              "[[0, 1]]"
            ]
          },
          "metadata": {
            "tags": []
          }
        },
        {
          "output_type": "display_data",
          "data": {
            "application/vnd.google.colaboratory.intrinsic+json": {
              "type": "string"
            },
            "text/plain": [
              "'P'"
            ]
          },
          "metadata": {
            "tags": []
          }
        },
        {
          "output_type": "display_data",
          "data": {
            "text/latex": "$\\displaystyle \\left[\\begin{matrix}0 & 1 & 0\\\\1 & 0 & 0\\\\0 & 0 & 1\\end{matrix}\\right]$",
            "text/plain": [
              "[0  1  0]\n",
              "[       ]\n",
              "[1  0  0]\n",
              "[       ]\n",
              "[0  0  1]"
            ]
          },
          "metadata": {
            "tags": []
          }
        },
        {
          "output_type": "display_data",
          "data": {
            "application/vnd.google.colaboratory.intrinsic+json": {
              "type": "string"
            },
            "text/plain": [
              "'LU'"
            ]
          },
          "metadata": {
            "tags": []
          }
        },
        {
          "output_type": "display_data",
          "data": {
            "text/latex": "$\\displaystyle \\left[\\begin{matrix}0 & 3 + i & 5 - 2 i\\\\- i & 2 & 1 - i\\\\5 & -1 + 4 i & -3\\end{matrix}\\right]$",
            "text/plain": [
              "[0    3 + I    5 - 2*I]\n",
              "[                     ]\n",
              "[-I     2       1 - I ]\n",
              "[                     ]\n",
              "[5   -1 + 4*I    -3   ]"
            ]
          },
          "metadata": {
            "tags": []
          }
        },
        {
          "output_type": "display_data",
          "data": {
            "application/vnd.google.colaboratory.intrinsic+json": {
              "type": "string"
            },
            "text/plain": [
              "'M'"
            ]
          },
          "metadata": {
            "tags": []
          }
        },
        {
          "output_type": "display_data",
          "data": {
            "text/latex": "$\\displaystyle \\left[\\begin{matrix}0 & 3 + i & 5 - 2 i\\\\- i & 2 & 1 - i\\\\5 & -1 + 4 i & -3\\end{matrix}\\right]$",
            "text/plain": [
              "[0    3 + I    5 - 2*I]\n",
              "[                     ]\n",
              "[-I     2       1 - I ]\n",
              "[                     ]\n",
              "[5   -1 + 4*I    -3   ]"
            ]
          },
          "metadata": {
            "tags": []
          }
        },
        {
          "output_type": "display_data",
          "data": {
            "application/vnd.google.colaboratory.intrinsic+json": {
              "type": "string"
            },
            "text/plain": [
              "'PM == LU'"
            ]
          },
          "metadata": {
            "tags": []
          }
        },
        {
          "output_type": "display_data",
          "data": {
            "text/plain": [
              "True"
            ]
          },
          "metadata": {
            "tags": []
          }
        }
      ]
    },
    {
      "cell_type": "markdown",
      "metadata": {
        "id": "b35g5UYOZmHC"
      },
      "source": [
        "### QR разложение\r\n",
        "$A = QR$ \r\n",
        "\r\n",
        "$Q$ - матрица из ортогональных столбцов, т.е. $Q^HQ = I$, $I$ - единичная матрица, \r\n",
        "$R$ - правая треугольная (трапециевидная) матрица.\r\n",
        "\r\n",
        "Ранг матрицы $A$ равен числу столбцов матрицы $Q$.\r\n",
        "### Пример 3.\r\n",
        "Построим  QR разложение для матрицы \r\n",
        "\r\n",
        "$$\r\n",
        "M_3 = \\left(\r\n",
        "\\begin{matrix}\r\n",
        "0 & 3  & 5 & 6 \\\\\r\n",
        " - 1 & 2 & 1 & -7\\\\\r\n",
        "5 & -1  & -3 & 8\r\n",
        "\\end{matrix}\r\n",
        "\\right)\r\n",
        "$$"
      ]
    },
    {
      "cell_type": "code",
      "metadata": {
        "colab": {
          "base_uri": "https://localhost:8080/",
          "height": 392
        },
        "id": "gq033THEbPxE",
        "outputId": "7060f217-1abe-4424-b522-f2afac83dad8"
      },
      "source": [
        "M3 = Matrix([[0, 3, 5, 6], [-1, 2, 1, -7], [5, -1, -3, 8]])\r\n",
        "Q3, R3 = M3.QRdecomposition()\r\n",
        "Q3R3 = simplify(expand(Q3*R3))\r\n",
        "display('Q3', simplify(expand(Q3)), 'R3', simplify(expand(R3)), \r\n",
        "        'Q3R3', Q3R3, 'M3', M3, 'M3 = Q3R3', M3 == Q3R3)"
      ],
      "execution_count": 10,
      "outputs": [
        {
          "output_type": "display_data",
          "data": {
            "application/vnd.google.colaboratory.intrinsic+json": {
              "type": "string"
            },
            "text/plain": [
              "'Q3'"
            ]
          },
          "metadata": {
            "tags": []
          }
        },
        {
          "output_type": "display_data",
          "data": {
            "text/latex": "$\\displaystyle \\left[\\begin{matrix}0 & \\frac{\\sqrt{910}}{35} & \\frac{3 \\sqrt{35}}{35}\\\\- \\frac{\\sqrt{26}}{26} & \\frac{3 \\sqrt{910}}{182} & - \\frac{\\sqrt{35}}{7}\\\\\\frac{5 \\sqrt{26}}{26} & \\frac{3 \\sqrt{910}}{910} & - \\frac{\\sqrt{35}}{35}\\end{matrix}\\right]$",
            "text/plain": [
              "[             _____       ____]\n",
              "[           \\/ 910    3*\\/ 35 ]\n",
              "[   0       -------   --------]\n",
              "[              35        35   ]\n",
              "[                             ]\n",
              "[   ____       _____     ____ ]\n",
              "[-\\/ 26    3*\\/ 910   -\\/ 35  ]\n",
              "[--------  ---------  --------]\n",
              "[   26        182        7    ]\n",
              "[                             ]\n",
              "[    ____      _____     ____ ]\n",
              "[5*\\/ 26   3*\\/ 910   -\\/ 35  ]\n",
              "[--------  ---------  --------]\n",
              "[   26        910        35   ]"
            ]
          },
          "metadata": {
            "tags": []
          }
        },
        {
          "output_type": "display_data",
          "data": {
            "application/vnd.google.colaboratory.intrinsic+json": {
              "type": "string"
            },
            "text/plain": [
              "'R3'"
            ]
          },
          "metadata": {
            "tags": []
          }
        },
        {
          "output_type": "display_data",
          "data": {
            "text/latex": "$\\displaystyle \\left[\\begin{matrix}\\sqrt{26} & - \\frac{7 \\sqrt{26}}{26} & - \\frac{8 \\sqrt{26}}{13} & \\frac{47 \\sqrt{26}}{26}\\\\0 & \\frac{3 \\sqrt{910}}{26} & \\frac{68 \\sqrt{910}}{455} & \\frac{15 \\sqrt{910}}{182}\\\\0 & 0 & \\frac{13 \\sqrt{35}}{35} & \\frac{9 \\sqrt{35}}{7}\\end{matrix}\\right]$",
            "text/plain": [
              "[             ____        ____        ____ ]\n",
              "[  ____  -7*\\/ 26    -8*\\/ 26    47*\\/ 26  ]\n",
              "[\\/ 26   ----------  ----------  --------- ]\n",
              "[            26          13          26    ]\n",
              "[                                          ]\n",
              "[            _____        _____       _____]\n",
              "[        3*\\/ 910    68*\\/ 910   15*\\/ 910 ]\n",
              "[  0     ---------   ----------  ----------]\n",
              "[            26         455         182    ]\n",
              "[                                          ]\n",
              "[                         ____        ____ ]\n",
              "[                    13*\\/ 35     9*\\/ 35  ]\n",
              "[  0         0       ---------    -------- ]\n",
              "[                        35          7     ]"
            ]
          },
          "metadata": {
            "tags": []
          }
        },
        {
          "output_type": "display_data",
          "data": {
            "application/vnd.google.colaboratory.intrinsic+json": {
              "type": "string"
            },
            "text/plain": [
              "'Q3R3'"
            ]
          },
          "metadata": {
            "tags": []
          }
        },
        {
          "output_type": "display_data",
          "data": {
            "text/latex": "$\\displaystyle \\left[\\begin{matrix}0 & 3 & 5 & 6\\\\-1 & 2 & 1 & -7\\\\5 & -1 & -3 & 8\\end{matrix}\\right]$",
            "text/plain": [
              "[0   3   5   6 ]\n",
              "[              ]\n",
              "[-1  2   1   -7]\n",
              "[              ]\n",
              "[5   -1  -3  8 ]"
            ]
          },
          "metadata": {
            "tags": []
          }
        },
        {
          "output_type": "display_data",
          "data": {
            "application/vnd.google.colaboratory.intrinsic+json": {
              "type": "string"
            },
            "text/plain": [
              "'M3'"
            ]
          },
          "metadata": {
            "tags": []
          }
        },
        {
          "output_type": "display_data",
          "data": {
            "text/latex": "$\\displaystyle \\left[\\begin{matrix}0 & 3 & 5 & 6\\\\-1 & 2 & 1 & -7\\\\5 & -1 & -3 & 8\\end{matrix}\\right]$",
            "text/plain": [
              "[0   3   5   6 ]\n",
              "[              ]\n",
              "[-1  2   1   -7]\n",
              "[              ]\n",
              "[5   -1  -3  8 ]"
            ]
          },
          "metadata": {
            "tags": []
          }
        },
        {
          "output_type": "display_data",
          "data": {
            "application/vnd.google.colaboratory.intrinsic+json": {
              "type": "string"
            },
            "text/plain": [
              "'M3 = Q3R3'"
            ]
          },
          "metadata": {
            "tags": []
          }
        },
        {
          "output_type": "display_data",
          "data": {
            "text/plain": [
              "True"
            ]
          },
          "metadata": {
            "tags": []
          }
        }
      ]
    },
    {
      "cell_type": "markdown",
      "metadata": {
        "id": "ykeMBfXglrQa"
      },
      "source": [
        " ## Псевдообратная матрица на основе QR разложения:\r\n",
        " $$\r\n",
        "M = QR, \\quad M^+ = R^T(R\\cdot R^T)^{-1}Q^T\r\n",
        " $$\r\n",
        "\r\n",
        " ## Пример 4\r\n",
        " Воспользуемся этой формулой для построения псевдообратной матрицы Примера 3:"
      ]
    },
    {
      "cell_type": "code",
      "metadata": {
        "colab": {
          "base_uri": "https://localhost:8080/",
          "height": 181
        },
        "id": "vjzIT8fyjLxD",
        "outputId": "bb849248-9034-4906-fa9d-aaf7560db004"
      },
      "source": [
        "M3pinv = M3.pinv()\r\n",
        "M3pinv.simplify()\r\n",
        "display(M3pinv, R3.T*(R3*R3.T)**(-1)*Q3.T)"
      ],
      "execution_count": 11,
      "outputs": [
        {
          "output_type": "display_data",
          "data": {
            "text/latex": "$\\displaystyle \\left[\\begin{matrix}\\frac{1}{61} & \\frac{460}{2013} & \\frac{1195}{6039}\\\\\\frac{17}{183} & \\frac{431}{2013} & \\frac{631}{6039}\\\\\\frac{6}{61} & \\frac{5}{671} & - \\frac{37}{671}\\\\\\frac{7}{183} & - \\frac{76}{671} & - \\frac{38}{6039}\\end{matrix}\\right]$",
            "text/plain": [
              "[       460    1195]\n",
              "[1/61   ----   ----]\n",
              "[       2013   6039]\n",
              "[                  ]\n",
              "[  17   431    631 ]\n",
              "[ ---   ----   ----]\n",
              "[ 183   2013   6039]\n",
              "[                  ]\n",
              "[              -37 ]\n",
              "[6/61   5/671  ----]\n",
              "[              671 ]\n",
              "[                  ]\n",
              "[       -76    -38 ]\n",
              "[7/183  ----   ----]\n",
              "[       671    6039]"
            ]
          },
          "metadata": {
            "tags": []
          }
        },
        {
          "output_type": "display_data",
          "data": {
            "text/latex": "$\\displaystyle \\left[\\begin{matrix}\\frac{1}{61} & \\frac{460}{2013} & \\frac{1195}{6039}\\\\\\frac{17}{183} & \\frac{431}{2013} & \\frac{631}{6039}\\\\\\frac{6}{61} & \\frac{5}{671} & - \\frac{37}{671}\\\\\\frac{7}{183} & - \\frac{76}{671} & - \\frac{38}{6039}\\end{matrix}\\right]$",
            "text/plain": [
              "[       460    1195]\n",
              "[1/61   ----   ----]\n",
              "[       2013   6039]\n",
              "[                  ]\n",
              "[  17   431    631 ]\n",
              "[ ---   ----   ----]\n",
              "[ 183   2013   6039]\n",
              "[                  ]\n",
              "[              -37 ]\n",
              "[6/61   5/671  ----]\n",
              "[              671 ]\n",
              "[                  ]\n",
              "[       -76    -38 ]\n",
              "[7/183  ----   ----]\n",
              "[       671    6039]"
            ]
          },
          "metadata": {
            "tags": []
          }
        }
      ]
    },
    {
      "cell_type": "markdown",
      "metadata": {
        "id": "3W_OqYDTqaps"
      },
      "source": [
        "# Процесс ортогонализации Грама--Шмидта\r\n",
        "\r\n",
        "К системе из $n$ векторов применим процесс ортогонализации Грамма-Шмидта \r\n",
        "$$\r\n",
        "\\begin{matrix}\r\n",
        "e_1^{new} = e_1\\\\\r\n",
        "e_2^{new} = e_2 - \\frac{(e_1, e_2)}{(e_1, e_1)}e_1\\\\\r\n",
        "e_3^{new} = e_3 - \\frac{(e_1, e_3)}{(e_1, e_1)}e_1 - \\frac{(e_2, e_3)}{(e_2, e_2)}e_2\\\\\r\n",
        "...\\\\\r\n",
        "e_n^{new} = e_n - \\frac{(e_1, e_n)}{(e_1, e_1)}e_1 - \\frac{(e_2, e_n)}{(e_2, e_2)}e_2 - ... - \\frac{(e_{n - 1}, e_n)}{(e_{n - 1}, e_{n - 1})}e_{n - 1}\r\n",
        "\\end{matrix}\r\n",
        "$$\r\n",
        "Полученные ортогональные векторы нормализуем с помощью деления на их модули.\r\n",
        "\r\n",
        "## Пример 5\r\n",
        "Построить ортонормированную систему векторов на основе системы\r\n",
        "$$\r\n",
        "\\begin{matrix}\r\n",
        "e_1 = (1, 2, 0, 1)\\\\\r\n",
        "e_2 = (5, -2, 1, -1)\\\\\r\n",
        "e_3 = (-1, 0, 2, -3)\\\\\r\n",
        "e_4 = (0, -1, 0, 1)\r\n",
        "\\end{matrix}\r\n",
        "$$"
      ]
    },
    {
      "cell_type": "code",
      "metadata": {
        "colab": {
          "base_uri": "https://localhost:8080/",
          "height": 1000
        },
        "id": "5M8IEZvmnVmy",
        "outputId": "e11c5f29-8df5-4ab9-8bb5-3a0376102777"
      },
      "source": [
        "e1 = Matrix([1, 2, 0, 1])\r\n",
        "e2 = Matrix([5, -2, 1, -1])\r\n",
        "e3 = Matrix([-1, 0, 2, -3])\r\n",
        "e4 = Matrix([0, -1, 0, 1])\r\n",
        "g1 = e1\r\n",
        "g2 = e2 - g1.dot(e2)/g1.dot(e1)*g1\r\n",
        "g3 = e3 - g1.dot(e3)/g1.dot(g1)*g1 - g2.dot(e3)/g2.dot(g2)*g2\r\n",
        "g4 = e4 - g1.dot(e4)/g1.dot(g1)*g1 - g2.dot(e4)/g2.dot(g2)*g2 - g3.dot(e4)/g3.dot(g3)*g3\r\n",
        "display('normalized', *GramSchmidt([e1, e2, e3, e4], True), \r\n",
        "        'not normalized', *GramSchmidt([e1, e2, e3, e4]), \r\n",
        "        'g1234', *[sympy.simplify(item) for item in (g1, g2, g3, g4)])\r\n",
        "print(*[sympy.simplify(item) for item in (g1.dot(g2), g1.dot(g3), g1.dot(g4), g2.dot(g3), g2.dot(g4), g3.dot(g4))])"
      ],
      "execution_count": 19,
      "outputs": [
        {
          "output_type": "display_data",
          "data": {
            "application/vnd.google.colaboratory.intrinsic+json": {
              "type": "string"
            },
            "text/plain": [
              "'normalized'"
            ]
          },
          "metadata": {
            "tags": []
          }
        },
        {
          "output_type": "display_data",
          "data": {
            "text/latex": "$\\displaystyle \\left[\\begin{matrix}\\frac{\\sqrt{6}}{6}\\\\\\frac{\\sqrt{6}}{3}\\\\0\\\\\\frac{\\sqrt{6}}{6}\\end{matrix}\\right]$",
            "text/plain": [
              "[  ___]\n",
              "[\\/ 6 ]\n",
              "[-----]\n",
              "[  6  ]\n",
              "[     ]\n",
              "[  ___]\n",
              "[\\/ 6 ]\n",
              "[-----]\n",
              "[  3  ]\n",
              "[     ]\n",
              "[  0  ]\n",
              "[     ]\n",
              "[  ___]\n",
              "[\\/ 6 ]\n",
              "[-----]\n",
              "[  6  ]"
            ]
          },
          "metadata": {
            "tags": []
          }
        },
        {
          "output_type": "display_data",
          "data": {
            "text/latex": "$\\displaystyle \\left[\\begin{matrix}\\frac{5 \\sqrt{31}}{31}\\\\- \\frac{2 \\sqrt{31}}{31}\\\\\\frac{\\sqrt{31}}{31}\\\\- \\frac{\\sqrt{31}}{31}\\end{matrix}\\right]$",
            "text/plain": [
              "[     ____ ]\n",
              "[ 5*\\/ 31  ]\n",
              "[ -------- ]\n",
              "[    31    ]\n",
              "[          ]\n",
              "[     ____ ]\n",
              "[-2*\\/ 31  ]\n",
              "[----------]\n",
              "[    31    ]\n",
              "[          ]\n",
              "[    ____  ]\n",
              "[  \\/ 31   ]\n",
              "[  ------  ]\n",
              "[    31    ]\n",
              "[          ]\n",
              "[    ____  ]\n",
              "[ -\\/ 31   ]\n",
              "[ -------- ]\n",
              "[    31    ]"
            ]
          },
          "metadata": {
            "tags": []
          }
        },
        {
          "output_type": "display_data",
          "data": {
            "text/latex": "$\\displaystyle \\left[\\begin{matrix}- \\frac{\\sqrt{102}}{102}\\\\\\frac{2 \\sqrt{102}}{51}\\\\\\frac{\\sqrt{102}}{17}\\\\- \\frac{7 \\sqrt{102}}{102}\\end{matrix}\\right]$",
            "text/plain": [
              "[    _____  ]\n",
              "[ -\\/ 102   ]\n",
              "[ --------- ]\n",
              "[    102    ]\n",
              "[           ]\n",
              "[     _____ ]\n",
              "[ 2*\\/ 102  ]\n",
              "[ --------- ]\n",
              "[     51    ]\n",
              "[           ]\n",
              "[    _____  ]\n",
              "[  \\/ 102   ]\n",
              "[  -------  ]\n",
              "[     17    ]\n",
              "[           ]\n",
              "[     _____ ]\n",
              "[-7*\\/ 102  ]\n",
              "[-----------]\n",
              "[    102    ]"
            ]
          },
          "metadata": {
            "tags": []
          }
        },
        {
          "output_type": "display_data",
          "data": {
            "text/latex": "$\\displaystyle \\left[\\begin{matrix}- \\frac{3 \\sqrt{527}}{527}\\\\- \\frac{5 \\sqrt{527}}{527}\\\\\\frac{18 \\sqrt{527}}{527}\\\\\\frac{13 \\sqrt{527}}{527}\\end{matrix}\\right]$",
            "text/plain": [
              "[     _____ ]\n",
              "[-3*\\/ 527  ]\n",
              "[-----------]\n",
              "[    527    ]\n",
              "[           ]\n",
              "[     _____ ]\n",
              "[-5*\\/ 527  ]\n",
              "[-----------]\n",
              "[    527    ]\n",
              "[           ]\n",
              "[     _____ ]\n",
              "[18*\\/ 527  ]\n",
              "[---------- ]\n",
              "[   527     ]\n",
              "[           ]\n",
              "[     _____ ]\n",
              "[13*\\/ 527  ]\n",
              "[---------- ]\n",
              "[   527     ]"
            ]
          },
          "metadata": {
            "tags": []
          }
        },
        {
          "output_type": "display_data",
          "data": {
            "application/vnd.google.colaboratory.intrinsic+json": {
              "type": "string"
            },
            "text/plain": [
              "'not normalized'"
            ]
          },
          "metadata": {
            "tags": []
          }
        },
        {
          "output_type": "display_data",
          "data": {
            "text/latex": "$\\displaystyle \\left[\\begin{matrix}1\\\\2\\\\0\\\\1\\end{matrix}\\right]$",
            "text/plain": [
              "[1]\n",
              "[ ]\n",
              "[2]\n",
              "[ ]\n",
              "[0]\n",
              "[ ]\n",
              "[1]"
            ]
          },
          "metadata": {
            "tags": []
          }
        },
        {
          "output_type": "display_data",
          "data": {
            "text/latex": "$\\displaystyle \\left[\\begin{matrix}5\\\\-2\\\\1\\\\-1\\end{matrix}\\right]$",
            "text/plain": [
              "[5 ]\n",
              "[  ]\n",
              "[-2]\n",
              "[  ]\n",
              "[1 ]\n",
              "[  ]\n",
              "[-1]"
            ]
          },
          "metadata": {
            "tags": []
          }
        },
        {
          "output_type": "display_data",
          "data": {
            "text/latex": "$\\displaystyle \\left[\\begin{matrix}- \\frac{1}{3}\\\\\\frac{4}{3}\\\\2\\\\- \\frac{7}{3}\\end{matrix}\\right]$",
            "text/plain": [
              "[-1/3]\n",
              "[    ]\n",
              "[4/3 ]\n",
              "[    ]\n",
              "[ 2  ]\n",
              "[    ]\n",
              "[-7/3]"
            ]
          },
          "metadata": {
            "tags": []
          }
        },
        {
          "output_type": "display_data",
          "data": {
            "text/latex": "$\\displaystyle \\left[\\begin{matrix}- \\frac{54}{527}\\\\- \\frac{90}{527}\\\\\\frac{324}{527}\\\\\\frac{234}{527}\\end{matrix}\\right]$",
            "text/plain": [
              "[-54 ]\n",
              "[----]\n",
              "[527 ]\n",
              "[    ]\n",
              "[-90 ]\n",
              "[----]\n",
              "[527 ]\n",
              "[    ]\n",
              "[324 ]\n",
              "[--- ]\n",
              "[527 ]\n",
              "[    ]\n",
              "[234 ]\n",
              "[--- ]\n",
              "[527 ]"
            ]
          },
          "metadata": {
            "tags": []
          }
        },
        {
          "output_type": "display_data",
          "data": {
            "application/vnd.google.colaboratory.intrinsic+json": {
              "type": "string"
            },
            "text/plain": [
              "'g1234'"
            ]
          },
          "metadata": {
            "tags": []
          }
        },
        {
          "output_type": "display_data",
          "data": {
            "text/latex": "$\\displaystyle \\left[\\begin{matrix}1\\\\2\\\\0\\\\1\\end{matrix}\\right]$",
            "text/plain": [
              "[1]\n",
              "[ ]\n",
              "[2]\n",
              "[ ]\n",
              "[0]\n",
              "[ ]\n",
              "[1]"
            ]
          },
          "metadata": {
            "tags": []
          }
        },
        {
          "output_type": "display_data",
          "data": {
            "text/latex": "$\\displaystyle \\left[\\begin{matrix}5\\\\-2\\\\1\\\\-1\\end{matrix}\\right]$",
            "text/plain": [
              "[5 ]\n",
              "[  ]\n",
              "[-2]\n",
              "[  ]\n",
              "[1 ]\n",
              "[  ]\n",
              "[-1]"
            ]
          },
          "metadata": {
            "tags": []
          }
        },
        {
          "output_type": "display_data",
          "data": {
            "text/latex": "$\\displaystyle \\left[\\begin{matrix}- \\frac{1}{3}\\\\\\frac{4}{3}\\\\2\\\\- \\frac{7}{3}\\end{matrix}\\right]$",
            "text/plain": [
              "[-1/3]\n",
              "[    ]\n",
              "[4/3 ]\n",
              "[    ]\n",
              "[ 2  ]\n",
              "[    ]\n",
              "[-7/3]"
            ]
          },
          "metadata": {
            "tags": []
          }
        },
        {
          "output_type": "display_data",
          "data": {
            "text/latex": "$\\displaystyle \\left[\\begin{matrix}- \\frac{54}{527}\\\\- \\frac{90}{527}\\\\\\frac{324}{527}\\\\\\frac{234}{527}\\end{matrix}\\right]$",
            "text/plain": [
              "[-54 ]\n",
              "[----]\n",
              "[527 ]\n",
              "[    ]\n",
              "[-90 ]\n",
              "[----]\n",
              "[527 ]\n",
              "[    ]\n",
              "[324 ]\n",
              "[--- ]\n",
              "[527 ]\n",
              "[    ]\n",
              "[234 ]\n",
              "[--- ]\n",
              "[527 ]"
            ]
          },
          "metadata": {
            "tags": []
          }
        },
        {
          "output_type": "stream",
          "text": [
            "0 0 0 0 0 0\n"
          ],
          "name": "stdout"
        }
      ]
    },
    {
      "cell_type": "markdown",
      "metadata": {
        "id": "pW8aAEoEkBgP"
      },
      "source": [
        "## Пример 6\r\n",
        "Построим с помощью QR-разложения псевдообратную матрицу для матрицы $A$, столбцы которой $e_1$, $e_2$, $e_3$ и $e_4$ из Примера 5.\r\n",
        "\r\n",
        "Матрицу $Q$ можем сразу составить из нормированных векторов $g_1$, $g_2$, $g_3$ и $g_4$ (можно использовать GramSchmidt([e1, e2, e3, e4], True)).\r\n",
        "\r\n",
        "Обозначим ортонормированные векторы  $f_1$, $f_2$, $f_3$ и $f_4$.\r\n",
        "\r\n",
        "Матрица $R$ имеет вид\r\n",
        "$$\r\n",
        "R = \\left(\r\n",
        "\\begin{matrix}\r\n",
        "(f_1, a_1) & (f_1, a_2) & (f_1, a_3) & (f_1, a_4)\\\\\r\n",
        "0 & (f_2, a_2) & (f_2, a_3) & (f_2, a_4)\\\\\r\n",
        "0 & 0 & (f_3, a_3) & (f_3, a_4)\\\\\r\n",
        "0 & 0 & 0 & (f_4, a_4)\\\\\r\n",
        "\\end{matrix}\\right)\r\n",
        "$$\r\n",
        "\r\n",
        "Вначале составим матрицу $A$, затем получим ортонормированную систему из столбцов $A$, далее на их основе составим матрицу $Q$. Инициализируем матрицу $R$ нулевой матрицей соответствующей размерности, заполним ее в соответствии с формулой. Построим псевдообратную матрицу по формуле   $A^+ = R^T(R\\cdot R^T)^{-1}Q^T$."
      ]
    },
    {
      "cell_type": "code",
      "metadata": {
        "colab": {
          "base_uri": "https://localhost:8080/",
          "height": 98
        },
        "id": "p50ZhWKAsuii",
        "outputId": "19258f73-05c5-4533-b2c5-42e21bf03dfe"
      },
      "source": [
        "A = Matrix([e1.T, e2.T, e3.T, e4.T]).T\r\n",
        "A"
      ],
      "execution_count": 24,
      "outputs": [
        {
          "output_type": "execute_result",
          "data": {
            "text/latex": "$\\displaystyle \\left[\\begin{matrix}1 & 5 & -1 & 0\\\\2 & -2 & 0 & -1\\\\0 & 1 & 2 & 0\\\\1 & -1 & -3 & 1\\end{matrix}\\right]$",
            "text/plain": [
              "[1  5   -1  0 ]\n",
              "[             ]\n",
              "[2  -2  0   -1]\n",
              "[             ]\n",
              "[0  1   2   0 ]\n",
              "[             ]\n",
              "[1  -1  -3  1 ]"
            ]
          },
          "metadata": {
            "tags": []
          },
          "execution_count": 24
        }
      ]
    },
    {
      "cell_type": "code",
      "metadata": {
        "colab": {
          "base_uri": "https://localhost:8080/",
          "height": 645
        },
        "id": "_cslGnjpqFbY",
        "outputId": "0e8fcd03-2202-4e50-debd-0485c94c6ea1"
      },
      "source": [
        "A = Matrix([e1.T, e2.T, e3.T, e4.T]).T\r\n",
        "f = GramSchmidt([e1, e2, e3, e4], True)\r\n",
        "Q = Matrix([fk.T for fk in f]).T\r\n",
        "R = sympy.zeros(4, 4)\r\n",
        "ee = (e1, e2, e3, e4)\r\n",
        "for k in range(4):\r\n",
        "    for j in range(k, 4):\r\n",
        "        R[k, j] = f[k].dot(ee[j])\r\n",
        "display('Q', Q, 'R', R, 'A', A, 'QR', Q*R, 'A+', A.pinv(), 'R.T(R*R.T).inv()Q.T', R.T*(R*R.T).inv()*Q.T)\r\n"
      ],
      "execution_count": 31,
      "outputs": [
        {
          "output_type": "display_data",
          "data": {
            "application/vnd.google.colaboratory.intrinsic+json": {
              "type": "string"
            },
            "text/plain": [
              "'Q'"
            ]
          },
          "metadata": {
            "tags": []
          }
        },
        {
          "output_type": "display_data",
          "data": {
            "text/latex": "$\\displaystyle \\left[\\begin{matrix}\\frac{\\sqrt{6}}{6} & \\frac{5 \\sqrt{31}}{31} & - \\frac{\\sqrt{102}}{102} & - \\frac{3 \\sqrt{527}}{527}\\\\\\frac{\\sqrt{6}}{3} & - \\frac{2 \\sqrt{31}}{31} & \\frac{2 \\sqrt{102}}{51} & - \\frac{5 \\sqrt{527}}{527}\\\\0 & \\frac{\\sqrt{31}}{31} & \\frac{\\sqrt{102}}{17} & \\frac{18 \\sqrt{527}}{527}\\\\\\frac{\\sqrt{6}}{6} & - \\frac{\\sqrt{31}}{31} & - \\frac{7 \\sqrt{102}}{102} & \\frac{13 \\sqrt{527}}{527}\\end{matrix}\\right]$",
            "text/plain": [
              "[  ___       ____       _____         _____ ]\n",
              "[\\/ 6    5*\\/ 31     -\\/ 102     -3*\\/ 527  ]\n",
              "[-----   --------    ---------   -----------]\n",
              "[  6        31          102          527    ]\n",
              "[                                           ]\n",
              "[  ___       ____        _____        _____ ]\n",
              "[\\/ 6   -2*\\/ 31     2*\\/ 102    -5*\\/ 527  ]\n",
              "[-----  ----------   ---------   -----------]\n",
              "[  3        31           51          527    ]\n",
              "[                                           ]\n",
              "[           ____        _____         _____ ]\n",
              "[         \\/ 31       \\/ 102     18*\\/ 527  ]\n",
              "[  0      ------      -------    ---------- ]\n",
              "[           31           17         527     ]\n",
              "[                                           ]\n",
              "[  ___      ____         _____        _____ ]\n",
              "[\\/ 6    -\\/ 31     -7*\\/ 102    13*\\/ 527  ]\n",
              "[-----   --------   -----------  ---------- ]\n",
              "[  6        31          102         527     ]"
            ]
          },
          "metadata": {
            "tags": []
          }
        },
        {
          "output_type": "display_data",
          "data": {
            "application/vnd.google.colaboratory.intrinsic+json": {
              "type": "string"
            },
            "text/plain": [
              "'R'"
            ]
          },
          "metadata": {
            "tags": []
          }
        },
        {
          "output_type": "display_data",
          "data": {
            "text/latex": "$\\displaystyle \\left[\\begin{matrix}\\sqrt{6} & 0 & - \\frac{2 \\sqrt{6}}{3} & - \\frac{\\sqrt{6}}{6}\\\\0 & \\sqrt{31} & 0 & \\frac{\\sqrt{31}}{31}\\\\0 & 0 & \\frac{\\sqrt{102}}{3} & - \\frac{11 \\sqrt{102}}{102}\\\\0 & 0 & 0 & \\frac{18 \\sqrt{527}}{527}\\end{matrix}\\right]$",
            "text/plain": [
              "[                    ___        ___    ]\n",
              "[  ___          -2*\\/ 6      -\\/ 6     ]\n",
              "[\\/ 6     0     ---------    -------   ]\n",
              "[                   3           6      ]\n",
              "[                                      ]\n",
              "[                               ____   ]\n",
              "[         ____                \\/ 31    ]\n",
              "[  0    \\/ 31       0         ------   ]\n",
              "[                               31     ]\n",
              "[                                      ]\n",
              "[                  _____         _____ ]\n",
              "[                \\/ 102    -11*\\/ 102  ]\n",
              "[  0      0      -------   ------------]\n",
              "[                   3          102     ]\n",
              "[                                      ]\n",
              "[                                _____ ]\n",
              "[                           18*\\/ 527  ]\n",
              "[  0      0         0       ---------- ]\n",
              "[                              527     ]"
            ]
          },
          "metadata": {
            "tags": []
          }
        },
        {
          "output_type": "display_data",
          "data": {
            "application/vnd.google.colaboratory.intrinsic+json": {
              "type": "string"
            },
            "text/plain": [
              "'A'"
            ]
          },
          "metadata": {
            "tags": []
          }
        },
        {
          "output_type": "display_data",
          "data": {
            "text/latex": "$\\displaystyle \\left[\\begin{matrix}1 & 5 & -1 & 0\\\\2 & -2 & 0 & -1\\\\0 & 1 & 2 & 0\\\\1 & -1 & -3 & 1\\end{matrix}\\right]$",
            "text/plain": [
              "[1  5   -1  0 ]\n",
              "[             ]\n",
              "[2  -2  0   -1]\n",
              "[             ]\n",
              "[0  1   2   0 ]\n",
              "[             ]\n",
              "[1  -1  -3  1 ]"
            ]
          },
          "metadata": {
            "tags": []
          }
        },
        {
          "output_type": "display_data",
          "data": {
            "application/vnd.google.colaboratory.intrinsic+json": {
              "type": "string"
            },
            "text/plain": [
              "'QR'"
            ]
          },
          "metadata": {
            "tags": []
          }
        },
        {
          "output_type": "display_data",
          "data": {
            "text/latex": "$\\displaystyle \\left[\\begin{matrix}1 & 5 & -1 & 0\\\\2 & -2 & 0 & -1\\\\0 & 1 & 2 & 0\\\\1 & -1 & -3 & 1\\end{matrix}\\right]$",
            "text/plain": [
              "[1  5   -1  0 ]\n",
              "[             ]\n",
              "[2  -2  0   -1]\n",
              "[             ]\n",
              "[0  1   2   0 ]\n",
              "[             ]\n",
              "[1  -1  -3  1 ]"
            ]
          },
          "metadata": {
            "tags": []
          }
        },
        {
          "output_type": "display_data",
          "data": {
            "application/vnd.google.colaboratory.intrinsic+json": {
              "type": "string"
            },
            "text/plain": [
              "'A+'"
            ]
          },
          "metadata": {
            "tags": []
          }
        },
        {
          "output_type": "display_data",
          "data": {
            "text/latex": "$\\displaystyle \\left[\\begin{matrix}\\frac{1}{12} & \\frac{11}{36} & \\frac{1}{2} & \\frac{11}{36}\\\\\\frac{1}{6} & - \\frac{1}{18} & 0 & - \\frac{1}{18}\\\\- \\frac{1}{12} & \\frac{1}{36} & \\frac{1}{2} & \\frac{1}{36}\\\\- \\frac{1}{6} & - \\frac{5}{18} & 1 & \\frac{13}{18}\\end{matrix}\\right]$",
            "text/plain": [
              "[        11          11  ]\n",
              "[1/12    --    1/2   --  ]\n",
              "[        36          36  ]\n",
              "[                        ]\n",
              "[ 1/6   -1/18   0   -1/18]\n",
              "[                        ]\n",
              "[-1/12  1/36   1/2  1/36 ]\n",
              "[                        ]\n",
              "[                    13  ]\n",
              "[-1/6   -5/18   1    --  ]\n",
              "[                    18  ]"
            ]
          },
          "metadata": {
            "tags": []
          }
        },
        {
          "output_type": "display_data",
          "data": {
            "application/vnd.google.colaboratory.intrinsic+json": {
              "type": "string"
            },
            "text/plain": [
              "'R.T(R*R.T).inv()Q.T'"
            ]
          },
          "metadata": {
            "tags": []
          }
        },
        {
          "output_type": "display_data",
          "data": {
            "text/latex": "$\\displaystyle \\left[\\begin{matrix}\\frac{1}{12} & \\frac{11}{36} & \\frac{1}{2} & \\frac{11}{36}\\\\\\frac{1}{6} & - \\frac{1}{18} & 0 & - \\frac{1}{18}\\\\- \\frac{1}{12} & \\frac{1}{36} & \\frac{1}{2} & \\frac{1}{36}\\\\- \\frac{1}{6} & - \\frac{5}{18} & 1 & \\frac{13}{18}\\end{matrix}\\right]$",
            "text/plain": [
              "[        11          11  ]\n",
              "[1/12    --    1/2   --  ]\n",
              "[        36          36  ]\n",
              "[                        ]\n",
              "[ 1/6   -1/18   0   -1/18]\n",
              "[                        ]\n",
              "[-1/12  1/36   1/2  1/36 ]\n",
              "[                        ]\n",
              "[                    13  ]\n",
              "[-1/6   -5/18   1    --  ]\n",
              "[                    18  ]"
            ]
          },
          "metadata": {
            "tags": []
          }
        }
      ]
    },
    {
      "cell_type": "markdown",
      "metadata": {
        "id": "VebU0EIUv0Za"
      },
      "source": [
        "# Numpy и Scipy\r\n",
        "\r\n",
        "## LU-разложение Scipy\r\n",
        "https://docs.scipy.org/doc/scipy/reference/generated/scipy.linalg.lu.html\r\n",
        "\r\n",
        "$A = P L U$\r\n",
        "\r\n",
        "scipy.linalg.lu(a, permute_l=False, overwrite_a=False, check_finite=True)\r\n",
        "\r\n",
        "## QR-разложение\r\n",
        "### Numpy\r\n",
        "https://numpy.org/doc/stable/reference/generated/numpy.linalg.qr.html\r\n",
        "\r\n",
        "\r\n",
        "numpy.linalg.qr(a, mode='reduced')\r\n",
        "\r\n",
        "Пусть K = min(M, N), тогда\r\n",
        "\r\n",
        "‘reduced’ : возвращает q, r с размерностями соответственно (M, K), (K, N) (по умолчанию)\r\n",
        "\r\n",
        "‘complete’ : возвращает q, r с размерностями соответственно (M, M), (M, N)\r\n",
        "\r\n",
        "‘r’ : возвращает r размерности только (K, N)\r\n",
        "\r\n",
        "‘raw’ : возвращает h, tau с размерностями соответственно (N, M), (K,)\r\n",
        "\r\n",
        "Значения ‘reduced’, ‘complete и ‘raw’ появились начиная с версии numpy 1.8. Значение по умолчанию ‘reduced’. Обратите внимание, что array h возвращаемый в режиме ‘raw’ транспонирован для совместимости с Fortran. Режим ‘economic’ не поддерживается больше. Режимы ‘full’ и ‘economic’ могут быть вызваны с использованием только первого символа (для обратной совместимости), но остальные пишутся полностью. \r\n",
        "### Scipy\r\n",
        "https://docs.scipy.org/doc/scipy/reference/generated/scipy.linalg.qr.html\r\n",
        "\r\n",
        "scipy.linalg.qr(a, overwrite_a=False, lwork=None, mode='full', pivoting=False, check_finite=True)\r\n",
        "\r\n",
        "При pivoting=False возвращает матрицы $Q$ и $R$. Если pivoting=True, дополнительно возвращается $P$, такая что $A P = Q R$, причем диагональные элементы $R$ образую невозрастающую последовательность.\r\n"
      ]
    }
  ]
}