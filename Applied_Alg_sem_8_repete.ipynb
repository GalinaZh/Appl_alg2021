{
  "nbformat": 4,
  "nbformat_minor": 0,
  "metadata": {
    "kernelspec": {
      "display_name": "Python 3",
      "language": "python",
      "name": "python3"
    },
    "colab": {
      "name": "Applied_Alg_sem_8_repete",
      "provenance": [],
      "collapsed_sections": [],
      "include_colab_link": true
    }
  },
  "cells": [
    {
      "cell_type": "markdown",
      "metadata": {
        "id": "view-in-github",
        "colab_type": "text"
      },
      "source": [
        "<a href=\"https://colab.research.google.com/github/GalinaZh/Appl_alg2021/blob/main/Applied_Alg_sem_8_repete.ipynb\" target=\"_parent\"><img src=\"https://colab.research.google.com/assets/colab-badge.svg\" alt=\"Open In Colab\"/></a>"
      ]
    },
    {
      "cell_type": "markdown",
      "metadata": {
        "id": "fis1w-TTVnuw"
      },
      "source": [
        "# Занятие 8 \n",
        "# Прикладная алгебра и численные методы\n",
        "## Повторение: псевдообратная матрица, ортогонализация Грама-Шмидта, LU, QR, SVD, многочлены Чебышева."
      ]
    },
    {
      "cell_type": "code",
      "metadata": {
        "colab": {
          "base_uri": "https://localhost:8080/"
        },
        "id": "A7Sm92ZCwHJ_",
        "outputId": "eaa09b36-fa37-4956-c37f-bda319fbcadb"
      },
      "source": [
        "!python -m pip install sympy --upgrade"
      ],
      "execution_count": 1,
      "outputs": [
        {
          "output_type": "stream",
          "text": [
            "Collecting sympy\n",
            "\u001b[?25l  Downloading https://files.pythonhosted.org/packages/ff/69/b16fc81b939d3efdd0b552f2e3e54f7fa1423d0c320cced2e69e675dde26/sympy-1.7.1-py3-none-any.whl (5.9MB)\n",
            "\u001b[K     |████████████████████████████████| 5.9MB 7.5MB/s \n",
            "\u001b[?25hRequirement already satisfied, skipping upgrade: mpmath>=0.19 in /usr/local/lib/python3.7/dist-packages (from sympy) (1.2.1)\n",
            "Installing collected packages: sympy\n",
            "  Found existing installation: sympy 1.1.1\n",
            "    Uninstalling sympy-1.1.1:\n",
            "      Successfully uninstalled sympy-1.1.1\n",
            "Successfully installed sympy-1.7.1\n"
          ],
          "name": "stdout"
        }
      ]
    },
    {
      "cell_type": "code",
      "metadata": {
        "id": "mGFcxneQVnu6"
      },
      "source": [
        "import numpy as np\n",
        "import sympy\n",
        "from sympy import S, latex, Matrix, I, simplify, expand\n",
        "import scipy.linalg\n",
        "import numpy.linalg\n",
        "from sympy.functions.special.polynomials import chebyshevt, chebyshevu\n",
        "from numpy.polynomial.chebyshev import chebinterpolate\n",
        "import matplotlib.pyplot as plt\n",
        "from google.colab import files\n",
        "%matplotlib inline"
      ],
      "execution_count": 33,
      "outputs": []
    },
    {
      "cell_type": "code",
      "metadata": {
        "colab": {
          "base_uri": "https://localhost:8080/"
        },
        "id": "8I2nsbIp-Tzb",
        "outputId": "d19aa0ae-bc01-4627-9720-2a3fa44abf3b"
      },
      "source": [
        "import sympy\r\n",
        "import numpy\r\n",
        "sympy.__version__, numpy.__version__"
      ],
      "execution_count": null,
      "outputs": [
        {
          "output_type": "execute_result",
          "data": {
            "text/plain": [
              "('1.7.1', '1.19.5')"
            ]
          },
          "metadata": {
            "tags": []
          },
          "execution_count": 1
        }
      ]
    },
    {
      "cell_type": "code",
      "metadata": {
        "id": "Kk-cQGTzPdY8"
      },
      "source": [
        "sympy.init_printing(use_unicode=False, wrap_line=False, no_global=True)"
      ],
      "execution_count": 8,
      "outputs": []
    },
    {
      "cell_type": "markdown",
      "metadata": {
        "id": "_JT1iMxoMIgQ"
      },
      "source": [
        "## Псевдообратная матрица\r\n",
        "В numpy псевдообратная матрица находится с помощью np.linalg.pinv\r\n",
        "## Пример 1\r\n",
        "Найти псевдообратную матрицу к матрице\r\n",
        "$$\r\n",
        "\\left(\r\n",
        "\\begin{matrix}\r\n",
        "1 & 4 & 7 & 10 & 13\\\\\r\n",
        "16 & 19 & 22 & 25 & 28\\\\\r\n",
        "31 & 34 & 37 & 40 & 43\\\\\r\n",
        "46 & 49 & 52 & 55 & 58\r\n",
        "\\end{matrix}\r\n",
        "\\right)\r\n",
        "$$"
      ]
    },
    {
      "cell_type": "code",
      "metadata": {
        "colab": {
          "base_uri": "https://localhost:8080/",
          "height": 521
        },
        "id": "6QzAwzBNMHqh",
        "outputId": "c0d28962-c1d3-4e43-9403-ffb1554207c3"
      },
      "source": [
        "m = 4\r\n",
        "n = 5\r\n",
        "A = np.arange(1, 3*m*n + 1, 3).reshape((m, n))\r\n",
        "As = Matrix(A)\r\n",
        "As_pinv = As.pinv()\r\n",
        "display(As, As_pinv, As_pinv.evalf(8))\r\n",
        "for item in (np.linalg.pinv(A), scipy.linalg.pinv(A)):\r\n",
        "    print('A^+ = {0},\\n A = A A^+ A  {1}, A^+ = A^+ A ^+ {2}'.format(item, np.allclose(A, np.dot(A, np.dot(item, A))), np.allclose(item, np.dot(item, np.dot(A, item)))))"
      ],
      "execution_count": 28,
      "outputs": [
        {
          "output_type": "display_data",
          "data": {
            "text/latex": "$\\displaystyle \\left[\\begin{matrix}1 & 4 & 7 & 10 & 13\\\\16 & 19 & 22 & 25 & 28\\\\31 & 34 & 37 & 40 & 43\\\\46 & 49 & 52 & 55 & 58\\end{matrix}\\right]$",
            "text/plain": [
              "[1   4   7   10  13]\n",
              "[                  ]\n",
              "[16  19  22  25  28]\n",
              "[                  ]\n",
              "[31  34  37  40  43]\n",
              "[                  ]\n",
              "[46  49  52  55  58]"
            ]
          },
          "metadata": {
            "tags": []
          }
        },
        {
          "output_type": "display_data",
          "data": {
            "text/latex": "$\\displaystyle \\left[\\begin{matrix}- \\frac{3}{50} & - \\frac{7}{225} & - \\frac{1}{450} & \\frac{2}{75}\\\\- \\frac{4}{125} & - \\frac{73}{4500} & - \\frac{1}{2250} & \\frac{23}{1500}\\\\- \\frac{1}{250} & - \\frac{1}{750} & \\frac{1}{750} & \\frac{1}{250}\\\\\\frac{3}{125} & \\frac{61}{4500} & \\frac{7}{2250} & - \\frac{11}{1500}\\\\\\frac{13}{250} & \\frac{32}{1125} & \\frac{11}{2250} & - \\frac{7}{375}\\end{matrix}\\right]$",
            "text/plain": [
              "[-3/50   -7/225  -1/450    2/75 ]\n",
              "[                               ]\n",
              "[         -73               23  ]\n",
              "[-4/125   ----   -1/2250   ---- ]\n",
              "[         4500             1500 ]\n",
              "[                               ]\n",
              "[-1/250  -1/750   1/750   1/250 ]\n",
              "[                               ]\n",
              "[          61              -11  ]\n",
              "[3/125    ----   7/2250    ---- ]\n",
              "[         4500             1500 ]\n",
              "[                               ]\n",
              "[  13      32      11           ]\n",
              "[ ---     ----    ----    -7/375]\n",
              "[ 250     1125    2250          ]"
            ]
          },
          "metadata": {
            "tags": []
          }
        },
        {
          "output_type": "display_data",
          "data": {
            "text/latex": "$\\displaystyle \\left[\\begin{matrix}-0.06 & -0.031111111 & -0.0022222222 & 0.026666667\\\\-0.032 & -0.016222222 & -0.00044444444 & 0.015333333\\\\-0.004 & -0.0013333333 & 0.0013333333 & 0.004\\\\0.024 & 0.013555556 & 0.0031111111 & -0.0073333333\\\\0.052 & 0.028444444 & 0.0048888889 & -0.018666667\\end{matrix}\\right]$",
            "text/plain": [
              "[-0.06   -0.031111111   -0.0022222222    0.026666667 ]\n",
              "[                                                    ]\n",
              "[-0.032  -0.016222222   -0.00044444444   0.015333333 ]\n",
              "[                                                    ]\n",
              "[-0.004  -0.0013333333   0.0013333333       0.004    ]\n",
              "[                                                    ]\n",
              "[0.024    0.013555556    0.0031111111   -0.0073333333]\n",
              "[                                                    ]\n",
              "[0.052    0.028444444    0.0048888889   -0.018666667 ]"
            ]
          },
          "metadata": {
            "tags": []
          }
        },
        {
          "output_type": "stream",
          "text": [
            "A^+ = [[-0.06       -0.03111111 -0.00222222  0.02666667]\n",
            " [-0.032      -0.01622222 -0.00044444  0.01533333]\n",
            " [-0.004      -0.00133333  0.00133333  0.004     ]\n",
            " [ 0.024       0.01355556  0.00311111 -0.00733333]\n",
            " [ 0.052       0.02844444  0.00488889 -0.01866667]],\n",
            " A = A A^+ A  True, A^+ = A^+ A ^+ True\n",
            "A^+ = [[-0.06       -0.03111111 -0.00222222  0.02666667]\n",
            " [-0.032      -0.01622222 -0.00044444  0.01533333]\n",
            " [-0.004      -0.00133333  0.00133333  0.004     ]\n",
            " [ 0.024       0.01355556  0.00311111 -0.00733333]\n",
            " [ 0.052       0.02844444  0.00488889 -0.01866667]],\n",
            " A = A A^+ A  True, A^+ = A^+ A ^+ True\n"
          ],
          "name": "stdout"
        }
      ]
    },
    {
      "cell_type": "code",
      "metadata": {
        "colab": {
          "base_uri": "https://localhost:8080/",
          "height": 54
        },
        "id": "D1qi0jS6SMP7",
        "outputId": "1adabcd6-39d4-4145-94d1-5d25e3f212f6"
      },
      "source": [
        "latex(As)"
      ],
      "execution_count": 25,
      "outputs": [
        {
          "output_type": "execute_result",
          "data": {
            "application/vnd.google.colaboratory.intrinsic+json": {
              "type": "string"
            },
            "text/plain": [
              "'\\\\left[\\\\begin{matrix}1 & 4 & 7 & 10 & 13\\\\\\\\16 & 19 & 22 & 25 & 28\\\\\\\\31 & 34 & 37 & 40 & 43\\\\\\\\46 & 49 & 52 & 55 & 58\\\\end{matrix}\\\\right]'"
            ]
          },
          "metadata": {
            "tags": []
          },
          "execution_count": 25
        }
      ]
    },
    {
      "cell_type": "markdown",
      "metadata": {
        "id": "1x-2rU76TPBR"
      },
      "source": [
        "### LU разложение\r\n",
        "$PA = LU$ для матрицы $A$\r\n",
        "\r\n",
        "$L$ - левая треугольная матрица с единицами на главной диагонали,\r\n",
        "$U$ - правая треугольная (трапециевидная) матрица,\r\n",
        "$P$ - матрица перестановок.\r\n",
        "\r\n",
        "$A = P^{-1}LU$.\r\n",
        "### Пример 2.\r\n",
        "Построим  LU разложение для матрицы \r\n",
        "$$\r\n",
        "M=\\left(\r\n",
        "\\begin{matrix}\r\n",
        "0 & 3+ I & 5 - 2I\\\\\r\n",
        " - I & 2 & 1 - I\\\\\r\n",
        "5 & -1 + 4I & -3\r\n",
        "\\end{matrix}\r\n",
        "\\right)\r\n",
        "$$"
      ]
    },
    {
      "cell_type": "code",
      "metadata": {
        "colab": {
          "base_uri": "https://localhost:8080/",
          "height": 287
        },
        "id": "GpCvTy4MYkI0",
        "outputId": "e3f7d631-5da3-4b60-e945-8b0d45baf433"
      },
      "source": [
        "M = Matrix([[0, 3 + I, 5 - 2*I], [-I, 2, 1 - I], [5, -1 + 4*I, -3]])\r\n",
        "L, U, perm = M.LUdecomposition()\r\n",
        "display(L, U, simplify(expand(L*U)), M, perm)"
      ],
      "execution_count": 35,
      "outputs": [
        {
          "output_type": "display_data",
          "data": {
            "text/latex": "$\\displaystyle \\left[\\begin{matrix}1 & 0 & 0\\\\0 & 1 & 0\\\\5 i & \\frac{\\left(-1 - 6 i\\right) \\left(3 - i\\right)}{10} & 1\\end{matrix}\\right]$",
            "text/plain": [
              "[ 1           0           0]\n",
              "[                          ]\n",
              "[ 0           1           0]\n",
              "[                          ]\n",
              "[     (-1 - 6*I)*(3 - I)   ]\n",
              "[5*I  ------------------  1]\n",
              "[             10           ]"
            ]
          },
          "metadata": {
            "tags": []
          }
        },
        {
          "output_type": "display_data",
          "data": {
            "text/latex": "$\\displaystyle \\left[\\begin{matrix}- i & 2 & 1 - i\\\\0 & 3 + i & 5 - 2 i\\\\0 & 0 & -3 - 5 i \\left(1 - i\\right) - \\frac{\\left(-1 - 6 i\\right) \\left(3 - i\\right) \\left(5 - 2 i\\right)}{10}\\end{matrix}\\right]$",
            "text/plain": [
              "[-I    2                         1 - I                     ]\n",
              "[                                                          ]\n",
              "[0   3 + I                      5 - 2*I                    ]\n",
              "[                                                          ]\n",
              "[                              (-1 - 6*I)*(3 - I)*(5 - 2*I)]\n",
              "[0     0    -3 - 5*I*(1 - I) - ----------------------------]\n",
              "[                                           10             ]"
            ]
          },
          "metadata": {
            "tags": []
          }
        },
        {
          "output_type": "display_data",
          "data": {
            "text/latex": "$\\displaystyle \\left[\\begin{matrix}- i & 2 & 1 - i\\\\0 & 3 + i & 5 - 2 i\\\\5 & -1 + 4 i & -3\\end{matrix}\\right]$",
            "text/plain": [
              "[-I     2       1 - I ]\n",
              "[                     ]\n",
              "[0    3 + I    5 - 2*I]\n",
              "[                     ]\n",
              "[5   -1 + 4*I    -3   ]"
            ]
          },
          "metadata": {
            "tags": []
          }
        },
        {
          "output_type": "display_data",
          "data": {
            "text/latex": "$\\displaystyle \\left[\\begin{matrix}0 & 3 + i & 5 - 2 i\\\\- i & 2 & 1 - i\\\\5 & -1 + 4 i & -3\\end{matrix}\\right]$",
            "text/plain": [
              "[0    3 + I    5 - 2*I]\n",
              "[                     ]\n",
              "[-I     2       1 - I ]\n",
              "[                     ]\n",
              "[5   -1 + 4*I    -3   ]"
            ]
          },
          "metadata": {
            "tags": []
          }
        },
        {
          "output_type": "display_data",
          "data": {
            "image/png": "[encoded data removed]",
            "text/latex": "$\\displaystyle \\left[ \\left[ 0, \\  1\\right]\\right]$",
            "text/plain": [
              "[[0, 1]]"
            ]
          },
          "metadata": {
            "tags": []
          }
        }
      ]
    },
    {
      "cell_type": "markdown",
      "metadata": {
        "id": "df4WzzLmZV90"
      },
      "source": [
        "Произведение матриц LU отличается от исходной матрицы M перестановкой строк. Восстановим матрицу M, применяя перестановки в соответствии с результатом, выдаваемым LUdecomposition:"
      ]
    },
    {
      "cell_type": "code",
      "metadata": {
        "colab": {
          "base_uri": "https://localhost:8080/",
          "height": 496
        },
        "id": "tsqadq50ZW4D",
        "outputId": "7ef955e0-9b15-4953-e1fa-a26bf0ff2cd4"
      },
      "source": [
        "number_of_rows = M.shape[0]\r\n",
        "L, U, perm = M.LUdecomposition()\r\n",
        "MLU = simplify(expand((L*U).permuteBkwd(perm)))\r\n",
        "P = sympy.eye(number_of_rows).permuteFwd(perm)\r\n",
        "display('L', L, 'U', U, 'perm', perm, 'P', P, 'MLU', MLU, \r\n",
        "        'M', M, 'P*M == L*U', P*M == simplify(expand(L*U))) "
      ],
      "execution_count": 37,
      "outputs": [
        {
          "output_type": "display_data",
          "data": {
            "application/vnd.google.colaboratory.intrinsic+json": {
              "type": "string"
            },
            "text/plain": [
              "'L'"
            ]
          },
          "metadata": {
            "tags": []
          }
        },
        {
          "output_type": "display_data",
          "data": {
            "text/latex": "$\\displaystyle \\left[\\begin{matrix}1 & 0 & 0\\\\0 & 1 & 0\\\\5 i & \\frac{\\left(-1 - 6 i\\right) \\left(3 - i\\right)}{10} & 1\\end{matrix}\\right]$",
            "text/plain": [
              "[ 1           0           0]\n",
              "[                          ]\n",
              "[ 0           1           0]\n",
              "[                          ]\n",
              "[     (-1 - 6*I)*(3 - I)   ]\n",
              "[5*I  ------------------  1]\n",
              "[             10           ]"
            ]
          },
          "metadata": {
            "tags": []
          }
        },
        {
          "output_type": "display_data",
          "data": {
            "application/vnd.google.colaboratory.intrinsic+json": {
              "type": "string"
            },
            "text/plain": [
              "'U'"
            ]
          },
          "metadata": {
            "tags": []
          }
        },
        {
          "output_type": "display_data",
          "data": {
            "text/latex": "$\\displaystyle \\left[\\begin{matrix}- i & 2 & 1 - i\\\\0 & 3 + i & 5 - 2 i\\\\0 & 0 & -3 - 5 i \\left(1 - i\\right) - \\frac{\\left(-1 - 6 i\\right) \\left(3 - i\\right) \\left(5 - 2 i\\right)}{10}\\end{matrix}\\right]$",
            "text/plain": [
              "[-I    2                         1 - I                     ]\n",
              "[                                                          ]\n",
              "[0   3 + I                      5 - 2*I                    ]\n",
              "[                                                          ]\n",
              "[                              (-1 - 6*I)*(3 - I)*(5 - 2*I)]\n",
              "[0     0    -3 - 5*I*(1 - I) - ----------------------------]\n",
              "[                                           10             ]"
            ]
          },
          "metadata": {
            "tags": []
          }
        },
        {
          "output_type": "display_data",
          "data": {
            "application/vnd.google.colaboratory.intrinsic+json": {
              "type": "string"
            },
            "text/plain": [
              "'perm'"
            ]
          },
          "metadata": {
            "tags": []
          }
        },
        {
          "output_type": "display_data",
          "data": {
            "image/png": "[encoded data removed]",
            "text/latex": "$\\displaystyle \\left[ \\left[ 0, \\  1\\right]\\right]$",
            "text/plain": [
              "[[0, 1]]"
            ]
          },
          "metadata": {
            "tags": []
          }
        },
        {
          "output_type": "display_data",
          "data": {
            "application/vnd.google.colaboratory.intrinsic+json": {
              "type": "string"
            },
            "text/plain": [
              "'P'"
            ]
          },
          "metadata": {
            "tags": []
          }
        },
        {
          "output_type": "display_data",
          "data": {
            "text/latex": "$\\displaystyle \\left[\\begin{matrix}0 & 1 & 0\\\\1 & 0 & 0\\\\0 & 0 & 1\\end{matrix}\\right]$",
            "text/plain": [
              "[0  1  0]\n",
              "[       ]\n",
              "[1  0  0]\n",
              "[       ]\n",
              "[0  0  1]"
            ]
          },
          "metadata": {
            "tags": []
          }
        },
        {
          "output_type": "display_data",
          "data": {
            "application/vnd.google.colaboratory.intrinsic+json": {
              "type": "string"
            },
            "text/plain": [
              "'MLU'"
            ]
          },
          "metadata": {
            "tags": []
          }
        },
        {
          "output_type": "display_data",
          "data": {
            "text/latex": "$\\displaystyle \\left[\\begin{matrix}0 & 3 + i & 5 - 2 i\\\\- i & 2 & 1 - i\\\\5 & -1 + 4 i & -3\\end{matrix}\\right]$",
            "text/plain": [
              "[0    3 + I    5 - 2*I]\n",
              "[                     ]\n",
              "[-I     2       1 - I ]\n",
              "[                     ]\n",
              "[5   -1 + 4*I    -3   ]"
            ]
          },
          "metadata": {
            "tags": []
          }
        },
        {
          "output_type": "display_data",
          "data": {
            "application/vnd.google.colaboratory.intrinsic+json": {
              "type": "string"
            },
            "text/plain": [
              "'M'"
            ]
          },
          "metadata": {
            "tags": []
          }
        },
        {
          "output_type": "display_data",
          "data": {
            "text/latex": "$\\displaystyle \\left[\\begin{matrix}0 & 3 + i & 5 - 2 i\\\\- i & 2 & 1 - i\\\\5 & -1 + 4 i & -3\\end{matrix}\\right]$",
            "text/plain": [
              "[0    3 + I    5 - 2*I]\n",
              "[                     ]\n",
              "[-I     2       1 - I ]\n",
              "[                     ]\n",
              "[5   -1 + 4*I    -3   ]"
            ]
          },
          "metadata": {
            "tags": []
          }
        },
        {
          "output_type": "display_data",
          "data": {
            "application/vnd.google.colaboratory.intrinsic+json": {
              "type": "string"
            },
            "text/plain": [
              "'P*M == L*U'"
            ]
          },
          "metadata": {
            "tags": []
          }
        },
        {
          "output_type": "display_data",
          "data": {
            "text/plain": [
              "True"
            ]
          },
          "metadata": {
            "tags": []
          }
        }
      ]
    },
    {
      "cell_type": "markdown",
      "metadata": {
        "id": "b35g5UYOZmHC"
      },
      "source": [
        "### QR разложение\r\n",
        "$A = QR$ \r\n",
        "\r\n",
        "$Q$ - матрица из ортогональных столбцов, т.е. $Q^HQ = I$, $I$ - единичная матрица, \r\n",
        "$R$ - правая треугольная (трапециевидная) матрица.\r\n",
        "\r\n",
        "Ранг матрицы $A$ равен числу столбцов матрицы $Q$.\r\n",
        "### Пример 3.\r\n",
        "Построим  QR разложение для матрицы \r\n",
        "\r\n",
        "$$\r\n",
        "M_3 = \\left(\r\n",
        "\\begin{matrix}\r\n",
        "0 & 3  & 5  \\\\\r\n",
        " - 1 & 2 & 1 \\\\\r\n",
        "5 & -1  & -3\r\n",
        "\\end{matrix}\r\n",
        "\\right)\r\n",
        "$$"
      ]
    },
    {
      "cell_type": "code",
      "metadata": {
        "colab": {
          "base_uri": "https://localhost:8080/",
          "height": 393
        },
        "id": "gq033THEbPxE",
        "outputId": "bb94aaf5-8376-414e-8a4b-dbee1334b6c0"
      },
      "source": [
        "M3 = Matrix([[0, 3, 5, 6], [-1, 2, 1, -7], [5, -1, -3, 8]])\r\n",
        "\r\n",
        "Q3, R3 = M3.QRdecomposition()\r\n",
        "Q3R3 = simplify(expand(Q3*R3))\r\n",
        "display('Q3', simplify(expand(Q3)), 'R3', simplify(expand(R3)), \r\n",
        "        'Q3R3', Q3R3, 'M3', M3, 'M3 = Q3R3', M3 == Q3R3)"
      ],
      "execution_count": 39,
      "outputs": [
        {
          "output_type": "display_data",
          "data": {
            "application/vnd.google.colaboratory.intrinsic+json": {
              "type": "string"
            },
            "text/plain": [
              "'Q3'"
            ]
          },
          "metadata": {
            "tags": []
          }
        },
        {
          "output_type": "display_data",
          "data": {
            "text/latex": "$\\displaystyle \\left[\\begin{matrix}0 & \\frac{\\sqrt{910}}{35} & \\frac{3 \\sqrt{35}}{35}\\\\- \\frac{\\sqrt{26}}{26} & \\frac{3 \\sqrt{910}}{182} & - \\frac{\\sqrt{35}}{7}\\\\\\frac{5 \\sqrt{26}}{26} & \\frac{3 \\sqrt{910}}{910} & - \\frac{\\sqrt{35}}{35}\\end{matrix}\\right]$",
            "text/plain": [
              "[             _____       ____]\n",
              "[           \\/ 910    3*\\/ 35 ]\n",
              "[   0       -------   --------]\n",
              "[              35        35   ]\n",
              "[                             ]\n",
              "[   ____       _____     ____ ]\n",
              "[-\\/ 26    3*\\/ 910   -\\/ 35  ]\n",
              "[--------  ---------  --------]\n",
              "[   26        182        7    ]\n",
              "[                             ]\n",
              "[    ____      _____     ____ ]\n",
              "[5*\\/ 26   3*\\/ 910   -\\/ 35  ]\n",
              "[--------  ---------  --------]\n",
              "[   26        910        35   ]"
            ]
          },
          "metadata": {
            "tags": []
          }
        },
        {
          "output_type": "display_data",
          "data": {
            "application/vnd.google.colaboratory.intrinsic+json": {
              "type": "string"
            },
            "text/plain": [
              "'R3'"
            ]
          },
          "metadata": {
            "tags": []
          }
        },
        {
          "output_type": "display_data",
          "data": {
            "text/latex": "$\\displaystyle \\left[\\begin{matrix}\\sqrt{26} & - \\frac{7 \\sqrt{26}}{26} & - \\frac{8 \\sqrt{26}}{13} & \\frac{47 \\sqrt{26}}{26}\\\\0 & \\frac{3 \\sqrt{910}}{26} & \\frac{68 \\sqrt{910}}{455} & \\frac{15 \\sqrt{910}}{182}\\\\0 & 0 & \\frac{13 \\sqrt{35}}{35} & \\frac{9 \\sqrt{35}}{7}\\end{matrix}\\right]$",
            "text/plain": [
              "[             ____        ____        ____ ]\n",
              "[  ____  -7*\\/ 26    -8*\\/ 26    47*\\/ 26  ]\n",
              "[\\/ 26   ----------  ----------  --------- ]\n",
              "[            26          13          26    ]\n",
              "[                                          ]\n",
              "[            _____        _____       _____]\n",
              "[        3*\\/ 910    68*\\/ 910   15*\\/ 910 ]\n",
              "[  0     ---------   ----------  ----------]\n",
              "[            26         455         182    ]\n",
              "[                                          ]\n",
              "[                         ____        ____ ]\n",
              "[                    13*\\/ 35     9*\\/ 35  ]\n",
              "[  0         0       ---------    -------- ]\n",
              "[                        35          7     ]"
            ]
          },
          "metadata": {
            "tags": []
          }
        },
        {
          "output_type": "display_data",
          "data": {
            "application/vnd.google.colaboratory.intrinsic+json": {
              "type": "string"
            },
            "text/plain": [
              "'Q3R3'"
            ]
          },
          "metadata": {
            "tags": []
          }
        },
        {
          "output_type": "display_data",
          "data": {
            "text/latex": "$\\displaystyle \\left[\\begin{matrix}0 & 3 & 5 & 6\\\\-1 & 2 & 1 & -7\\\\5 & -1 & -3 & 8\\end{matrix}\\right]$",
            "text/plain": [
              "[0   3   5   6 ]\n",
              "[              ]\n",
              "[-1  2   1   -7]\n",
              "[              ]\n",
              "[5   -1  -3  8 ]"
            ]
          },
          "metadata": {
            "tags": []
          }
        },
        {
          "output_type": "display_data",
          "data": {
            "application/vnd.google.colaboratory.intrinsic+json": {
              "type": "string"
            },
            "text/plain": [
              "'M3'"
            ]
          },
          "metadata": {
            "tags": []
          }
        },
        {
          "output_type": "display_data",
          "data": {
            "text/latex": "$\\displaystyle \\left[\\begin{matrix}0 & 3 & 5 & 6\\\\-1 & 2 & 1 & -7\\\\5 & -1 & -3 & 8\\end{matrix}\\right]$",
            "text/plain": [
              "[0   3   5   6 ]\n",
              "[              ]\n",
              "[-1  2   1   -7]\n",
              "[              ]\n",
              "[5   -1  -3  8 ]"
            ]
          },
          "metadata": {
            "tags": []
          }
        },
        {
          "output_type": "display_data",
          "data": {
            "application/vnd.google.colaboratory.intrinsic+json": {
              "type": "string"
            },
            "text/plain": [
              "'M3 = Q3R3'"
            ]
          },
          "metadata": {
            "tags": []
          }
        },
        {
          "output_type": "display_data",
          "data": {
            "text/plain": [
              "True"
            ]
          },
          "metadata": {
            "tags": []
          }
        }
      ]
    }
  ]
}