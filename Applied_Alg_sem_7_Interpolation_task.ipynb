{
  "nbformat": 4,
  "nbformat_minor": 0,
  "metadata": {
    "colab": {
      "name": "Applied_Alg_sem_7_Interpolation_task.ipynb",
      "provenance": [],
      "authorship_tag": "ABX9TyNUTTOkGLRzHxlb4fINWer2",
      "include_colab_link": true
    },
    "kernelspec": {
      "name": "python3",
      "display_name": "Python 3"
    }
  },
  "cells": [
    {
      "cell_type": "markdown",
      "metadata": {
        "id": "view-in-github",
        "colab_type": "text"
      },
      "source": [
        "<a href=\"https://colab.research.google.com/github/GalinaZh/Appl_alg2021/blob/main/Applied_Alg_sem_7_Interpolation_task.ipynb\" target=\"_parent\"><img src=\"https://colab.research.google.com/assets/colab-badge.svg\" alt=\"Open In Colab\"/></a>"
      ]
    },
    {
      "cell_type": "markdown",
      "metadata": {
        "id": "iBIsm0fN9jq-"
      },
      "source": [
        "# Занятие 7 \r\n",
        "# Прикладная алгебра и численные методы\r\n",
        "## Многочлены Чебышева"
      ]
    },
    {
      "cell_type": "code",
      "metadata": {
        "id": "45QU5QGp9meO"
      },
      "source": [
        "!python -m pip install sympy --upgrade"
      ],
      "execution_count": null,
      "outputs": []
    },
    {
      "cell_type": "code",
      "metadata": {
        "id": "LxpXOLzN9pX_"
      },
      "source": [
        "!python -m pip install -U matplotlib"
      ],
      "execution_count": null,
      "outputs": []
    },
    {
      "cell_type": "code",
      "metadata": {
        "id": "Buam_L0R9rpd"
      },
      "source": [
        "import numpy as np\r\n",
        "import sympy\r\n",
        "from sympy import S\r\n",
        "from sympy.functions.special.polynomials import chebyshevt, chebyshevu\r\n",
        "from numpy.polynomial.chebyshev import chebinterpolate\r\n",
        "import matplotlib.pyplot as plt\r\n",
        "import pandas as pd\r\n",
        "from google.colab import files\r\n",
        "%matplotlib inline"
      ],
      "execution_count": null,
      "outputs": []
    },
    {
      "cell_type": "code",
      "metadata": {
        "id": "htZGJO7k9unl"
      },
      "source": [
        "import sympy\r\n",
        "import numpy\r\n",
        "sympy.__version__, numpy.__version__"
      ],
      "execution_count": null,
      "outputs": []
    },
    {
      "cell_type": "markdown",
      "metadata": {
        "id": "RgwEEaOK9xan"
      },
      "source": [
        "https://docs.scipy.org/doc/scipy/reference/generated/scipy.linalg.norm.html#scipy.linalg.norm\r\n",
        "\r\n",
        "https://numpy.org/doc/stable/reference/generated/numpy.linalg.norm.html\r\n",
        "\r\n",
        "## Многочлен Чебышева первого рода\r\n",
        "$T_0(x) = 1$, $T_1(x) = x$, $T_(x) = 2xT_{n - 1}(x) - T_{n - 2}(x)$, $n\\ge 2$.\r\n",
        "## Задание 1\r\n",
        "Построить графики многочленов Чебышева первого рода при $n = 1 - 5$, каждый график отдельным цветом, в легенду включить формулу многочлена в форме $T_1(x) = x$. \r\n",
        "\r\n",
        "!!! Использовать matplotlib, lambdify, Eq и многочлены Чебышева chebyshevt из Sympy !!!"
      ]
    },
    {
      "cell_type": "code",
      "metadata": {
        "id": "8NLaLv9Y96oW"
      },
      "source": [
        ""
      ],
      "execution_count": null,
      "outputs": []
    },
    {
      "cell_type": "markdown",
      "metadata": {
        "id": "l-uy_mxG97Fl"
      },
      "source": [
        "## Задание 2.\r\n",
        "$$\r\n",
        "T_n(x) = \\frac{(x + \\sqrt{x^2 - 1})^n + (x - \\sqrt{x^2 - 1})^n}{2}, \\quad |x| \\ge 1.\r\n",
        "$$\r\n",
        "Построить многочлен Чебышева первого рода порядка 9, 11 и 13 по приведенной выше формуле и с помощью chebyshevt из Sympy.\r\n",
        "\r\n",
        "Для каждого порядка 9, 11 и 13 на сетке значений $x$ от 5 до 6 с шагом 0.001 вычислить нормы 1 и 2 разностей значений многочлена Чебышева, полученного по формуле и с помощью chebyshevt.\r\n",
        "\r\n",
        "Изобразить на отдельных графиках многочлены каждого порядка, полученные двумя способами (получится 3 графика)\r\n",
        "\r\n",
        "Использовать plt.show() для изображения отдельного графика и plt.close для того, чтобы следующий график не содержал только что выведенного рисунка."
      ]
    },
    {
      "cell_type": "code",
      "metadata": {
        "id": "tYrK3w4M9-Ol"
      },
      "source": [
        ""
      ],
      "execution_count": null,
      "outputs": []
    },
    {
      "cell_type": "markdown",
      "metadata": {
        "id": "BPxa8dXd-BOF"
      },
      "source": [
        "## Задание 3\r\n",
        "Многочлен Чебышева второго рода:\r\n",
        "$$\r\n",
        "U_n = \\frac{1}{n + 1}T'_{n + 1}(x), \\quad n \\ge 0.\r\n",
        "$$\r\n",
        "$$\r\n",
        "U_n(x) = \\frac{(x + \\sqrt{x^2 - 1})^{n + 1} - (x - \\sqrt{x^2 - 1})^{n + 1}}{2\\sqrt{x^2 - 1}}, \\quad |x| \\ge 1.\r\n",
        "$$\r\n",
        "\r\n",
        "Построить многочлен Чебышева степени 10 по приведенным двум формулам, за основу в первой формуле взять chebyshevt из sympy.\r\n",
        "Построить многочлен Чебышева степени 10 с помощью chebyshevu sympy.\r\n",
        "\r\n",
        "При необходимости упростить полученные выражения и сравнить их."
      ]
    },
    {
      "cell_type": "code",
      "metadata": {
        "id": "arDOj4hF-CTO"
      },
      "source": [
        ""
      ],
      "execution_count": null,
      "outputs": []
    },
    {
      "cell_type": "markdown",
      "metadata": {
        "id": "4rI6z-NV-FP9"
      },
      "source": [
        "## Задание 4\r\n",
        "Норма Чебышева (максимум модуля на данном отрезке):\r\n",
        "$$\r\n",
        "|f|_0 = \\max_{[-1, 1]}|f(x)|.\r\n",
        "$$\r\n",
        "Площадь под графиком функции на данном отрезке:\r\n",
        "$$\r\n",
        "|f|_1 = \\int_{-1}^1|f(x)|\\,dx.\r\n",
        "$$\r\n",
        "Вычислить норму Чебышева и площадь под графиком для $\\sin(\\pi x)$ на отрезке [-1, 1]."
      ]
    },
    {
      "cell_type": "code",
      "metadata": {
        "id": "xuIjYrmU-F4d"
      },
      "source": [
        ""
      ],
      "execution_count": null,
      "outputs": []
    },
    {
      "cell_type": "markdown",
      "metadata": {
        "id": "W8tfC5FO-Int"
      },
      "source": [
        "## Задание 5\r\n",
        "Наилучшее приближение функции $f(x)$ многочленом степени $\\le n$:\r\n",
        "$$\r\n",
        "\\tilde{f}(x) = \\sum_{i=0}^n \\frac{<T_i, f>}{<T_i, T_i>}T_i(x),\r\n",
        "$$\r\n",
        "$T_i(x)$ многочлен Чебышева первого рода степени $i$,\r\n",
        "$$\r\n",
        "<f, g> = \\int_{-1}^1 \\frac{f(x)g(x)}{\\sqrt{1 - x^2}}\\,dx, \\quad \r\n",
        "|f| = \\sqrt{<f, f>} = \\sqrt{\\int_{-1}^1 \\frac{f^2(x)}{\\sqrt{1 - x^2}}\\,dx}\r\n",
        "$$\r\n",
        "\r\n",
        "Построить с помощью Sympy и Numpy многочлен степени не выше 4, наилучшим образом приближающий $x^6 - x^2 + 2$ на [-1, 1]. \r\n",
        "\r\n",
        "Изобразить на общем графике $x^6 - x^2 + 2$ и приближения многочленами Чебышева, в легенду включить формулы.\r\n",
        "\r\n",
        "Вычислить норму Чебышева и площадь между графиками функции и ее представления полиномами Чебышева."
      ]
    },
    {
      "cell_type": "code",
      "metadata": {
        "id": "YuN02hWS-JQ0"
      },
      "source": [
        ""
      ],
      "execution_count": null,
      "outputs": []
    }
  ]
}