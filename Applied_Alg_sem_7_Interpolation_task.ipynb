{
  "nbformat": 4,
  "nbformat_minor": 0,
  "metadata": {
    "kernelspec": {
      "display_name": "Python 3",
      "language": "python",
      "name": "python3"
    },
    "colab": {
      "name": "Applied_Alg_sem_7_Interpolation_task",
      "provenance": [],
      "collapsed_sections": [],
      "include_colab_link": true
    }
  },
  "cells": [
    {
      "cell_type": "markdown",
      "metadata": {
        "id": "view-in-github",
        "colab_type": "text"
      },
      "source": [
        "<a href=\"https://colab.research.google.com/github/GalinaZh/Appl_alg2021/blob/main/Applied_Alg_sem_7_Interpolation_task.ipynb\" target=\"_parent\"><img src=\"https://colab.research.google.com/assets/colab-badge.svg\" alt=\"Open In Colab\"/></a>"
      ]
    },
    {
      "cell_type": "markdown",
      "metadata": {
        "id": "fis1w-TTVnuw"
      },
      "source": [
        "# Занятие 7 \n",
        "# Прикладная алгебра и численные методы\n",
        "## Многочлены Чебышева"
      ]
    },
    {
      "cell_type": "code",
      "metadata": {
        "colab": {
          "base_uri": "https://localhost:8080/"
        },
        "id": "A7Sm92ZCwHJ_",
        "outputId": "fd7cf078-e738-402b-e94b-d21c85482fd1"
      },
      "source": [
        "!python -m pip install sympy --upgrade\r\n",
        "!python -m pip install -U matplotlib"
      ],
      "execution_count": null,
      "outputs": [
        {
          "output_type": "stream",
          "text": [
            "Collecting sympy\n",
            "\u001b[?25l  Downloading https://files.pythonhosted.org/packages/ff/69/b16fc81b939d3efdd0b552f2e3e54f7fa1423d0c320cced2e69e675dde26/sympy-1.7.1-py3-none-any.whl (5.9MB)\n",
            "\u001b[K     |████████████████████████████████| 5.9MB 6.2MB/s \n",
            "\u001b[?25hRequirement already satisfied, skipping upgrade: mpmath>=0.19 in /usr/local/lib/python3.6/dist-packages (from sympy) (1.1.0)\n",
            "Installing collected packages: sympy\n",
            "  Found existing installation: sympy 1.1.1\n",
            "    Uninstalling sympy-1.1.1:\n",
            "      Successfully uninstalled sympy-1.1.1\n",
            "Successfully installed sympy-1.7.1\n",
            "Collecting matplotlib\n",
            "\u001b[?25l  Downloading https://files.pythonhosted.org/packages/09/03/b7b30fa81cb687d1178e085d0f01111ceaea3bf81f9330c937fb6f6c8ca0/matplotlib-3.3.4-cp36-cp36m-manylinux1_x86_64.whl (11.5MB)\n",
            "\u001b[K     |████████████████████████████████| 11.5MB 8.3MB/s \n",
            "\u001b[?25hRequirement already satisfied, skipping upgrade: kiwisolver>=1.0.1 in /usr/local/lib/python3.6/dist-packages (from matplotlib) (1.3.1)\n",
            "Requirement already satisfied, skipping upgrade: pyparsing!=2.0.4,!=2.1.2,!=2.1.6,>=2.0.3 in /usr/local/lib/python3.6/dist-packages (from matplotlib) (2.4.7)\n",
            "Requirement already satisfied, skipping upgrade: python-dateutil>=2.1 in /usr/local/lib/python3.6/dist-packages (from matplotlib) (2.8.1)\n",
            "Requirement already satisfied, skipping upgrade: cycler>=0.10 in /usr/local/lib/python3.6/dist-packages (from matplotlib) (0.10.0)\n",
            "Requirement already satisfied, skipping upgrade: pillow>=6.2.0 in /usr/local/lib/python3.6/dist-packages (from matplotlib) (7.0.0)\n",
            "Requirement already satisfied, skipping upgrade: numpy>=1.15 in /usr/local/lib/python3.6/dist-packages (from matplotlib) (1.19.5)\n",
            "Requirement already satisfied, skipping upgrade: six>=1.5 in /usr/local/lib/python3.6/dist-packages (from python-dateutil>=2.1->matplotlib) (1.15.0)\n",
            "\u001b[31mERROR: albumentations 0.1.12 has requirement imgaug<0.2.7,>=0.2.5, but you'll have imgaug 0.2.9 which is incompatible.\u001b[0m\n",
            "Installing collected packages: matplotlib\n",
            "  Found existing installation: matplotlib 3.2.2\n",
            "    Uninstalling matplotlib-3.2.2:\n",
            "      Successfully uninstalled matplotlib-3.2.2\n",
            "Successfully installed matplotlib-3.3.4\n"
          ],
          "name": "stdout"
        }
      ]
    },
    {
      "cell_type": "code",
      "metadata": {
        "id": "mGFcxneQVnu6"
      },
      "source": [
        "import numpy as np\n",
        "import scipy.linalg\n",
        "import sympy\n",
        "from sympy import S\n",
        "import matplotlib.pyplot as plt\n",
        "from scipy.linalg import norm\n",
        "import pandas as pd\n",
        "from google.colab import files\n",
        "%matplotlib inline"
      ],
      "execution_count": null,
      "outputs": []
    },
    {
      "cell_type": "code",
      "metadata": {
        "colab": {
          "base_uri": "https://localhost:8080/"
        },
        "id": "8I2nsbIp-Tzb",
        "outputId": "e00aed39-c80b-4b86-f4a5-0577d2666405"
      },
      "source": [
        "import sympy\r\n",
        "import numpy\r\n",
        "sympy.__version__, numpy.__version__"
      ],
      "execution_count": null,
      "outputs": [
        {
          "output_type": "execute_result",
          "data": {
            "text/plain": [
              "('1.7.1', '1.19.5')"
            ]
          },
          "metadata": {
            "tags": []
          },
          "execution_count": 3
        }
      ]
    },
    {
      "cell_type": "code",
      "metadata": {
        "id": "PAkxl_bYer7c"
      },
      "source": [
        "sympy.init_printing(use_unicode=False, wrap_line=False, no_global=True)"
      ],
      "execution_count": null,
      "outputs": []
    },
    {
      "cell_type": "markdown",
      "metadata": {
        "id": "jxu6pmTL3B7K"
      },
      "source": [
        "https://docs.scipy.org/doc/scipy/reference/generated/scipy.linalg.norm.html#scipy.linalg.norm\r\n",
        "\r\n",
        "https://numpy.org/doc/stable/reference/generated/numpy.linalg.norm.html\r\n"
      ]
    },
    {
      "cell_type": "markdown",
      "metadata": {
        "id": "XMPgEBNnVnu8"
      },
      "source": [
        "## Многочлен Чебышева первого рода\n",
        "$T_0(x) = 1$, $T_1(x) = x$, $T_(x) = 2xT_{n - 1}(x) - T_{n - 2}(x)$, $n\\ge 2$.\n",
        "## Задание 1\n",
        "Построить графики многочленов Чебышева первого рода при $n = 1 - 5$, каждый график отдельным цветом, в легенду включить формулу многочлена в форме $T_1(x) = x$."
      ]
    },
    {
      "cell_type": "code",
      "metadata": {
        "id": "J1-3qHPfr3YN"
      },
      "source": [
        ""
      ],
      "execution_count": null,
      "outputs": []
    },
    {
      "cell_type": "markdown",
      "metadata": {
        "id": "Lg-M6tXP_MtJ"
      },
      "source": [
        "## Пример 2.\r\n",
        "$$\r\n",
        "T_n(x) = \\frac{(x + \\sqrt{x^2 - 1})^n + (x - \\sqrt{x^2 - 1})^n}{2}\r\n",
        "$$\r\n",
        "Построить многочлен Чебышева первого рода порядка 15 по приведенной выше формуле, по рекурсивной формуле Примера 1 и с помощью sympy и numpy.\r\n",
        "\r\n",
        "На сетке значений $x$ от 0 до 1 с шагом 0.001 вычислить нормы разностей значений многочлена Чебышева, полученного первым способом и остальными тремя способами."
      ]
    },
    {
      "cell_type": "code",
      "metadata": {
        "id": "YMED4kW9s9Ls"
      },
      "source": [
        ""
      ],
      "execution_count": null,
      "outputs": []
    },
    {
      "cell_type": "markdown",
      "metadata": {
        "id": "HNiu_ihuCWVk"
      },
      "source": [
        "## Пример 3\r\n",
        "Многочлен Чебышева второго рода:\r\n",
        "$$\r\n",
        "U_n = \\frac{1}{n + 1}T'_{n + 1}(x), \\quad n \\ge 0.\r\n",
        "$$\r\n",
        "$$\r\n",
        "U_n(x) = \\frac{(x + \\sqrt{x^2 - 1})^{n + 1} + (x - \\sqrt{x^2 - 1})^{n + 1}}{\\sqrt{x^2 - 1}}, \\quad |x| \\ge 1.\r\n",
        "$$\r\n",
        "\r\n",
        "Построить многочлен Чебышева степени 10 двумя способами.\r\n",
        "Построить многочлен Чебышева степени 10 с помощью sympy и numpy.\r\n",
        "\r\n",
        "На сетке значений $x$ от 0 до 1 с шагом 0.001 вычислить нормы разностей значений многочлена Чебышева, полученного первым способом и многочлена Чебышева, полученного с помощью sympy и numpy. "
      ]
    },
    {
      "cell_type": "code",
      "metadata": {
        "id": "KhPDtTsAuC2M"
      },
      "source": [
        ""
      ],
      "execution_count": null,
      "outputs": []
    },
    {
      "cell_type": "markdown",
      "metadata": {
        "id": "_mgBxs-ruRpL"
      },
      "source": [
        "## Пример 4\r\n",
        "Норма Чебышева (максимум модуля на данном отрезке):\r\n",
        "$$\r\n",
        "|f|_0 = \\max_{[-1, 1]}|f(x)|.\r\n",
        "$$\r\n",
        "Площадь под графиком функции на данном отрезке:\r\n",
        "$$\r\n",
        "|f|_1 = \\int_{-1}^1|f(x)|\\,dx.\r\n",
        "$$\r\n",
        "Вычислить норму Чебышева и площадь под графиком для $f(x)$ на отрезке [-1, 1]."
      ]
    },
    {
      "cell_type": "code",
      "metadata": {
        "id": "304fjIT1v_MD"
      },
      "source": [
        ""
      ],
      "execution_count": null,
      "outputs": []
    },
    {
      "cell_type": "markdown",
      "metadata": {
        "id": "zGKkUqjTv_0Q"
      },
      "source": [
        "## Пример 5\r\n",
        "Наилучшее приближение функции $f(x)$ многочленом степени $\\le n$:\r\n",
        "$$\r\n",
        "\\tilde{f}(x) = \\sum_{i=0}^n \\frac{<T_i, f>}{<T_i, T_i>}T_i(x),\r\n",
        "$$\r\n",
        "$T_i(x)$ многочлен Чебышева первого рода степени $i$,\r\n",
        "$$\r\n",
        "<f, g> = \\int_{-1}^1 \\frac{f(x)g(x)}{\\sqrt{1 - x^2}}\\,dx, \\quad \r\n",
        "|f| = \\sqrt{<f, f>} = \\sqrt{\\int_{-1}^1 \\frac{f^2(x)}{\\sqrt{1 - x^2}}\\,dx}\r\n",
        "$$\r\n",
        "\r\n",
        "Построим многочлен степени не выше 7, наилучшим образом приближающий $$ на [-1, 1]"
      ]
    },
    {
      "cell_type": "code",
      "metadata": {
        "id": "MhHmu_cFx4me"
      },
      "source": [
        ""
      ],
      "execution_count": null,
      "outputs": []
    }
  ]
}