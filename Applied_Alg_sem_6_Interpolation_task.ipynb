{
  "nbformat": 4,
  "nbformat_minor": 0,
  "metadata": {
    "kernelspec": {
      "display_name": "Python 3",
      "language": "python",
      "name": "python3"
    },
    "colab": {
      "name": "Applied_Alg_sem_6_Interpolation_task.ipynb",
      "provenance": [],
      "collapsed_sections": [],
      "include_colab_link": true
    }
  },
  "cells": [
    {
      "cell_type": "markdown",
      "metadata": {
        "id": "view-in-github",
        "colab_type": "text"
      },
      "source": [
        "<a href=\"https://colab.research.google.com/github/GalinaZh/Appl_alg2021/blob/main/Applied_Alg_sem_6_Interpolation_task.ipynb\" target=\"_parent\"><img src=\"https://colab.research.google.com/assets/colab-badge.svg\" alt=\"Open In Colab\"/></a>"
      ]
    },
    {
      "cell_type": "markdown",
      "metadata": {
        "id": "fis1w-TTVnuw"
      },
      "source": [
        "# Занятие 6\n",
        "# Прикладная алгебра и численные методы\n",
        "## Интерполяция: оценка близости функций"
      ]
    },
    {
      "cell_type": "code",
      "metadata": {
        "colab": {
          "base_uri": "https://localhost:8080/"
        },
        "id": "8I2nsbIp-Tzb",
        "outputId": "6e4d2f5a-6c58-41ee-a198-9a00d5bbaa61"
      },
      "source": [
        "!python -m pip install --upgrade pip"
      ],
      "execution_count": null,
      "outputs": [
        {
          "output_type": "execute_result",
          "data": {
            "text/plain": [
              "('1.7.1', '1.19.0')"
            ]
          },
          "metadata": {
            "tags": []
          },
          "execution_count": 1
        }
      ]
    },
    {
      "cell_type": "code",
      "metadata": {
        "colab": {
          "base_uri": "https://localhost:8080/",
          "height": 734
        },
        "id": "IeygYgLH-eEa",
        "outputId": "73cb0729-a6bf-4c84-8068-5312abab04a9"
      },
      "source": [
        "!python -m pip install sympy --upgrade\r\n",
        "!python -m pip install -U matplotlib\r\n",
        "!pip install bezier"
      ],
      "execution_count": null,
      "outputs": [
        {
          "output_type": "stream",
          "text": [
            "Collecting sympy\n",
            "\u001b[?25l  Downloading https://files.pythonhosted.org/packages/ff/69/b16fc81b939d3efdd0b552f2e3e54f7fa1423d0c320cced2e69e675dde26/sympy-1.7.1-py3-none-any.whl (5.9MB)\n",
            "\u001b[K     |████████████████████████████████| 5.9MB 7.9MB/s \n",
            "\u001b[?25hRequirement already satisfied, skipping upgrade: mpmath>=0.19 in /usr/local/lib/python3.6/dist-packages (from sympy) (1.1.0)\n",
            "Installing collected packages: sympy\n",
            "  Found existing installation: sympy 1.1.1\n",
            "    Uninstalling sympy-1.1.1:\n",
            "      Successfully uninstalled sympy-1.1.1\n",
            "Successfully installed sympy-1.7.1\n",
            "Collecting matplotlib\n",
            "\u001b[?25l  Downloading https://files.pythonhosted.org/packages/09/03/b7b30fa81cb687d1178e085d0f01111ceaea3bf81f9330c937fb6f6c8ca0/matplotlib-3.3.4-cp36-cp36m-manylinux1_x86_64.whl (11.5MB)\n",
            "\u001b[K     |████████████████████████████████| 11.5MB 7.4MB/s \n",
            "\u001b[?25hRequirement already satisfied, skipping upgrade: pyparsing!=2.0.4,!=2.1.2,!=2.1.6,>=2.0.3 in /usr/local/lib/python3.6/dist-packages (from matplotlib) (2.4.7)\n",
            "Requirement already satisfied, skipping upgrade: numpy>=1.15 in /usr/local/lib/python3.6/dist-packages (from matplotlib) (1.19.5)\n",
            "Requirement already satisfied, skipping upgrade: pillow>=6.2.0 in /usr/local/lib/python3.6/dist-packages (from matplotlib) (7.0.0)\n",
            "Requirement already satisfied, skipping upgrade: kiwisolver>=1.0.1 in /usr/local/lib/python3.6/dist-packages (from matplotlib) (1.3.1)\n",
            "Requirement already satisfied, skipping upgrade: python-dateutil>=2.1 in /usr/local/lib/python3.6/dist-packages (from matplotlib) (2.8.1)\n",
            "Requirement already satisfied, skipping upgrade: cycler>=0.10 in /usr/local/lib/python3.6/dist-packages (from matplotlib) (0.10.0)\n",
            "Requirement already satisfied, skipping upgrade: six>=1.5 in /usr/local/lib/python3.6/dist-packages (from python-dateutil>=2.1->matplotlib) (1.15.0)\n",
            "\u001b[31mERROR: albumentations 0.1.12 has requirement imgaug<0.2.7,>=0.2.5, but you'll have imgaug 0.2.9 which is incompatible.\u001b[0m\n",
            "Installing collected packages: matplotlib\n",
            "  Found existing installation: matplotlib 3.2.2\n",
            "    Uninstalling matplotlib-3.2.2:\n",
            "      Successfully uninstalled matplotlib-3.2.2\n",
            "Successfully installed matplotlib-3.3.4\n",
            "Collecting numpy==1.19.0\n",
            "\u001b[?25l  Downloading https://files.pythonhosted.org/packages/93/0b/71ae818646c1a80fbe6776d41f480649523ed31243f1f34d9d7e41d70195/numpy-1.19.0-cp36-cp36m-manylinux2010_x86_64.whl (14.6MB)\n",
            "\u001b[K     |████████████████████████████████| 14.6MB 213kB/s \n",
            "\u001b[31mERROR: tensorflow 2.4.1 has requirement numpy~=1.19.2, but you'll have numpy 1.19.0 which is incompatible.\u001b[0m\n",
            "\u001b[31mERROR: datascience 0.10.6 has requirement folium==0.2.1, but you'll have folium 0.8.3 which is incompatible.\u001b[0m\n",
            "\u001b[31mERROR: albumentations 0.1.12 has requirement imgaug<0.2.7,>=0.2.5, but you'll have imgaug 0.2.9 which is incompatible.\u001b[0m\n",
            "\u001b[?25hInstalling collected packages: numpy\n",
            "  Found existing installation: numpy 1.19.5\n",
            "    Uninstalling numpy-1.19.5:\n",
            "      Successfully uninstalled numpy-1.19.5\n",
            "Successfully installed numpy-1.19.0\n"
          ],
          "name": "stdout"
        },
        {
          "output_type": "display_data",
          "data": {
            "application/vnd.colab-display-data+json": {
              "pip_warning": {
                "packages": [
                  "numpy"
                ]
              }
            }
          },
          "metadata": {
            "tags": []
          }
        }
      ]
    },
    {
      "cell_type": "code",
      "metadata": {
        "id": "49hOXI5iD9Zx"
      },
      "source": [
        "import numpy as np\r\n",
        "import scipy.linalg\r\n",
        "import sympy\r\n",
        "from sympy import S\r\n",
        "import matplotlib.pyplot as plt\r\n",
        "from copy import deepcopy\r\n",
        "from scipy.interpolate import interp1d, splrep, splev, InterpolatedUnivariateSpline, BPoly, CubicSpline\r\n",
        "import bezier\r\n",
        "%matplotlib inline"
      ],
      "execution_count": null,
      "outputs": []
    },
    {
      "cell_type": "code",
      "metadata": {
        "id": "PAkxl_bYer7c"
      },
      "source": [
        "#sympy.init_printing(use_unicode=False, wrap_line=False, no_global=True)"
      ],
      "execution_count": null,
      "outputs": []
    },
    {
      "cell_type": "markdown",
      "metadata": {
        "id": "jxu6pmTL3B7K"
      },
      "source": [
        "https://docs.scipy.org/doc/scipy/reference/generated/scipy.linalg.norm.html#scipy.linalg.norm\r\n",
        "\r\n",
        "https://numpy.org/doc/stable/reference/generated/numpy.linalg.norm.html\r\n"
      ]
    },
    {
      "cell_type": "markdown",
      "metadata": {
        "id": "XMPgEBNnVnu8"
      },
      "source": [
        "## Многочлен Лагранжа\n",
        "$$\n",
        "f(x) = L(x) = \\sum_{i=1}^n y_i \n",
        "\\frac{(x - x_0)(x - x_1)...(x - x_{i-1})(x - x_{i+1})...(x - x_n)}{(x_i - x_0)(x_i - x_1)...(x_i - x_{i-1})(x_i - x_{i+1})...(x_i - x_n)}, \n",
        "\\quad y_i = f(x_i), \\quad i = 0, ..., n.\n",
        "$$\n",
        "## Задание 1\n",
        "Построим полином Лагранжа для данных \n",
        "\n",
        "https://rosstat.gov.ru/folder/13397\n",
        "\n",
        "файл rosstat_income.xlsx\n",
        "\n",
        "Из файла считать данные о доходах в месяц в каждом квартале 2018 и 2019 гг. (сумма в год не учитывается), построить полином Лагранжа в помощью \n",
        "\n",
        "scipy.interpolate\n",
        "\n",
        "Построить график полученного полинома, отметить соотвествтующие данные точками."
      ]
    },
    {
      "cell_type": "code",
      "metadata": {
        "id": "HlmKj28VEDQR"
      },
      "source": [
        ""
      ],
      "execution_count": null,
      "outputs": []
    },
    {
      "cell_type": "markdown",
      "metadata": {
        "id": "Lg-M6tXP_MtJ"
      },
      "source": [
        "## Задание 2.\r\n",
        "Построить полином Лагранжа для данных из файла задания 1,\r\n",
        "использовать средние значения каждого года с 2013 по 2020.\r\n",
        "\r\n",
        "Построить график полученного полинома Лагранжа, отметить на нем все точки данных в каждом квартале. \r\n",
        "\r\n",
        "Вычислить и вывести на экран нормы разности вектора поквартальных доходов и вектора соответствующих значений полинома Лагранжа, реализованные для векторов в scipy.linalg."
      ]
    },
    {
      "cell_type": "code",
      "metadata": {
        "id": "6mumgtDZ_Lji"
      },
      "source": [
        ""
      ],
      "execution_count": null,
      "outputs": []
    },
    {
      "cell_type": "markdown",
      "metadata": {
        "id": "-DMIm1NtVnvM"
      },
      "source": [
        "## Задание 3\n",
        "Аппроксимировать $f(x) = \\ln(x + 1)$ на отрезке $[0, 2]$ квадратичным сплайном с узлами с шагом 0.5.\n",
        "\n",
        "\n",
        "Вычислить значения функции и сплайна в узлах равномерной сетки  от 0.1 до 2.0 с шагом 0.2, найти нормы разности полученных векторов (округлить то 4 знаков)."
      ]
    },
    {
      "cell_type": "code",
      "metadata": {
        "id": "CLzH8fsFDyEb"
      },
      "source": [
        ""
      ],
      "execution_count": null,
      "outputs": []
    },
    {
      "cell_type": "markdown",
      "metadata": {
        "id": "HNiu_ihuCWVk"
      },
      "source": [
        "## Задание 4\r\n",
        "Аппроксимировать $f(x) = \\ln(x + 1)$ на отрезке $[0, 2]$ кубическим сплайном с узлами с шагом 0.5.\r\n",
        "\r\n",
        "Вычислить значения функции и сплайна в узлах равномерной сетки  от 0.1 до 2.0 с шагом 0.2, найти нормы разности полученных векторов (округлить то 4 знаков).\r\n",
        "\r\n",
        "Вычислить с помощью sympy интеграл квадрата разности $f(x)$ и сплайна (построить средствами sympy) на отрезке $[0, 2]$."
      ]
    },
    {
      "cell_type": "code",
      "metadata": {
        "id": "4mfzujtpDm5T"
      },
      "source": [
        ""
      ],
      "execution_count": null,
      "outputs": []
    },
    {
      "cell_type": "markdown",
      "metadata": {
        "id": "nWVGdlq6VnvO"
      },
      "source": [
        "## Кривые Безье\n",
        "\n",
        "https://bezier.readthedocs.io/en/stable/python/reference/bezier.curve.html\n",
        "\n",
        "## Задание 5\n",
        "Построить кривую Безье с помощью модуля bezier:\n",
        "\n",
        "https://bezier.readthedocs.io/en/stable/python/reference/bezier.curve.html\n",
        "\n",
        "Кривая должна аппроксимировать $f(x) = x\\ln(x)$, проходя через точки 1 и 4, при этом в этих точках касательная кривой Безье должна совпадать с касательной $f(x)$.\n",
        "\n",
        "Построить на общем графике $f(x)$ и кривую Безье, отметить узловые точки.\n",
        "\n",
        "Вычислить значения функции и вертикальной координаты точки на кривой Безье в узлах равномерной сетки отрезка [1.000001, 4.0] с шагом 0.1. \n",
        "\n",
        "Вычислить все нормы разности полученных векторов.\n",
        "\n",
        "Вычислить с помощью sympy интеграл квадрата разности $f(x)$ и кривой Безье на отрезке $[1, 4]$. Использовать implicitize и solve."
      ]
    },
    {
      "cell_type": "code",
      "metadata": {
        "id": "UP4N3IXFEQba"
      },
      "source": [
        ""
      ],
      "execution_count": null,
      "outputs": []
    }
  ]
}