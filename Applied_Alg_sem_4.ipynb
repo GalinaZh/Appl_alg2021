{
 "cells": [
  {
   "cell_type": "markdown",
   "metadata": {},
   "source": [
    "# Занятие 4\n",
    "# Прикладная алгебра и численные методы\n",
    "## Сингулярное разложение (SVD), линейная регрессия\n",
    "https://numpy.org/doc/stable/reference/generated/numpy.linalg.svd.html#numpy.linalg.svd"
   ]
  },
  {
   "cell_type": "code",
   "execution_count": 1,
   "metadata": {},
   "outputs": [],
   "source": [
    "import numpy as np\n",
    "import scipy.linalg\n",
    "import sympy\n",
    "import matplotlib.pyplot as plt\n",
    "from copy import deepcopy\n",
    "%matplotlib inline"
   ]
  },
  {
   "cell_type": "markdown",
   "metadata": {},
   "source": [
    "## Сингулярное разложение (SVD)\n",
    "$$\n",
    "A = Q\\Sigma P^*, \\quad A_{m\\times n},\\ Q_{m\\times m}, \\ \\Sigma_{m\\times n}, \\ P_{n\\times n},\n",
    "$$\n",
    "$Q$, $P$ - ортогональные матрицы, $\\Sigma$ - диагональная, на диагонали сингулярные числа.\n",
    "\n",
    "\n",
    "## Пример 1\n",
    "Найти SVD\n",
    "$$\n",
    "\\left(\n",
    "\\begin{matrix}\n",
    "1 & 0 & 0 & 1\\\\\n",
    "0 & 1 & 0 & 1\\\\\n",
    "0 & 0 & 1 & 1\n",
    "\\end{matrix}\n",
    "\\right)\n",
    "$$\n",
    "Вначале вычислим $A^*A$:"
   ]
  },
  {
   "cell_type": "code",
   "execution_count": 2,
   "metadata": {},
   "outputs": [],
   "source": [
    "A = sympy.Matrix([[1, 0, 0, 1], [0, 1, 0, 1], [0, 0, 1, 1]])\n",
    "A_star_A = A.T*A"
   ]
  },
  {
   "cell_type": "markdown",
   "metadata": {},
   "source": [
    "Получим собственные числа и собственные векторы с помощью eigenvects(), нормализуем векторы (чтобы норма была равна единице) методом normalized()"
   ]
  },
  {
   "cell_type": "code",
   "execution_count": 3,
   "metadata": {},
   "outputs": [
    {
     "data": {
      "text/plain": [
       "(0, 1, [Matrix([\n",
       "  [-1/2],\n",
       "  [-1/2],\n",
       "  [-1/2],\n",
       "  [ 1/2]])])"
      ]
     },
     "metadata": {},
     "output_type": "display_data"
    },
    {
     "data": {
      "text/plain": [
       "(1, 2, [Matrix([\n",
       "  [-sqrt(2)/2],\n",
       "  [ sqrt(2)/2],\n",
       "  [         0],\n",
       "  [         0]]), Matrix([\n",
       "  [-sqrt(2)/2],\n",
       "  [         0],\n",
       "  [ sqrt(2)/2],\n",
       "  [         0]])])"
      ]
     },
     "metadata": {},
     "output_type": "display_data"
    },
    {
     "data": {
      "text/plain": [
       "(4, 1, [Matrix([\n",
       "  [sqrt(3)/6],\n",
       "  [sqrt(3)/6],\n",
       "  [sqrt(3)/6],\n",
       "  [sqrt(3)/2]])])"
      ]
     },
     "metadata": {},
     "output_type": "display_data"
    }
   ],
   "source": [
    "A_star_A_sympy_ev = sympy.Matrix(A_star_A).eigenvects()\n",
    "A_star_A_sympy_ev = [(item[0], item[1], [elem.normalized() for elem in item[2]]) for item in A_star_A_sympy_ev]\n",
    "display(*A_star_A_sympy_ev)"
   ]
  },
  {
   "cell_type": "markdown",
   "metadata": {},
   "source": [
    "Выделим собственные векторы, обозначим их e0, e11, e12, e4, они соответствуют собственным значеним 0, 1, 1 и 4. К двум векторам, соответствующим собственному значению 1 применим процесс ортогонализации Грамма-Шмидта \n",
    "$$\n",
    "\\begin{matrix}\n",
    "e_1^{new} = e_1\\\\\n",
    "e_2^{new} = e_2 - \\frac{(e_1, e_2)}{(e_1, e_1)}e_1\n",
    "\\end{matrix}\n",
    "$$\n",
    "Полученный ортогональный вектор нормализуем, проверим ортогональность с помощью скалярного произведения:"
   ]
  },
  {
   "cell_type": "code",
   "execution_count": 4,
   "metadata": {},
   "outputs": [
    {
     "data": {
      "text/latex": [
       "$\\displaystyle 0$"
      ],
      "text/plain": [
       "0"
      ]
     },
     "metadata": {},
     "output_type": "display_data"
    },
    {
     "data": {
      "text/latex": [
       "$\\displaystyle \\left[\\begin{matrix}\\frac{\\sqrt{3}}{6} & - \\frac{\\sqrt{2}}{2} & - \\frac{\\sqrt{6}}{6} & - \\frac{1}{2}\\\\\\frac{\\sqrt{3}}{6} & \\frac{\\sqrt{2}}{2} & - \\frac{\\sqrt{6}}{6} & - \\frac{1}{2}\\\\\\frac{\\sqrt{3}}{6} & 0 & \\frac{\\sqrt{6}}{3} & - \\frac{1}{2}\\\\\\frac{\\sqrt{3}}{2} & 0 & 0 & \\frac{1}{2}\\end{matrix}\\right]$"
      ],
      "text/plain": [
       "Matrix([\n",
       "[sqrt(3)/6, -sqrt(2)/2, -sqrt(6)/6, -1/2],\n",
       "[sqrt(3)/6,  sqrt(2)/2, -sqrt(6)/6, -1/2],\n",
       "[sqrt(3)/6,          0,  sqrt(6)/3, -1/2],\n",
       "[sqrt(3)/2,          0,          0,  1/2]])"
      ]
     },
     "metadata": {},
     "output_type": "display_data"
    }
   ],
   "source": [
    "e0, e11, e12, e4 = A_star_A_sympy_ev[0][2] + A_star_A_sympy_ev[1][2] + A_star_A_sympy_ev[2][2]\n",
    "e12 = (e12 - e11.dot(e12)*e11).normalized()\n",
    "display(e11.dot(e12))\n",
    "P = e4.row_join(e11).row_join(e12).row_join(e0)\n",
    "display(P)"
   ]
  },
  {
   "cell_type": "markdown",
   "metadata": {},
   "source": [
    "Построим векторы-столбцы матрицы $Q$ и проверим, что найдено разложение SVD для исходной матрицы:"
   ]
  },
  {
   "cell_type": "code",
   "execution_count": 5,
   "metadata": {},
   "outputs": [
    {
     "data": {
      "text/latex": [
       "$\\displaystyle \\left[\\begin{matrix}\\frac{\\sqrt{3}}{3} & - \\frac{\\sqrt{2}}{2} & - \\frac{\\sqrt{6}}{6}\\\\\\frac{\\sqrt{3}}{3} & \\frac{\\sqrt{2}}{2} & - \\frac{\\sqrt{6}}{6}\\\\\\frac{\\sqrt{3}}{3} & 0 & \\frac{\\sqrt{6}}{3}\\end{matrix}\\right]$"
      ],
      "text/plain": [
       "Matrix([\n",
       "[sqrt(3)/3, -sqrt(2)/2, -sqrt(6)/6],\n",
       "[sqrt(3)/3,  sqrt(2)/2, -sqrt(6)/6],\n",
       "[sqrt(3)/3,          0,  sqrt(6)/3]])"
      ]
     },
     "metadata": {},
     "output_type": "display_data"
    },
    {
     "data": {
      "text/latex": [
       "$\\displaystyle \\left[\\begin{matrix}2 & 0 & 0 & 0\\\\0 & 1 & 0 & 0\\\\0 & 0 & 1 & 0\\end{matrix}\\right]$"
      ],
      "text/plain": [
       "Matrix([\n",
       "[2, 0, 0, 0],\n",
       "[0, 1, 0, 0],\n",
       "[0, 0, 1, 0]])"
      ]
     },
     "metadata": {},
     "output_type": "display_data"
    },
    {
     "data": {
      "text/latex": [
       "$\\displaystyle \\left[\\begin{matrix}\\frac{\\sqrt{3}}{6} & - \\frac{\\sqrt{2}}{2} & - \\frac{\\sqrt{6}}{6} & - \\frac{1}{2}\\\\\\frac{\\sqrt{3}}{6} & \\frac{\\sqrt{2}}{2} & - \\frac{\\sqrt{6}}{6} & - \\frac{1}{2}\\\\\\frac{\\sqrt{3}}{6} & 0 & \\frac{\\sqrt{6}}{3} & - \\frac{1}{2}\\\\\\frac{\\sqrt{3}}{2} & 0 & 0 & \\frac{1}{2}\\end{matrix}\\right]$"
      ],
      "text/plain": [
       "Matrix([\n",
       "[sqrt(3)/6, -sqrt(2)/2, -sqrt(6)/6, -1/2],\n",
       "[sqrt(3)/6,  sqrt(2)/2, -sqrt(6)/6, -1/2],\n",
       "[sqrt(3)/6,          0,  sqrt(6)/3, -1/2],\n",
       "[sqrt(3)/2,          0,          0,  1/2]])"
      ]
     },
     "metadata": {},
     "output_type": "display_data"
    },
    {
     "data": {
      "text/latex": [
       "$\\displaystyle \\left[\\begin{matrix}1 & 0 & 0 & 1\\\\0 & 1 & 0 & 1\\\\0 & 0 & 1 & 1\\end{matrix}\\right]$"
      ],
      "text/plain": [
       "Matrix([\n",
       "[1, 0, 0, 1],\n",
       "[0, 1, 0, 1],\n",
       "[0, 0, 1, 1]])"
      ]
     },
     "metadata": {},
     "output_type": "display_data"
    }
   ],
   "source": [
    "sigma = (2, 1, 1)\n",
    "f1, f2, f3 = [A*ei/sigma[i] for i, ei in enumerate((e4, e11, e12))]\n",
    "Q = f1.row_join(f2).row_join(f3)\n",
    "Sig = sympy.Matrix([[2, 0, 0, 0], [0, 1, 0, 0], [0, 0, 1, 0]])\n",
    "display(Q, Sig, P, Q*Sig*P.T)"
   ]
  },
  {
   "cell_type": "markdown",
   "metadata": {},
   "source": [
    "Теперь то же самое, но с numpy, вычислим $A^*A$:"
   ]
  },
  {
   "cell_type": "code",
   "execution_count": 6,
   "metadata": {},
   "outputs": [
    {
     "data": {
      "text/plain": [
       "array([[1, 0, 0, 1],\n",
       "       [0, 1, 0, 1],\n",
       "       [0, 0, 1, 1],\n",
       "       [1, 1, 1, 3]])"
      ]
     },
     "metadata": {},
     "output_type": "display_data"
    }
   ],
   "source": [
    "A = np.array([[1, 0, 0, 1],\n",
    "              [0, 1, 0, 1],\n",
    "              [0, 0, 1, 1]])\n",
    "A_star_A = np.matmul(A.T, A)\n",
    "display(A_star_A)"
   ]
  },
  {
   "cell_type": "markdown",
   "metadata": {},
   "source": [
    "Найдем собственные числа и собственные векторы полученной матрицы:"
   ]
  },
  {
   "cell_type": "code",
   "execution_count": 7,
   "metadata": {},
   "outputs": [
    {
     "data": {
      "text/plain": [
       "'CЧ'"
      ]
     },
     "metadata": {},
     "output_type": "display_data"
    },
    {
     "data": {
      "text/plain": [
       "array([ 4.000000e+00, -2.493665e-16,  1.000000e+00,  1.000000e+00])"
      ]
     },
     "metadata": {},
     "output_type": "display_data"
    },
    {
     "data": {
      "text/plain": [
       "'СВ'"
      ]
     },
     "metadata": {},
     "output_type": "display_data"
    },
    {
     "data": {
      "text/plain": [
       "array([[ 2.88675135e-01,  5.00000000e-01, -8.16496581e-01,\n",
       "        -4.08248290e-01],\n",
       "       [ 2.88675135e-01,  5.00000000e-01,  4.08248290e-01,\n",
       "        -4.08248290e-01],\n",
       "       [ 2.88675135e-01,  5.00000000e-01,  4.08248290e-01,\n",
       "         8.16496581e-01],\n",
       "       [ 8.66025404e-01, -5.00000000e-01,  3.34893759e-16,\n",
       "         2.58096210e-16]])"
      ]
     },
     "metadata": {},
     "output_type": "display_data"
    }
   ],
   "source": [
    "A_star_A_eigen_vals, A_star_A_eigen_vects = np.linalg.eig(A_star_A)\n",
    "display('CЧ', A_star_A_eigen_vals, 'СВ', A_star_A_eigen_vects)"
   ]
  },
  {
   "cell_type": "markdown",
   "metadata": {},
   "source": [
    "Расположим сингуляные числа (квадратные корни из полученных собственных чисел) по убыванию, для этого сначала отсортируем их с помощью sort() по возрастанию, а затем запишем array в обратном порядке с помощью flip():"
   ]
  },
  {
   "cell_type": "code",
   "execution_count": 8,
   "metadata": {},
   "outputs": [
    {
     "data": {
      "text/plain": [
       "array([-2.493665e-16,  1.000000e+00,  1.000000e+00,  4.000000e+00])"
      ]
     },
     "metadata": {},
     "output_type": "display_data"
    },
    {
     "data": {
      "text/plain": [
       "array([ 4.000000e+00,  1.000000e+00,  1.000000e+00, -2.493665e-16])"
      ]
     },
     "metadata": {},
     "output_type": "display_data"
    }
   ],
   "source": [
    "A_star_A_eigen_vals.sort()\n",
    "A_star_A_eigen_vals_reversed = np.flip(A_star_A_eigen_vals)\n",
    "display(A_star_A_eigen_vals, A_star_A_eigen_vals_reversed)"
   ]
  },
  {
   "cell_type": "markdown",
   "metadata": {},
   "source": [
    "Обратите внимание, что .sort() изменяет array на месте, а flip() возвращает view записанного в обратном порядке array, не изменяя его.\n",
    "## !!! \n",
    "По сути, мы получаем указатель на конец нашего array, так что все действия, которые мы проделаем с элементами A_star_A_eigen_vals_reversed автоматически распространятся на A_star_A_eigen_vals, поскольку это не два разных array, а один, только номера элементов считаются по-разному:"
   ]
  },
  {
   "cell_type": "code",
   "execution_count": 9,
   "metadata": {},
   "outputs": [
    {
     "data": {
      "text/plain": [
       "array([9, 2, 3, 4])"
      ]
     },
     "metadata": {},
     "output_type": "display_data"
    },
    {
     "data": {
      "text/plain": [
       "array([4, 3, 2, 9])"
      ]
     },
     "metadata": {},
     "output_type": "display_data"
    },
    {
     "data": {
      "text/plain": [
       "array([9, 8, 3, 4])"
      ]
     },
     "metadata": {},
     "output_type": "display_data"
    },
    {
     "data": {
      "text/plain": [
       "array([4, 3, 8, 9])"
      ]
     },
     "metadata": {},
     "output_type": "display_data"
    }
   ],
   "source": [
    "arr1 = np.array([1, 2, 3, 4])\n",
    "arr1_reversed = np.flip(arr1)\n",
    "arr1[0] = 9\n",
    "display(arr1, arr1_reversed)\n",
    "arr1_reversed[-2] = 8\n",
    "display(arr1, arr1_reversed)"
   ]
  },
  {
   "cell_type": "markdown",
   "metadata": {},
   "source": [
    "Поскольку нам достаточно работать с A_star_A_eigen_vals_reversed, не будем делать deepcopy(), чтобы сохратить в неприкосновенности A_star_A_eigen_vals.\n",
    "\n",
    "Осталось извлечь квадратные корни из положительных элементов A_star_A_eigen_vals_reversed, и получим невозрастающую последовательность сингулярных значений."
   ]
  },
  {
   "cell_type": "code",
   "execution_count": 10,
   "metadata": {},
   "outputs": [
    {
     "data": {
      "text/plain": [
       "[2.0, 1.0, 1.0]"
      ]
     },
     "execution_count": 10,
     "metadata": {},
     "output_type": "execute_result"
    }
   ],
   "source": [
    "sigmas = [round(np.sqrt(item), 1) for item in A_star_A_eigen_vals_reversed if item > 0]\n",
    "sigmas"
   ]
  },
  {
   "cell_type": "markdown",
   "metadata": {},
   "source": [
    "Составим матрицу $\\Sigma$:"
   ]
  },
  {
   "cell_type": "code",
   "execution_count": 11,
   "metadata": {},
   "outputs": [
    {
     "data": {
      "text/plain": [
       "array([[2., 0., 0., 0.],\n",
       "       [0., 1., 0., 0.],\n",
       "       [0., 0., 1., 0.]])"
      ]
     },
     "execution_count": 11,
     "metadata": {},
     "output_type": "execute_result"
    }
   ],
   "source": [
    "Sigma = np.hstack((np.diag(sigmas), np.zeros((3, 1))))\n",
    "Sigma"
   ]
  },
  {
   "cell_type": "markdown",
   "metadata": {},
   "source": [
    "Обратимся к полученным вместе с собственными числами собственным векторам:"
   ]
  },
  {
   "cell_type": "code",
   "execution_count": 12,
   "metadata": {},
   "outputs": [
    {
     "data": {
      "text/plain": [
       "[array([[0.28867513],\n",
       "        [0.28867513],\n",
       "        [0.28867513],\n",
       "        [0.8660254 ]]), array([[ 0.5],\n",
       "        [ 0.5],\n",
       "        [ 0.5],\n",
       "        [-0.5]]), array([[-8.16496581e-01],\n",
       "        [ 4.08248290e-01],\n",
       "        [ 4.08248290e-01],\n",
       "        [ 3.34893759e-16]]), array([[-4.08248290e-01],\n",
       "        [-4.08248290e-01],\n",
       "        [ 8.16496581e-01],\n",
       "        [ 2.58096210e-16]])]"
      ]
     },
     "metadata": {},
     "output_type": "display_data"
    }
   ],
   "source": [
    "e4, e0, e11, e12 = [item.reshape((4, 1)) for item in  A_star_A_eigen_vects.T]\n",
    "A_star_A_eigen_vects = [e4, e0, e11, e12]\n",
    "display(A_star_A_eigen_vects)"
   ]
  },
  {
   "cell_type": "markdown",
   "metadata": {},
   "source": [
    "Вычислим нормы полученных векторов и скалярное произведение "
   ]
  },
  {
   "cell_type": "code",
   "execution_count": 13,
   "metadata": {},
   "outputs": [
    {
     "data": {
      "text/plain": [
       "0.9999999999999999"
      ]
     },
     "metadata": {},
     "output_type": "display_data"
    },
    {
     "data": {
      "text/plain": [
       "1.0"
      ]
     },
     "metadata": {},
     "output_type": "display_data"
    },
    {
     "data": {
      "text/plain": [
       "1.0"
      ]
     },
     "metadata": {},
     "output_type": "display_data"
    },
    {
     "data": {
      "text/plain": [
       "1.0"
      ]
     },
     "metadata": {},
     "output_type": "display_data"
    },
    {
     "data": {
      "text/plain": [
       "'скалярное произведение'"
      ]
     },
     "metadata": {},
     "output_type": "display_data"
    },
    {
     "data": {
      "text/plain": [
       "0.3333333333333335"
      ]
     },
     "metadata": {},
     "output_type": "display_data"
    }
   ],
   "source": [
    "display(*[np.linalg.norm(item) for item in A_star_A_eigen_vects], 'скалярное произведение', e11[0].dot(e12[0]))"
   ]
  },
  {
   "cell_type": "markdown",
   "metadata": {},
   "source": [
    "Сначала заменим e12 на вектор, ортогональный e11, затем нормализуем векторы и составим из них матрицу $P$:"
   ]
  },
  {
   "cell_type": "code",
   "execution_count": 14,
   "metadata": {},
   "outputs": [
    {
     "name": "stdout",
     "output_type": "stream",
     "text": [
      "(e11, e12new) = -0.0\n"
     ]
    },
    {
     "data": {
      "text/plain": [
       "array([[ 2.88675135e-01, -8.16496581e-01,  0.00000000e+00,\n",
       "         5.00000000e-01],\n",
       "       [ 2.88675135e-01,  4.08248290e-01, -7.07106781e-01,\n",
       "         5.00000000e-01],\n",
       "       [ 2.88675135e-01,  4.08248290e-01,  7.07106781e-01,\n",
       "         5.00000000e-01],\n",
       "       [ 8.66025404e-01,  3.34893759e-16,  1.04672831e-16,\n",
       "        -5.00000000e-01]])"
      ]
     },
     "execution_count": 14,
     "metadata": {},
     "output_type": "execute_result"
    }
   ],
   "source": [
    "A_star_A_eigen_vects = [item/np.linalg.norm(item) for item in A_star_A_eigen_vects]\n",
    "e4, e0, e11, e12 = A_star_A_eigen_vects\n",
    "e12 = e12 - (e11[0].dot(e12[0])/(e11[0].dot(e11[0])))*e11\n",
    "print('(e11, e12new) =', e11[0].dot(e12[0]))\n",
    "A_star_A_eigen_vects[-1] = e12\n",
    "e4, e0, e11, e12 = [item/np.linalg.norm(item) for item in A_star_A_eigen_vects]\n",
    "P = np.hstack((e4, e11, e12, e0))\n",
    "P"
   ]
  },
  {
   "cell_type": "markdown",
   "metadata": {},
   "source": [
    "Составим матрицу $Q$:"
   ]
  },
  {
   "cell_type": "code",
   "execution_count": 15,
   "metadata": {},
   "outputs": [
    {
     "data": {
      "text/plain": [
       "array([[ 5.77350269e-01, -8.16496581e-01,  1.04672831e-16],\n",
       "       [ 5.77350269e-01,  4.08248290e-01, -7.07106781e-01],\n",
       "       [ 5.77350269e-01,  4.08248290e-01,  7.07106781e-01]])"
      ]
     },
     "metadata": {},
     "output_type": "display_data"
    },
    {
     "data": {
      "text/plain": [
       "array([[2., 0., 0., 0.],\n",
       "       [0., 1., 0., 0.],\n",
       "       [0., 0., 1., 0.]])"
      ]
     },
     "metadata": {},
     "output_type": "display_data"
    },
    {
     "data": {
      "text/plain": [
       "array([[ 2.88675135e-01, -8.16496581e-01,  0.00000000e+00,\n",
       "         5.00000000e-01],\n",
       "       [ 2.88675135e-01,  4.08248290e-01, -7.07106781e-01,\n",
       "         5.00000000e-01],\n",
       "       [ 2.88675135e-01,  4.08248290e-01,  7.07106781e-01,\n",
       "         5.00000000e-01],\n",
       "       [ 8.66025404e-01,  3.34893759e-16,  1.04672831e-16,\n",
       "        -5.00000000e-01]])"
      ]
     },
     "metadata": {},
     "output_type": "display_data"
    },
    {
     "data": {
      "text/plain": [
       "array([[ 1.00000000e+00,  2.64089394e-16,  2.60350884e-16,\n",
       "         1.00000000e+00],\n",
       "       [ 9.67157293e-17,  1.00000000e+00, -1.88904597e-16,\n",
       "         1.00000000e+00],\n",
       "       [ 1.66992088e-16, -6.83580866e-17,  1.00000000e+00,\n",
       "         1.00000000e+00]])"
      ]
     },
     "metadata": {},
     "output_type": "display_data"
    }
   ],
   "source": [
    "sigma = (2, 1, 1)\n",
    "f1, f2, f3 = [np.matmul(A, ei)/sigma[i] for i, ei in enumerate((e4, e11, e12))]\n",
    "Q = np.hstack((f1, f2, f3))\n",
    "Sig = np.hstack((np.diag(sigma), np.zeros((3, 1))))\n",
    "display(Q, Sig, P, np.matmul(np.matmul(Q, Sig), P.T))"
   ]
  },
  {
   "cell_type": "markdown",
   "metadata": {},
   "source": [
    "## Построение псевдообратной матрицы при помощи SVD\n",
    "$$\n",
    "A^+ = P\\Sigma^+Q^*,\\quad \n",
    "\\Sigma^+ =\n",
    "\\left(\n",
    "\\begin{matrix}\n",
    "\\sigma_1^{-1} & ... & ... & ... & ... & 0\\\\\n",
    "0 & \\sigma_1^{-1} & ... & ... & ... & 0\\\\\n",
    "0 & ... & ... & ... & ... & 0\\\\\n",
    "0 & ... & ... & \\sigma_r^{-1}  & ... & 0\\\\\n",
    "0 & ... & ... & ... & ... & 0\\\\\n",
    "\\end{matrix}\n",
    "\\right)\n",
    "$$"
   ]
  },
  {
   "cell_type": "code",
   "execution_count": 16,
   "metadata": {},
   "outputs": [
    {
     "data": {
      "text/plain": [
       "array([[ 0.75, -0.25, -0.25],\n",
       "       [-0.25,  0.75, -0.25],\n",
       "       [-0.25, -0.25,  0.75],\n",
       "       [ 0.25,  0.25,  0.25]])"
      ]
     },
     "metadata": {},
     "output_type": "display_data"
    },
    {
     "data": {
      "text/plain": [
       "array([[ 0.75, -0.25, -0.25],\n",
       "       [-0.25,  0.75, -0.25],\n",
       "       [-0.25, -0.25,  0.75],\n",
       "       [ 0.25,  0.25,  0.25]])"
      ]
     },
     "metadata": {},
     "output_type": "display_data"
    }
   ],
   "source": [
    "Sigma_plus = np.vstack((np.diag([1/item for item in sigma]), np.zeros((1, 3))))\n",
    "A_pinv_my = np.matmul(np.matmul(P, Sigma_plus), Q.transpose())\n",
    "display(A_pinv_my, np.linalg.pinv(A))"
   ]
  },
  {
   "cell_type": "markdown",
   "metadata": {},
   "source": [
    "## И наконец SVD от numpy:"
   ]
  },
  {
   "cell_type": "code",
   "execution_count": null,
   "metadata": {},
   "outputs": [],
   "source": [
    "Q, sigma, P = np.linalg.svd(A, full_matrices=True)\n",
    "Sig = np.hstack((np.diag(sigma), np.zeros((3, 1))))\n",
    "display('P.T', P, 'sigma', sigma, 'Q', Q, 'Sig', Sig, 'QSigP.T', np.matmul(np.matmul(Q, Sig), P))"
   ]
  },
  {
   "cell_type": "markdown",
   "metadata": {},
   "source": [
    "## Линейная регрессия\n",
    "В некотором эксперименте измерялись значения величин $g_1$, $g_2$, $g_3$ и $H$:\n",
    "$$\n",
    "\\begin{matrix}\n",
    "g_1 & 0.12 & 0.15 & 0.9 & 0.8\\\\\n",
    "g_2 & 2.4  & 1.8  & 3.2 & 3.6\\\\\n",
    "g_3 & 1.1  & 1.2  & 1.3 & 1.4\\\\\n",
    "H   & 5.1  & 6.2  & 5.5 & 4.1\n",
    "\\end{matrix}\n",
    "$$\n",
    "\n",
    "Найти коэффициенты $a$, $b$, $c$ линейной регрессии $H = ag_1 + bg_2 +cg_3$.\n",
    "\n",
    "Составим матрицу $A$ столбцы которой образуют значения $g_1$, $g_2$, $g_3$.\n",
    "Также составим матрицу-столбец $H$ из значений $H$,\n",
    "тогда\n",
    "$$\n",
    "\\left[\\begin{matrix}a\\\\b\\\\c\\end{matrix}\\right] = A^+H\n",
    "$$"
   ]
  },
  {
   "cell_type": "code",
   "execution_count": null,
   "metadata": {},
   "outputs": [],
   "source": [
    "A = np.array([[ 0.12, 0.15, 0.9, 0.8], \n",
    "               [ 2.4, 1.8, 3.2, 3.6],\n",
    "               [1.1, 1.2, 1.3, 1.4]]).transpose()\n",
    "H1 = np.array([[5.1], [6.2], [5.5],  [4.1]])\n",
    "res = np.matmul(np.linalg.pinv(A), H1)\n",
    "a, b, c = res[:, 0]\n",
    "display('A', A, 'H', H1, 'a', a, 'b', b, 'c', c)"
   ]
  },
  {
   "cell_type": "markdown",
   "metadata": {},
   "source": [
    "Вычислим относительные отклонения экспериментальных данных от функции $H = ag_1 + bg_2 + cg_3$"
   ]
  },
  {
   "cell_type": "code",
   "execution_count": null,
   "metadata": {},
   "outputs": [],
   "source": [
    "def Hfunc(g1, g2, g3):\n",
    "    return a*g1 + b*g2 + c*g3\n",
    "print(*[abs((Hfunc(*g) - H1[i][0])/H1[i][0]) for i, g in enumerate(A)])"
   ]
  }
 ],
 "metadata": {
  "kernelspec": {
   "display_name": "Python 3",
   "language": "python",
   "name": "python3"
  },
  "language_info": {
   "codemirror_mode": {
    "name": "ipython",
    "version": 3
   },
   "file_extension": ".py",
   "mimetype": "text/x-python",
   "name": "python",
   "nbconvert_exporter": "python",
   "pygments_lexer": "ipython3",
   "version": "3.7.3"
  }
 },
 "nbformat": 4,
 "nbformat_minor": 2
}
