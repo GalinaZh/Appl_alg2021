{
 "cells": [
  {
   "cell_type": "markdown",
   "metadata": {},
   "source": [
    "# Занятие 5\n",
    "# Прикладная алгебра и численные методы\n",
    "## Интерполяция: полиномы Лагранжа, сплайны и кривые Безье"
   ]
  },
  {
   "cell_type": "code",
   "execution_count": 1,
   "metadata": {},
   "outputs": [],
   "source": [
    "import numpy as np\n",
    "import scipy.linalg\n",
    "import sympy\n",
    "from sympy import S\n",
    "import matplotlib.pyplot as plt\n",
    "from copy import deepcopy\n",
    "%matplotlib inline"
   ]
  },
  {
   "cell_type": "markdown",
   "metadata": {},
   "source": [
    "## Многочлен Лагранжа\n",
    "$$\n",
    "f(x) = L(x) = \\sum_{i=1}^n y_i \n",
    "\\frac{(x - x_0)(x - x_1)...(x - x_{i-1})(x - x_{i+1})...(x - x_n)}{(x_i - x_0)(x_i - x_1)...(x_i - x_{i-1})(x_i - x_{i+1})...(x_i - x_n)}, \n",
    "\\quad y_i = f(x_i), \\quad i = 0, ..., n.\n",
    "$$\n",
    "## Пример 1\n",
    "Построить параболу по трем точкам (-1, -2), (0, -1), (1, 2)."
   ]
  },
  {
   "cell_type": "code",
   "execution_count": 2,
   "metadata": {},
   "outputs": [
    {
     "data": {
      "text/latex": [
       "$\\displaystyle 2 x \\left(\\frac{1}{2} - \\frac{x}{2}\\right) + x \\left(x + 1\\right) + \\left(1 - x\\right) \\left(- x - 1\\right)$"
      ],
      "text/plain": [
       "2*x*(1/2 - x/2) + x*(x + 1) + (1 - x)*(-x - 1)"
      ]
     },
     "metadata": {},
     "output_type": "display_data"
    },
    {
     "data": {
      "text/latex": [
       "$\\displaystyle x^{2} + 2 x - 1$"
      ],
      "text/plain": [
       "x**2 + 2*x - 1"
      ]
     },
     "metadata": {},
     "output_type": "display_data"
    }
   ],
   "source": [
    "x = S('x')\n",
    "X = (-1, 0, 1)\n",
    "Y = (-2, -1, 2)\n",
    "L = 0\n",
    "for i in range(3):\n",
    "    Li = Y[i]\n",
    "    for j in range(3):\n",
    "        if i != j:\n",
    "            Li *= (x - X[j])/(X[i] - X[j])\n",
    "    L += Li\n",
    "display(L, sympy.simplify(sympy.expand(L)))  "
   ]
  },
  {
   "cell_type": "markdown",
   "metadata": {},
   "source": [
    "## Пример 2 Линейная регрессия\n",
    "Для данных Примера 1 построим параболу методом линейной регрессии (исключительно для тренировки и повторения, в жизни так не делают!)\n",
    "\n",
    "Составим матрицу  из $A$ из значений $x$ и $x^2$ и матрицу $Y$, далее все как обычно - псевдообратная матрица и произведение псевдообратной к  $A$ и  $Y$:"
   ]
  },
  {
   "cell_type": "code",
   "execution_count": 3,
   "metadata": {},
   "outputs": [
    {
     "data": {
      "text/plain": [
       "'A'"
      ]
     },
     "metadata": {},
     "output_type": "display_data"
    },
    {
     "data": {
      "text/plain": [
       "array([[ 1, -1,  1],\n",
       "       [ 1,  0,  0],\n",
       "       [ 1,  1,  1]])"
      ]
     },
     "metadata": {},
     "output_type": "display_data"
    },
    {
     "data": {
      "text/plain": [
       "'Y'"
      ]
     },
     "metadata": {},
     "output_type": "display_data"
    },
    {
     "data": {
      "text/plain": [
       "(-2, -1, 2)"
      ]
     },
     "metadata": {},
     "output_type": "display_data"
    },
    {
     "name": "stdout",
     "output_type": "stream",
     "text": [
      "a = -1.0 b = 2.0 c = 1.0\n"
     ]
    }
   ],
   "source": [
    "X2 = [ -1, 0, 1]\n",
    "A2 = np.array([[1, item, item**2] for item in X2])\n",
    "Y2 = np.array([[-2], [-1], [2]])\n",
    "res2 = np.matmul(np.linalg.pinv(A2), Y2)\n",
    "a2, b2, c2 = [round(item, 2) for item in  res2[:, 0]]\n",
    "display('A', A2,'Y', Y)\n",
    "print('a =', a2, 'b =', b2, 'c =', c2)"
   ]
  },
  {
   "cell_type": "markdown",
   "metadata": {},
   "source": [
    "Изобразим на графике точки исходных данных и полученную линию регрессии:"
   ]
  },
  {
   "cell_type": "code",
   "execution_count": 4,
   "metadata": {},
   "outputs": [
    {
     "data": {
      "text/plain": [
       "<matplotlib.legend.Legend at 0x10d7eef1710>"
      ]
     },
     "execution_count": 4,
     "metadata": {},
     "output_type": "execute_result"
    },
    {
     "data": {
      "image/png": "[encoded data removed]",
      "text/plain": [
       "<Figure size 432x288 with 1 Axes>"
      ]
     },
     "metadata": {
      "needs_background": "light"
     },
     "output_type": "display_data"
    }
   ],
   "source": [
    "X_ls2 = np.linspace(X2[0], X2[-1])\n",
    "plt.plot(X_ls2, a2 + b2*X_ls2 + c2*X_ls2**2, label='$y = {a} + {b}x + {c}x^2$'.format(a=round(a2), \n",
    "                                                                                      b=round(b2), c=round(c2)))\n",
    "plt.scatter(X2, Y2, color='red', label='data')\n",
    "plt.grid()\n",
    "plt.legend()"
   ]
  },
  {
   "cell_type": "markdown",
   "metadata": {},
   "source": [
    "## Пример 3 Линейная регрессия\n",
    "Для данных точек построим наилучшую в смысле среднеквадратического отклонения параболу методом линейной регрессии.\n",
    "$$\n",
    "\\begin{matrix}\n",
    "X & -3 & -1 & 0 & 1 & 3\\\\\n",
    "Y & -4 & -0.8 & 1.6 & 2.3 & 1.5\n",
    "\\end{matrix}\n",
    "$$"
   ]
  },
  {
   "cell_type": "code",
   "execution_count": 5,
   "metadata": {},
   "outputs": [
    {
     "name": "stdout",
     "output_type": "stream",
     "text": [
      "a = 1.23 b = 0.98 c = -0.28\n"
     ]
    }
   ],
   "source": [
    "X3 = [ -3, -1, 0, 1, 3]\n",
    "A3 = np.array([[1, item, item**2] for item in X3])\n",
    "Y3 = np.array([[-4], [-0.8], [1.6], [2.3], [1.5]])\n",
    "res3 = np.matmul(np.linalg.pinv(A3), Y3)\n",
    "a3, b3, c3 = [round(item, 2) for item in  res3[:, 0]]\n",
    "print('a =', a3, 'b =', b3, 'c =', c3)"
   ]
  },
  {
   "cell_type": "markdown",
   "metadata": {},
   "source": [
    "Построим график, отметим на нем исходные точки."
   ]
  },
  {
   "cell_type": "code",
   "execution_count": 6,
   "metadata": {
    "scrolled": true
   },
   "outputs": [
    {
     "data": {
      "image/png": "[encoded data removed]",
      "text/plain": [
       "<Figure size 432x288 with 1 Axes>"
      ]
     },
     "metadata": {
      "needs_background": "light"
     },
     "output_type": "display_data"
    }
   ],
   "source": [
    "X_ls = np.linspace(X3[0], X3[-1])\n",
    "plt.plot(X_ls, a3 + b3*X_ls + c3*X_ls**2)\n",
    "plt.scatter(X3, Y3, color='red')\n",
    "plt.grid()"
   ]
  },
  {
   "cell_type": "markdown",
   "metadata": {},
   "source": [
    "## Пример 4\n",
    "Построим полином Лагранжа для данных Примера 3:"
   ]
  },
  {
   "cell_type": "code",
   "execution_count": 7,
   "metadata": {},
   "outputs": [
    {
     "data": {
      "text/latex": [
       "$\\displaystyle \\frac{x^{4}}{15} - \\frac{19 x^{3}}{240} - \\frac{11 x^{2}}{12} + \\frac{391 x}{240} + \\frac{8}{5}$"
      ],
      "text/plain": [
       "x**4/15 - 19*x**3/240 - 11*x**2/12 + 391*x/240 + 8/5"
      ]
     },
     "metadata": {},
     "output_type": "display_data"
    },
    {
     "data": {
      "text/plain": [
       "<matplotlib.legend.Legend at 0x10d7f0bf860>"
      ]
     },
     "execution_count": 7,
     "metadata": {},
     "output_type": "execute_result"
    },
    {
     "data": {
      "image/png": "[encoded data removed]",
      "text/plain": [
       "<Figure size 432x288 with 1 Axes>"
      ]
     },
     "metadata": {
      "needs_background": "light"
     },
     "output_type": "display_data"
    }
   ],
   "source": [
    "x = S('x')\n",
    "Y3 = [-4, -S(8)/10, S(16)/10, S(23)/10, S(15)/10]\n",
    "L3 = 0\n",
    "n = len(X3)\n",
    "for i, Li in enumerate(Y3):\n",
    "    for j in range(n):\n",
    "        if i != j:\n",
    "            Li *= (x - X3[j])/(X3[i] - X3[j])\n",
    "    L3 += Li\n",
    "L3 = sympy.simplify(sympy.expand(L3))    \n",
    "display(L3)\n",
    "X_ls = np.linspace(X3[0], X3[-1])\n",
    "Y_regr = [L3.subs(x, item) for item in X_ls]\n",
    "plt.plot(X_ls, Y_regr, label=sympy.latex(sympy.Eq(S('y'), L3), mode='inline'))\n",
    "plt.scatter(X3, Y3, color='red', label='data')\n",
    "plt.grid()\n",
    "plt.legend()"
   ]
  },
  {
   "cell_type": "markdown",
   "metadata": {},
   "source": [
    "## Многочлен Лагранжа с scipy.interpolate.lagrange\n",
    "## Пример 5\n",
    "Построим полином Лагранжа для данных Примера 3 с помощью scipy.interpolate.lagrange"
   ]
  },
  {
   "cell_type": "code",
   "execution_count": 8,
   "metadata": {},
   "outputs": [],
   "source": [
    "from scipy.interpolate import lagrange\n",
    "from numpy.polynomial.polynomial import Polynomial"
   ]
  },
  {
   "cell_type": "code",
   "execution_count": 9,
   "metadata": {},
   "outputs": [
    {
     "data": {
      "text/plain": [
       "array([0.0666666666666667, -0.0791666666666667, -0.916666666666667,\n",
       "       1.62916666666667, 1.60000000000000], dtype=object)"
      ]
     },
     "execution_count": 9,
     "metadata": {},
     "output_type": "execute_result"
    }
   ],
   "source": [
    "poly = lagrange(X3, Y3)\n",
    "Polynomial(poly).coef"
   ]
  },
  {
   "cell_type": "markdown",
   "metadata": {},
   "source": [
    "Сравним с полученными ранее коэффициентами:"
   ]
  },
  {
   "cell_type": "code",
   "execution_count": 10,
   "metadata": {},
   "outputs": [
    {
     "data": {
      "text/plain": [
       "[0.06666667, -0.07916667, -0.91666667, 1.62916667, 1.60000000]"
      ]
     },
     "execution_count": 10,
     "metadata": {},
     "output_type": "execute_result"
    }
   ],
   "source": [
    "coeffs = L3.as_coefficients_dict()\n",
    "res = [round(coeffs[item], 8) for item in [x**k for k in range(len(coeffs))]]\n",
    "res.reverse()\n",
    "res"
   ]
  },
  {
   "cell_type": "markdown",
   "metadata": {},
   "source": [
    "## Квадратичный сплайн\n",
    "\n",
    "## Пример 7\n",
    "Аппроксимировать $f(x) = x^3 - 6x^2 + 11 x - 6$ на отрезке $[0, 4]$ квадратичным сплайном с узлами 0, 2, 4."
   ]
  },
  {
   "cell_type": "code",
   "execution_count": 11,
   "metadata": {},
   "outputs": [
    {
     "data": {
      "text/latex": [
       "$\\displaystyle a_{1} = 11$"
      ],
      "text/plain": [
       "Eq(a1, 11)"
      ]
     },
     "metadata": {},
     "output_type": "display_data"
    },
    {
     "data": {
      "text/latex": [
       "$\\displaystyle a_{0} = -6$"
      ],
      "text/plain": [
       "Eq(a0, -6)"
      ]
     },
     "metadata": {},
     "output_type": "display_data"
    },
    {
     "data": {
      "text/latex": [
       "$\\displaystyle a_{0} + 2 a_{1} + 4 a_{2} = 0$"
      ],
      "text/plain": [
       "Eq(a0 + 2*a1 + 4*a2, 0)"
      ]
     },
     "metadata": {},
     "output_type": "display_data"
    }
   ],
   "source": [
    "def spl2(a0, a1, a2, x):\n",
    "    return a0 + a1*x + a2*x**2\n",
    "def dspl2(a0, a1, a2, x, x0):\n",
    "    return spl2(a0, a1, a2, x).diff(x).subs(x, x0)\n",
    "def f(x):\n",
    "    return x**3 - 6*x**2 + 11*x - 6\n",
    "def df(x, x0):\n",
    "    return f(x).diff(x).subs(x, x0)\n",
    "x0 = 0\n",
    "x1 = 2\n",
    "x2 = 4\n",
    "f0, f1, f2 = [f(xi) for xi in (x0, x1, x2)]\n",
    "df0 = df(x, x0)\n",
    "a0, a1, a2, x = sympy.symbols('a0:3 x')\n",
    "sys1 = [sympy.Eq(dspl2(a0, a1, a2, x, x0), df0), sympy.Eq(spl2(a0, a1, a2, x0), f0), sympy.Eq(spl2(a0, a1, a2, x1), f1)]\n",
    "display(*sys1)"
   ]
  },
  {
   "cell_type": "code",
   "execution_count": 12,
   "metadata": {},
   "outputs": [
    {
     "data": {
      "text/plain": [
       "{a0: -6, a1: 11, a2: -4}"
      ]
     },
     "metadata": {},
     "output_type": "display_data"
    },
    {
     "data": {
      "text/latex": [
       "$\\displaystyle - 4 x^{2} + 11 x - 6$"
      ],
      "text/plain": [
       "-4*x**2 + 11*x - 6"
      ]
     },
     "metadata": {},
     "output_type": "display_data"
    },
    {
     "data": {
      "text/latex": [
       "$\\displaystyle a_{1} + 4 a_{2} = -5$"
      ],
      "text/plain": [
       "Eq(a1 + 4*a2, -5)"
      ]
     },
     "metadata": {},
     "output_type": "display_data"
    },
    {
     "data": {
      "text/latex": [
       "$\\displaystyle a_{0} + 2 a_{1} + 4 a_{2} = 0$"
      ],
      "text/plain": [
       "Eq(a0 + 2*a1 + 4*a2, 0)"
      ]
     },
     "metadata": {},
     "output_type": "display_data"
    },
    {
     "data": {
      "text/latex": [
       "$\\displaystyle a_{0} + 4 a_{1} + 16 a_{2} = 6$"
      ],
      "text/plain": [
       "Eq(a0 + 4*a1 + 16*a2, 6)"
      ]
     },
     "metadata": {},
     "output_type": "display_data"
    },
    {
     "data": {
      "text/latex": [
       "$\\displaystyle 4 x^{2} - 21 x + 26$"
      ],
      "text/plain": [
       "4*x**2 - 21*x + 26"
      ]
     },
     "metadata": {},
     "output_type": "display_data"
    }
   ],
   "source": [
    "res1 = sympy.solve(sys1)\n",
    "spline1 = res1[a0] + res1[a1]*x + res1[a2]*x**2\n",
    "display(res1, spline1)\n",
    "df1 = spline1.diff(x).subs(x, x1)\n",
    "sys2 = [sympy.Eq(dspl2(a0, a1, a2, x, x1), df1), \n",
    "                   sympy.Eq(spl2(a0, a1, a2, x1), f1), \n",
    "                   sympy.Eq(spl2(a0, a1, a2, x2), f2)]\n",
    "res2 = sympy.solve(sys2)\n",
    "\n",
    "spline2 = res2[a0] + res2[a1]*x + res2[a2]*x**2\n",
    "display(*sys2, spline2)"
   ]
  },
  {
   "cell_type": "code",
   "execution_count": 13,
   "metadata": {},
   "outputs": [
    {
     "data": {
      "text/plain": [
       "[<matplotlib.lines.Line2D at 0x10d7f49ada0>]"
      ]
     },
     "execution_count": 13,
     "metadata": {},
     "output_type": "execute_result"
    },
    {
     "data": {
      "image/png": "[encoded data removed]",
      "text/plain": [
       "<Figure size 432x288 with 1 Axes>"
      ]
     },
     "metadata": {
      "needs_background": "light"
     },
     "output_type": "display_data"
    }
   ],
   "source": [
    "x0, x1, x2 = (0, 2, 4)\n",
    "X_ls1 = np.linspace(x0, x1)\n",
    "X_ls2 = np.linspace(x1, x2)\n",
    "X_ls12 = np.linspace(x0, x2)\n",
    "Y1 = [spline1.subs(x, item) for item in X_ls1] \n",
    "Y2 = [spline2.subs(x, item) for item in X_ls2]          \n",
    "plt.plot(X_ls1, Y1, color='green')\n",
    "plt.plot(X_ls2, Y2, color='red')\n",
    "plt.plot(X_ls12, f(X_ls12), color='black')"
   ]
  },
  {
   "cell_type": "markdown",
   "metadata": {},
   "source": [
    "## Кубический сплайн\n",
    "$$\n",
    "f_i(x) = a_ix^3 + b_ix^2 + c_ix + d,\n",
    "\\quad\n",
    "\\left\\{\n",
    "\\begin{matrix}\n",
    "f_i(x_{i - 1}) = y_{i - 1}\\\\\n",
    "f_i(x_{i}) = y_{i}\\\\\n",
    "f_i'(x_{i - 1}) = f'_{i - 1}(x_{i - 1})\\\\\n",
    "f_i''(x_{i - 1}) = f''_{i - 1}(x_{i - 1})\n",
    "\\end{matrix}\n",
    "\\right.\n",
    "$$\n",
    "## Пример 8\n",
    "Аппроксимировать $f(x) = \\sin(x)$ на отрезке $\\left[0, \\frac{2\\pi}{3}\\right]$ квадратичным сплайном с узлами \n",
    "0, $\\frac{\\pi}{3}$, $\\frac{2\\pi}{3}$."
   ]
  },
  {
   "cell_type": "code",
   "execution_count": 14,
   "metadata": {},
   "outputs": [
    {
     "data": {
      "text/plain": [
       "<matplotlib.collections.PathCollection at 0x10d7f50d780>"
      ]
     },
     "execution_count": 14,
     "metadata": {},
     "output_type": "execute_result"
    },
    {
     "data": {
      "image/png": "[encoded data removed]",
      "text/plain": [
       "<Figure size 432x288 with 1 Axes>"
      ]
     },
     "metadata": {
      "needs_background": "light"
     },
     "output_type": "display_data"
    }
   ],
   "source": [
    "X = [np.pi*k/3 for k in range(3)]\n",
    "Y = [np.sin(xk) for xk in X]\n",
    "plt.scatter(X, Y)"
   ]
  },
  {
   "cell_type": "markdown",
   "metadata": {},
   "source": [
    "Вначале определим несколько вспомогательных функций:\n",
    "\n",
    "spl3(a0, a1, a2, a3, x) кубическая парабола с коэффициентами a0, a1, a2, a3 и аргументом x\n",
    "\n",
    "dspl3(a1, a2, a3, x) - первая производная кубического сплайна\n",
    "\n",
    "d2spl3(a2, a3, x) - вторая производная кубического сплайна\n",
    "\n",
    "sys_spl(f, x, xi, xi_1, yi, yi_1, d1spl, d2spl) - система уравнений относительно коэффициентов сплайна"
   ]
  },
  {
   "cell_type": "code",
   "execution_count": 15,
   "metadata": {},
   "outputs": [],
   "source": [
    "def spl3(a0, a1, a2, a3, x):\n",
    "    return a0 + a1*x + a2*x**2 + a3*x**3\n",
    "def dspl3(a1, a2, a3, x):\n",
    "    return a1 + 2*a2*x + 3*a3*x**2\n",
    "def d2spl3(a2, a3, x):\n",
    "    return 2*a2 + 6*a3*x\n",
    "def sys_spl(f, x, xi, xi_1, yi, yi_1, d1spl, d2spl):\n",
    "    return [sympy.Eq(spl3(a0, a1, a2, a3, xi_1), yi_1),\n",
    "            sympy.Eq(spl3(a0, a1, a2, a3, xi), yi),\n",
    "            sympy.Eq(dspl3(a1, a2, a3, xi_1), d1spl),\n",
    "            sympy.Eq(d2spl3(a2, a3, xi_1), d2spl)]"
   ]
  },
  {
   "cell_type": "markdown",
   "metadata": {},
   "source": [
    "Нам понадобится $\\sin(x)$ из numpy для построения графика и из sympy для получения сплайна (аналитически), поэтому опишем функцию fx(x, lib='sympy'), в которой по умолчанию $\\sin(x)$ берется из из sympy, но можно изменить значение по умолчанию параметра lib на 'numpy'."
   ]
  },
  {
   "cell_type": "code",
   "execution_count": 16,
   "metadata": {},
   "outputs": [],
   "source": [
    "def fx(x, lib='sympy'):\n",
    "    if lib == 'sympy':\n",
    "        return sympy.sin(x)\n",
    "    if lib == 'numpy':\n",
    "        return np.sin(x)"
   ]
  },
  {
   "cell_type": "markdown",
   "metadata": {},
   "source": [
    "Введем переменные в математическом смысле - символы a0, a1, a2, a3, x.\n",
    "\n",
    "Обозначим xi_1 горизонтальную координату первой точки, xi - второй, yi_1 и yi - соответствующие вертикальные координаты, \n",
    "d1spl и d2spl - значения первой и второй производной на левом конце отрезка, т.е. в xi_1, они для самого левого отрезка равны производным самой функции в этой точке. \n",
    "\n",
    "Для построения сплайна воспользуемся решением с помощью solve соответствующей системы уравнений относительно коэффициентов сплайна.\n",
    "\n",
    "Полученные значения коэффициентов используем для получения выражения (expression) для сплайна на левом отрезке spline3"
   ]
  },
  {
   "cell_type": "code",
   "execution_count": 17,
   "metadata": {},
   "outputs": [
    {
     "data": {
      "text/latex": [
       "$\\displaystyle a_{0} = 0$"
      ],
      "text/plain": [
       "Eq(a0, 0)"
      ]
     },
     "metadata": {},
     "output_type": "display_data"
    },
    {
     "data": {
      "text/latex": [
       "$\\displaystyle a_{0} + 1.0471975511966 a_{1} + 1.09662271123215 a_{2} + 1.14838061778888 a_{3} = 0.866025403784439$"
      ],
      "text/plain": [
       "Eq(a0 + 1.0471975511966*a1 + 1.09662271123215*a2 + 1.14838061778888*a3, 0.866025403784439)"
      ]
     },
     "metadata": {},
     "output_type": "display_data"
    },
    {
     "data": {
      "text/latex": [
       "$\\displaystyle a_{1} = 1$"
      ],
      "text/plain": [
       "Eq(a1, 1)"
      ]
     },
     "metadata": {},
     "output_type": "display_data"
    },
    {
     "data": {
      "text/latex": [
       "$\\displaystyle 2 a_{2} = 0$"
      ],
      "text/plain": [
       "Eq(2*a2, 0)"
      ]
     },
     "metadata": {},
     "output_type": "display_data"
    },
    {
     "data": {
      "text/latex": [
       "$\\displaystyle - 0.1577631532662 x^{3} + 1.0 x$"
      ],
      "text/plain": [
       "-0.1577631532662*x**3 + 1.0*x"
      ]
     },
     "metadata": {},
     "output_type": "display_data"
    }
   ],
   "source": [
    "a0, a1, a2, a3, x = sympy.symbols('a0:4 x')\n",
    "xi_1 = X[0]\n",
    "xi = X[1]\n",
    "yi_1 = fx(xi_1)\n",
    "yi = fx(xi)\n",
    "d1spl = fx(x).diff(x).subs(x, xi_1) \n",
    "d2spl = fx(x).diff(x, 2).subs(x, xi_1)\n",
    "sys3 = sys_spl(fx, x, xi, xi_1, yi, yi_1, d1spl, d2spl)\n",
    "display(*sys3)\n",
    "res3 = sympy.solve(sys3)\n",
    "spline3 = res3[a0] + res3[a1]*x + res3[a2]*x**2 + res3[a3]*x**3\n",
    "display(spline3)"
   ]
  },
  {
   "cell_type": "markdown",
   "metadata": {},
   "source": [
    "Повторим те же действия со следующим отрезком, т.е. $\\left[\\frac{\\pi}{3}, \\frac{2\\pi}{3}\\right]$.\n",
    "\n",
    "Отличие в том, что производные первого и второго порядков считаются не по исходной функции, а по построенному куску сплайна, т.е. считаем производные от  spline3 в точке $\\frac{\\pi}{3}$."
   ]
  },
  {
   "cell_type": "code",
   "execution_count": 18,
   "metadata": {},
   "outputs": [
    {
     "data": {
      "text/latex": [
       "$\\displaystyle a_{0} + 1.0471975511966 a_{1} + 1.09662271123215 a_{2} + 1.14838061778888 a_{3} = 0.866025403784439$"
      ],
      "text/plain": [
       "Eq(a0 + 1.0471975511966*a1 + 1.09662271123215*a2 + 1.14838061778888*a3, 0.866025403784439)"
      ]
     },
     "metadata": {},
     "output_type": "display_data"
    },
    {
     "data": {
      "text/latex": [
       "$\\displaystyle a_{0} + 2.0943951023932 a_{1} + 4.3864908449286 a_{2} + 9.18704494231105 a_{3} = 0.866025403784439$"
      ],
      "text/plain": [
       "Eq(a0 + 2.0943951023932*a1 + 4.3864908449286*a2 + 9.18704494231105*a3, 0.866025403784439)"
      ]
     },
     "metadata": {},
     "output_type": "display_data"
    },
    {
     "data": {
      "text/latex": [
       "$\\displaystyle a_{1} + 2.0943951023932 a_{2} + 3.28986813369645 a_{3} = 0.480980029398058$"
      ],
      "text/plain": [
       "Eq(a1 + 2.0943951023932*a2 + 3.28986813369645*a3, 0.480980029398058)"
      ]
     },
     "metadata": {},
     "output_type": "display_data"
    },
    {
     "data": {
      "text/latex": [
       "$\\displaystyle 2 a_{2} + 6.28318530717959 a_{3} = -0.991255126616512$"
      ],
      "text/plain": [
       "Eq(2*a2 + 6.28318530717959*a3, -0.991255126616512)"
      ]
     },
     "metadata": {},
     "output_type": "display_data"
    },
    {
     "data": {
      "text/latex": [
       "$\\displaystyle 0.0346882668161555 x^{3} - 0.604603967503653 x^{2} + 1.63313979421358 x - 0.221007480688529$"
      ],
      "text/plain": [
       "0.0346882668161555*x**3 - 0.604603967503653*x**2 + 1.63313979421358*x - 0.221007480688529"
      ]
     },
     "metadata": {},
     "output_type": "display_data"
    }
   ],
   "source": [
    "xi_1 = X[1]\n",
    "xi = X[2]\n",
    "yi_1 = fx(xi_1)\n",
    "yi = fx(xi)\n",
    "d1spl = spline3.diff(x).subs(x, xi_1) \n",
    "d2spl = spline3.diff(x, 2).subs(x, xi_1)\n",
    "sys4 = sys_spl(fx, x, xi, xi_1, yi, yi_1, d1spl, d2spl)\n",
    "display(*sys4)\n",
    "res4 = sympy.solve(sys4)\n",
    "spline4 = res4[a0] + res4[a1]*x + res4[a2]*x**2 + res4[a3]*x**3\n",
    "display(spline4)"
   ]
  },
  {
   "cell_type": "markdown",
   "metadata": {},
   "source": [
    "Построим на графике исходную функцию и весь сплайн (из двух кусков)"
   ]
  },
  {
   "cell_type": "code",
   "execution_count": 19,
   "metadata": {},
   "outputs": [
    {
     "data": {
      "text/plain": [
       "<matplotlib.legend.Legend at 0x10d7f5e3b38>"
      ]
     },
     "execution_count": 19,
     "metadata": {},
     "output_type": "execute_result"
    },
    {
     "data": {
      "image/png": "[encoded data removed]",
      "text/plain": [
       "<Figure size 432x288 with 1 Axes>"
      ]
     },
     "metadata": {
      "needs_background": "light"
     },
     "output_type": "display_data"
    }
   ],
   "source": [
    "x0, x1, x2 = X\n",
    "X_ls1 = np.linspace(x0, x1)\n",
    "X_ls2 = np.linspace(x1, x2)\n",
    "X_ls12 = np.linspace(x0, x2)\n",
    "Y1 = [spline3.subs(x, item) for item in X_ls1] \n",
    "Y2 = [spline4.subs(x, item) for item in X_ls2]          \n",
    "plt.plot(X_ls1, Y1, color='green', label='spline1')\n",
    "plt.plot(X_ls2, Y2, color='red', label='spline2')\n",
    "plt.plot(X_ls12, fx(X_ls12, lib='numpy'), color='black', linestyle=':', label='sin(x)')\n",
    "plt.legend()"
   ]
  },
  {
   "cell_type": "markdown",
   "metadata": {},
   "source": [
    "## Сплайны scipy.interpolate: interp1d, splrep, InterpolatedUnivariateSpline\n",
    "https://docs.scipy.org/doc/scipy/reference/interpolate.html#module-scipy.interpolate\n",
    "#### Кубический сплайн:\n",
    "https://docs.scipy.org/doc/scipy/reference/generated/scipy.interpolate.CubicSpline.html#scipy.interpolate.CubicSpline\n",
    "####  interp1d\n",
    "https://docs.scipy.org/doc/scipy/reference/generated/scipy.interpolate.interp1d.html#scipy.interpolate.interp1d\n",
    "####  Полиномы Бернштейна\n",
    "https://docs.scipy.org/doc/scipy/reference/generated/scipy.interpolate.BPoly.html#scipy.interpolate.BPoly\n",
    "\n",
    "Теперь будем строить сплайны средствами scipy.interpolate, вначале подключим необходимые функции:"
   ]
  },
  {
   "cell_type": "code",
   "execution_count": 28,
   "metadata": {},
   "outputs": [],
   "source": [
    "from scipy.interpolate import interp1d, splrep, splev, InterpolatedUnivariateSpline, BPoly, CubicSpline"
   ]
  },
  {
   "cell_type": "markdown",
   "metadata": {},
   "source": [
    "## interp1d\n",
    "Параметры $x$ и  $y$ - координаты узлов сплайна, \n",
    "kind - str или int, необязательный параметр, определяющий тип сплайна, по умолчанию линейный (‘linear’), можно сделать ‘nearest’, ‘nearest-up’, ‘zero’, ‘slinear’, ‘quadratic’, ‘cubic’, ‘previous’ или ‘next’. \n",
    "\n",
    "‘zero’, ‘slinear’, ‘quadratic’ и ‘cubic’ обозначают интерполяцию нулевого, первого, второго или третьего порядка,\n",
    "\n",
    "‘previous’ и ‘next’ просто возвращают предыдущее или следующее значение функции\n",
    "\n",
    "‘nearest-up’ и ‘nearest’ различаются обработкой полуцелых чисел, таких как 0.5, 1.5.\n",
    "\n",
    "## Пример 9\n",
    "Аппроксимировать $f(x) = \\sin(x)$ на отрезке $\\left[0, 2\\pi\\right]$ квадратичным сплайном с узлами \n",
    "$\\frac{\\pi k}{4}$, $k = 0, ..., 8$."
   ]
  },
  {
   "cell_type": "code",
   "execution_count": 21,
   "metadata": {},
   "outputs": [
    {
     "data": {
      "text/plain": [
       "[<matplotlib.lines.Line2D at 0x10d7f589860>,\n",
       " <matplotlib.lines.Line2D at 0x10d7f658978>,\n",
       " <matplotlib.lines.Line2D at 0x10d7f658b38>]"
      ]
     },
     "execution_count": 21,
     "metadata": {},
     "output_type": "execute_result"
    },
    {
     "data": {
      "image/png": "[encoded data removed]",
      "text/plain": [
       "<Figure size 432x288 with 1 Axes>"
      ]
     },
     "metadata": {
      "needs_background": "light"
     },
     "output_type": "display_data"
    }
   ],
   "source": [
    "X = [np.pi*k/4 for k in range(9)]\n",
    "Y = [np.sin(xk) for xk in X]\n",
    "plt.scatter(X, Y, color='red')\n",
    "spl1 = interp1d(X, Y)\n",
    "spl2 = interp1d(X, Y, kind='cubic')\n",
    "xs = np.linspace(X[0], X[-1], 1000)\n",
    "plt.plot(xs, np.sin(xs), 'c-', xs, spl1(xs), 'g:', xs, spl2(xs), 'm--', lw=3)"
   ]
  },
  {
   "cell_type": "markdown",
   "metadata": {},
   "source": [
    "## Еще один способ построения сплайна: \n",
    "\n",
    "splrep функция, которая возвращает представление  B-spline кривой\n",
    "\n",
    "splev вычисляет значения B-spline или его производных\n",
    "\n",
    "Есть еще полезные функции:\n",
    "\n",
    "sproot находит корни кубического B-spline\n",
    "\n",
    "splint вычисляет определенный интеграл  B-spline на отрезке\n",
    "\n",
    "spalde вычисляет все производные B-spline\n",
    "\n",
    "splrep, splev работают на основе FITPACK (написан на Фортране)\n",
    "\n",
    "## Пример 10. \n",
    "Построим сплайн для Примера 7 с помощью splrep и splev."
   ]
  },
  {
   "cell_type": "code",
   "execution_count": 22,
   "metadata": {},
   "outputs": [
    {
     "data": {
      "text/plain": [
       "<matplotlib.legend.Legend at 0x10d7f69df28>"
      ]
     },
     "execution_count": 22,
     "metadata": {},
     "output_type": "execute_result"
    },
    {
     "data": {
      "image/png": "[encoded data removed]",
      "text/plain": [
       "<Figure size 432x288 with 1 Axes>"
      ]
     },
     "metadata": {
      "needs_background": "light"
     },
     "output_type": "display_data"
    }
   ],
   "source": [
    "X = [np.pi*k/4 for k in range(9)]\n",
    "Y = [np.sin(xk) for xk in X]\n",
    "tck = splrep(X, Y, s=0)\n",
    "xnew = np.linspace(X[0], X[-1], 1000)\n",
    "ynew = splev(xnew, tck, der=0)\n",
    "plt.plot(X, Y, 'ro', xnew, ynew, 'c--', xnew, np.sin(xnew), 'k:', lw=3)\n",
    "plt.legend(['Linear', 'Cubic Spline', 'sin(x)'])"
   ]
  },
  {
   "cell_type": "markdown",
   "metadata": {},
   "source": [
    "## InterpolatedUnivariateSpline\n",
    "тоже работает на FITPACK.\n",
    "## Пример 11. \n",
    "Построим сплайн для Примера 7 с помощью InterpolatedUnivariateSpline (объектно-ориентированная обертка для функций FITPACK)."
   ]
  },
  {
   "cell_type": "code",
   "execution_count": 23,
   "metadata": {},
   "outputs": [
    {
     "data": {
      "text/plain": [
       "[<matplotlib.lines.Line2D at 0x10d7f5812b0>,\n",
       " <matplotlib.lines.Line2D at 0x10d7f56c908>]"
      ]
     },
     "execution_count": 23,
     "metadata": {},
     "output_type": "execute_result"
    },
    {
     "data": {
      "image/png": "[encoded data removed]",
      "text/plain": [
       "<Figure size 432x288 with 1 Axes>"
      ]
     },
     "metadata": {
      "needs_background": "light"
     },
     "output_type": "display_data"
    }
   ],
   "source": [
    "X = [np.pi*k/4 for k in range(9)]\n",
    "Y = [np.sin(xk) for xk in X]\n",
    "spl = InterpolatedUnivariateSpline(X, Y)\n",
    "xs = np.linspace(X[0], X[-1], 1000)\n",
    "plt.scatter(X, Y, color='red')\n",
    "plt.plot(xs, np.sin(xs), 'c-', xs, spl(xs), 'g--', lw=3)"
   ]
  },
  {
   "cell_type": "markdown",
   "metadata": {},
   "source": [
    "## Пример 12\n",
    "Построим сплайн для Примера 7 с помощью CubicSpline"
   ]
  },
  {
   "cell_type": "code",
   "execution_count": 31,
   "metadata": {},
   "outputs": [
    {
     "data": {
      "text/plain": [
       "[<matplotlib.lines.Line2D at 0x10d7f94ddd8>,\n",
       " <matplotlib.lines.Line2D at 0x10d7f97bba8>]"
      ]
     },
     "execution_count": 31,
     "metadata": {},
     "output_type": "execute_result"
    },
    {
     "data": {
      "image/png": "[encoded data removed]",
      "text/plain": [
       "<Figure size 432x288 with 1 Axes>"
      ]
     },
     "metadata": {
      "needs_background": "light"
     },
     "output_type": "display_data"
    }
   ],
   "source": [
    "X = [np.pi*k/4 for k in range(9)]\n",
    "Y = [np.sin(xk) for xk in X]\n",
    "cs = CubicSpline(X, Y)\n",
    "xs = np.linspace(X[0], X[-1], 1000)\n",
    "plt.scatter(X, Y, color='red')\n",
    "plt.plot(xs, np.sin(xs), 'c-', xs, cs(xs), 'g--', lw=3)"
   ]
  },
  {
   "cell_type": "markdown",
   "metadata": {},
   "source": [
    "## Кривые Безье\n",
    "#### Линейная кривая Безье\n",
    "$P_0$ и $P_1$ две различные точки, тогда линейная кривая Безье - отрезок, соединяющий эти точки:\n",
    "$$\n",
    "B(t) = P_0 + t(P_1 - P_0) = (1 - t)P_0 + tP_1,\\quad 1\\le t \\le 1 \n",
    "$$\n",
    "#### Квадратичная кривая Безье\n",
    "$P_0$, $P_1$ и $P_2$ три различные точки, тогда квадратичная кривая Безье - отрезок, соединяющий эти точки:\n",
    "$$\n",
    "B(t) = (1 - t)^2P_0 + 2(1 - t)tP_1 + t^2P_2 = P_1 + (1 - t)^2(P_0 - P_1) + t^2(P_2 - P_1),\\quad 1\\le t \\le 1 \n",
    "$$\n",
    "#### Кубическая кривая Безье\n",
    "$P_0$, $P_1$, $P_2$ и $P_3$ четыре различные точки, тогда кубическая кривая Безье - отрезок, соединяющий эти точки:\n",
    "$$\n",
    "B(t) = (1 - t)^3P_0 + 3(1 - t)^2tP_1 + 3(1 - t)t^2P_2 +t^3P_3,\\quad 1\\le t \\le 1 \n",
    "$$\n",
    "#### Общий вид кривой Безье\n",
    "$P_0$, $P_1$, ...  и $P_n$ - $n$ различных точек, тогда линейная кривая Безье - отрезок, соединяющий эти точки:\n",
    "$$\n",
    "B(t) = \\sum_{k=0}^n C_n^k(1 - t)^{n - k}t^kP_k,\\quad 1\\le t \\le 1 \n",
    "$$\n",
    "\n",
    "https://bezier.readthedocs.io/en/stable/python/reference/bezier.curve.html\n",
    "\n",
    "## Пример 13\n",
    "Построим кривую Безье по точкам $P_1(-1, 3)$, $P_2(0, 4)$, $P_3(3, 2)$.\n",
    "\n",
    "Для каждой точки построим полином Бернштейна $C_n^k(1 - t)^{n - k}t^k$, $1\\le t \\le 1$ и составим сумму произведений соответствующих координат точки на полиномы  Бернштейна."
   ]
  },
  {
   "cell_type": "code",
   "execution_count": 24,
   "metadata": {},
   "outputs": [],
   "source": [
    "from scipy.special import comb\n",
    "def my_B(X, Y):\n",
    "    n = len(X)\n",
    "    def my_B_x(t):\n",
    "        return sum([X[k]*comb(n - 1, k)*(1 - t)**(n - k - 1)*t**k for k in range(n)])\n",
    "    def my_B_y(t):\n",
    "        return sum([Y[k]*comb(n - 1, k)*(1 - t)**(n - k - 1)*t**k for k in range(n)])\n",
    "    return (my_B_x, my_B_y)      "
   ]
  },
  {
   "cell_type": "code",
   "execution_count": 26,
   "metadata": {},
   "outputs": [
    {
     "data": {
      "text/plain": [
       "<matplotlib.collections.PathCollection at 0x10d7f7e1e48>"
      ]
     },
     "execution_count": 26,
     "metadata": {},
     "output_type": "execute_result"
    },
    {
     "data": {
      "image/png": "[encoded data removed]",
      "text/plain": [
       "<Figure size 432x288 with 1 Axes>"
      ]
     },
     "metadata": {
      "needs_background": "light"
     },
     "output_type": "display_data"
    }
   ],
   "source": [
    "P1 = (-1, 3)\n",
    "P2 = (0, 4)\n",
    "P3 = (3, 2)\n",
    "X = []\n",
    "Y = []\n",
    "for point in (P1, P2, P3):\n",
    "    X.append(point[0])\n",
    "    Y.append(point[1])\n",
    "B_x, B_y = my_B(X, Y)\n",
    "X1 = np.array(X).reshape(3, 1)\n",
    "Y1 = np.array(Y).reshape(3, 1)\n",
    "x = [0, 1]\n",
    "bpX = BPoly(X1, x)\n",
    "bpY = BPoly(Y1, x)\n",
    "t_linspace = np.linspace(0, 1)\n",
    "plt.plot(bpX(t_linspace), bpY(t_linspace), 'c-', B_x(t_linspace), B_y(t_linspace), 'r:', lw=3)\n",
    "plt.scatter(X, Y)"
   ]
  },
  {
   "cell_type": "markdown",
   "metadata": {},
   "source": [
    "## Пример 14\n",
    "Построим кривую Безье с помощью модуля bezier:\n",
    "\n",
    "https://bezier.readthedocs.io/en/stable/python/reference/bezier.curve.html"
   ]
  },
  {
   "cell_type": "code",
   "execution_count": null,
   "metadata": {},
   "outputs": [],
   "source": []
  },
  {
   "cell_type": "code",
   "execution_count": 1,
   "metadata": {},
   "outputs": [
    {
     "ename": "NotImplementedError",
     "evalue": "cannot instantiate 'PackagePath' on your system",
     "output_type": "error",
     "traceback": [
      "\u001b[1;31m---------------------------------------------------------------------------\u001b[0m",
      "\u001b[1;31mNotImplementedError\u001b[0m                       Traceback (most recent call last)",
      "\u001b[1;32m<ipython-input-1-118389dd6a06>\u001b[0m in \u001b[0;36m<module>\u001b[1;34m\u001b[0m\n\u001b[1;32m----> 1\u001b[1;33m \u001b[1;32mimport\u001b[0m \u001b[0mbezier\u001b[0m\u001b[1;33m\u001b[0m\u001b[1;33m\u001b[0m\u001b[0m\n\u001b[0m",
      "\u001b[1;32m~\\AppData\\Roaming\\Python\\Python37\\site-packages\\bezier\\__init__.py\u001b[0m in \u001b[0;36m<module>\u001b[1;34m\u001b[0m\n\u001b[0;32m     27\u001b[0m \u001b[1;31m# NOTE: ``__config__`` **must** be the first import because it (may)\u001b[0m\u001b[1;33m\u001b[0m\u001b[1;33m\u001b[0m\u001b[1;33m\u001b[0m\u001b[0m\n\u001b[0;32m     28\u001b[0m \u001b[1;31m#       modify the search path used to locate shared libraries.\u001b[0m\u001b[1;33m\u001b[0m\u001b[1;33m\u001b[0m\u001b[1;33m\u001b[0m\u001b[0m\n\u001b[1;32m---> 29\u001b[1;33m \u001b[1;32mfrom\u001b[0m \u001b[0mbezier\u001b[0m \u001b[1;32mimport\u001b[0m \u001b[0m__config__\u001b[0m\u001b[1;33m\u001b[0m\u001b[1;33m\u001b[0m\u001b[0m\n\u001b[0m\u001b[0;32m     30\u001b[0m \u001b[1;32mfrom\u001b[0m \u001b[0mbezier\u001b[0m\u001b[1;33m.\u001b[0m\u001b[0m_legacy\u001b[0m \u001b[1;32mimport\u001b[0m \u001b[0mSurface\u001b[0m\u001b[1;33m\u001b[0m\u001b[1;33m\u001b[0m\u001b[0m\n\u001b[0;32m     31\u001b[0m \u001b[1;32mfrom\u001b[0m \u001b[0mbezier\u001b[0m\u001b[1;33m.\u001b[0m\u001b[0mcurve\u001b[0m \u001b[1;32mimport\u001b[0m \u001b[0mCurve\u001b[0m\u001b[1;33m\u001b[0m\u001b[1;33m\u001b[0m\u001b[0m\n",
      "\u001b[1;32m~\\AppData\\Roaming\\Python\\Python37\\site-packages\\bezier\\__config__.py\u001b[0m in \u001b[0;36m<module>\u001b[1;34m\u001b[0m\n\u001b[0;32m    137\u001b[0m \u001b[1;33m\u001b[0m\u001b[0m\n\u001b[0;32m    138\u001b[0m \u001b[1;33m\u001b[0m\u001b[0m\n\u001b[1;32m--> 139\u001b[1;33m \u001b[0mmodify_path\u001b[0m\u001b[1;33m(\u001b[0m\u001b[1;33m)\u001b[0m\u001b[1;33m\u001b[0m\u001b[1;33m\u001b[0m\u001b[0m\n\u001b[0m",
      "\u001b[1;32m~\\AppData\\Roaming\\Python\\Python37\\site-packages\\bezier\\__config__.py\u001b[0m in \u001b[0;36mmodify_path\u001b[1;34m()\u001b[0m\n\u001b[0;32m    107\u001b[0m         \u001b[1;32mreturn\u001b[0m\u001b[1;33m\u001b[0m\u001b[1;33m\u001b[0m\u001b[0m\n\u001b[0;32m    108\u001b[0m \u001b[1;33m\u001b[0m\u001b[0m\n\u001b[1;32m--> 109\u001b[1;33m     \u001b[0mextra_dll_dir\u001b[0m \u001b[1;33m=\u001b[0m \u001b[0m_get_extra_dll_dir\u001b[0m\u001b[1;33m(\u001b[0m\u001b[0mbezier_files\u001b[0m\u001b[1;33m)\u001b[0m\u001b[1;33m\u001b[0m\u001b[1;33m\u001b[0m\u001b[0m\n\u001b[0m\u001b[0;32m    110\u001b[0m     \u001b[0madd_dll_directory\u001b[0m\u001b[1;33m(\u001b[0m\u001b[0mextra_dll_dir\u001b[0m\u001b[1;33m)\u001b[0m\u001b[1;33m\u001b[0m\u001b[1;33m\u001b[0m\u001b[0m\n\u001b[0;32m    111\u001b[0m \u001b[1;33m\u001b[0m\u001b[0m\n",
      "\u001b[1;32m~\\AppData\\Roaming\\Python\\Python37\\site-packages\\bezier\\__config__.py\u001b[0m in \u001b[0;36m_get_extra_dll_dir\u001b[1;34m(bezier_files)\u001b[0m\n\u001b[0;32m     75\u001b[0m         \u001b[0mImportError\u001b[0m\u001b[1;33m:\u001b[0m \u001b[0mIf\u001b[0m \u001b[0mno\u001b[0m \u001b[0mmatch\u001b[0m \u001b[0mcan\u001b[0m \u001b[0mbe\u001b[0m \u001b[0mfound\u001b[0m\u001b[1;33m.\u001b[0m\u001b[1;33m\u001b[0m\u001b[1;33m\u001b[0m\u001b[0m\n\u001b[0;32m     76\u001b[0m     \"\"\"\n\u001b[1;32m---> 77\u001b[1;33m     \u001b[1;32mfor\u001b[0m \u001b[0mpath\u001b[0m \u001b[1;32min\u001b[0m \u001b[0mbezier_files\u001b[0m\u001b[1;33m:\u001b[0m\u001b[1;33m\u001b[0m\u001b[1;33m\u001b[0m\u001b[0m\n\u001b[0m\u001b[0;32m     78\u001b[0m         \u001b[1;32mif\u001b[0m \u001b[1;32mnot\u001b[0m \u001b[0m_is_extra_dll\u001b[0m\u001b[1;33m(\u001b[0m\u001b[0mpath\u001b[0m\u001b[1;33m)\u001b[0m\u001b[1;33m:\u001b[0m\u001b[1;33m\u001b[0m\u001b[1;33m\u001b[0m\u001b[0m\n\u001b[0;32m     79\u001b[0m             \u001b[1;32mcontinue\u001b[0m\u001b[1;33m\u001b[0m\u001b[1;33m\u001b[0m\u001b[0m\n",
      "\u001b[1;32mC:\\ProgramData\\Anaconda3\\lib\\site-packages\\importlib_metadata\\api.py\u001b[0m in \u001b[0;36mmake_file\u001b[1;34m(name, hash, size_str)\u001b[0m\n\u001b[0;32m    211\u001b[0m \u001b[1;33m\u001b[0m\u001b[0m\n\u001b[0;32m    212\u001b[0m         \u001b[1;32mdef\u001b[0m \u001b[0mmake_file\u001b[0m\u001b[1;33m(\u001b[0m\u001b[0mname\u001b[0m\u001b[1;33m,\u001b[0m \u001b[0mhash\u001b[0m\u001b[1;33m=\u001b[0m\u001b[1;32mNone\u001b[0m\u001b[1;33m,\u001b[0m \u001b[0msize_str\u001b[0m\u001b[1;33m=\u001b[0m\u001b[1;32mNone\u001b[0m\u001b[1;33m)\u001b[0m\u001b[1;33m:\u001b[0m\u001b[1;33m\u001b[0m\u001b[1;33m\u001b[0m\u001b[0m\n\u001b[1;32m--> 213\u001b[1;33m             \u001b[0mresult\u001b[0m \u001b[1;33m=\u001b[0m \u001b[0mPackagePath\u001b[0m\u001b[1;33m(\u001b[0m\u001b[0mname\u001b[0m\u001b[1;33m)\u001b[0m\u001b[1;33m\u001b[0m\u001b[1;33m\u001b[0m\u001b[0m\n\u001b[0m\u001b[0;32m    214\u001b[0m             \u001b[0mresult\u001b[0m\u001b[1;33m.\u001b[0m\u001b[0mhash\u001b[0m \u001b[1;33m=\u001b[0m \u001b[0mFileHash\u001b[0m\u001b[1;33m(\u001b[0m\u001b[0mhash\u001b[0m\u001b[1;33m)\u001b[0m \u001b[1;32mif\u001b[0m \u001b[0mhash\u001b[0m \u001b[1;32melse\u001b[0m \u001b[1;32mNone\u001b[0m\u001b[1;33m\u001b[0m\u001b[1;33m\u001b[0m\u001b[0m\n\u001b[0;32m    215\u001b[0m             \u001b[0mresult\u001b[0m\u001b[1;33m.\u001b[0m\u001b[0msize\u001b[0m \u001b[1;33m=\u001b[0m \u001b[0mint\u001b[0m\u001b[1;33m(\u001b[0m\u001b[0msize_str\u001b[0m\u001b[1;33m)\u001b[0m \u001b[1;32mif\u001b[0m \u001b[0msize_str\u001b[0m \u001b[1;32melse\u001b[0m \u001b[1;32mNone\u001b[0m\u001b[1;33m\u001b[0m\u001b[1;33m\u001b[0m\u001b[0m\n",
      "\u001b[1;32mC:\\ProgramData\\Anaconda3\\lib\\pathlib.py\u001b[0m in \u001b[0;36m__new__\u001b[1;34m(cls, *args, **kwargs)\u001b[0m\n\u001b[0;32m   1004\u001b[0m         \u001b[1;32mif\u001b[0m \u001b[1;32mnot\u001b[0m \u001b[0mself\u001b[0m\u001b[1;33m.\u001b[0m\u001b[0m_flavour\u001b[0m\u001b[1;33m.\u001b[0m\u001b[0mis_supported\u001b[0m\u001b[1;33m:\u001b[0m\u001b[1;33m\u001b[0m\u001b[1;33m\u001b[0m\u001b[0m\n\u001b[0;32m   1005\u001b[0m             raise NotImplementedError(\"cannot instantiate %r on your system\"\n\u001b[1;32m-> 1006\u001b[1;33m                                       % (cls.__name__,))\n\u001b[0m\u001b[0;32m   1007\u001b[0m         \u001b[0mself\u001b[0m\u001b[1;33m.\u001b[0m\u001b[0m_init\u001b[0m\u001b[1;33m(\u001b[0m\u001b[1;33m)\u001b[0m\u001b[1;33m\u001b[0m\u001b[1;33m\u001b[0m\u001b[0m\n\u001b[0;32m   1008\u001b[0m         \u001b[1;32mreturn\u001b[0m \u001b[0mself\u001b[0m\u001b[1;33m\u001b[0m\u001b[1;33m\u001b[0m\u001b[0m\n",
      "\u001b[1;31mNotImplementedError\u001b[0m: cannot instantiate 'PackagePath' on your system"
     ]
    }
   ],
   "source": [
    "import bezier"
   ]
  },
  {
   "cell_type": "code",
   "execution_count": null,
   "metadata": {},
   "outputs": [],
   "source": [
    "nodes = np.asfortranarray([\n",
    "...     [0.0, 0.625, 1.0],\n",
    "...     [0.0, 0.5  , 0.5],\n",
    "... ])\n",
    ">>> curve = bezier.Curve(nodes, degree=2)\n",
    ">>> curve"
   ]
  }
 ],
 "metadata": {
  "kernelspec": {
   "display_name": "Python 3",
   "language": "python",
   "name": "python3"
  }
 },
 "nbformat": 4,
 "nbformat_minor": 2
}
