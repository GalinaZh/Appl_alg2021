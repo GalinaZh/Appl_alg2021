{
 "cells": [
  {
   "cell_type": "markdown",
   "metadata": {},
   "source": [
    "# Занятие 2\n",
    "# Прикладная алгебра и численные методы\n",
    "## Псевдообратная матрица, скелетное разложение\n",
    "numpy:\n",
    "https://numpy.org/doc/stable/reference/routines.linalg.html\n",
    "\n",
    "scipy:\n",
    "https://docs.scipy.org/doc/scipy/reference/linalg.html"
   ]
  },
  {
   "cell_type": "code",
   "execution_count": 1,
   "metadata": {},
   "outputs": [],
   "source": [
    "import numpy as np\n",
    "import scipy.linalg\n",
    "import sympy"
   ]
  },
  {
   "cell_type": "markdown",
   "metadata": {},
   "source": [
    "## Псевдообратная матрица\n",
    "В numpy псевдообратная матрица находится с помощью np.linalg.pinv\n",
    "## Пример 1\n",
    "Найти псевдообратную матрицу к матрице\n",
    "$$\n",
    "\\left(\n",
    "\\begin{matrix}\n",
    "1 & 2 & 3\\\\\n",
    "4 & 5 & 6\n",
    "\\end{matrix}\n",
    "\\right)\n",
    "$$"
   ]
  },
  {
   "cell_type": "code",
   "execution_count": 2,
   "metadata": {},
   "outputs": [
    {
     "data": {
      "text/plain": [
       "array([[1, 2, 3],\n",
       "       [4, 5, 6]])"
      ]
     },
     "metadata": {},
     "output_type": "display_data"
    },
    {
     "data": {
      "text/plain": [
       "array([[-0.94444444,  0.44444444],\n",
       "       [-0.11111111,  0.11111111],\n",
       "       [ 0.72222222, -0.22222222]])"
      ]
     },
     "metadata": {},
     "output_type": "display_data"
    },
    {
     "data": {
      "text/plain": [
       "True"
      ]
     },
     "execution_count": 2,
     "metadata": {},
     "output_type": "execute_result"
    }
   ],
   "source": [
    "A = np.arange(1, 7).reshape((2, 3))\n",
    "A_pinv = np.linalg.pinv(A)\n",
    "display(A, A_pinv)\n",
    "np.allclose(A, np.dot(A, np.dot(A_pinv, A)))\n",
    "np.allclose(A_pinv, np.dot(A_pinv, np.dot(A, A_pinv)))"
   ]
  },
  {
   "cell_type": "markdown",
   "metadata": {},
   "source": [
    "## В scipy тоже есть модуль linalg, \n",
    "в нем есть pinv:"
   ]
  },
  {
   "cell_type": "code",
   "execution_count": 3,
   "metadata": {},
   "outputs": [
    {
     "data": {
      "text/plain": [
       "array([[1, 2, 3],\n",
       "       [4, 5, 6]])"
      ]
     },
     "metadata": {},
     "output_type": "display_data"
    },
    {
     "data": {
      "text/plain": [
       "array([[-0.94444444,  0.44444444],\n",
       "       [-0.11111111,  0.11111111],\n",
       "       [ 0.72222222, -0.22222222]])"
      ]
     },
     "metadata": {},
     "output_type": "display_data"
    },
    {
     "data": {
      "text/plain": [
       "True"
      ]
     },
     "execution_count": 3,
     "metadata": {},
     "output_type": "execute_result"
    }
   ],
   "source": [
    "A = np.arange(1, 7).reshape((2, 3))\n",
    "A_pinv = scipy.linalg.pinv(A)\n",
    "display(A, A_pinv)\n",
    "np.allclose(A, np.dot(A, np.dot(A_pinv, A)))\n",
    "np.allclose(A_pinv, np.dot(A_pinv, np.dot(A, A_pinv)))"
   ]
  },
  {
   "cell_type": "markdown",
   "metadata": {},
   "source": [
    "## В пакете символьной математики sympy \n",
    "тоже есть псевдообратная матрица:"
   ]
  },
  {
   "cell_type": "code",
   "execution_count": 4,
   "metadata": {},
   "outputs": [
    {
     "data": {
      "text/latex": [
       "$\\displaystyle \\left[\\begin{matrix}- \\frac{17}{18} & \\frac{4}{9}\\\\- \\frac{1}{9} & \\frac{1}{9}\\\\\\frac{13}{18} & - \\frac{2}{9}\\end{matrix}\\right]$"
      ],
      "text/plain": [
       "Matrix([\n",
       "[-17/18,  4/9],\n",
       "[  -1/9,  1/9],\n",
       "[ 13/18, -2/9]])"
      ]
     },
     "metadata": {},
     "output_type": "display_data"
    },
    {
     "data": {
      "text/latex": [
       "$\\displaystyle \\left[\\begin{matrix}-0.94444444 & 0.44444444\\\\-0.11111111 & 0.11111111\\\\0.72222222 & -0.22222222\\end{matrix}\\right]$"
      ],
      "text/plain": [
       "Matrix([\n",
       "[-0.94444444,  0.44444444],\n",
       "[-0.11111111,  0.11111111],\n",
       "[ 0.72222222, -0.22222222]])"
      ]
     },
     "metadata": {},
     "output_type": "display_data"
    }
   ],
   "source": [
    "As = sympy.Matrix(A)\n",
    "As_pinv = As.pinv()\n",
    "display(As_pinv, As_pinv.evalf(8))"
   ]
  },
  {
   "cell_type": "code",
   "execution_count": 5,
   "metadata": {},
   "outputs": [
    {
     "data": {
      "text/plain": [
       "array([[1, 2, 3],\n",
       "       [4, 5, 6]], dtype=object)"
      ]
     },
     "execution_count": 5,
     "metadata": {},
     "output_type": "execute_result"
    }
   ],
   "source": [
    "np.array(As)"
   ]
  },
  {
   "cell_type": "markdown",
   "metadata": {},
   "source": [
    "## Скелетное разложение\n",
    "\n",
    "Построим скелетное разложение для матрицы \n",
    "$$\n",
    "\\left(\n",
    "\\begin{matrix}\n",
    "2 & 3 & -1 & 4\\\\\n",
    "-1 & 4 & 1 & 4\\\\\n",
    "1 & 7 & 0 & 8\n",
    "\\end{matrix}\n",
    "\\right)\n",
    "$$\n",
    "$B$ матрица полного столбцового ранга, $C$-строчного,\n",
    "тогда псевдообратная матрица находится по формуле\n",
    "$$\n",
    "A^+ = C^T(C\\cdot C^T)^{-1}(B^T\\cdot B)^{-1}B^T\n",
    "$$"
   ]
  },
  {
   "cell_type": "code",
   "execution_count": 6,
   "metadata": {},
   "outputs": [
    {
     "data": {
      "text/latex": [
       "$\\displaystyle \\left[\\begin{matrix}1 & 0 & - \\frac{7}{11} & \\frac{4}{11}\\\\0 & 1 & \\frac{1}{11} & \\frac{12}{11}\\\\0 & 0 & 0 & 0\\end{matrix}\\right]$"
      ],
      "text/plain": [
       "Matrix([\n",
       "[1, 0, -7/11,  4/11],\n",
       "[0, 1,  1/11, 12/11],\n",
       "[0, 0,     0,     0]])"
      ]
     },
     "metadata": {},
     "output_type": "display_data"
    },
    {
     "data": {
      "text/plain": [
       "(0, 1)"
      ]
     },
     "metadata": {},
     "output_type": "display_data"
    }
   ],
   "source": [
    "A = sympy.Matrix([[2, 3, -1, 4], [-1, 4, 1, 4], [1, 7, 0, 8]])\n",
    "A_rref = A.rref()\n",
    "display(*A_rref)"
   ]
  },
  {
   "cell_type": "code",
   "execution_count": 7,
   "metadata": {},
   "outputs": [
    {
     "data": {
      "text/latex": [
       "$\\displaystyle \\left[\\begin{matrix}2 & 3\\\\-1 & 4\\\\1 & 7\\end{matrix}\\right]$"
      ],
      "text/plain": [
       "Matrix([\n",
       "[ 2, 3],\n",
       "[-1, 4],\n",
       "[ 1, 7]])"
      ]
     },
     "execution_count": 7,
     "metadata": {},
     "output_type": "execute_result"
    }
   ],
   "source": [
    "cols = A_rref[1]\n",
    "k = len(cols)\n",
    "B = A[:, cols]\n",
    "B"
   ]
  },
  {
   "cell_type": "code",
   "execution_count": 8,
   "metadata": {},
   "outputs": [
    {
     "data": {
      "text/latex": [
       "$\\displaystyle \\left[\\begin{matrix}1 & 0 & - \\frac{7}{11} & \\frac{4}{11}\\\\0 & 1 & \\frac{1}{11} & \\frac{12}{11}\\end{matrix}\\right]$"
      ],
      "text/plain": [
       "Matrix([\n",
       "[1, 0, -7/11,  4/11],\n",
       "[0, 1,  1/11, 12/11]])"
      ]
     },
     "execution_count": 8,
     "metadata": {},
     "output_type": "execute_result"
    }
   ],
   "source": [
    "C = A_rref[0][:k, :]\n",
    "C"
   ]
  },
  {
   "cell_type": "code",
   "execution_count": 9,
   "metadata": {},
   "outputs": [
    {
     "data": {
      "text/latex": [
       "$\\displaystyle \\left[\\begin{matrix}2 & 3 & -1 & 4\\\\-1 & 4 & 1 & 4\\\\1 & 7 & 0 & 8\\end{matrix}\\right]$"
      ],
      "text/plain": [
       "Matrix([\n",
       "[ 2, 3, -1, 4],\n",
       "[-1, 4,  1, 4],\n",
       "[ 1, 7,  0, 8]])"
      ]
     },
     "metadata": {},
     "output_type": "display_data"
    },
    {
     "data": {
      "text/latex": [
       "$\\displaystyle \\left[\\begin{matrix}2 & 3\\\\-1 & 4\\\\1 & 7\\end{matrix}\\right]$"
      ],
      "text/plain": [
       "Matrix([\n",
       "[ 2, 3],\n",
       "[-1, 4],\n",
       "[ 1, 7]])"
      ]
     },
     "metadata": {},
     "output_type": "display_data"
    },
    {
     "data": {
      "text/latex": [
       "$\\displaystyle \\left[\\begin{matrix}1 & 0 & - \\frac{7}{11} & \\frac{4}{11}\\\\0 & 1 & \\frac{1}{11} & \\frac{12}{11}\\end{matrix}\\right]$"
      ],
      "text/plain": [
       "Matrix([\n",
       "[1, 0, -7/11,  4/11],\n",
       "[0, 1,  1/11, 12/11]])"
      ]
     },
     "metadata": {},
     "output_type": "display_data"
    },
    {
     "data": {
      "text/latex": [
       "$\\displaystyle \\left[\\begin{matrix}\\frac{266}{1185} & - \\frac{253}{1185} & \\frac{13}{1185}\\\\- \\frac{41}{1185} & \\frac{88}{1185} & \\frac{47}{1185}\\\\- \\frac{173}{1185} & \\frac{169}{1185} & - \\frac{4}{1185}\\\\\\frac{52}{1185} & \\frac{4}{1185} & \\frac{56}{1185}\\end{matrix}\\right]$"
      ],
      "text/plain": [
       "Matrix([\n",
       "[ 266/1185, -253/1185, 13/1185],\n",
       "[ -41/1185,   88/1185, 47/1185],\n",
       "[-173/1185,  169/1185, -4/1185],\n",
       "[  52/1185,    4/1185, 56/1185]])"
      ]
     },
     "metadata": {},
     "output_type": "display_data"
    },
    {
     "data": {
      "text/plain": [
       "True"
      ]
     },
     "metadata": {},
     "output_type": "display_data"
    }
   ],
   "source": [
    "A_pinv_my = C.T*(C*C.T)**(-1)*(B.T*B)**(-1)*B.T\n",
    "display(A, B, C, A_pinv_my, A.pinv() == A_pinv_my)"
   ]
  },
  {
   "cell_type": "markdown",
   "metadata": {},
   "source": [
    "## Функции для работы с array.\n",
    "\n",
    "https://numpy.org/doc/stable/reference/routines.array-manipulation.html\n",
    "\n",
    "### Копирование\n",
    "При копировании с помощью присваивания получается новый указатель на тот же объект, а не физически независимая копия. Но при использовании операции умножения на число результат другой, сравните:"
   ]
  },
  {
   "cell_type": "code",
   "execution_count": 10,
   "metadata": {},
   "outputs": [
    {
     "data": {
      "text/plain": [
       "array([[1, 2, 3, 4],\n",
       "       [5, 6, 7, 8]])"
      ]
     },
     "metadata": {},
     "output_type": "display_data"
    },
    {
     "data": {
      "text/plain": [
       "array([[ 2,  4,  6,  8],\n",
       "       [10, 12, 14, 16]])"
      ]
     },
     "metadata": {},
     "output_type": "display_data"
    },
    {
     "data": {
      "text/plain": [
       "array([[-1,  2,  3,  4],\n",
       "       [ 5,  6,  7,  8]])"
      ]
     },
     "metadata": {},
     "output_type": "display_data"
    },
    {
     "data": {
      "text/plain": [
       "array([[  2,   4,   6,   8],\n",
       "       [ 10, 100,  14,  16]])"
      ]
     },
     "metadata": {},
     "output_type": "display_data"
    }
   ],
   "source": [
    "ar1 = np.array([[1, 2, 3, 4], [5, 6, 7, 8]])\n",
    "ar2 = 2*ar1\n",
    "display(ar1, ar2)\n",
    "ar1[0, 0] = -1\n",
    "ar2[1, 1] = 100\n",
    "display(ar1, ar2)"
   ]
  },
  {
   "cell_type": "markdown",
   "metadata": {},
   "source": [
    "ar1 и ar2 изменяются независимо\n",
    "\n",
    "Теперь не будем умножать:"
   ]
  },
  {
   "cell_type": "code",
   "execution_count": 11,
   "metadata": {},
   "outputs": [
    {
     "data": {
      "text/plain": [
       "array([[1, 2, 3, 4],\n",
       "       [5, 6, 7, 8]])"
      ]
     },
     "metadata": {},
     "output_type": "display_data"
    },
    {
     "data": {
      "text/plain": [
       "array([[1, 2, 3, 4],\n",
       "       [5, 6, 7, 8]])"
      ]
     },
     "metadata": {},
     "output_type": "display_data"
    },
    {
     "data": {
      "text/plain": [
       "array([[ -1,   2,   3,   4],\n",
       "       [  5, 100,   7,   8]])"
      ]
     },
     "metadata": {},
     "output_type": "display_data"
    },
    {
     "data": {
      "text/plain": [
       "array([[ -1,   2,   3,   4],\n",
       "       [  5, 100,   7,   8]])"
      ]
     },
     "metadata": {},
     "output_type": "display_data"
    }
   ],
   "source": [
    "ar1 = np.array([[1, 2, 3, 4], [5, 6, 7, 8]])\n",
    "ar2 = ar1\n",
    "display(ar1, ar2)\n",
    "ar1[0, 0] = -1\n",
    "ar2[1, 1] = 100\n",
    "display(ar1, ar2)"
   ]
  },
  {
   "cell_type": "markdown",
   "metadata": {},
   "source": [
    "Видно, что ar2 - это новый указатель на ar1.\n",
    "\n",
    "Умножим на 1:"
   ]
  },
  {
   "cell_type": "code",
   "execution_count": 12,
   "metadata": {},
   "outputs": [
    {
     "data": {
      "text/plain": [
       "array([[1, 2, 3, 4],\n",
       "       [5, 6, 7, 8]])"
      ]
     },
     "metadata": {},
     "output_type": "display_data"
    },
    {
     "data": {
      "text/plain": [
       "array([[1, 2, 3, 4],\n",
       "       [5, 6, 7, 8]])"
      ]
     },
     "metadata": {},
     "output_type": "display_data"
    },
    {
     "data": {
      "text/plain": [
       "array([[-1,  2,  3,  4],\n",
       "       [ 5,  6,  7,  8]])"
      ]
     },
     "metadata": {},
     "output_type": "display_data"
    },
    {
     "data": {
      "text/plain": [
       "array([[  1,   2,   3,   4],\n",
       "       [  5, 100,   7,   8]])"
      ]
     },
     "metadata": {},
     "output_type": "display_data"
    }
   ],
   "source": [
    "ar1 = np.array([[1, 2, 3, 4], [5, 6, 7, 8]])\n",
    "ar2 = 1*ar1\n",
    "display(ar1, ar2)\n",
    "ar1[0, 0] = -1\n",
    "ar2[1, 1] = 100\n",
    "display(ar1, ar2)"
   ]
  },
  {
   "cell_type": "markdown",
   "metadata": {},
   "source": [
    "Этот способ очень не рекомендуется применять в групповом или развивающемся проекте,\n",
    "поскольку велики шансы, что кто-нибудь решит убрать \"ненужную\" единицу и все сломается.\n",
    "\n",
    "Попробуйте все то же самое проделать с списком list. Тут умножение не помогает:"
   ]
  },
  {
   "cell_type": "code",
   "execution_count": 13,
   "metadata": {},
   "outputs": [
    {
     "data": {
      "text/plain": [
       "[[1, 2, 3, 4], [5, 6, 7, 8]]"
      ]
     },
     "metadata": {},
     "output_type": "display_data"
    },
    {
     "data": {
      "text/plain": [
       "[[1, 2, 3, 4], [5, 6, 7, 8]]"
      ]
     },
     "metadata": {},
     "output_type": "display_data"
    },
    {
     "data": {
      "text/plain": [
       "[[-1, 2, 3, 4], [5, 100, 7, 8]]"
      ]
     },
     "metadata": {},
     "output_type": "display_data"
    },
    {
     "data": {
      "text/plain": [
       "[[-1, 2, 3, 4], [5, 100, 7, 8]]"
      ]
     },
     "metadata": {},
     "output_type": "display_data"
    }
   ],
   "source": [
    "list1 = [[1, 2, 3, 4], [5, 6, 7, 8]]\n",
    "list2 = 1*list1\n",
    "display(list1, list2)\n",
    "list1[0][0] = -1\n",
    "list2[1][1] = 100\n",
    "display(list1, list2)"
   ]
  },
  {
   "cell_type": "markdown",
   "metadata": {},
   "source": [
    "### Копирование с numpy.copyto\n",
    "numpy.copyto(dst, src, casting='same_kind', where=True)\n",
    "\n",
    "dst - куда (копировать)\n",
    "\n",
    "src - что (копировать)\n",
    "\n",
    "dst и src - \n",
    "\n",
    "Скопируем ar1 в ar2"
   ]
  },
  {
   "cell_type": "code",
   "execution_count": 14,
   "metadata": {},
   "outputs": [
    {
     "data": {
      "text/plain": [
       "array([[-1,  2, -3,  4],\n",
       "       [ 5, -6,  7, -8]])"
      ]
     },
     "metadata": {},
     "output_type": "display_data"
    },
    {
     "data": {
      "text/plain": [
       "array([[-1,  2, -3,  4],\n",
       "       [ 5, -6,  7, -8]])"
      ]
     },
     "metadata": {},
     "output_type": "display_data"
    },
    {
     "data": {
      "text/plain": [
       "array([[555,   2,  -3,   4],\n",
       "       [  5,  -6,   7,  -8]])"
      ]
     },
     "metadata": {},
     "output_type": "display_data"
    },
    {
     "data": {
      "text/plain": [
       "array([[ -1,   2,  -3,   4],\n",
       "       [  5, 777,   7,  -8]])"
      ]
     },
     "metadata": {},
     "output_type": "display_data"
    }
   ],
   "source": [
    "ar1 = np.array([[-1, 2, -3, 4], [5, -6, 7, -8]])\n",
    "np.copyto(ar2, ar1)\n",
    "display(ar1, ar2)\n",
    "ar1[0, 0] = 555\n",
    "ar2[1, 1] = 777\n",
    "display(ar1, ar2)"
   ]
  },
  {
   "cell_type": "markdown",
   "metadata": {},
   "source": [
    "### numpy.asarray(a, dtype=None, order=None) \n",
    "возвращает array, полученный на основе аргумента a."
   ]
  },
  {
   "cell_type": "code",
   "execution_count": 15,
   "metadata": {},
   "outputs": [
    {
     "data": {
      "text/plain": [
       "([1, 2, 3], array([1, 2, 3]))"
      ]
     },
     "execution_count": 15,
     "metadata": {},
     "output_type": "execute_result"
    }
   ],
   "source": [
    "a = [1, 2, 3]\n",
    "b = np.asarray(a)\n",
    "a, b"
   ]
  },
  {
   "cell_type": "markdown",
   "metadata": {},
   "source": [
    "### numpy.concatenate((a1, a2, ...), axis=0, out=None)\n",
    "соединяет аргументы в один array"
   ]
  },
  {
   "cell_type": "code",
   "execution_count": 16,
   "metadata": {},
   "outputs": [
    {
     "data": {
      "text/plain": [
       "array([[555,   2,  -3],\n",
       "       [  5,  -6,   7],\n",
       "       [  1,   2,   3]])"
      ]
     },
     "execution_count": 16,
     "metadata": {},
     "output_type": "execute_result"
    }
   ],
   "source": [
    "np.concatenate((ar1[:, :-1], [a]))"
   ]
  },
  {
   "cell_type": "markdown",
   "metadata": {},
   "source": [
    "### numpy.stack(arrays, axis=0, out=None)\n",
    "соединяет аргументы в один array, все аргументы должны быть одинаковых размерностей:"
   ]
  },
  {
   "cell_type": "code",
   "execution_count": 17,
   "metadata": {},
   "outputs": [
    {
     "data": {
      "text/plain": [
       "array([[ 6,  7,  8],\n",
       "       [16,  0, -8]])"
      ]
     },
     "execution_count": 17,
     "metadata": {},
     "output_type": "execute_result"
    }
   ],
   "source": [
    "ar3 = np.array([6, 7, 8])\n",
    "ar4 = np.array([16, 0, -8])\n",
    "np.stack((ar3, ar4))"
   ]
  },
  {
   "cell_type": "markdown",
   "metadata": {},
   "source": [
    "### numpy.vstack(tup)"
   ]
  },
  {
   "cell_type": "code",
   "execution_count": 18,
   "metadata": {},
   "outputs": [
    {
     "data": {
      "text/plain": [
       "array([[ 6,  3],\n",
       "       [ 7,  4],\n",
       "       [ 8,  5],\n",
       "       [ 1, 16],\n",
       "       [ 2,  0],\n",
       "       [ 3, -8]])"
      ]
     },
     "execution_count": 18,
     "metadata": {},
     "output_type": "execute_result"
    }
   ],
   "source": [
    "ar3 = np.array([[6, 3], [7, 4], [8, 5]])\n",
    "ar4 = np.array([[1, 16], [2, 0], [3, -8]])\n",
    "np.vstack((ar3, ar4))"
   ]
  },
  {
   "cell_type": "markdown",
   "metadata": {},
   "source": [
    "Сравните с numpy.stack"
   ]
  },
  {
   "cell_type": "code",
   "execution_count": 19,
   "metadata": {},
   "outputs": [
    {
     "data": {
      "text/plain": [
       "array([[[ 6,  3],\n",
       "        [ 7,  4],\n",
       "        [ 8,  5]],\n",
       "\n",
       "       [[ 1, 16],\n",
       "        [ 2,  0],\n",
       "        [ 3, -8]]])"
      ]
     },
     "execution_count": 19,
     "metadata": {},
     "output_type": "execute_result"
    }
   ],
   "source": [
    "np.stack((ar3, ar4))"
   ]
  },
  {
   "cell_type": "markdown",
   "metadata": {},
   "source": [
    "### numpy.hstack(tup)"
   ]
  },
  {
   "cell_type": "code",
   "execution_count": 20,
   "metadata": {},
   "outputs": [
    {
     "data": {
      "text/plain": [
       "array([[ 6,  3,  1, 16],\n",
       "       [ 7,  4,  2,  0],\n",
       "       [ 8,  5,  3, -8]])"
      ]
     },
     "execution_count": 20,
     "metadata": {},
     "output_type": "execute_result"
    }
   ],
   "source": [
    "np.hstack((ar3, ar4))"
   ]
  }
 ],
 "metadata": {
  "kernelspec": {
   "display_name": "Python 3",
   "language": "python",
   "name": "python3"
  },
  "language_info": {
   "codemirror_mode": {
    "name": "ipython",
    "version": 3
   },
   "file_extension": ".py",
   "mimetype": "text/x-python",
   "name": "python",
   "nbconvert_exporter": "python",
   "pygments_lexer": "ipython3",
   "version": "3.7.3"
  }
 },
 "nbformat": 4,
 "nbformat_minor": 2
}
