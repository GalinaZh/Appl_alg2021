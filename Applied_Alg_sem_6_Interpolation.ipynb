{
  "nbformat": 4,
  "nbformat_minor": 0,
  "metadata": {
    "kernelspec": {
      "display_name": "Python 3",
      "language": "python",
      "name": "python3"
    },
    "colab": {
      "name": "Applied_Alg_sem_6_Interpolation.ipynb",
      "provenance": [],
      "collapsed_sections": [
        "rzF4qc53VnvE",
        "zugBxFZiVnvG",
        "MGUKDTo6VnvH",
        "1XC5Wo-VVnvL",
        "-DMIm1NtVnvM",
        "u4uqWrH0VnvN"
      ],
      "include_colab_link": true
    }
  },
  "cells": [
    {
      "cell_type": "markdown",
      "metadata": {
        "id": "view-in-github",
        "colab_type": "text"
      },
      "source": [
        "<a href=\"https://colab.research.google.com/github/GalinaZh/Appl_alg2021/blob/main/Applied_Alg_sem_6_Interpolation.ipynb\" target=\"_parent\"><img src=\"https://colab.research.google.com/assets/colab-badge.svg\" alt=\"Open In Colab\"/></a>"
      ]
    },
    {
      "cell_type": "markdown",
      "metadata": {
        "id": "fis1w-TTVnuw"
      },
      "source": [
        "# Занятие 5\n",
        "# Прикладная алгебра и численные методы\n",
        "## Интерполяция: полиномы Лагранжа, сплайны и кривые Безье"
      ]
    },
    {
      "cell_type": "code",
      "metadata": {
        "id": "mGFcxneQVnu6"
      },
      "source": [
        "import numpy as np\n",
        "import scipy.linalg\n",
        "import sympy\n",
        "from sympy import S\n",
        "import matplotlib.pyplot as plt\n",
        "from copy import deepcopy\n",
        "%matplotlib inline"
      ],
      "execution_count": null,
      "outputs": []
    },
    {
      "cell_type": "code",
      "metadata": {
        "colab": {
          "base_uri": "https://localhost:8080/"
        },
        "id": "8I2nsbIp-Tzb",
        "outputId": "6e4d2f5a-6c58-41ee-a198-9a00d5bbaa61"
      },
      "source": [
        "import sympy\r\n",
        "import numpy\r\n",
        "sympy.__version__, numpy.__version__"
      ],
      "execution_count": null,
      "outputs": [
        {
          "output_type": "execute_result",
          "data": {
            "text/plain": [
              "('1.7.1', '1.19.0')"
            ]
          },
          "metadata": {
            "tags": []
          },
          "execution_count": 1
        }
      ]
    },
    {
      "cell_type": "code",
      "metadata": {
        "colab": {
          "base_uri": "https://localhost:8080/",
          "height": 734
        },
        "id": "IeygYgLH-eEa",
        "outputId": "73cb0729-a6bf-4c84-8068-5312abab04a9"
      },
      "source": [
        "!python -m pip install sympy --upgrade\r\n",
        "!python -m pip install -U matplotlib\r\n",
        "!pip install numpy==1.19.0"
      ],
      "execution_count": null,
      "outputs": [
        {
          "output_type": "stream",
          "text": [
            "Collecting sympy\n",
            "\u001b[?25l  Downloading https://files.pythonhosted.org/packages/ff/69/b16fc81b939d3efdd0b552f2e3e54f7fa1423d0c320cced2e69e675dde26/sympy-1.7.1-py3-none-any.whl (5.9MB)\n",
            "\u001b[K     |████████████████████████████████| 5.9MB 7.9MB/s \n",
            "\u001b[?25hRequirement already satisfied, skipping upgrade: mpmath>=0.19 in /usr/local/lib/python3.6/dist-packages (from sympy) (1.1.0)\n",
            "Installing collected packages: sympy\n",
            "  Found existing installation: sympy 1.1.1\n",
            "    Uninstalling sympy-1.1.1:\n",
            "      Successfully uninstalled sympy-1.1.1\n",
            "Successfully installed sympy-1.7.1\n",
            "Collecting matplotlib\n",
            "\u001b[?25l  Downloading https://files.pythonhosted.org/packages/09/03/b7b30fa81cb687d1178e085d0f01111ceaea3bf81f9330c937fb6f6c8ca0/matplotlib-3.3.4-cp36-cp36m-manylinux1_x86_64.whl (11.5MB)\n",
            "\u001b[K     |████████████████████████████████| 11.5MB 7.4MB/s \n",
            "\u001b[?25hRequirement already satisfied, skipping upgrade: pyparsing!=2.0.4,!=2.1.2,!=2.1.6,>=2.0.3 in /usr/local/lib/python3.6/dist-packages (from matplotlib) (2.4.7)\n",
            "Requirement already satisfied, skipping upgrade: numpy>=1.15 in /usr/local/lib/python3.6/dist-packages (from matplotlib) (1.19.5)\n",
            "Requirement already satisfied, skipping upgrade: pillow>=6.2.0 in /usr/local/lib/python3.6/dist-packages (from matplotlib) (7.0.0)\n",
            "Requirement already satisfied, skipping upgrade: kiwisolver>=1.0.1 in /usr/local/lib/python3.6/dist-packages (from matplotlib) (1.3.1)\n",
            "Requirement already satisfied, skipping upgrade: python-dateutil>=2.1 in /usr/local/lib/python3.6/dist-packages (from matplotlib) (2.8.1)\n",
            "Requirement already satisfied, skipping upgrade: cycler>=0.10 in /usr/local/lib/python3.6/dist-packages (from matplotlib) (0.10.0)\n",
            "Requirement already satisfied, skipping upgrade: six>=1.5 in /usr/local/lib/python3.6/dist-packages (from python-dateutil>=2.1->matplotlib) (1.15.0)\n",
            "\u001b[31mERROR: albumentations 0.1.12 has requirement imgaug<0.2.7,>=0.2.5, but you'll have imgaug 0.2.9 which is incompatible.\u001b[0m\n",
            "Installing collected packages: matplotlib\n",
            "  Found existing installation: matplotlib 3.2.2\n",
            "    Uninstalling matplotlib-3.2.2:\n",
            "      Successfully uninstalled matplotlib-3.2.2\n",
            "Successfully installed matplotlib-3.3.4\n",
            "Collecting numpy==1.19.0\n",
            "\u001b[?25l  Downloading https://files.pythonhosted.org/packages/93/0b/71ae818646c1a80fbe6776d41f480649523ed31243f1f34d9d7e41d70195/numpy-1.19.0-cp36-cp36m-manylinux2010_x86_64.whl (14.6MB)\n",
            "\u001b[K     |████████████████████████████████| 14.6MB 213kB/s \n",
            "\u001b[31mERROR: tensorflow 2.4.1 has requirement numpy~=1.19.2, but you'll have numpy 1.19.0 which is incompatible.\u001b[0m\n",
            "\u001b[31mERROR: datascience 0.10.6 has requirement folium==0.2.1, but you'll have folium 0.8.3 which is incompatible.\u001b[0m\n",
            "\u001b[31mERROR: albumentations 0.1.12 has requirement imgaug<0.2.7,>=0.2.5, but you'll have imgaug 0.2.9 which is incompatible.\u001b[0m\n",
            "\u001b[?25hInstalling collected packages: numpy\n",
            "  Found existing installation: numpy 1.19.5\n",
            "    Uninstalling numpy-1.19.5:\n",
            "      Successfully uninstalled numpy-1.19.5\n",
            "Successfully installed numpy-1.19.0\n"
          ],
          "name": "stdout"
        },
        {
          "output_type": "display_data",
          "data": {
            "application/vnd.colab-display-data+json": {
              "pip_warning": {
                "packages": [
                  "numpy"
                ]
              }
            }
          },
          "metadata": {
            "tags": []
          }
        }
      ]
    },
    {
      "cell_type": "code",
      "metadata": {
        "id": "PAkxl_bYer7c"
      },
      "source": [
        "sympy.init_printing(use_unicode=False, wrap_line=False, no_global=True)"
      ],
      "execution_count": null,
      "outputs": []
    },
    {
      "cell_type": "markdown",
      "metadata": {
        "id": "XMPgEBNnVnu8"
      },
      "source": [
        "## Многочлен Лагранжа\n",
        "$$\n",
        "f(x) = L(x) = \\sum_{i=1}^n y_i \n",
        "\\frac{(x - x_0)(x - x_1)...(x - x_{i-1})(x - x_{i+1})...(x - x_n)}{(x_i - x_0)(x_i - x_1)...(x_i - x_{i-1})(x_i - x_{i+1})...(x_i - x_n)}, \n",
        "\\quad y_i = f(x_i), \\quad i = 0, ..., n.\n",
        "$$\n",
        "## Пример 1\n",
        "Построить параболу по трем точкам (-1, -2), (0, -1), (1, 2)."
      ]
    },
    {
      "cell_type": "code",
      "metadata": {
        "colab": {
          "base_uri": "https://localhost:8080/",
          "height": 60
        },
        "id": "9xOVWZH8Vnu9",
        "outputId": "b16372b1-213f-48dc-d021-cf42334ca569"
      },
      "source": [
        "x = S('x')\n",
        "X = (-1, 0, 1)\n",
        "Y = (-2, -1, 2)\n",
        "L = 0\n",
        "for i in range(3):\n",
        "    Li = Y[i]\n",
        "    for j in range(3):\n",
        "        if i != j:\n",
        "            Li *= (x - X[j])/(X[i] - X[j])\n",
        "    L += Li\n",
        "display(L, sympy.simplify(sympy.expand(L)))  "
      ],
      "execution_count": null,
      "outputs": [
        {
          "output_type": "display_data",
          "data": {
            "image/png": "[encoded data removed]",
            "text/latex": "$$2 x \\left(- \\frac{x}{2} + \\frac{1}{2}\\right) + x \\left(x + 1\\right) + \\left(- x - 1\\right) \\left(- x + 1\\right)$$",
            "text/plain": [
              "    /  x   1\\                                \n",
              "2*x*|- - + -| + x*(x + 1) + (-x - 1)*(-x + 1)\n",
              "    \\  2   2/                                "
            ]
          },
          "metadata": {
            "tags": []
          }
        },
        {
          "output_type": "display_data",
          "data": {
            "image/png": "[encoded data removed]",
            "text/latex": "$$x^{2} + 2 x - 1$$",
            "text/plain": [
              " 2          \n",
              "x  + 2*x - 1"
            ]
          },
          "metadata": {
            "tags": []
          }
        }
      ]
    },
    {
      "cell_type": "markdown",
      "metadata": {
        "id": "xnBC98kbVnu-"
      },
      "source": [
        "## Пример 2 Линейная регрессия\n",
        "Для данных Примера 1 построим параболу методом линейной регрессии (исключительно для тренировки и повторения, в жизни так не делают!)\n",
        "\n",
        "Составим матрицу  из $A$ из значений $x$ и $x^2$ и матрицу $Y$, далее все как обычно - псевдообратная матрица и произведение псевдообратной к  $A$ и  $Y$:"
      ]
    },
    {
      "cell_type": "code",
      "metadata": {
        "colab": {
          "base_uri": "https://localhost:8080/",
          "height": 140
        },
        "id": "T2c-aXKIVnu_",
        "outputId": "a1cfb3e5-bdd0-4eab-ff86-0dfa57ad17d5"
      },
      "source": [
        "X2 = [ -1, 0, 1]\n",
        "A2 = np.array([[1, item, item**2] for item in X2])\n",
        "Y2 = np.array([[-2], [-1], [2]])\n",
        "res2 = np.matmul(np.linalg.pinv(A2), Y2)\n",
        "a2, b2, c2 = [round(item, 2) for item in  res2[:, 0]]\n",
        "display('A', A2,'Y', Y)\n",
        "print('a =', a2, 'b =', b2, 'c =', c2)"
      ],
      "execution_count": null,
      "outputs": [
        {
          "output_type": "display_data",
          "data": {
            "application/vnd.google.colaboratory.intrinsic+json": {
              "type": "string"
            },
            "text/plain": [
              "'A'"
            ]
          },
          "metadata": {
            "tags": []
          }
        },
        {
          "output_type": "display_data",
          "data": {
            "text/plain": [
              "array([[ 1, -1,  1],\n",
              "       [ 1,  0,  0],\n",
              "       [ 1,  1,  1]])"
            ]
          },
          "metadata": {
            "tags": []
          }
        },
        {
          "output_type": "display_data",
          "data": {
            "application/vnd.google.colaboratory.intrinsic+json": {
              "type": "string"
            },
            "text/plain": [
              "'Y'"
            ]
          },
          "metadata": {
            "tags": []
          }
        },
        {
          "output_type": "display_data",
          "data": {
            "image/png": "[encoded data removed]",
            "text/latex": "$$\\left ( -2, \\quad -1, \\quad 2\\right )$$",
            "text/plain": [
              "(-2, -1, 2)"
            ]
          },
          "metadata": {
            "tags": []
          }
        },
        {
          "output_type": "stream",
          "text": [
            "a = -1.0 b = 2.0 c = 1.0\n"
          ],
          "name": "stdout"
        }
      ]
    },
    {
      "cell_type": "markdown",
      "metadata": {
        "id": "uX5I0zBKVnvA"
      },
      "source": [
        "Изобразим на графике точки исходных данных и полученную линию регрессии:"
      ]
    },
    {
      "cell_type": "code",
      "metadata": {
        "colab": {
          "base_uri": "https://localhost:8080/",
          "height": 282
        },
        "id": "eqJl58rSVnvB",
        "outputId": "f6f46b18-43b8-4902-dbad-a9a830b654d7"
      },
      "source": [
        "X_ls2 = np.linspace(X2[0], X2[-1])\n",
        "plt.plot(X_ls2, a2 + b2*X_ls2 + c2*X_ls2**2, label='$y = {a} + {b}x + {c}x^2$'.format(a=round(a2), \n",
        "                                                                                      b=round(b2), c=round(c2)))\n",
        "plt.scatter(X2, Y2, color='red', label='data')\n",
        "plt.grid()\n",
        "plt.legend()"
      ],
      "execution_count": null,
      "outputs": [
        {
          "output_type": "execute_result",
          "data": {
            "text/plain": [
              "<matplotlib.legend.Legend at 0x7fac9e120048>"
            ]
          },
          "metadata": {
            "tags": []
          },
          "execution_count": 6
        },
        {
          "output_type": "display_data",
          "data": {
            "image/png": "[encoded data removed]",
            "text/plain": [
              "<Figure size 432x288 with 1 Axes>"
            ]
          },
          "metadata": {
            "tags": [],
            "needs_background": "light"
          }
        }
      ]
    },
    {
      "cell_type": "markdown",
      "metadata": {
        "id": "oQJM4rJVVnvB"
      },
      "source": [
        "## Пример 3 Линейная регрессия\n",
        "Для данных точек построим наилучшую в смысле среднеквадратического отклонения параболу методом линейной регрессии.\n",
        "$$\n",
        "\\begin{matrix}\n",
        "X & -3 & -1 & 0 & 1 & 3\\\\\n",
        "Y & -4 & -0.8 & 1.6 & 2.3 & 1.5\n",
        "\\end{matrix}\n",
        "$$"
      ]
    },
    {
      "cell_type": "code",
      "metadata": {
        "colab": {
          "base_uri": "https://localhost:8080/"
        },
        "id": "x9fBunXGVnvC",
        "outputId": "84e6b7c0-16df-41a5-ba54-c0f460cea08b"
      },
      "source": [
        "X3 = [ -3, -1, 0, 1, 3]\n",
        "A3 = np.array([[1, item, item**2] for item in X3])\n",
        "Y3 = np.array([[-4], [-0.8], [1.6], [2.3], [1.5]])\n",
        "res3 = np.matmul(np.linalg.pinv(A3), Y3)\n",
        "a3, b3, c3 = [round(item, 2) for item in  res3[:, 0]]\n",
        "print('a =', a3, 'b =', b3, 'c =', c3)"
      ],
      "execution_count": null,
      "outputs": [
        {
          "output_type": "stream",
          "text": [
            "a = 1.23 b = 0.98 c = -0.28\n"
          ],
          "name": "stdout"
        }
      ]
    },
    {
      "cell_type": "markdown",
      "metadata": {
        "id": "XzUpFgehVnvC"
      },
      "source": [
        "Построим график, отметим на нем исходные точки."
      ]
    },
    {
      "cell_type": "code",
      "metadata": {
        "scrolled": true,
        "colab": {
          "base_uri": "https://localhost:8080/",
          "height": 265
        },
        "id": "0V0Ub5ruVnvD",
        "outputId": "a6f03d61-0749-406f-f6f9-02f2275cf725"
      },
      "source": [
        "X_ls = np.linspace(X3[0], X3[-1])\n",
        "plt.plot(X_ls, a3 + b3*X_ls + c3*X_ls**2)\n",
        "plt.scatter(X3, Y3, color='red')\n",
        "plt.grid()"
      ],
      "execution_count": null,
      "outputs": [
        {
          "output_type": "display_data",
          "data": {
            "image/png": "[encoded data removed]",
            "text/plain": [
              "<Figure size 432x288 with 1 Axes>"
            ]
          },
          "metadata": {
            "tags": [],
            "needs_background": "light"
          }
        }
      ]
    },
    {
      "cell_type": "markdown",
      "metadata": {
        "id": "HP-oIIrKVnvE"
      },
      "source": [
        "## Пример 4\n",
        "Построим полином Лагранжа для данных Примера 3:"
      ]
    },
    {
      "cell_type": "code",
      "metadata": {
        "colab": {
          "base_uri": "https://localhost:8080/",
          "height": 306
        },
        "id": "xvfF-YgRVnvE",
        "outputId": "415041b3-e3dd-443e-8459-db3643d7c557"
      },
      "source": [
        "x = S('x')\n",
        "Y3 = [-4, -S(8)/10, S(16)/10, S(23)/10, S(15)/10]\n",
        "L3 = 0\n",
        "n = len(X3)\n",
        "for i, Li in enumerate(Y3):\n",
        "    for j in range(n):\n",
        "        if i != j:\n",
        "            Li *= (x - X3[j])/(X3[i] - X3[j])\n",
        "    L3 += Li\n",
        "L3 = sympy.simplify(sympy.expand(L3))    \n",
        "display(L3)\n",
        "X_ls = np.linspace(X3[0], X3[-1])\n",
        "Y_regr = [L3.subs(x, item) for item in X_ls]\n",
        "plt.plot(X_ls, Y_regr, label=sympy.latex(sympy.Eq(S('y'), L3), mode='inline'))\n",
        "plt.scatter(X3, Y3, color='red', label='data')\n",
        "plt.grid()\n",
        "plt.legend()"
      ],
      "execution_count": null,
      "outputs": [
        {
          "output_type": "display_data",
          "data": {
            "image/png": "[encoded data removed]",
            "text/latex": "$$\\frac{x^{4}}{15} - \\frac{19 x^{3}}{240} - \\frac{11 x^{2}}{12} + \\frac{391 x}{240} + \\frac{8}{5}$$",
            "text/plain": [
              " 4       3       2            \n",
              "x    19*x    11*x    391*x   8\n",
              "-- - ----- - ----- + ----- + -\n",
              "15    240      12     240    5"
            ]
          },
          "metadata": {
            "tags": []
          }
        },
        {
          "output_type": "execute_result",
          "data": {
            "text/plain": [
              "<matplotlib.legend.Legend at 0x7fac9df6a630>"
            ]
          },
          "metadata": {
            "tags": []
          },
          "execution_count": 9
        },
        {
          "output_type": "display_data",
          "data": {
            "image/png": "[encoded data removed]",
            "text/plain": [
              "<Figure size 432x288 with 1 Axes>"
            ]
          },
          "metadata": {
            "tags": [],
            "needs_background": "light"
          }
        }
      ]
    },
    {
      "cell_type": "markdown",
      "metadata": {
        "id": "rzF4qc53VnvE"
      },
      "source": [
        "## Многочлен Лагранжа с scipy.interpolate.lagrange\n",
        "## Пример 5\n",
        "Построим полином Лагранжа для данных Примера 3 с помощью scipy.interpolate.lagrange"
      ]
    },
    {
      "cell_type": "code",
      "metadata": {
        "id": "9eBL1-f7VnvF"
      },
      "source": [
        "from scipy.interpolate import lagrange\n",
        "from numpy.polynomial.polynomial import Polynomial"
      ],
      "execution_count": null,
      "outputs": []
    },
    {
      "cell_type": "code",
      "metadata": {
        "colab": {
          "base_uri": "https://localhost:8080/"
        },
        "id": "0FR1V12BVnvF",
        "outputId": "b2f2cf35-011a-49ad-bd44-2f021f3c562a"
      },
      "source": [
        "poly = lagrange(X3, Y3)\n",
        "Polynomial(poly).coef"
      ],
      "execution_count": null,
      "outputs": [
        {
          "output_type": "execute_result",
          "data": {
            "text/plain": [
              "array([0.0666666666666667, -0.0791666666666667, -0.916666666666667,\n",
              "       1.62916666666667, 1.60000000000000], dtype=object)"
            ]
          },
          "metadata": {
            "tags": []
          },
          "execution_count": 11
        }
      ]
    },
    {
      "cell_type": "markdown",
      "metadata": {
        "id": "dNyuDK4MVnvF"
      },
      "source": [
        "Сравним с полученными ранее коэффициентами:"
      ]
    },
    {
      "cell_type": "code",
      "metadata": {
        "colab": {
          "base_uri": "https://localhost:8080/",
          "height": 37
        },
        "id": "IT1uqId-VnvF",
        "outputId": "7f0c70be-0bdb-4d7c-fd36-7197be5ed683"
      },
      "source": [
        "coeffs = L3.as_coefficients_dict()\n",
        "res = [round(coeffs[item], 8) for item in [x**k for k in range(len(coeffs))]]\n",
        "res.reverse()\n",
        "res"
      ],
      "execution_count": null,
      "outputs": [
        {
          "output_type": "execute_result",
          "data": {
            "image/png": "[encoded data removed]",
            "text/latex": "$$\\left [ 0.06666667, \\quad -0.07916667, \\quad -0.91666667, \\quad 1.62916667, \\quad 1.6\\right ]$$",
            "text/plain": [
              "[0.06666667, -0.07916667, -0.91666667, 1.62916667, 1.6]"
            ]
          },
          "metadata": {
            "tags": []
          },
          "execution_count": 12
        }
      ]
    },
    {
      "cell_type": "markdown",
      "metadata": {
        "id": "zugBxFZiVnvG"
      },
      "source": [
        "## Квадратичный сплайн\n",
        "\n",
        "## Пример 7\n",
        "Аппроксимировать $f(x) = x^3 - 6x^2 + 11 x - 6$ на отрезке $[0, 4]$ квадратичным сплайном с узлами 0, 2, 4."
      ]
    },
    {
      "cell_type": "code",
      "metadata": {
        "colab": {
          "base_uri": "https://localhost:8080/",
          "height": 374
        },
        "id": "5dNVlQimVnvG",
        "outputId": "c972347d-2e43-4dc0-a1c5-ffc9ab68c757"
      },
      "source": [
        "def spl2(a0, a1, a2, x):\n",
        "    return a0 + a1*x + a2*x**2\n",
        "def dspl2(a0, a1, a2, x, x0):\n",
        "    return spl2(a0, a1, a2, x).diff(x).subs(x, x0)\n",
        "def f(x):\n",
        "    return x**3 - 6*x**2 + 11*x - 6\n",
        "def df(x, x0):\n",
        "    return f(x).diff(x).subs(x, x0)\n",
        "x0 = 0\n",
        "x1 = 2\n",
        "x2 = 4\n",
        "f0, f1, f2 = [f(xi) for xi in (x0, x1, x2)]\n",
        "df0 = df(x, x0)\n",
        "a0, a1, a2, x = sympy.symbols('a0:3 x')\n",
        "sys1 = [sympy.Eq(dspl2(a0, a1, a2, x, x0), df0), sympy.Eq(spl2(a0, a1, a2, x0), f0), sympy.Eq(spl2(a0, a1, a2, x1), f1)]\n",
        "display(*sys1)"
      ],
      "execution_count": null,
      "outputs": [
        {
          "output_type": "error",
          "ename": "TypeError",
          "evalue": "ignored",
          "traceback": [
            "\u001b[0;31m---------------------------------------------------------------------------\u001b[0m",
            "\u001b[0;31mTypeError\u001b[0m                                 Traceback (most recent call last)",
            "\u001b[0;32m<ipython-input-37-7dde535e1517>\u001b[0m in \u001b[0;36m<module>\u001b[0;34m()\u001b[0m\n\u001b[1;32m     11\u001b[0m \u001b[0mx2\u001b[0m \u001b[0;34m=\u001b[0m \u001b[0;36m4\u001b[0m\u001b[0;34m\u001b[0m\u001b[0;34m\u001b[0m\u001b[0m\n\u001b[1;32m     12\u001b[0m \u001b[0mf0\u001b[0m\u001b[0;34m,\u001b[0m \u001b[0mf1\u001b[0m\u001b[0;34m,\u001b[0m \u001b[0mf2\u001b[0m \u001b[0;34m=\u001b[0m \u001b[0;34m[\u001b[0m\u001b[0mf\u001b[0m\u001b[0;34m(\u001b[0m\u001b[0mxi\u001b[0m\u001b[0;34m)\u001b[0m \u001b[0;32mfor\u001b[0m \u001b[0mxi\u001b[0m \u001b[0;32min\u001b[0m \u001b[0;34m(\u001b[0m\u001b[0mx0\u001b[0m\u001b[0;34m,\u001b[0m \u001b[0mx1\u001b[0m\u001b[0;34m,\u001b[0m \u001b[0mx2\u001b[0m\u001b[0;34m)\u001b[0m\u001b[0;34m]\u001b[0m\u001b[0;34m\u001b[0m\u001b[0;34m\u001b[0m\u001b[0m\n\u001b[0;32m---> 13\u001b[0;31m \u001b[0mdf0\u001b[0m \u001b[0;34m=\u001b[0m \u001b[0mdf\u001b[0m\u001b[0;34m(\u001b[0m\u001b[0mx\u001b[0m\u001b[0;34m,\u001b[0m \u001b[0mx0\u001b[0m\u001b[0;34m)\u001b[0m\u001b[0;34m\u001b[0m\u001b[0;34m\u001b[0m\u001b[0m\n\u001b[0m\u001b[1;32m     14\u001b[0m \u001b[0ma0\u001b[0m\u001b[0;34m,\u001b[0m \u001b[0ma1\u001b[0m\u001b[0;34m,\u001b[0m \u001b[0ma2\u001b[0m\u001b[0;34m,\u001b[0m \u001b[0mx\u001b[0m \u001b[0;34m=\u001b[0m \u001b[0msympy\u001b[0m\u001b[0;34m.\u001b[0m\u001b[0msymbols\u001b[0m\u001b[0;34m(\u001b[0m\u001b[0;34m'a0:3 x'\u001b[0m\u001b[0;34m)\u001b[0m\u001b[0;34m\u001b[0m\u001b[0;34m\u001b[0m\u001b[0m\n\u001b[1;32m     15\u001b[0m \u001b[0msys1\u001b[0m \u001b[0;34m=\u001b[0m \u001b[0;34m[\u001b[0m\u001b[0msympy\u001b[0m\u001b[0;34m.\u001b[0m\u001b[0mEq\u001b[0m\u001b[0;34m(\u001b[0m\u001b[0mdspl2\u001b[0m\u001b[0;34m(\u001b[0m\u001b[0ma0\u001b[0m\u001b[0;34m,\u001b[0m \u001b[0ma1\u001b[0m\u001b[0;34m,\u001b[0m \u001b[0ma2\u001b[0m\u001b[0;34m,\u001b[0m \u001b[0mx\u001b[0m\u001b[0;34m,\u001b[0m \u001b[0mx0\u001b[0m\u001b[0;34m)\u001b[0m\u001b[0;34m,\u001b[0m \u001b[0mdf0\u001b[0m\u001b[0;34m)\u001b[0m\u001b[0;34m,\u001b[0m \u001b[0msympy\u001b[0m\u001b[0;34m.\u001b[0m\u001b[0mEq\u001b[0m\u001b[0;34m(\u001b[0m\u001b[0mspl2\u001b[0m\u001b[0;34m(\u001b[0m\u001b[0ma0\u001b[0m\u001b[0;34m,\u001b[0m \u001b[0ma1\u001b[0m\u001b[0;34m,\u001b[0m \u001b[0ma2\u001b[0m\u001b[0;34m,\u001b[0m \u001b[0mx0\u001b[0m\u001b[0;34m)\u001b[0m\u001b[0;34m,\u001b[0m \u001b[0mf0\u001b[0m\u001b[0;34m)\u001b[0m\u001b[0;34m,\u001b[0m \u001b[0msympy\u001b[0m\u001b[0;34m.\u001b[0m\u001b[0mEq\u001b[0m\u001b[0;34m(\u001b[0m\u001b[0mspl2\u001b[0m\u001b[0;34m(\u001b[0m\u001b[0ma0\u001b[0m\u001b[0;34m,\u001b[0m \u001b[0ma1\u001b[0m\u001b[0;34m,\u001b[0m \u001b[0ma2\u001b[0m\u001b[0;34m,\u001b[0m \u001b[0mx1\u001b[0m\u001b[0;34m)\u001b[0m\u001b[0;34m,\u001b[0m \u001b[0mf1\u001b[0m\u001b[0;34m)\u001b[0m\u001b[0;34m]\u001b[0m\u001b[0;34m\u001b[0m\u001b[0;34m\u001b[0m\u001b[0m\n",
            "\u001b[0;32m<ipython-input-37-7dde535e1517>\u001b[0m in \u001b[0;36mdf\u001b[0;34m(x, x0)\u001b[0m\n\u001b[1;32m      6\u001b[0m     \u001b[0;32mreturn\u001b[0m \u001b[0mx\u001b[0m\u001b[0;34m**\u001b[0m\u001b[0;36m3\u001b[0m \u001b[0;34m-\u001b[0m \u001b[0;36m6\u001b[0m\u001b[0;34m*\u001b[0m\u001b[0mx\u001b[0m\u001b[0;34m**\u001b[0m\u001b[0;36m2\u001b[0m \u001b[0;34m+\u001b[0m \u001b[0;36m11\u001b[0m\u001b[0;34m*\u001b[0m\u001b[0mx\u001b[0m \u001b[0;34m-\u001b[0m \u001b[0;36m6\u001b[0m\u001b[0;34m\u001b[0m\u001b[0;34m\u001b[0m\u001b[0m\n\u001b[1;32m      7\u001b[0m \u001b[0;32mdef\u001b[0m \u001b[0mdf\u001b[0m\u001b[0;34m(\u001b[0m\u001b[0mx\u001b[0m\u001b[0;34m,\u001b[0m \u001b[0mx0\u001b[0m\u001b[0;34m)\u001b[0m\u001b[0;34m:\u001b[0m\u001b[0;34m\u001b[0m\u001b[0;34m\u001b[0m\u001b[0m\n\u001b[0;32m----> 8\u001b[0;31m     \u001b[0;32mreturn\u001b[0m \u001b[0mf\u001b[0m\u001b[0;34m(\u001b[0m\u001b[0mx\u001b[0m\u001b[0;34m)\u001b[0m\u001b[0;34m.\u001b[0m\u001b[0mdiff\u001b[0m\u001b[0;34m(\u001b[0m\u001b[0mx\u001b[0m\u001b[0;34m)\u001b[0m\u001b[0;34m.\u001b[0m\u001b[0msubs\u001b[0m\u001b[0;34m(\u001b[0m\u001b[0mx\u001b[0m\u001b[0;34m,\u001b[0m \u001b[0mx0\u001b[0m\u001b[0;34m)\u001b[0m\u001b[0;34m\u001b[0m\u001b[0;34m\u001b[0m\u001b[0m\n\u001b[0m\u001b[1;32m      9\u001b[0m \u001b[0mx0\u001b[0m \u001b[0;34m=\u001b[0m \u001b[0;36m0\u001b[0m\u001b[0;34m\u001b[0m\u001b[0;34m\u001b[0m\u001b[0m\n\u001b[1;32m     10\u001b[0m \u001b[0mx1\u001b[0m \u001b[0;34m=\u001b[0m \u001b[0;36m2\u001b[0m\u001b[0;34m\u001b[0m\u001b[0;34m\u001b[0m\u001b[0m\n",
            "\u001b[0;32m<ipython-input-37-7dde535e1517>\u001b[0m in \u001b[0;36mf\u001b[0;34m(x)\u001b[0m\n\u001b[1;32m      4\u001b[0m     \u001b[0;32mreturn\u001b[0m \u001b[0mspl2\u001b[0m\u001b[0;34m(\u001b[0m\u001b[0ma0\u001b[0m\u001b[0;34m,\u001b[0m \u001b[0ma1\u001b[0m\u001b[0;34m,\u001b[0m \u001b[0ma2\u001b[0m\u001b[0;34m,\u001b[0m \u001b[0mx\u001b[0m\u001b[0;34m)\u001b[0m\u001b[0;34m.\u001b[0m\u001b[0mdiff\u001b[0m\u001b[0;34m(\u001b[0m\u001b[0mx\u001b[0m\u001b[0;34m)\u001b[0m\u001b[0;34m.\u001b[0m\u001b[0msubs\u001b[0m\u001b[0;34m(\u001b[0m\u001b[0mx\u001b[0m\u001b[0;34m,\u001b[0m \u001b[0mx0\u001b[0m\u001b[0;34m)\u001b[0m\u001b[0;34m\u001b[0m\u001b[0;34m\u001b[0m\u001b[0m\n\u001b[1;32m      5\u001b[0m \u001b[0;32mdef\u001b[0m \u001b[0mf\u001b[0m\u001b[0;34m(\u001b[0m\u001b[0mx\u001b[0m\u001b[0;34m)\u001b[0m\u001b[0;34m:\u001b[0m\u001b[0;34m\u001b[0m\u001b[0;34m\u001b[0m\u001b[0m\n\u001b[0;32m----> 6\u001b[0;31m     \u001b[0;32mreturn\u001b[0m \u001b[0mx\u001b[0m\u001b[0;34m**\u001b[0m\u001b[0;36m3\u001b[0m \u001b[0;34m-\u001b[0m \u001b[0;36m6\u001b[0m\u001b[0;34m*\u001b[0m\u001b[0mx\u001b[0m\u001b[0;34m**\u001b[0m\u001b[0;36m2\u001b[0m \u001b[0;34m+\u001b[0m \u001b[0;36m11\u001b[0m\u001b[0;34m*\u001b[0m\u001b[0mx\u001b[0m \u001b[0;34m-\u001b[0m \u001b[0;36m6\u001b[0m\u001b[0;34m\u001b[0m\u001b[0;34m\u001b[0m\u001b[0m\n\u001b[0m\u001b[1;32m      7\u001b[0m \u001b[0;32mdef\u001b[0m \u001b[0mdf\u001b[0m\u001b[0;34m(\u001b[0m\u001b[0mx\u001b[0m\u001b[0;34m,\u001b[0m \u001b[0mx0\u001b[0m\u001b[0;34m)\u001b[0m\u001b[0;34m:\u001b[0m\u001b[0;34m\u001b[0m\u001b[0;34m\u001b[0m\u001b[0m\n\u001b[1;32m      8\u001b[0m     \u001b[0;32mreturn\u001b[0m \u001b[0mf\u001b[0m\u001b[0;34m(\u001b[0m\u001b[0mx\u001b[0m\u001b[0;34m)\u001b[0m\u001b[0;34m.\u001b[0m\u001b[0mdiff\u001b[0m\u001b[0;34m(\u001b[0m\u001b[0mx\u001b[0m\u001b[0;34m)\u001b[0m\u001b[0;34m.\u001b[0m\u001b[0msubs\u001b[0m\u001b[0;34m(\u001b[0m\u001b[0mx\u001b[0m\u001b[0;34m,\u001b[0m \u001b[0mx0\u001b[0m\u001b[0;34m)\u001b[0m\u001b[0;34m\u001b[0m\u001b[0;34m\u001b[0m\u001b[0m\n",
            "\u001b[0;31mTypeError\u001b[0m: unsupported operand type(s) for ** or pow(): 'list' and 'int'"
          ]
        }
      ]
    },
    {
      "cell_type": "code",
      "metadata": {
        "colab": {
          "base_uri": "https://localhost:8080/",
          "height": 231
        },
        "id": "jGkbAPeWVnvG",
        "outputId": "391e9e37-5d52-43e0-9710-22257965c505"
      },
      "source": [
        "res1 = sympy.solve(sys1)\n",
        "spline1 = res1[a0] + res1[a1]*x + res1[a2]*x**2\n",
        "display(res1, spline1)\n",
        "df1 = spline1.diff(x).subs(x, x1)\n",
        "sys2 = [sympy.Eq(dspl2(a0, a1, a2, x, x1), df1), \n",
        "                   sympy.Eq(spl2(a0, a1, a2, x1), f1), \n",
        "                   sympy.Eq(spl2(a0, a1, a2, x2), f2)]\n",
        "res2 = sympy.solve(sys2)\n",
        "\n",
        "spline2 = res2[a0] + res2[a1]*x + res2[a2]*x**2\n",
        "display(*sys2, spline2)"
      ],
      "execution_count": null,
      "outputs": [
        {
          "output_type": "error",
          "ename": "TypeError",
          "evalue": "ignored",
          "traceback": [
            "\u001b[0;31m---------------------------------------------------------------------------\u001b[0m",
            "\u001b[0;31mTypeError\u001b[0m                                 Traceback (most recent call last)",
            "\u001b[0;32m<ipython-input-36-ef687cb4cd78>\u001b[0m in \u001b[0;36m<module>\u001b[0;34m()\u001b[0m\n\u001b[1;32m      1\u001b[0m \u001b[0mres1\u001b[0m \u001b[0;34m=\u001b[0m \u001b[0msympy\u001b[0m\u001b[0;34m.\u001b[0m\u001b[0msolve\u001b[0m\u001b[0;34m(\u001b[0m\u001b[0msys1\u001b[0m\u001b[0;34m)\u001b[0m\u001b[0;34m\u001b[0m\u001b[0;34m\u001b[0m\u001b[0m\n\u001b[0;32m----> 2\u001b[0;31m \u001b[0mspline1\u001b[0m \u001b[0;34m=\u001b[0m \u001b[0mres1\u001b[0m\u001b[0;34m[\u001b[0m\u001b[0ma0\u001b[0m\u001b[0;34m]\u001b[0m \u001b[0;34m+\u001b[0m \u001b[0mres1\u001b[0m\u001b[0;34m[\u001b[0m\u001b[0ma1\u001b[0m\u001b[0;34m]\u001b[0m\u001b[0;34m*\u001b[0m\u001b[0mx\u001b[0m \u001b[0;34m+\u001b[0m \u001b[0mres1\u001b[0m\u001b[0;34m[\u001b[0m\u001b[0ma2\u001b[0m\u001b[0;34m]\u001b[0m\u001b[0;34m*\u001b[0m\u001b[0mx\u001b[0m\u001b[0;34m**\u001b[0m\u001b[0;36m2\u001b[0m\u001b[0;34m\u001b[0m\u001b[0;34m\u001b[0m\u001b[0m\n\u001b[0m\u001b[1;32m      3\u001b[0m \u001b[0mdisplay\u001b[0m\u001b[0;34m(\u001b[0m\u001b[0mres1\u001b[0m\u001b[0;34m,\u001b[0m \u001b[0mspline1\u001b[0m\u001b[0;34m)\u001b[0m\u001b[0;34m\u001b[0m\u001b[0;34m\u001b[0m\u001b[0m\n\u001b[1;32m      4\u001b[0m \u001b[0mdf1\u001b[0m \u001b[0;34m=\u001b[0m \u001b[0mspline1\u001b[0m\u001b[0;34m.\u001b[0m\u001b[0mdiff\u001b[0m\u001b[0;34m(\u001b[0m\u001b[0mx\u001b[0m\u001b[0;34m)\u001b[0m\u001b[0;34m.\u001b[0m\u001b[0msubs\u001b[0m\u001b[0;34m(\u001b[0m\u001b[0mx\u001b[0m\u001b[0;34m,\u001b[0m \u001b[0mx1\u001b[0m\u001b[0;34m)\u001b[0m\u001b[0;34m\u001b[0m\u001b[0;34m\u001b[0m\u001b[0m\n\u001b[1;32m      5\u001b[0m sys2 = [sympy.Eq(dspl2(a0, a1, a2, x, x1), df1), \n",
            "\u001b[0;31mTypeError\u001b[0m: unsupported operand type(s) for +: 'Integer' and 'list'"
          ]
        }
      ]
    },
    {
      "cell_type": "code",
      "metadata": {
        "id": "3o7ORLZbVnvH"
      },
      "source": [
        "x0, x1, x2 = (0, 2, 4)\n",
        "X_ls1 = np.linspace(x0, x1)\n",
        "X_ls2 = np.linspace(x1, x2)\n",
        "X_ls12 = np.linspace(x0, x2)\n",
        "Y1 = [spline1.subs(x, item) for item in X_ls1] \n",
        "Y2 = [spline2.subs(x, item) for item in X_ls2]          \n",
        "plt.plot(X_ls1, Y1, color='green')\n",
        "plt.plot(X_ls2, Y2, color='red')\n",
        "plt.plot(X_ls12, f(X_ls12), color='black')"
      ],
      "execution_count": null,
      "outputs": []
    },
    {
      "cell_type": "markdown",
      "metadata": {
        "id": "MGUKDTo6VnvH"
      },
      "source": [
        "## Кубический сплайн\n",
        "$$\n",
        "f_i(x) = a_ix^3 + b_ix^2 + c_ix + d,\n",
        "\\quad\n",
        "\\left\\{\n",
        "\\begin{matrix}\n",
        "f_i(x_{i - 1}) = y_{i - 1}\\\\\n",
        "f_i(x_{i}) = y_{i}\\\\\n",
        "f_i'(x_{i - 1}) = f'_{i - 1}(x_{i - 1})\\\\\n",
        "f_i''(x_{i - 1}) = f''_{i - 1}(x_{i - 1})\n",
        "\\end{matrix}\n",
        "\\right.\n",
        "$$\n",
        "## Пример 8\n",
        "Аппроксимировать $f(x) = \\sin(x)$ на отрезке $\\left[0, \\frac{2\\pi}{3}\\right]$ квадратичным сплайном с узлами \n",
        "0, $\\frac{\\pi}{3}$, $\\frac{2\\pi}{3}$."
      ]
    },
    {
      "cell_type": "code",
      "metadata": {
        "colab": {
          "base_uri": "https://localhost:8080/"
        },
        "id": "MKvTRy-mVnvH",
        "outputId": "13401a41-6cf2-4d66-d477-82c6f1deb9fe"
      },
      "source": [
        "X = [np.pi*k/3 for k in range(3)]\n",
        "Y = [np.sin(xk) for xk in X]\n",
        "plt.scatter(X, Y)"
      ],
      "execution_count": null,
      "outputs": [
        {
          "output_type": "execute_result",
          "data": {
            "text/plain": [
              "<matplotlib.collections.PathCollection at 0x7f0842269fd0>"
            ]
          },
          "metadata": {
            "tags": []
          },
          "execution_count": 15
        },
        {
          "output_type": "display_data",
          "data": {
            "image/png": "[encoded data removed]",
            "text/plain": [
              "<Figure size 432x288 with 1 Axes>"
            ]
          },
          "metadata": {
            "tags": [],
            "needs_background": "light"
          }
        }
      ]
    },
    {
      "cell_type": "markdown",
      "metadata": {
        "id": "9J1xQ9tuVnvH"
      },
      "source": [
        "Вначале определим несколько вспомогательных функций:\n",
        "\n",
        "spl3(a0, a1, a2, a3, x) кубическая парабола с коэффициентами a0, a1, a2, a3 и аргументом x\n",
        "\n",
        "dspl3(a1, a2, a3, x) - первая производная кубического сплайна\n",
        "\n",
        "d2spl3(a2, a3, x) - вторая производная кубического сплайна\n",
        "\n",
        "sys_spl(f, x, xi, xi_1, yi, yi_1, d1spl, d2spl) - система уравнений относительно коэффициентов сплайна"
      ]
    },
    {
      "cell_type": "code",
      "metadata": {
        "id": "2lwcGVyPVnvI"
      },
      "source": [
        "def spl3(a0, a1, a2, a3, x):\n",
        "    return a0 + a1*x + a2*x**2 + a3*x**3\n",
        "def dspl3(a1, a2, a3, x):\n",
        "    return a1 + 2*a2*x + 3*a3*x**2\n",
        "def d2spl3(a2, a3, x):\n",
        "    return 2*a2 + 6*a3*x\n",
        "def sys_spl(f, x, xi, xi_1, yi, yi_1, d1spl, d2spl):\n",
        "    return [sympy.Eq(spl3(a0, a1, a2, a3, xi_1), yi_1),\n",
        "            sympy.Eq(spl3(a0, a1, a2, a3, xi), yi),\n",
        "            sympy.Eq(dspl3(a1, a2, a3, xi_1), d1spl),\n",
        "            sympy.Eq(d2spl3(a2, a3, xi_1), d2spl)]"
      ],
      "execution_count": null,
      "outputs": []
    },
    {
      "cell_type": "markdown",
      "metadata": {
        "id": "bKvJes7iVnvI"
      },
      "source": [
        "Нам понадобится $\\sin(x)$ из numpy для построения графика и из sympy для получения сплайна (аналитически), поэтому опишем функцию fx(x, lib='sympy'), в которой по умолчанию $\\sin(x)$ берется из из sympy, но можно изменить значение по умолчанию параметра lib на 'numpy'."
      ]
    },
    {
      "cell_type": "code",
      "metadata": {
        "id": "0SpI4zgdVnvI"
      },
      "source": [
        "def fx(x, lib='sympy'):\n",
        "    if lib == 'sympy':\n",
        "        return sympy.sin(x)\n",
        "    if lib == 'numpy':\n",
        "        return np.sin(x)"
      ],
      "execution_count": null,
      "outputs": []
    },
    {
      "cell_type": "markdown",
      "metadata": {
        "id": "Dx8t1bEAVnvJ"
      },
      "source": [
        "Введем переменные в математическом смысле - символы a0, a1, a2, a3, x.\n",
        "\n",
        "Обозначим xi_1 горизонтальную координату первой точки, xi - второй, yi_1 и yi - соответствующие вертикальные координаты, \n",
        "d1spl и d2spl - значения первой и второй производной на левом конце отрезка, т.е. в xi_1, они для самого левого отрезка равны производным самой функции в этой точке. \n",
        "\n",
        "Для построения сплайна воспользуемся решением с помощью solve соответствующей системы уравнений относительно коэффициентов сплайна.\n",
        "\n",
        "Полученные значения коэффициентов используем для получения выражения (expression) для сплайна на левом отрезке spline3"
      ]
    },
    {
      "cell_type": "code",
      "metadata": {
        "colab": {
          "base_uri": "https://localhost:8080/"
        },
        "id": "XEDGi8mqVnvJ",
        "outputId": "e07d3418-f26a-4b8a-90a2-43c99e6e7318"
      },
      "source": [
        "a0, a1, a2, a3, x = sympy.symbols('a0:4 x')\n",
        "xi_1 = X[0]\n",
        "xi = X[1]\n",
        "yi_1 = fx(xi_1)\n",
        "yi = fx(xi)\n",
        "d1spl = fx(x).diff(x).subs(x, xi_1) \n",
        "d2spl = fx(x).diff(x, 2).subs(x, xi_1)\n",
        "sys3 = sys_spl(fx, x, xi, xi_1, yi, yi_1, d1spl, d2spl)\n",
        "display(*sys3)\n",
        "res3 = sympy.solve(sys3)\n",
        "spline3 = res3[a0] + res3[a1]*x + res3[a2]*x**2 + res3[a3]*x**3\n",
        "display(spline3)"
      ],
      "execution_count": null,
      "outputs": [
        {
          "output_type": "display_data",
          "data": {
            "image/png": "[encoded data removed]",
            "text/latex": "$$a_{0} = 0$$",
            "text/plain": [
              "a0 = 0"
            ]
          },
          "metadata": {
            "tags": []
          }
        },
        {
          "output_type": "display_data",
          "data": {
            "image/png": "[encoded data removed]",
            "text/latex": "$$a_{0} + 1.0471975511966 a_{1} + 1.09662271123215 a_{2} + 1.14838061778888 a_{3} = 0.866025403784439$$",
            "text/plain": [
              "a0 + 1.0471975511966*a1 + 1.09662271123215*a2 + 1.14838061778888*a3 = 0.866025403784439"
            ]
          },
          "metadata": {
            "tags": []
          }
        },
        {
          "output_type": "display_data",
          "data": {
            "image/png": "[encoded data removed]",
            "text/latex": "$$a_{1} = 1$$",
            "text/plain": [
              "a1 = 1"
            ]
          },
          "metadata": {
            "tags": []
          }
        },
        {
          "output_type": "display_data",
          "data": {
            "image/png": "[encoded data removed]",
            "text/latex": "$$2 a_{2} = 0$$",
            "text/plain": [
              "2*a2 = 0"
            ]
          },
          "metadata": {
            "tags": []
          }
        },
        {
          "output_type": "display_data",
          "data": {
            "image/png": "[encoded data removed]",
            "text/latex": "$$- 0.1577631532662 x^{3} + 1.0 x$$",
            "text/plain": [
              "                   3        \n",
              "- 0.1577631532662*x  + 1.0*x"
            ]
          },
          "metadata": {
            "tags": []
          }
        }
      ]
    },
    {
      "cell_type": "markdown",
      "metadata": {
        "id": "9bkIu5MYVnvJ"
      },
      "source": [
        "Повторим те же действия со следующим отрезком, т.е. $\\left[\\frac{\\pi}{3}, \\frac{2\\pi}{3}\\right]$.\n",
        "\n",
        "Отличие в том, что производные первого и второго порядков считаются не по исходной функции, а по построенному куску сплайна, т.е. считаем производные от  spline3 в точке $\\frac{\\pi}{3}$."
      ]
    },
    {
      "cell_type": "code",
      "metadata": {
        "colab": {
          "base_uri": "https://localhost:8080/"
        },
        "id": "JfwL7QO4VnvK",
        "outputId": "9bef2ec7-81b1-499c-cb84-b8c9b9e32cb8"
      },
      "source": [
        "xi_1 = X[1]\n",
        "xi = X[2]\n",
        "yi_1 = fx(xi_1)\n",
        "yi = fx(xi)\n",
        "d1spl = spline3.diff(x).subs(x, xi_1) \n",
        "d2spl = spline3.diff(x, 2).subs(x, xi_1)\n",
        "sys4 = sys_spl(fx, x, xi, xi_1, yi, yi_1, d1spl, d2spl)\n",
        "display(*sys4)\n",
        "res4 = sympy.solve(sys4)\n",
        "spline4 = res4[a0] + res4[a1]*x + res4[a2]*x**2 + res4[a3]*x**3\n",
        "display(spline4)"
      ],
      "execution_count": null,
      "outputs": [
        {
          "output_type": "display_data",
          "data": {
            "image/png": "[encoded data removed]",
            "text/latex": "$$a_{0} + 1.0471975511966 a_{1} + 1.09662271123215 a_{2} + 1.14838061778888 a_{3} = 0.866025403784439$$",
            "text/plain": [
              "a0 + 1.0471975511966*a1 + 1.09662271123215*a2 + 1.14838061778888*a3 = 0.866025403784439"
            ]
          },
          "metadata": {
            "tags": []
          }
        },
        {
          "output_type": "display_data",
          "data": {
            "image/png": "[encoded data removed]",
            "text/latex": "$$a_{0} + 2.0943951023932 a_{1} + 4.3864908449286 a_{2} + 9.18704494231105 a_{3} = 0.866025403784439$$",
            "text/plain": [
              "a0 + 2.0943951023932*a1 + 4.3864908449286*a2 + 9.18704494231105*a3 = 0.866025403784439"
            ]
          },
          "metadata": {
            "tags": []
          }
        },
        {
          "output_type": "display_data",
          "data": {
            "image/png": "[encoded data removed]",
            "text/latex": "$$a_{1} + 2.0943951023932 a_{2} + 3.28986813369645 a_{3} = 0.480980029398058$$",
            "text/plain": [
              "a1 + 2.0943951023932*a2 + 3.28986813369645*a3 = 0.480980029398058"
            ]
          },
          "metadata": {
            "tags": []
          }
        },
        {
          "output_type": "display_data",
          "data": {
            "image/png": "[encoded data removed]",
            "text/latex": "$$2 a_{2} + 6.28318530717959 a_{3} = -0.991255126616512$$",
            "text/plain": [
              "2*a2 + 6.28318530717959*a3 = -0.991255126616512"
            ]
          },
          "metadata": {
            "tags": []
          }
        },
        {
          "output_type": "display_data",
          "data": {
            "image/png": "[encoded data removed]",
            "text/latex": "$$0.0346882668161555 x^{3} - 0.604603967503653 x^{2} + 1.63313979421358 x - 0.221007480688529$$",
            "text/plain": [
              "                    3                      2                                         \n",
              "0.0346882668161555*x  - 0.604603967503653*x  + 1.63313979421358*x - 0.221007480688529"
            ]
          },
          "metadata": {
            "tags": []
          }
        }
      ]
    },
    {
      "cell_type": "markdown",
      "metadata": {
        "id": "G3wsbsP2VnvK"
      },
      "source": [
        "Построим на графике исходную функцию и весь сплайн (из двух кусков)"
      ]
    },
    {
      "cell_type": "code",
      "metadata": {
        "colab": {
          "base_uri": "https://localhost:8080/"
        },
        "id": "HqwP4UVvVnvK",
        "outputId": "3f3dec8f-341a-4f03-93b5-5d36038afeb6"
      },
      "source": [
        "x0, x1, x2 = X\n",
        "X_ls1 = np.linspace(x0, x1)\n",
        "X_ls2 = np.linspace(x1, x2)\n",
        "X_ls12 = np.linspace(x0, x2)\n",
        "Y1 = [spline3.subs(x, item) for item in X_ls1] \n",
        "Y2 = [spline4.subs(x, item) for item in X_ls2]          \n",
        "plt.plot(X_ls1, Y1, color='green', label='spline1')\n",
        "plt.plot(X_ls2, Y2, color='red', label='spline2')\n",
        "plt.plot(X_ls12, fx(X_ls12, lib='numpy'), color='black', linestyle=':', label='sin(x)')\n",
        "plt.legend()"
      ],
      "execution_count": null,
      "outputs": [
        {
          "output_type": "execute_result",
          "data": {
            "text/plain": [
              "<matplotlib.legend.Legend at 0x7f08420145f8>"
            ]
          },
          "metadata": {
            "tags": []
          },
          "execution_count": 20
        },
        {
          "output_type": "display_data",
          "data": {
            "image/png": "[encoded data removed]",
            "text/plain": [
              "<Figure size 432x288 with 1 Axes>"
            ]
          },
          "metadata": {
            "tags": [],
            "needs_background": "light"
          }
        }
      ]
    },
    {
      "cell_type": "markdown",
      "metadata": {
        "id": "1XC5Wo-VVnvL"
      },
      "source": [
        "## Сплайны scipy.interpolate: interp1d, splrep, InterpolatedUnivariateSpline\n",
        "https://docs.scipy.org/doc/scipy/reference/interpolate.html#module-scipy.interpolate\n",
        "#### Кубический сплайн:\n",
        "https://docs.scipy.org/doc/scipy/reference/generated/scipy.interpolate.CubicSpline.html#scipy.interpolate.CubicSpline\n",
        "####  interp1d\n",
        "https://docs.scipy.org/doc/scipy/reference/generated/scipy.interpolate.interp1d.html#scipy.interpolate.interp1d\n",
        "####  Полиномы Бернштейна\n",
        "https://docs.scipy.org/doc/scipy/reference/generated/scipy.interpolate.BPoly.html#scipy.interpolate.BPoly\n",
        "\n",
        "Теперь будем строить сплайны средствами scipy.interpolate, вначале подключим необходимые функции:"
      ]
    },
    {
      "cell_type": "code",
      "metadata": {
        "id": "r0KWKqRuVnvM"
      },
      "source": [
        "from scipy.interpolate import interp1d, splrep, splev, InterpolatedUnivariateSpline, BPoly, CubicSpline"
      ],
      "execution_count": null,
      "outputs": []
    },
    {
      "cell_type": "markdown",
      "metadata": {
        "id": "-DMIm1NtVnvM"
      },
      "source": [
        "## interp1d\n",
        "Параметры $x$ и  $y$ - координаты узлов сплайна, \n",
        "kind - str или int, необязательный параметр, определяющий тип сплайна, по умолчанию линейный (‘linear’), можно сделать ‘nearest’, ‘nearest-up’, ‘zero’, ‘slinear’, ‘quadratic’, ‘cubic’, ‘previous’ или ‘next’. \n",
        "\n",
        "‘zero’, ‘slinear’, ‘quadratic’ и ‘cubic’ обозначают интерполяцию нулевого, первого, второго или третьего порядка,\n",
        "\n",
        "‘previous’ и ‘next’ просто возвращают предыдущее или следующее значение функции\n",
        "\n",
        "‘nearest-up’ и ‘nearest’ различаются обработкой полуцелых чисел, таких как 0.5, 1.5.\n",
        "\n",
        "## Пример 9\n",
        "Аппроксимировать $f(x) = \\sin(x)$ на отрезке $\\left[0, 2\\pi\\right]$ квадратичным сплайном с узлами \n",
        "$\\frac{\\pi k}{4}$, $k = 0, ..., 8$."
      ]
    },
    {
      "cell_type": "code",
      "metadata": {
        "colab": {
          "base_uri": "https://localhost:8080/"
        },
        "id": "2sCr_fypVnvM",
        "outputId": "3d06c04e-c7e6-417b-8d24-4ad74177441a"
      },
      "source": [
        "X = [np.pi*k/4 for k in range(9)]\n",
        "Y = [np.sin(xk) for xk in X]\n",
        "plt.scatter(X, Y, color='red')\n",
        "spl1 = interp1d(X, Y)\n",
        "spl2 = interp1d(X, Y, kind='cubic')\n",
        "xs = np.linspace(X[0], X[-1], 1000)\n",
        "plt.plot(xs, np.sin(xs), 'c-', xs, spl1(xs), 'g:', xs, spl2(xs), 'm--', lw=3)"
      ],
      "execution_count": null,
      "outputs": [
        {
          "output_type": "execute_result",
          "data": {
            "text/plain": [
              "[<matplotlib.lines.Line2D at 0x7f0841ffd160>,\n",
              " <matplotlib.lines.Line2D at 0x7f0841ffd128>,\n",
              " <matplotlib.lines.Line2D at 0x7f0841ffd3c8>]"
            ]
          },
          "metadata": {
            "tags": []
          },
          "execution_count": 22
        },
        {
          "output_type": "display_data",
          "data": {
            "image/png": "[encoded data removed]",
            "text/plain": [
              "<Figure size 432x288 with 1 Axes>"
            ]
          },
          "metadata": {
            "tags": [],
            "needs_background": "light"
          }
        }
      ]
    },
    {
      "cell_type": "markdown",
      "metadata": {
        "id": "sK0foJWrVnvN"
      },
      "source": [
        "## Еще один способ построения сплайна: \n",
        "\n",
        "splrep функция, которая возвращает представление  B-spline кривой\n",
        "\n",
        "splev вычисляет значения B-spline или его производных\n",
        "\n",
        "Есть еще полезные функции:\n",
        "\n",
        "sproot находит корни кубического B-spline\n",
        "\n",
        "splint вычисляет определенный интеграл  B-spline на отрезке\n",
        "\n",
        "spalde вычисляет все производные B-spline\n",
        "\n",
        "splrep, splev работают на основе FITPACK (написан на Фортране)\n",
        "\n",
        "## Пример 10. \n",
        "Построим сплайн для Примера 7 с помощью splrep и splev."
      ]
    },
    {
      "cell_type": "code",
      "metadata": {
        "colab": {
          "base_uri": "https://localhost:8080/"
        },
        "id": "ktyXMIfCVnvN",
        "outputId": "030611ff-f290-4211-d20b-bc8995927d45"
      },
      "source": [
        "X = [np.pi*k/4 for k in range(9)]\n",
        "Y = [np.sin(xk) for xk in X]\n",
        "tck = splrep(X, Y, s=0)\n",
        "xnew = np.linspace(X[0], X[-1], 1000)\n",
        "ynew = splev(xnew, tck, der=0)\n",
        "plt.plot(X, Y, 'ro', xnew, ynew, 'c--', xnew, np.sin(xnew), 'k:', lw=3)\n",
        "plt.legend(['Linear', 'Cubic Spline', 'sin(x)'])"
      ],
      "execution_count": null,
      "outputs": [
        {
          "output_type": "execute_result",
          "data": {
            "text/plain": [
              "<matplotlib.legend.Legend at 0x7f08420a55c0>"
            ]
          },
          "metadata": {
            "tags": []
          },
          "execution_count": 23
        },
        {
          "output_type": "display_data",
          "data": {
            "image/png": "[encoded data removed]",
            "text/plain": [
              "<Figure size 432x288 with 1 Axes>"
            ]
          },
          "metadata": {
            "tags": [],
            "needs_background": "light"
          }
        }
      ]
    },
    {
      "cell_type": "markdown",
      "metadata": {
        "id": "u4uqWrH0VnvN"
      },
      "source": [
        "## InterpolatedUnivariateSpline\n",
        "тоже работает на FITPACK.\n",
        "## Пример 11. \n",
        "Построим сплайн для Примера 7 с помощью InterpolatedUnivariateSpline (объектно-ориентированная обертка для функций FITPACK)."
      ]
    },
    {
      "cell_type": "code",
      "metadata": {
        "colab": {
          "base_uri": "https://localhost:8080/"
        },
        "id": "t_2mlJ4dVnvN",
        "outputId": "01830a50-c05d-412b-f726-f2d0ecfcb748"
      },
      "source": [
        "X = [np.pi*k/4 for k in range(9)]\n",
        "Y = [np.sin(xk) for xk in X]\n",
        "spl = InterpolatedUnivariateSpline(X, Y)\n",
        "xs = np.linspace(X[0], X[-1], 1000)\n",
        "plt.scatter(X, Y, color='red')\n",
        "plt.plot(xs, np.sin(xs), 'c-', xs, spl(xs), 'g--', lw=3)"
      ],
      "execution_count": null,
      "outputs": [
        {
          "output_type": "execute_result",
          "data": {
            "text/plain": [
              "[<matplotlib.lines.Line2D at 0x7f083ff12128>,\n",
              " <matplotlib.lines.Line2D at 0x7f083fee12e8>]"
            ]
          },
          "metadata": {
            "tags": []
          },
          "execution_count": 24
        },
        {
          "output_type": "display_data",
          "data": {
            "image/png": "[encoded data removed]",
            "text/plain": [
              "<Figure size 432x288 with 1 Axes>"
            ]
          },
          "metadata": {
            "tags": [],
            "needs_background": "light"
          }
        }
      ]
    },
    {
      "cell_type": "markdown",
      "metadata": {
        "id": "UwCK1kriVnvO"
      },
      "source": [
        "## Пример 12\n",
        "Построим сплайн для Примера 7 с помощью CubicSpline"
      ]
    },
    {
      "cell_type": "code",
      "metadata": {
        "colab": {
          "base_uri": "https://localhost:8080/"
        },
        "id": "l1Ynf5ZdVnvO",
        "outputId": "51a8a7aa-c05a-4fa2-8063-5383a4ed8cf7"
      },
      "source": [
        "X = [np.pi*k/4 for k in range(9)]\n",
        "Y = [np.sin(xk) for xk in X]\n",
        "cs = CubicSpline(X, Y)\n",
        "xs = np.linspace(X[0], X[-1], 1000)\n",
        "plt.scatter(X, Y, color='red')\n",
        "plt.plot(xs, np.sin(xs), 'c-', xs, cs(xs), 'g--', lw=3)"
      ],
      "execution_count": null,
      "outputs": [
        {
          "output_type": "execute_result",
          "data": {
            "text/plain": [
              "[<matplotlib.lines.Line2D at 0x7f0841fd1470>,\n",
              " <matplotlib.lines.Line2D at 0x7f0844d2f320>]"
            ]
          },
          "metadata": {
            "tags": []
          },
          "execution_count": 25
        },
        {
          "output_type": "display_data",
          "data": {
            "image/png": "[encoded data removed]",
            "text/plain": [
              "<Figure size 432x288 with 1 Axes>"
            ]
          },
          "metadata": {
            "tags": [],
            "needs_background": "light"
          }
        }
      ]
    },
    {
      "cell_type": "markdown",
      "metadata": {
        "id": "nWVGdlq6VnvO"
      },
      "source": [
        "## Кривые Безье\n",
        "#### Линейная кривая Безье\n",
        "$P_0$ и $P_1$ две различные точки, тогда линейная кривая Безье - отрезок, соединяющий эти точки:\n",
        "$$\n",
        "B(t) = P_0 + t(P_1 - P_0) = (1 - t)P_0 + tP_1,\\quad 1\\le t \\le 1 \n",
        "$$\n",
        "#### Квадратичная кривая Безье\n",
        "$P_0$, $P_1$ и $P_2$ три различные точки, тогда квадратичная кривая Безье - отрезок, соединяющий эти точки:\n",
        "$$\n",
        "B(t) = (1 - t)^2P_0 + 2(1 - t)tP_1 + t^2P_2 = P_1 + (1 - t)^2(P_0 - P_1) + t^2(P_2 - P_1),\\quad 1\\le t \\le 1 \n",
        "$$\n",
        "#### Кубическая кривая Безье\n",
        "$P_0$, $P_1$, $P_2$ и $P_3$ четыре различные точки, тогда кубическая кривая Безье - отрезок, соединяющий эти точки:\n",
        "$$\n",
        "B(t) = (1 - t)^3P_0 + 3(1 - t)^2tP_1 + 3(1 - t)t^2P_2 +t^3P_3,\\quad 1\\le t \\le 1 \n",
        "$$\n",
        "#### Общий вид кривой Безье\n",
        "$P_0$, $P_1$, ...  и $P_n$ - $n$ различных точек, тогда линейная кривая Безье - отрезок, соединяющий эти точки:\n",
        "$$\n",
        "B(t) = \\sum_{k=0}^n C_n^k(1 - t)^{n - k}t^kP_k,\\quad 1\\le t \\le 1 \n",
        "$$\n",
        "\n",
        "https://bezier.readthedocs.io/en/stable/python/reference/bezier.curve.html\n",
        "\n",
        "## Пример 13\n",
        "Построим кривую Безье по точкам $P_1(-1, 3)$, $P_2(0, 4)$, $P_3(3, 2)$.\n",
        "\n",
        "Для каждой точки построим полином Бернштейна $C_n^k(1 - t)^{n - k}t^k$, $1\\le t \\le 1$ и составим сумму произведений соответствующих координат точки на полиномы  Бернштейна."
      ]
    },
    {
      "cell_type": "code",
      "metadata": {
        "id": "8kOEMDANVnvO"
      },
      "source": [
        "from scipy.special import comb\n",
        "def my_B(X, Y):\n",
        "    n = len(X)\n",
        "    def my_B_x(t):\n",
        "        return sum([X[k]*comb(n - 1, k)*(1 - t)**(n - k - 1)*t**k for k in range(n)])\n",
        "    def my_B_y(t):\n",
        "        return sum([Y[k]*comb(n - 1, k)*(1 - t)**(n - k - 1)*t**k for k in range(n)])\n",
        "    return (my_B_x, my_B_y)      "
      ],
      "execution_count": null,
      "outputs": []
    },
    {
      "cell_type": "code",
      "metadata": {
        "colab": {
          "base_uri": "https://localhost:8080/"
        },
        "id": "Bku96txvVnvO",
        "outputId": "a0fb6fc1-b511-4d44-dcc8-57d5b44cb4d2"
      },
      "source": [
        "P1 = (-1, 3)\n",
        "P2 = (0, 4)\n",
        "P3 = (3, 2)\n",
        "X = []\n",
        "Y = []\n",
        "for point in (P1, P2, P3):\n",
        "    X.append(point[0])\n",
        "    Y.append(point[1])\n",
        "B_x, B_y = my_B(X, Y)\n",
        "X1 = np.array(X).reshape(3, 1)\n",
        "Y1 = np.array(Y).reshape(3, 1)\n",
        "x = [0, 1]\n",
        "bpX = BPoly(X1, x)\n",
        "bpY = BPoly(Y1, x)\n",
        "t_linspace = np.linspace(0, 1)\n",
        "plt.plot(bpX(t_linspace), bpY(t_linspace), 'c-', B_x(t_linspace), B_y(t_linspace), 'r:', lw=3)\n",
        "plt.scatter(X, Y)"
      ],
      "execution_count": null,
      "outputs": [
        {
          "output_type": "execute_result",
          "data": {
            "text/plain": [
              "<matplotlib.collections.PathCollection at 0x7f084210b668>"
            ]
          },
          "metadata": {
            "tags": []
          },
          "execution_count": 27
        },
        {
          "output_type": "display_data",
          "data": {
            "image/png": "[encoded data removed]",
            "text/plain": [
              "<Figure size 432x288 with 1 Axes>"
            ]
          },
          "metadata": {
            "tags": [],
            "needs_background": "light"
          }
        }
      ]
    },
    {
      "cell_type": "markdown",
      "metadata": {
        "id": "WGYrnOmMVnvP"
      },
      "source": [
        "## Пример 14\n",
        "Построим кривую Безье с помощью модуля bezier:\n",
        "\n",
        "https://bezier.readthedocs.io/en/stable/python/reference/bezier.curve.html"
      ]
    },
    {
      "cell_type": "code",
      "metadata": {
        "colab": {
          "base_uri": "https://localhost:8080/"
        },
        "id": "DesVh72JVnvP",
        "outputId": "e1d15af9-f6e7-4896-b017-03572b851d66"
      },
      "source": [
        "!pip install bezier --user"
      ],
      "execution_count": null,
      "outputs": [
        {
          "output_type": "stream",
          "text": [
            "Requirement already satisfied: bezier in /root/.local/lib/python3.6/site-packages (2020.5.19)\n",
            "Requirement already satisfied: numpy>=1.18.1 in /usr/local/lib/python3.6/dist-packages (from bezier) (1.19.5)\n"
          ],
          "name": "stdout"
        }
      ]
    },
    {
      "cell_type": "code",
      "metadata": {
        "id": "bycToZPRVnvP"
      },
      "source": [
        "import bezier"
      ],
      "execution_count": null,
      "outputs": []
    },
    {
      "cell_type": "code",
      "metadata": {
        "colab": {
          "base_uri": "https://localhost:8080/"
        },
        "id": "EYZYGh8rVnvP",
        "outputId": "8a1b56e7-6c16-4584-dc0c-aab35ad4bee1"
      },
      "source": [
        "nodes = np.array([X, Y])\n",
        "curve = bezier.Curve(nodes, degree=2)\n",
        "curve"
      ],
      "execution_count": null,
      "outputs": [
        {
          "output_type": "execute_result",
          "data": {
            "text/plain": [
              "<Curve (degree=2, dimension=2)>"
            ]
          },
          "metadata": {
            "tags": []
          },
          "execution_count": 30
        }
      ]
    },
    {
      "cell_type": "code",
      "metadata": {
        "colab": {
          "base_uri": "https://localhost:8080/"
        },
        "id": "3C3SQF4NX6Fc",
        "outputId": "7dc9a800-bc87-4e1b-de8e-34365a065d25"
      },
      "source": [
        "curve.evaluate(0.75)"
      ],
      "execution_count": null,
      "outputs": [
        {
          "output_type": "execute_result",
          "data": {
            "text/plain": [
              "array([[1.625 ],\n",
              "       [2.8125]])"
            ]
          },
          "metadata": {
            "tags": []
          },
          "execution_count": 31
        }
      ]
    },
    {
      "cell_type": "code",
      "metadata": {
        "colab": {
          "base_uri": "https://localhost:8080/"
        },
        "id": "WTkg8_sfYIL6",
        "outputId": "eea662d7-d654-4b51-f314-433c41562f4e"
      },
      "source": [
        "s_vals = np.linspace(0.0, 1.0, 5)\r\n",
        "curve.evaluate_multi(s_vals)"
      ],
      "execution_count": null,
      "outputs": [
        {
          "output_type": "execute_result",
          "data": {
            "text/plain": [
              "array([[-1.    , -0.375 ,  0.5   ,  1.625 ,  3.    ],\n",
              "       [ 3.    ,  3.3125,  3.25  ,  2.8125,  2.    ]])"
            ]
          },
          "metadata": {
            "tags": []
          },
          "execution_count": 32
        }
      ]
    },
    {
      "cell_type": "code",
      "metadata": {
        "colab": {
          "base_uri": "https://localhost:8080/",
          "height": 286
        },
        "id": "prQR7IEZYzaC",
        "outputId": "973c9d0b-c6c3-40c4-f695-a10002e81908"
      },
      "source": [
        "curve.plot(100)"
      ],
      "execution_count": null,
      "outputs": [
        {
          "output_type": "execute_result",
          "data": {
            "text/plain": [
              "<matplotlib.axes._subplots.AxesSubplot at 0x7f084219d2b0>"
            ]
          },
          "metadata": {
            "tags": []
          },
          "execution_count": 33
        },
        {
          "output_type": "display_data",
          "data": {
            "image/png": "[encoded data removed]",
            "text/plain": [
              "<Figure size 432x288 with 1 Axes>"
            ]
          },
          "metadata": {
            "tags": [],
            "needs_background": "light"
          }
        }
      ]
    },
    {
      "cell_type": "code",
      "metadata": {
        "colab": {
          "base_uri": "https://localhost:8080/",
          "height": 38
        },
        "id": "4OBmzwmoZS2y",
        "outputId": "8395ff49-aa46-49b3-c506-6d639826e0ad"
      },
      "source": [
        "curve.implicitize()"
      ],
      "execution_count": null,
      "outputs": [
        {
          "output_type": "execute_result",
          "data": {
            "image/png": "[encoded data removed]",
            "text/latex": "$$9 x^{2} + 12 x y - 38 x + 4 y^{2} + 8 y - 71$$",
            "text/plain": [
              "   2                      2           \n",
              "9*x  + 12*x*y - 38*x + 4*y  + 8*y - 71"
            ]
          },
          "metadata": {
            "tags": []
          },
          "execution_count": 34
        }
      ]
    }
  ]
}