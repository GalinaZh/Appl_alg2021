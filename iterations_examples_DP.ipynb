{
  "nbformat": 4,
  "nbformat_minor": 0,
  "metadata": {
    "kernelspec": {
      "display_name": "Python 3",
      "language": "python",
      "name": "python3"
    },
    "language_info": {
      "codemirror_mode": {
        "name": "ipython",
        "version": 3
      },
      "file_extension": ".py",
      "mimetype": "text/x-python",
      "name": "python",
      "nbconvert_exporter": "python",
      "pygments_lexer": "ipython3",
      "version": "3.8.3"
    },
    "colab": {
      "name": "iterations_examples.ipynb",
      "provenance": [],
      "include_colab_link": true
    }
  },
  "cells": [
    {
      "cell_type": "markdown",
      "metadata": {
        "id": "view-in-github",
        "colab_type": "text"
      },
      "source": [
        "<a href=\"https://colab.research.google.com/github/GalinaZh/Appl_alg2021/blob/main/iterations_examples_DP.ipynb\" target=\"_parent\"><img src=\"https://colab.research.google.com/assets/colab-badge.svg\" alt=\"Open In Colab\"/></a>"
      ]
    },
    {
      "cell_type": "code",
      "metadata": {
        "id": "f7h-D--tm7DA"
      },
      "source": [
        "import numpy as np\n"
      ],
      "execution_count": 1,
      "outputs": []
    },
    {
      "cell_type": "markdown",
      "metadata": {
        "id": "ZUAbLdVSn7Eq"
      },
      "source": [
        "## Метод Зейделя"
      ]
    },
    {
      "cell_type": "code",
      "metadata": {
        "id": "Q8tzwwQGn9JZ"
      },
      "source": [
        "def F(P, B, X): \n",
        "    return P @ X + B"
      ],
      "execution_count": 2,
      "outputs": []
    },
    {
      "cell_type": "code",
      "metadata": {
        "colab": {
          "base_uri": "https://localhost:8080/",
          "height": 170
        },
        "id": "33LWhWhQn3-U",
        "outputId": "5f20013d-8b44-40d0-cd93-61dd7a8eaf19"
      },
      "source": [
        "P = -0.01*np.array([[0, 15, 5], [10, 0, 15], [30, 10, 0]])\n",
        "B = np.array([[3.4], [2.05], [6]])\n",
        "x0 = F(P, B, np.zeros((3, 1)))\n",
        "display(P, B, x0)"
      ],
      "execution_count": 3,
      "outputs": [
        {
          "output_type": "display_data",
          "data": {
            "text/plain": [
              "array([[-0.  , -0.15, -0.05],\n",
              "       [-0.1 , -0.  , -0.15],\n",
              "       [-0.3 , -0.1 , -0.  ]])"
            ]
          },
          "metadata": {
            "tags": []
          }
        },
        {
          "output_type": "display_data",
          "data": {
            "text/plain": [
              "array([[3.4 ],\n",
              "       [2.05],\n",
              "       [6.  ]])"
            ]
          },
          "metadata": {
            "tags": []
          }
        },
        {
          "output_type": "display_data",
          "data": {
            "text/plain": [
              "array([[3.4 ],\n",
              "       [2.05],\n",
              "       [6.  ]])"
            ]
          },
          "metadata": {
            "tags": []
          }
        }
      ]
    },
    {
      "cell_type": "code",
      "metadata": {
        "colab": {
          "base_uri": "https://localhost:8080/"
        },
        "id": "bnajOvEym7DH",
        "outputId": "dffa2840-0439-4abb-8a79-86d3bd2e5c1f"
      },
      "source": [
        "x = x0;\n",
        "for i in range(15):\n",
        "    x = F(P, B, x)\n",
        "    print(x.T)"
      ],
      "execution_count": 5,
      "outputs": [
        {
          "output_type": "stream",
          "text": [
            "[[2.7925 0.81   4.775 ]]\n",
            "[[3.03975 1.0545  5.08125]]\n",
            "[[2.9877625 0.9838375 4.982625 ]]\n",
            "[[3.00329312 1.00383    5.0052875 ]]\n",
            "[[2.99916113 0.99887756 4.99862906]]\n",
            "[[3.00023691 1.00028953 5.00036391]]\n",
            "[[2.99993838 0.99992172 4.99989997]]\n",
            "[[3.00001674 1.00002117 5.00002632]]\n",
            "[[2.99999551 0.99999438 4.99999286]]\n",
            "[[3.0000012  1.00000152 5.00000191]]\n",
            "[[2.99999968 0.99999959 4.99999949]]\n",
            "[[3.00000009 1.00000011 5.00000014]]\n",
            "[[2.99999998 0.99999997 4.99999996]]\n",
            "[[3.00000001 1.00000001 5.00000001]]\n",
            "[[3. 1. 5.]]\n"
          ],
          "name": "stdout"
        }
      ]
    },
    {
      "cell_type": "code",
      "metadata": {
        "id": "of3F14njm7DH",
        "outputId": "8e716279-cd21-4d0b-bc38-6c9551cbe795"
      },
      "source": [
        "nP= np.linalg.norm(P, np.inf); nP"
      ],
      "execution_count": null,
      "outputs": [
        {
          "output_type": "execute_result",
          "data": {
            "text/plain": [
              "0.4"
            ]
          },
          "metadata": {
            "tags": []
          },
          "execution_count": 21
        }
      ]
    },
    {
      "cell_type": "code",
      "metadata": {
        "id": "a39H7LqIm7DI"
      },
      "source": [
        "eps= 0.001;"
      ],
      "execution_count": null,
      "outputs": []
    },
    {
      "cell_type": "code",
      "metadata": {
        "id": "dl-5aBSXm7DJ",
        "outputId": "eaecbf48-d6d7-42c2-ed6c-ea043a64141f"
      },
      "source": [
        "x=F(np.zeros((3,1)));\n",
        "for i in range(11):\n",
        "    if (np.linalg.norm(x-F(x), np.inf)/(1-nP)<eps):\n",
        "        print(i, x)\n",
        "    x=F(x)\n",
        "    "
      ],
      "execution_count": null,
      "outputs": [
        {
          "output_type": "stream",
          "text": [
            "6 [[3.00023691]\n",
            " [1.00028953]\n",
            " [5.00036391]]\n",
            "7 [[2.99993838]\n",
            " [0.99992172]\n",
            " [4.99989997]]\n",
            "8 [[3.00001674]\n",
            " [1.00002117]\n",
            " [5.00002632]]\n",
            "9 [[2.99999551]\n",
            " [0.99999438]\n",
            " [4.99999286]]\n",
            "10 [[3.0000012 ]\n",
            " [1.00000152]\n",
            " [5.00000191]]\n"
          ],
          "name": "stdout"
        }
      ]
    },
    {
      "cell_type": "code",
      "metadata": {
        "id": "ySKf7oUMm7DJ"
      },
      "source": [
        "x=F(np.zeros((3,1)));\n",
        "for i in range(11):\n",
        "    if (np.linalg.norm(x-F(x), np.inf)<eps):\n",
        "        print(i, x)\n",
        "    x=F(x)"
      ],
      "execution_count": null,
      "outputs": []
    },
    {
      "cell_type": "code",
      "metadata": {
        "id": "UN71DeIpm7DJ"
      },
      "source": [
        "EminusP1= np.eye(3)+0.01*np.array([[0, 0,0],[10,0,0],[30,10,0]]);"
      ],
      "execution_count": null,
      "outputs": []
    },
    {
      "cell_type": "code",
      "metadata": {
        "id": "VcXDsrgwm7DK",
        "outputId": "2672fb2b-5d86-4da0-a75e-ecfe4c42cc29"
      },
      "source": [
        "EminusP1"
      ],
      "execution_count": null,
      "outputs": [
        {
          "output_type": "execute_result",
          "data": {
            "text/plain": [
              "array([[1. , 0. , 0. ],\n",
              "       [0.1, 1. , 0. ],\n",
              "       [0.3, 0.1, 1. ]])"
            ]
          },
          "metadata": {
            "tags": []
          },
          "execution_count": 29
        }
      ]
    },
    {
      "cell_type": "code",
      "metadata": {
        "id": "rSKqz_twm7DK"
      },
      "source": [
        "P2 = -0.01*np.array([[0, 15, 5],[0,0,15],[0,0,0]]);\n"
      ],
      "execution_count": null,
      "outputs": []
    },
    {
      "cell_type": "code",
      "metadata": {
        "id": "fENzvbdUm7DK",
        "outputId": "989b4841-d9a7-4959-ff0f-860142d3e691"
      },
      "source": [
        "P2"
      ],
      "execution_count": null,
      "outputs": [
        {
          "output_type": "execute_result",
          "data": {
            "text/plain": [
              "array([[-0.  , -0.15, -0.05],\n",
              "       [-0.  , -0.  , -0.15],\n",
              "       [-0.  , -0.  , -0.  ]])"
            ]
          },
          "metadata": {
            "tags": []
          },
          "execution_count": 31
        }
      ]
    },
    {
      "cell_type": "code",
      "metadata": {
        "id": "jmJU_Rmmm7DL",
        "outputId": "f5561da8-4770-4a4e-b14a-c761dbc34bb8"
      },
      "source": [
        "np.linalg.inv(EminusP1)"
      ],
      "execution_count": null,
      "outputs": [
        {
          "output_type": "execute_result",
          "data": {
            "text/plain": [
              "array([[ 1.  ,  0.  ,  0.  ],\n",
              "       [-0.1 ,  1.  ,  0.  ],\n",
              "       [-0.29, -0.1 ,  1.  ]])"
            ]
          },
          "metadata": {
            "tags": []
          },
          "execution_count": 42
        }
      ]
    },
    {
      "cell_type": "code",
      "metadata": {
        "id": "JrOurj0Rm7DL"
      },
      "source": [
        "def Fzeig(X):\n",
        "    return np.linalg.inv(EminusP1)@(P2@X+B);"
      ],
      "execution_count": null,
      "outputs": []
    },
    {
      "cell_type": "code",
      "metadata": {
        "id": "5_6GAWyjm7DM"
      },
      "source": [
        "x=Fzeig(np.zeros((3,1)));"
      ],
      "execution_count": null,
      "outputs": []
    },
    {
      "cell_type": "code",
      "metadata": {
        "id": "pn0Req59m7DM",
        "outputId": "49fe8d4f-6d43-4f72-f819-93bc47662d92"
      },
      "source": [
        "x=Fzeig(np.zeros((3,1)));\n",
        "for i in range(11):\n",
        "    if (np.linalg.norm(x-Fzeig(x), np.inf)/(1-nP)<eps):\n",
        "        print(i, x)\n",
        "    x=Fzeig(x)"
      ],
      "execution_count": null,
      "outputs": [
        {
          "output_type": "stream",
          "text": [
            "3 [[3.00034228]\n",
            " [0.99960384]\n",
            " [4.99993693]]\n",
            "4 [[3.00006258]\n",
            " [1.0000032 ]\n",
            " [4.99998091]]\n",
            "5 [[3.00000047]\n",
            " [1.00000282]\n",
            " [4.99999958]]\n",
            "6 [[2.9999996 ]\n",
            " [1.0000001 ]\n",
            " [5.00000011]]\n",
            "7 [[2.99999998]\n",
            " [0.99999999]\n",
            " [5.00000001]]\n",
            "8 [[3.]\n",
            " [1.]\n",
            " [5.]]\n",
            "9 [[3.]\n",
            " [1.]\n",
            " [5.]]\n",
            "10 [[3.]\n",
            " [1.]\n",
            " [5.]]\n"
          ],
          "name": "stdout"
        }
      ]
    },
    {
      "cell_type": "code",
      "metadata": {
        "id": "VrPiT6n1m7DM"
      },
      "source": [
        ""
      ],
      "execution_count": null,
      "outputs": []
    }
  ]
}