{
  "nbformat": 4,
  "nbformat_minor": 0,
  "metadata": {
    "kernelspec": {
      "display_name": "Python 3",
      "language": "python",
      "name": "python3"
    },
    "colab": {
      "name": "Applied_Alg_sem_8_task",
      "provenance": [],
      "collapsed_sections": [],
      "include_colab_link": true
    }
  },
  "cells": [
    {
      "cell_type": "markdown",
      "metadata": {
        "id": "view-in-github",
        "colab_type": "text"
      },
      "source": [
        "<a href=\"https://colab.research.google.com/github/GalinaZh/Appl_alg2021/blob/main/Applied_Alg_sem_8_task.ipynb\" target=\"_parent\"><img src=\"https://colab.research.google.com/assets/colab-badge.svg\" alt=\"Open In Colab\"/></a>"
      ]
    },
    {
      "cell_type": "markdown",
      "metadata": {
        "id": "fis1w-TTVnuw"
      },
      "source": [
        "# Занятие 8 \n",
        "# Прикладная алгебра и численные методы\n",
        "## Повторение: псевдообратная матрица, ортогонализация Грама-Шмидта, LU, QR."
      ]
    },
    {
      "cell_type": "code",
      "metadata": {
        "colab": {
          "base_uri": "https://localhost:8080/"
        },
        "id": "A7Sm92ZCwHJ_",
        "outputId": "f10d1079-0021-4e1a-9a2c-dfb4e3839db9"
      },
      "source": [
        "!python -m pip install sympy --upgrade"
      ],
      "execution_count": 1,
      "outputs": [
        {
          "output_type": "stream",
          "text": [
            "Requirement already up-to-date: sympy in /usr/local/lib/python3.7/dist-packages (1.7.1)\n",
            "Requirement already satisfied, skipping upgrade: mpmath>=0.19 in /usr/local/lib/python3.7/dist-packages (from sympy) (1.2.1)\n"
          ],
          "name": "stdout"
        }
      ]
    },
    {
      "cell_type": "code",
      "metadata": {
        "id": "mGFcxneQVnu6"
      },
      "source": [
        "import numpy as np\n",
        "import sympy\n",
        "from sympy import S, latex, Matrix, I, simplify, expand\n",
        "import scipy.linalg\n",
        "import numpy.linalg\n",
        "from google.colab import files"
      ],
      "execution_count": 3,
      "outputs": []
    },
    {
      "cell_type": "code",
      "metadata": {
        "colab": {
          "base_uri": "https://localhost:8080/"
        },
        "id": "8I2nsbIp-Tzb",
        "outputId": "ac534c39-227f-47b6-e515-5b6bc0c6b0d8"
      },
      "source": [
        "import sympy\r\n",
        "import numpy\r\n",
        "sympy.__version__, numpy.__version__"
      ],
      "execution_count": 4,
      "outputs": [
        {
          "output_type": "execute_result",
          "data": {
            "text/plain": [
              "('1.7.1', '1.19.5')"
            ]
          },
          "metadata": {
            "tags": []
          },
          "execution_count": 4
        }
      ]
    },
    {
      "cell_type": "markdown",
      "metadata": {
        "id": "_JT1iMxoMIgQ"
      },
      "source": [
        "## Задание 1\r\n",
        "Найти псевдообратную матрицу к матрице $A_{5\\times 8}$ из файла A58.xlsx \r\n",
        "\r\n",
        "с помощью pinv из numpy и scipy\r\n",
        "\r\n",
        "с помощью LU разложения\r\n",
        "\r\n",
        "с помощью QR разложения из numpy и scipy\r\n",
        "\r\n",
        "Записать в файл полученные псевдообратные матрицы.\r\n"
      ]
    },
    {
      "cell_type": "code",
      "metadata": {
        "id": "2aP5HyIlG8nF"
      },
      "source": [
        ""
      ],
      "execution_count": null,
      "outputs": []
    },
    {
      "cell_type": "markdown",
      "metadata": {
        "id": "1x-2rU76TPBR"
      },
      "source": [
        "### Задание 2\r\n",
        "\r\n",
        "Написать функцию, которая на основе LU разложения строит разложение $L'DU'$, где $L'$ - левая нижняя треугольная матрица с единицами на главной диагонали, $D$ - диагональная матрица, $U'$ - правая верхняя треугольная матрица с единицами на главной диагонали.\r\n",
        "\r\n",
        "Построить LU разложение и разложение $L'DU'$ для матрицы Задания 1. \r\n",
        "\r\n",
        "На основе каждого разложения построить псевдообратную матрицу."
      ]
    },
    {
      "cell_type": "code",
      "metadata": {
        "id": "JyysKH6XG-Y6"
      },
      "source": [
        ""
      ],
      "execution_count": null,
      "outputs": []
    },
    {
      "cell_type": "code",
      "metadata": {
        "colab": {
          "base_uri": "https://localhost:8080/",
          "height": 508
        },
        "id": "2kMhOqhVcALp",
        "outputId": "cd991047-617c-4882-d721-d7a662fd79c2"
      },
      "source": [
        "from sympy.abc import a, b, c, d, f, g, h, k, l, m, n, q\r\n",
        "\r\n",
        "L1 = Matrix([[a, 0, 0, 0], [b, c, 0, 0], [d, f, g, 0]])\r\n",
        "U1 = Matrix([[h, k, l], [0, m, n], [0, 0, q], [0, 0, 0]])\r\n",
        "display(L1, U1, L1*U1)\r\n",
        "D = sympy.zeros(4, 4)\r\n",
        "for i in range(3):\r\n",
        "    D[i, i] = L1[i, i]*U1[i, i]\r\n",
        "    L1[:, i] /= L1[i, i]\r\n",
        "    U1[i, :] /= U1[i, i]\r\n",
        "    \r\n",
        "display(L1, D, U1, L1*D*U1)"
      ],
      "execution_count": null,
      "outputs": [
        {
          "output_type": "display_data",
          "data": {
            "text/latex": "$\\displaystyle \\left[\\begin{matrix}a & 0 & 0 & 0\\\\b & c & 0 & 0\\\\d & f & g & 0\\end{matrix}\\right]$",
            "text/plain": [
              "Matrix([\n",
              "[a, 0, 0, 0],\n",
              "[b, c, 0, 0],\n",
              "[d, f, g, 0]])"
            ]
          },
          "metadata": {
            "tags": []
          }
        },
        {
          "output_type": "display_data",
          "data": {
            "text/latex": "$\\displaystyle \\left[\\begin{matrix}h & k & l\\\\0 & m & n\\\\0 & 0 & q\\\\0 & 0 & 0\\end{matrix}\\right]$",
            "text/plain": [
              "Matrix([\n",
              "[h, k, l],\n",
              "[0, m, n],\n",
              "[0, 0, q],\n",
              "[0, 0, 0]])"
            ]
          },
          "metadata": {
            "tags": []
          }
        },
        {
          "output_type": "display_data",
          "data": {
            "text/latex": "$\\displaystyle \\left[\\begin{matrix}a h & a k & a l\\\\b h & b k + c m & b l + c n\\\\d h & d k + f m & d l + f n + g q\\end{matrix}\\right]$",
            "text/plain": [
              "Matrix([\n",
              "[a*h,       a*k,             a*l],\n",
              "[b*h, b*k + c*m,       b*l + c*n],\n",
              "[d*h, d*k + f*m, d*l + f*n + g*q]])"
            ]
          },
          "metadata": {
            "tags": []
          }
        },
        {
          "output_type": "display_data",
          "data": {
            "text/latex": "$\\displaystyle \\left[\\begin{matrix}1 & 0 & 0 & 0\\\\\\frac{b}{a} & 1 & 0 & 0\\\\\\frac{d}{a} & \\frac{f}{c} & 1 & 0\\end{matrix}\\right]$",
            "text/plain": [
              "Matrix([\n",
              "[  1,   0, 0, 0],\n",
              "[b/a,   1, 0, 0],\n",
              "[d/a, f/c, 1, 0]])"
            ]
          },
          "metadata": {
            "tags": []
          }
        },
        {
          "output_type": "display_data",
          "data": {
            "text/latex": "$\\displaystyle \\left[\\begin{matrix}a h & 0 & 0 & 0\\\\0 & c m & 0 & 0\\\\0 & 0 & g q & 0\\\\0 & 0 & 0 & 0\\end{matrix}\\right]$",
            "text/plain": [
              "Matrix([\n",
              "[a*h,   0,   0, 0],\n",
              "[  0, c*m,   0, 0],\n",
              "[  0,   0, g*q, 0],\n",
              "[  0,   0,   0, 0]])"
            ]
          },
          "metadata": {
            "tags": []
          }
        },
        {
          "output_type": "display_data",
          "data": {
            "text/latex": "$\\displaystyle \\left[\\begin{matrix}1 & \\frac{k}{h} & \\frac{l}{h}\\\\0 & 1 & \\frac{n}{m}\\\\0 & 0 & 1\\\\0 & 0 & 0\\end{matrix}\\right]$",
            "text/plain": [
              "Matrix([\n",
              "[1, k/h, l/h],\n",
              "[0,   1, n/m],\n",
              "[0,   0,   1],\n",
              "[0,   0,   0]])"
            ]
          },
          "metadata": {
            "tags": []
          }
        },
        {
          "output_type": "display_data",
          "data": {
            "text/latex": "$\\displaystyle \\left[\\begin{matrix}a h & a k & a l\\\\b h & b k + c m & b l + c n\\\\d h & d k + f m & d l + f n + g q\\end{matrix}\\right]$",
            "text/plain": [
              "Matrix([\n",
              "[a*h,       a*k,             a*l],\n",
              "[b*h, b*k + c*m,       b*l + c*n],\n",
              "[d*h, d*k + f*m, d*l + f*n + g*q]])"
            ]
          },
          "metadata": {
            "tags": []
          }
        }
      ]
    },
    {
      "cell_type": "markdown",
      "metadata": {
        "id": "b35g5UYOZmHC"
      },
      "source": [
        "## Задание 3\r\n",
        "Написать функцию, возвращающую ортогональную (или ортонормированную) систему векторов, аргументы функции - линейно независимые векторы.\r\n",
        "\r\n",
        "Функция должна проверять линейную независимость векторов, выдавать ошибку в случае зависимости.\r\n",
        "\r\n",
        "Построить $QR$-разложение матрицы из Задания 1 с помощью процесса ортогонализации Грама-Шмидта. На основе разложения построить псевдообратную матрицу."
      ]
    },
    {
      "cell_type": "code",
      "metadata": {
        "id": "iWSsUYqwG_YS"
      },
      "source": [
        ""
      ],
      "execution_count": null,
      "outputs": []
    }
  ]
}