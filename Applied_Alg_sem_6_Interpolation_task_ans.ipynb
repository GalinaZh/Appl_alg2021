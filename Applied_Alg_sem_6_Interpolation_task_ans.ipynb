{
  "nbformat": 4,
  "nbformat_minor": 0,
  "metadata": {
    "kernelspec": {
      "display_name": "Python 3",
      "language": "python",
      "name": "python3"
    },
    "colab": {
      "name": "Applied_Alg_sem_6_Interpolation_task_ans.ipynb",
      "provenance": [],
      "collapsed_sections": [],
      "include_colab_link": true
    }
  },
  "cells": [
    {
      "cell_type": "markdown",
      "metadata": {
        "id": "view-in-github",
        "colab_type": "text"
      },
      "source": [
        "<a href=\"https://colab.research.google.com/github/GalinaZh/Appl_alg2021/blob/main/Applied_Alg_sem_6_Interpolation_task_ans.ipynb\" target=\"_parent\"><img src=\"https://colab.research.google.com/assets/colab-badge.svg\" alt=\"Open In Colab\"/></a>"
      ]
    },
    {
      "cell_type": "markdown",
      "metadata": {
        "id": "fis1w-TTVnuw"
      },
      "source": [
        "# Занятие 6\n",
        "# Прикладная алгебра и численные методы\n",
        "## Интерполяция: оценка близости функций"
      ]
    },
    {
      "cell_type": "code",
      "metadata": {
        "id": "mGFcxneQVnu6"
      },
      "source": [
        "import numpy as np\n",
        "import scipy.linalg\n",
        "import sympy\n",
        "from sympy import S\n",
        "import matplotlib.pyplot as plt\n",
        "from copy import deepcopy \n",
        "import pandas as pd\n",
        "from google.colab import files\n",
        "from scipy.interpolate import lagrange, interp1d, splrep, splev, InterpolatedUnivariateSpline, BPoly, CubicSpline\n",
        "from scipy.linalg import norm\n",
        "%matplotlib inline"
      ],
      "execution_count": 1,
      "outputs": []
    },
    {
      "cell_type": "code",
      "metadata": {
        "colab": {
          "resources": {
            "http://localhost:8080/nbextensions/google.colab/files.js": {
              "data": "Ly8gQ29weXJpZ2h0IDIwMTcgR29vZ2xlIExMQwovLwovLyBMaWNlbnNlZCB1bmRlciB0aGUgQXBhY2hlIExpY2Vuc2UsIFZlcnNpb24gMi4wICh0aGUgIkxpY2Vuc2UiKTsKLy8geW91IG1heSBub3QgdXNlIHRoaXMgZmlsZSBleGNlcHQgaW4gY29tcGxpYW5jZSB3aXRoIHRoZSBMaWNlbnNlLgovLyBZb3UgbWF5IG9idGFpbiBhIGNvcHkgb2YgdGhlIExpY2Vuc2UgYXQKLy8KLy8gICAgICBodHRwOi8vd3d3LmFwYWNoZS5vcmcvbGljZW5zZXMvTElDRU5TRS0yLjAKLy8KLy8gVW5sZXNzIHJlcXVpcmVkIGJ5IGFwcGxpY2FibGUgbGF3IG9yIGFncmVlZCB0byBpbiB3cml0aW5nLCBzb2Z0d2FyZQovLyBkaXN0cmlidXRlZCB1bmRlciB0aGUgTGljZW5zZSBpcyBkaXN0cmlidXRlZCBvbiBhbiAiQVMgSVMiIEJBU0lTLAovLyBXSVRIT1VUIFdBUlJBTlRJRVMgT1IgQ09ORElUSU9OUyBPRiBBTlkgS0lORCwgZWl0aGVyIGV4cHJlc3Mgb3IgaW1wbGllZC4KLy8gU2VlIHRoZSBMaWNlbnNlIGZvciB0aGUgc3BlY2lmaWMgbGFuZ3VhZ2UgZ292ZXJuaW5nIHBlcm1pc3Npb25zIGFuZAovLyBsaW1pdGF0aW9ucyB1bmRlciB0aGUgTGljZW5zZS4KCi8qKgogKiBAZmlsZW92ZXJ2aWV3IEhlbHBlcnMgZm9yIGdvb2dsZS5jb2xhYiBQeXRob24gbW9kdWxlLgogKi8KKGZ1bmN0aW9uKHNjb3BlKSB7CmZ1bmN0aW9uIHNwYW4odGV4dCwgc3R5bGVBdHRyaWJ1dGVzID0ge30pIHsKICBjb25zdCBlbGVtZW50ID0gZG9jdW1lbnQuY3JlYXRlRWxlbWVudCgnc3BhbicpOwogIGVsZW1lbnQudGV4dENvbnRlbnQgPSB0ZXh0OwogIGZvciAoY29uc3Qga2V5IG9mIE9iamVjdC5rZXlzKHN0eWxlQXR0cmlidXRlcykpIHsKICAgIGVsZW1lbnQuc3R5bGVba2V5XSA9IHN0eWxlQXR0cmlidXRlc1trZXldOwogIH0KICByZXR1cm4gZWxlbWVudDsKfQoKLy8gTWF4IG51bWJlciBvZiBieXRlcyB3aGljaCB3aWxsIGJlIHVwbG9hZGVkIGF0IGEgdGltZS4KY29uc3QgTUFYX1BBWUxPQURfU0laRSA9IDEwMCAqIDEwMjQ7CgpmdW5jdGlvbiBfdXBsb2FkRmlsZXMoaW5wdXRJZCwgb3V0cHV0SWQpIHsKICBjb25zdCBzdGVwcyA9IHVwbG9hZEZpbGVzU3RlcChpbnB1dElkLCBvdXRwdXRJZCk7CiAgY29uc3Qgb3V0cHV0RWxlbWVudCA9IGRvY3VtZW50LmdldEVsZW1lbnRCeUlkKG91dHB1dElkKTsKICAvLyBDYWNoZSBzdGVwcyBvbiB0aGUgb3V0cHV0RWxlbWVudCB0byBtYWtlIGl0IGF2YWlsYWJsZSBmb3IgdGhlIG5leHQgY2FsbAogIC8vIHRvIHVwbG9hZEZpbGVzQ29udGludWUgZnJvbSBQeXRob24uCiAgb3V0cHV0RWxlbWVudC5zdGVwcyA9IHN0ZXBzOwoKICByZXR1cm4gX3VwbG9hZEZpbGVzQ29udGludWUob3V0cHV0SWQpOwp9CgovLyBUaGlzIGlzIHJvdWdobHkgYW4gYXN5bmMgZ2VuZXJhdG9yIChub3Qgc3VwcG9ydGVkIGluIHRoZSBicm93c2VyIHlldCksCi8vIHdoZXJlIHRoZXJlIGFyZSBtdWx0aXBsZSBhc3luY2hyb25vdXMgc3RlcHMgYW5kIHRoZSBQeXRob24gc2lkZSBpcyBnb2luZwovLyB0byBwb2xsIGZvciBjb21wbGV0aW9uIG9mIGVhY2ggc3RlcC4KLy8gVGhpcyB1c2VzIGEgUHJvbWlzZSB0byBibG9jayB0aGUgcHl0aG9uIHNpZGUgb24gY29tcGxldGlvbiBvZiBlYWNoIHN0ZXAsCi8vIHRoZW4gcGFzc2VzIHRoZSByZXN1bHQgb2YgdGhlIHByZXZpb3VzIHN0ZXAgYXMgdGhlIGlucHV0IHRvIHRoZSBuZXh0IHN0ZXAuCmZ1bmN0aW9uIF91cGxvYWRGaWxlc0NvbnRpbnVlKG91dHB1dElkKSB7CiAgY29uc3Qgb3V0cHV0RWxlbWVudCA9IGRvY3VtZW50LmdldEVsZW1lbnRCeUlkKG91dHB1dElkKTsKICBjb25zdCBzdGVwcyA9IG91dHB1dEVsZW1lbnQuc3RlcHM7CgogIGNvbnN0IG5leHQgPSBzdGVwcy5uZXh0KG91dHB1dEVsZW1lbnQubGFzdFByb21pc2VWYWx1ZSk7CiAgcmV0dXJuIFByb21pc2UucmVzb2x2ZShuZXh0LnZhbHVlLnByb21pc2UpLnRoZW4oKHZhbHVlKSA9PiB7CiAgICAvLyBDYWNoZSB0aGUgbGFzdCBwcm9taXNlIHZhbHVlIHRvIG1ha2UgaXQgYXZhaWxhYmxlIHRvIHRoZSBuZXh0CiAgICAvLyBzdGVwIG9mIHRoZSBnZW5lcmF0b3IuCiAgICBvdXRwdXRFbGVtZW50Lmxhc3RQcm9taXNlVmFsdWUgPSB2YWx1ZTsKICAgIHJldHVybiBuZXh0LnZhbHVlLnJlc3BvbnNlOwogIH0pOwp9CgovKioKICogR2VuZXJhdG9yIGZ1bmN0aW9uIHdoaWNoIGlzIGNhbGxlZCBiZXR3ZWVuIGVhY2ggYXN5bmMgc3RlcCBvZiB0aGUgdXBsb2FkCiAqIHByb2Nlc3MuCiAqIEBwYXJhbSB7c3RyaW5nfSBpbnB1dElkIEVsZW1lbnQgSUQgb2YgdGhlIGlucHV0IGZpbGUgcGlja2VyIGVsZW1lbnQuCiAqIEBwYXJhbSB7c3RyaW5nfSBvdXRwdXRJZCBFbGVtZW50IElEIG9mIHRoZSBvdXRwdXQgZGlzcGxheS4KICogQHJldHVybiB7IUl0ZXJhYmxlPCFPYmplY3Q+fSBJdGVyYWJsZSBvZiBuZXh0IHN0ZXBzLgogKi8KZnVuY3Rpb24qIHVwbG9hZEZpbGVzU3RlcChpbnB1dElkLCBvdXRwdXRJZCkgewogIGNvbnN0IGlucHV0RWxlbWVudCA9IGRvY3VtZW50LmdldEVsZW1lbnRCeUlkKGlucHV0SWQpOwogIGlucHV0RWxlbWVudC5kaXNhYmxlZCA9IGZhbHNlOwoKICBjb25zdCBvdXRwdXRFbGVtZW50ID0gZG9jdW1lbnQuZ2V0RWxlbWVudEJ5SWQob3V0cHV0SWQpOwogIG91dHB1dEVsZW1lbnQuaW5uZXJIVE1MID0gJyc7CgogIGNvbnN0IHBpY2tlZFByb21pc2UgPSBuZXcgUHJvbWlzZSgocmVzb2x2ZSkgPT4gewogICAgaW5wdXRFbGVtZW50LmFkZEV2ZW50TGlzdGVuZXIoJ2NoYW5nZScsIChlKSA9PiB7CiAgICAgIHJlc29sdmUoZS50YXJnZXQuZmlsZXMpOwogICAgfSk7CiAgfSk7CgogIGNvbnN0IGNhbmNlbCA9IGRvY3VtZW50LmNyZWF0ZUVsZW1lbnQoJ2J1dHRvbicpOwogIGlucHV0RWxlbWVudC5wYXJlbnRFbGVtZW50LmFwcGVuZENoaWxkKGNhbmNlbCk7CiAgY2FuY2VsLnRleHRDb250ZW50ID0gJ0NhbmNlbCB1cGxvYWQnOwogIGNvbnN0IGNhbmNlbFByb21pc2UgPSBuZXcgUHJvbWlzZSgocmVzb2x2ZSkgPT4gewogICAgY2FuY2VsLm9uY2xpY2sgPSAoKSA9PiB7CiAgICAgIHJlc29sdmUobnVsbCk7CiAgICB9OwogIH0pOwoKICAvLyBXYWl0IGZvciB0aGUgdXNlciB0byBwaWNrIHRoZSBmaWxlcy4KICBjb25zdCBmaWxlcyA9IHlpZWxkIHsKICAgIHByb21pc2U6IFByb21pc2UucmFjZShbcGlja2VkUHJvbWlzZSwgY2FuY2VsUHJvbWlzZV0pLAogICAgcmVzcG9uc2U6IHsKICAgICAgYWN0aW9uOiAnc3RhcnRpbmcnLAogICAgfQogIH07CgogIGNhbmNlbC5yZW1vdmUoKTsKCiAgLy8gRGlzYWJsZSB0aGUgaW5wdXQgZWxlbWVudCBzaW5jZSBmdXJ0aGVyIHBpY2tzIGFyZSBub3QgYWxsb3dlZC4KICBpbnB1dEVsZW1lbnQuZGlzYWJsZWQgPSB0cnVlOwoKICBpZiAoIWZpbGVzKSB7CiAgICByZXR1cm4gewogICAgICByZXNwb25zZTogewogICAgICAgIGFjdGlvbjogJ2NvbXBsZXRlJywKICAgICAgfQogICAgfTsKICB9CgogIGZvciAoY29uc3QgZmlsZSBvZiBmaWxlcykgewogICAgY29uc3QgbGkgPSBkb2N1bWVudC5jcmVhdGVFbGVtZW50KCdsaScpOwogICAgbGkuYXBwZW5kKHNwYW4oZmlsZS5uYW1lLCB7Zm9udFdlaWdodDogJ2JvbGQnfSkpOwogICAgbGkuYXBwZW5kKHNwYW4oCiAgICAgICAgYCgke2ZpbGUudHlwZSB8fCAnbi9hJ30pIC0gJHtmaWxlLnNpemV9IGJ5dGVzLCBgICsKICAgICAgICBgbGFzdCBtb2RpZmllZDogJHsKICAgICAgICAgICAgZmlsZS5sYXN0TW9kaWZpZWREYXRlID8gZmlsZS5sYXN0TW9kaWZpZWREYXRlLnRvTG9jYWxlRGF0ZVN0cmluZygpIDoKICAgICAgICAgICAgICAgICAgICAgICAgICAgICAgICAgICAgJ24vYSd9IC0gYCkpOwogICAgY29uc3QgcGVyY2VudCA9IHNwYW4oJzAlIGRvbmUnKTsKICAgIGxpLmFwcGVuZENoaWxkKHBlcmNlbnQpOwoKICAgIG91dHB1dEVsZW1lbnQuYXBwZW5kQ2hpbGQobGkpOwoKICAgIGNvbnN0IGZpbGVEYXRhUHJvbWlzZSA9IG5ldyBQcm9taXNlKChyZXNvbHZlKSA9PiB7CiAgICAgIGNvbnN0IHJlYWRlciA9IG5ldyBGaWxlUmVhZGVyKCk7CiAgICAgIHJlYWRlci5vbmxvYWQgPSAoZSkgPT4gewogICAgICAgIHJlc29sdmUoZS50YXJnZXQucmVzdWx0KTsKICAgICAgfTsKICAgICAgcmVhZGVyLnJlYWRBc0FycmF5QnVmZmVyKGZpbGUpOwogICAgfSk7CiAgICAvLyBXYWl0IGZvciB0aGUgZGF0YSB0byBiZSByZWFkeS4KICAgIGxldCBmaWxlRGF0YSA9IHlpZWxkIHsKICAgICAgcHJvbWlzZTogZmlsZURhdGFQcm9taXNlLAogICAgICByZXNwb25zZTogewogICAgICAgIGFjdGlvbjogJ2NvbnRpbnVlJywKICAgICAgfQogICAgfTsKCiAgICAvLyBVc2UgYSBjaHVua2VkIHNlbmRpbmcgdG8gYXZvaWQgbWVzc2FnZSBzaXplIGxpbWl0cy4gU2VlIGIvNjIxMTU2NjAuCiAgICBsZXQgcG9zaXRpb24gPSAwOwogICAgd2hpbGUgKHBvc2l0aW9uIDwgZmlsZURhdGEuYnl0ZUxlbmd0aCkgewogICAgICBjb25zdCBsZW5ndGggPSBNYXRoLm1pbihmaWxlRGF0YS5ieXRlTGVuZ3RoIC0gcG9zaXRpb24sIE1BWF9QQVlMT0FEX1NJWkUpOwogICAgICBjb25zdCBjaHVuayA9IG5ldyBVaW50OEFycmF5KGZpbGVEYXRhLCBwb3NpdGlvbiwgbGVuZ3RoKTsKICAgICAgcG9zaXRpb24gKz0gbGVuZ3RoOwoKICAgICAgY29uc3QgYmFzZTY0ID0gYnRvYShTdHJpbmcuZnJvbUNoYXJDb2RlLmFwcGx5KG51bGwsIGNodW5rKSk7CiAgICAgIHlpZWxkIHsKICAgICAgICByZXNwb25zZTogewogICAgICAgICAgYWN0aW9uOiAnYXBwZW5kJywKICAgICAgICAgIGZpbGU6IGZpbGUubmFtZSwKICAgICAgICAgIGRhdGE6IGJhc2U2NCwKICAgICAgICB9LAogICAgICB9OwogICAgICBwZXJjZW50LnRleHRDb250ZW50ID0KICAgICAgICAgIGAke01hdGgucm91bmQoKHBvc2l0aW9uIC8gZmlsZURhdGEuYnl0ZUxlbmd0aCkgKiAxMDApfSUgZG9uZWA7CiAgICB9CiAgfQoKICAvLyBBbGwgZG9uZS4KICB5aWVsZCB7CiAgICByZXNwb25zZTogewogICAgICBhY3Rpb246ICdjb21wbGV0ZScsCiAgICB9CiAgfTsKfQoKc2NvcGUuZ29vZ2xlID0gc2NvcGUuZ29vZ2xlIHx8IHt9OwpzY29wZS5nb29nbGUuY29sYWIgPSBzY29wZS5nb29nbGUuY29sYWIgfHwge307CnNjb3BlLmdvb2dsZS5jb2xhYi5fZmlsZXMgPSB7CiAgX3VwbG9hZEZpbGVzLAogIF91cGxvYWRGaWxlc0NvbnRpbnVlLAp9Owp9KShzZWxmKTsK",
              "ok": true,
              "headers": [
                [
                  "content-type",
                  "application/javascript"
                ]
              ],
              "status": 200,
              "status_text": ""
            }
          },
          "base_uri": "https://localhost:8080/",
          "height": 89
        },
        "id": "xF6SzPB8XCCR",
        "outputId": "31711fd9-c40b-4d07-a206-fd3a78fae637"
      },
      "source": [
        "uploaded = files.upload()\r\n",
        "\r\n",
        "for fn in uploaded.keys():\r\n",
        "  print('User uploaded file \"{name}\" with length {length} bytes'.format(\r\n",
        "      name=fn, length=len(uploaded[fn])))"
      ],
      "execution_count": 5,
      "outputs": [
        {
          "output_type": "display_data",
          "data": {
            "text/html": [
              "\n",
              "     <input type=\"file\" id=\"files-da322234-1f47-447a-98fa-24d0dddb0bc6\" name=\"files[]\" multiple disabled\n",
              "        style=\"border:none\" />\n",
              "     <output id=\"result-da322234-1f47-447a-98fa-24d0dddb0bc6\">\n",
              "      Upload widget is only available when the cell has been executed in the\n",
              "      current browser session. Please rerun this cell to enable.\n",
              "      </output>\n",
              "      <script src=\"/nbextensions/google.colab/files.js\"></script> "
            ],
            "text/plain": [
              "<IPython.core.display.HTML object>"
            ]
          },
          "metadata": {
            "tags": []
          }
        },
        {
          "output_type": "stream",
          "text": [
            "Saving rosstat_income0.xlsx to rosstat_income0.xlsx\n",
            "User uploaded file \"rosstat_income0.xlsx\" with length 11288 bytes\n"
          ],
          "name": "stdout"
        }
      ]
    },
    {
      "cell_type": "code",
      "metadata": {
        "colab": {
          "base_uri": "https://localhost:8080/"
        },
        "id": "8I2nsbIp-Tzb",
        "outputId": "6e4d2f5a-6c58-41ee-a198-9a00d5bbaa61"
      },
      "source": [
        "import sympy\r\n",
        "import numpy\r\n",
        "sympy.__version__, numpy.__version__"
      ],
      "execution_count": null,
      "outputs": [
        {
          "output_type": "execute_result",
          "data": {
            "text/plain": [
              "('1.7.1', '1.19.0')"
            ]
          },
          "metadata": {
            "tags": []
          },
          "execution_count": 1
        }
      ]
    },
    {
      "cell_type": "code",
      "metadata": {
        "colab": {
          "base_uri": "https://localhost:8080/",
          "height": 734
        },
        "id": "IeygYgLH-eEa",
        "outputId": "1ebccec7-0890-43dd-e05f-f5f6936fa467"
      },
      "source": [
        "!python -m pip install sympy --upgrade\r\n",
        "!python -m pip install -U matplotlib\r\n",
        "!pip install numpy==1.19.0"
      ],
      "execution_count": 10,
      "outputs": [
        {
          "output_type": "stream",
          "text": [
            "Collecting sympy\n",
            "\u001b[?25l  Downloading https://files.pythonhosted.org/packages/ff/69/b16fc81b939d3efdd0b552f2e3e54f7fa1423d0c320cced2e69e675dde26/sympy-1.7.1-py3-none-any.whl (5.9MB)\n",
            "\u001b[K     |████████████████████████████████| 5.9MB 7.2MB/s \n",
            "\u001b[?25hRequirement already satisfied, skipping upgrade: mpmath>=0.19 in /usr/local/lib/python3.6/dist-packages (from sympy) (1.1.0)\n",
            "Installing collected packages: sympy\n",
            "  Found existing installation: sympy 1.1.1\n",
            "    Uninstalling sympy-1.1.1:\n",
            "      Successfully uninstalled sympy-1.1.1\n",
            "Successfully installed sympy-1.7.1\n",
            "Collecting matplotlib\n",
            "\u001b[?25l  Downloading https://files.pythonhosted.org/packages/09/03/b7b30fa81cb687d1178e085d0f01111ceaea3bf81f9330c937fb6f6c8ca0/matplotlib-3.3.4-cp36-cp36m-manylinux1_x86_64.whl (11.5MB)\n",
            "\u001b[K     |████████████████████████████████| 11.5MB 180kB/s \n",
            "\u001b[?25hRequirement already satisfied, skipping upgrade: numpy>=1.15 in /usr/local/lib/python3.6/dist-packages (from matplotlib) (1.19.5)\n",
            "Requirement already satisfied, skipping upgrade: python-dateutil>=2.1 in /usr/local/lib/python3.6/dist-packages (from matplotlib) (2.8.1)\n",
            "Requirement already satisfied, skipping upgrade: cycler>=0.10 in /usr/local/lib/python3.6/dist-packages (from matplotlib) (0.10.0)\n",
            "Requirement already satisfied, skipping upgrade: pillow>=6.2.0 in /usr/local/lib/python3.6/dist-packages (from matplotlib) (7.0.0)\n",
            "Requirement already satisfied, skipping upgrade: kiwisolver>=1.0.1 in /usr/local/lib/python3.6/dist-packages (from matplotlib) (1.3.1)\n",
            "Requirement already satisfied, skipping upgrade: pyparsing!=2.0.4,!=2.1.2,!=2.1.6,>=2.0.3 in /usr/local/lib/python3.6/dist-packages (from matplotlib) (2.4.7)\n",
            "Requirement already satisfied, skipping upgrade: six>=1.5 in /usr/local/lib/python3.6/dist-packages (from python-dateutil>=2.1->matplotlib) (1.15.0)\n",
            "\u001b[31mERROR: albumentations 0.1.12 has requirement imgaug<0.2.7,>=0.2.5, but you'll have imgaug 0.2.9 which is incompatible.\u001b[0m\n",
            "Installing collected packages: matplotlib\n",
            "  Found existing installation: matplotlib 3.2.2\n",
            "    Uninstalling matplotlib-3.2.2:\n",
            "      Successfully uninstalled matplotlib-3.2.2\n",
            "Successfully installed matplotlib-3.3.4\n",
            "Collecting numpy==1.19.0\n",
            "\u001b[?25l  Downloading https://files.pythonhosted.org/packages/93/0b/71ae818646c1a80fbe6776d41f480649523ed31243f1f34d9d7e41d70195/numpy-1.19.0-cp36-cp36m-manylinux2010_x86_64.whl (14.6MB)\n",
            "\u001b[K     |████████████████████████████████| 14.6MB 306kB/s \n",
            "\u001b[31mERROR: tensorflow 2.4.1 has requirement numpy~=1.19.2, but you'll have numpy 1.19.0 which is incompatible.\u001b[0m\n",
            "\u001b[31mERROR: datascience 0.10.6 has requirement folium==0.2.1, but you'll have folium 0.8.3 which is incompatible.\u001b[0m\n",
            "\u001b[31mERROR: albumentations 0.1.12 has requirement imgaug<0.2.7,>=0.2.5, but you'll have imgaug 0.2.9 which is incompatible.\u001b[0m\n",
            "\u001b[?25hInstalling collected packages: numpy\n",
            "  Found existing installation: numpy 1.19.5\n",
            "    Uninstalling numpy-1.19.5:\n",
            "      Successfully uninstalled numpy-1.19.5\n",
            "Successfully installed numpy-1.19.0\n"
          ],
          "name": "stdout"
        },
        {
          "output_type": "display_data",
          "data": {
            "application/vnd.colab-display-data+json": {
              "pip_warning": {
                "packages": [
                  "numpy"
                ]
              }
            }
          },
          "metadata": {
            "tags": []
          }
        }
      ]
    },
    {
      "cell_type": "code",
      "metadata": {
        "id": "PAkxl_bYer7c"
      },
      "source": [
        "sympy.init_printing(use_unicode=False, wrap_line=False, no_global=True)"
      ],
      "execution_count": null,
      "outputs": []
    },
    {
      "cell_type": "markdown",
      "metadata": {
        "id": "jxu6pmTL3B7K"
      },
      "source": [
        "https://docs.scipy.org/doc/scipy/reference/generated/scipy.linalg.norm.html#scipy.linalg.norm\r\n",
        "\r\n",
        "https://numpy.org/doc/stable/reference/generated/numpy.linalg.norm.html\r\n"
      ]
    },
    {
      "cell_type": "markdown",
      "metadata": {
        "id": "XMPgEBNnVnu8"
      },
      "source": [
        "## Многочлен Лагранжа\n",
        "$$\n",
        "f(x) = L(x) = \\sum_{i=1}^n y_i \n",
        "\\frac{(x - x_0)(x - x_1)...(x - x_{i-1})(x - x_{i+1})...(x - x_n)}{(x_i - x_0)(x_i - x_1)...(x_i - x_{i-1})(x_i - x_{i+1})...(x_i - x_n)}, \n",
        "\\quad y_i = f(x_i), \\quad i = 0, ..., n.\n",
        "$$\n",
        "## Задание 1\n",
        "Построим полином Лагранжа для данных \n",
        "\n",
        "https://rosstat.gov.ru/folder/13397\n",
        "\n",
        "файл rosstat_income.xlsx\n",
        "\n",
        "Из файла считать данные о доходах в месяц в каждом квартале 2018 и 2019 гг. (среднее значение за год не учитывается). \n",
        "\n",
        "Построить полином Лагранжа в помощью \n",
        "scipy.interpolate.\n",
        "\n",
        "Построить график полученного полинома, отметить соответствующие данные точками."
      ]
    },
    {
      "cell_type": "code",
      "metadata": {
        "colab": {
          "base_uri": "https://localhost:8080/",
          "height": 299
        },
        "id": "0FR1V12BVnvF",
        "outputId": "b40bbc1e-3345-4902-8016-39047920440a"
      },
      "source": [
        "rexcel = pd.read_excel('rosstat_income0.xlsx', index_col=0, skiprows=[0, 1, 2, 3, 10, 16, 22, 28, 34, 40, 46], dtype={'Name': str, 'Value': int})\n",
        "Y1 = np.hstack((rexcel.values[25:29, 0], rexcel.values[25:29, 0]))\n",
        "X1 = [1 + k for k in range(len(Y1))]\n",
        "poly1 = lagrange(X1, Y1)\n",
        "X1ls = np.linspace(X1[0], X1[-1])\n",
        "plt.plot(X1, Y1, 'ro', X1ls, poly1(X1ls), 'g--')"
      ],
      "execution_count": 15,
      "outputs": [
        {
          "output_type": "execute_result",
          "data": {
            "text/plain": [
              "[<matplotlib.lines.Line2D at 0x7fae0f3897f0>,\n",
              " <matplotlib.lines.Line2D at 0x7fae0f389940>]"
            ]
          },
          "metadata": {
            "tags": []
          },
          "execution_count": 15
        },
        {
          "output_type": "display_data",
          "data": {
            "image/png": "[encoded data removed]",
            "text/plain": [
              "<Figure size 432x288 with 1 Axes>"
            ]
          },
          "metadata": {
            "tags": [],
            "needs_background": "light"
          }
        }
      ]
    },
    {
      "cell_type": "markdown",
      "metadata": {
        "id": "Lg-M6tXP_MtJ"
      },
      "source": [
        "## Задание 2.\r\n",
        "Построить полином Лагранжа для данных из файла задания 1,\r\n",
        "использовать средние значения каждого года с 2013 по 2020.\r\n",
        "\r\n",
        "Построить график полученного полинома Лагранжа, отметить на нем все точки данных в каждом квартале. \r\n",
        "\r\n",
        "Вычислить и вывести на экран нормы разности вектора поквартальных доходов и вектора соответствующих значений полинома Лагранжа, реализованные для векторов в scipy.linalg."
      ]
    },
    {
      "cell_type": "code",
      "metadata": {
        "id": "6mumgtDZ_Lji",
        "colab": {
          "base_uri": "https://localhost:8080/",
          "height": 282
        },
        "outputId": "e51fb539-cd2f-4a5b-c795-a062d7a9044f"
      },
      "source": [
        "Y2 = rexcel.values[4::5, 0]\r\n",
        "X2 = [1 + 4*k for k in range(len(Y1))]\r\n",
        "poly2 = lagrange(X2, Y2)\r\n",
        "Y2_all = np.ravel([rexcel.values[5*k:5*k + 4, 0] for k in range(8)])\r\n",
        "X2_all = [1 + k for k in range(len(Y2_all))]\r\n",
        "X2ls = np.linspace(X2[0], X2[-1])\r\n",
        "plt.plot(X2, Y2, 'ro', X2_all, Y2_all, 'mo', X2ls, poly2(X2ls), 'g--')\r\n",
        "Lagr2 = poly2(X2_all)\r\n",
        "difference2 = Y2_all - Lagr2\r\n",
        "print(*[round(item) for item in (norm(difference2), norm(difference2, 1), norm(difference2, -1), norm(difference2, 2), norm(difference2, -2), \r\n",
        "      norm(difference2, 3), norm(difference2, -3), norm(difference2, np.inf), norm(difference2, -np.inf))])"
      ],
      "execution_count": 24,
      "outputs": [
        {
          "output_type": "stream",
          "text": [
            "33948 116311 41 33948 158 28568 217 27730 276\n"
          ],
          "name": "stdout"
        },
        {
          "output_type": "display_data",
          "data": {
            "image/png": "[encoded data removed]",
            "text/plain": [
              "<Figure size 432x288 with 1 Axes>"
            ]
          },
          "metadata": {
            "tags": [],
            "needs_background": "light"
          }
        }
      ]
    },
    {
      "cell_type": "markdown",
      "metadata": {
        "id": "-DMIm1NtVnvM"
      },
      "source": [
        "## Задание 3\n",
        "Аппроксимировать $f(x) = \\ln(x + 1)$ на отрезке $[0, 2]$ квадратичным сплайном с узлами с шагом 0.5.\n",
        "\n",
        "Вычислить значения функции и сплайна в узлах равномерной сетки  от 0.1 до 2.0 с шагом 0.2, найти нормы разности полученных векторов (округлить то 4 знаков)."
      ]
    },
    {
      "cell_type": "code",
      "metadata": {
        "colab": {
          "base_uri": "https://localhost:8080/",
          "height": 282
        },
        "id": "2sCr_fypVnvM",
        "outputId": "f14c3545-117f-49d9-eb54-f66ee0c94695"
      },
      "source": [
        "def f3(x):\n",
        "  return np.log(x + 1)\n",
        "X3 = np.arange(0, 2.1, 0.5)\n",
        "Y3 = f3(X3)\n",
        "plt.scatter(X3, Y3, color='red')\n",
        "spl3 = interp1d(X3, Y3, kind='quadratic')\n",
        "xs = np.linspace(X3[0], X3[-1], 1000)\n",
        "plt.plot(xs, f3(xs), 'c-', xs, spl3(xs), 'm--', lw=3)\n",
        "X3_1 = np.arange(0.1, 2.1, 0.2)\n",
        "difference3 = f3(X3_1) - spl3(X3_1)\n",
        "print(*[round(item, 4) for item in (norm(difference3), norm(difference3, 1), norm(difference3, -1), norm(difference3, 2), norm(difference3, -2), \n",
        "      norm(difference3, 3), norm(difference3, -3), norm(difference3, np.inf), norm(difference3, -np.inf))])"
      ],
      "execution_count": 4,
      "outputs": [
        {
          "output_type": "stream",
          "text": [
            "0.006 0.0112 0.0 0.006 0.0 0.0051 0.0 0.0041 0.0\n"
          ],
          "name": "stdout"
        },
        {
          "output_type": "display_data",
          "data": {
            "image/png": "[encoded data removed]",
            "text/plain": [
              "<Figure size 432x288 with 1 Axes>"
            ]
          },
          "metadata": {
            "tags": [],
            "needs_background": "light"
          }
        }
      ]
    },
    {
      "cell_type": "markdown",
      "metadata": {
        "id": "HNiu_ihuCWVk"
      },
      "source": [
        "## Задание 4\r\n",
        "Аппроксимировать $f(x) = \\ln(x + 1)$ на отрезке $[0, 2]$ кубическим сплайном с узлами с шагом 0.5.\r\n",
        "\r\n",
        "Вычислить значения функции и сплайна в узлах равномерной сетки  от 0.1 до 2.0 с шагом 0.2, найти нормы разности полученных векторов (округлить то 4 знаков).\r\n",
        "\r\n",
        "Вычислить с помощью sympy интеграл квадрата разности $f(x)$ и сплайна (построить средствами sympy) на отрезке $[0, 2]$."
      ]
    },
    {
      "cell_type": "code",
      "metadata": {
        "id": "4mfzujtpDm5T",
        "colab": {
          "base_uri": "https://localhost:8080/",
          "height": 282
        },
        "outputId": "a8947877-6ba5-4a54-f437-ea2c430b3aa7"
      },
      "source": [
        "X3 = np.arange(0, 2.1, 0.5)\r\n",
        "Y3 = f3(X3)\r\n",
        "plt.scatter(X3, Y3, color='red')\r\n",
        "spl3 = interp1d(X3, Y3, kind='cubic')\r\n",
        "xs = np.linspace(X3[0], X3[-1], 1000)\r\n",
        "plt.plot(xs, f3(xs), 'c-', xs, spl3(xs), 'm--', lw=3)\r\n",
        "X3_1 = np.arange(0.1, 2.1, 0.2)\r\n",
        "difference3 = f3(X3_1) - spl3(X3_1)\r\n",
        "print(*[round(item, 4) for item in (norm(difference3), norm(difference3, 1), norm(difference3, -1), norm(difference3, 2), norm(difference3, -2), \r\n",
        "      norm(difference3, 3), norm(difference3, -3), norm(difference3, np.inf), norm(difference3, -np.inf))])"
      ],
      "execution_count": 5,
      "outputs": [
        {
          "output_type": "stream",
          "text": [
            "0.0025 0.0047 0.0 0.0025 0.0 0.0022 0.0 0.0019 0.0\n"
          ],
          "name": "stdout"
        },
        {
          "output_type": "display_data",
          "data": {
            "image/png": "[encoded data removed]",
            "text/plain": [
              "<Figure size 432x288 with 1 Axes>"
            ]
          },
          "metadata": {
            "tags": [],
            "needs_background": "light"
          }
        }
      ]
    },
    {
      "cell_type": "code",
      "metadata": {
        "colab": {
          "base_uri": "https://localhost:8080/",
          "height": 37
        },
        "id": "ufTU34yNrxue",
        "outputId": "9c1f93be-6367-4708-a0d5-c33f805c4d04"
      },
      "source": [
        "from sympy import interpolating_spline\r\n",
        "x = sympy.Symbol('x')\r\n",
        "spline4 = interpolating_spline(1, x, list(X3), list(Y3))\r\n",
        "difference4 = (sympy.log(x + 1) - spline4)**2\r\n",
        "sympy.integrate(difference4, (x, 0, 2))"
      ],
      "execution_count": 9,
      "outputs": [
        {
          "output_type": "execute_result",
          "data": {
            "text/latex": "$\\displaystyle 0.000155409727674527$",
            "text/plain": [
              "0.000155409727674527"
            ]
          },
          "metadata": {
            "tags": []
          },
          "execution_count": 9
        }
      ]
    },
    {
      "cell_type": "markdown",
      "metadata": {
        "id": "nWVGdlq6VnvO"
      },
      "source": [
        "## Кривые Безье\n",
        "\n",
        "https://bezier.readthedocs.io/en/stable/python/reference/bezier.curve.html\n",
        "\n",
        "## Задание 5\n",
        "Построить кривую Безье с помощью модуля bezier:\n",
        "\n",
        "https://bezier.readthedocs.io/en/stable/python/reference/bezier.curve.html\n",
        "\n",
        "Кривая должна аппроксимировать $f(x) = x\\ln(x)$, проходя через точки 1 и 4, при этом в этих точках касательная кривой Безье должна совпадать с касательной $f(x)$.\n",
        "\n",
        "Построить на общем графике $f(x)$ и кривую Безье, отметить узловые точки.\n",
        "\n",
        "Вычислить значения функции и вертикальной координаты точки на кривой Безье в узлах равномерной сетки отрезка [1.000001, 4.0] с шагом 0.1. \n",
        "\n",
        "Вычислить все нормы разности полученных векторов.\n",
        "\n",
        "Вычислить с помощью sympy интеграл квадрата разности $f(x)$ и кривой Безье на отрезке $[1, 4]$. Использовать implicitize и solve."
      ]
    },
    {
      "cell_type": "code",
      "metadata": {
        "colab": {
          "base_uri": "https://localhost:8080/"
        },
        "id": "DesVh72JVnvP",
        "outputId": "05373a63-3df3-4944-d736-3b8728cdcb38"
      },
      "source": [
        "!pip install bezier --user"
      ],
      "execution_count": 41,
      "outputs": [
        {
          "output_type": "stream",
          "text": [
            "Collecting bezier\n",
            "\u001b[?25l  Downloading https://files.pythonhosted.org/packages/39/2c/5e002f45ddb1c531e9f8cf54fe6dd018da28ed4a1071ababd5333c16819d/bezier-2020.5.19-cp36-cp36m-manylinux2010_x86_64.whl (1.4MB)\n",
            "\u001b[K     |████████████████████████████████| 1.4MB 7.2MB/s \n",
            "\u001b[?25hRequirement already satisfied: numpy>=1.18.1 in /usr/local/lib/python3.6/dist-packages (from bezier) (1.19.5)\n",
            "Installing collected packages: bezier\n",
            "Successfully installed bezier-2020.5.19\n"
          ],
          "name": "stdout"
        }
      ]
    },
    {
      "cell_type": "code",
      "metadata": {
        "id": "bycToZPRVnvP"
      },
      "source": [
        "import bezier"
      ],
      "execution_count": 10,
      "outputs": []
    },
    {
      "cell_type": "code",
      "metadata": {
        "colab": {
          "base_uri": "https://localhost:8080/",
          "height": 299
        },
        "id": "EYZYGh8rVnvP",
        "outputId": "05de960b-1264-4219-d3b4-74720dd22e37"
      },
      "source": [
        "def f5(x):\n",
        "  return x*sympy.log(x)\n",
        "\n",
        "npf5 = sympy.lambdify(x, f5(x))\n",
        "X5 = [1, 2, 3, 4]\n",
        "df5 = f5(x).diff(x)\n",
        "npdf5 = sympy.lambdify(x, df5)\n",
        "Y5 = [npf5(X5[0]), npf5(X5[0]) + npdf5(X5[0]), npf5(X5[-1]) - npdf5(X5[-1]), npf5(X5[-1])]\n",
        "Y_start = npf5(X5[0])\n",
        "Y_end = npf5(X5[-1])\n",
        "Y5 = [Y_start, Y_start + npdf5(X5[0]), Y_end - npdf5(X5[-1]), Y_end]\n",
        "nodes = np.array([X5, Y5])\n",
        "curve = bezier.Curve(nodes, degree=3)\n",
        "X5plt = np.linspace(1, 4)\n",
        "\n",
        "fig, ax = plt.subplots()\n",
        "ax.plot(X5plt, npf5(X5plt), 'g--', lw=3)\n",
        "ax.scatter(X5, Y5, color='red')\n",
        "curve.plot(100, ax=ax)\n",
        "res = curve.implicitize()\n",
        "curve_y = sympy.solve(res, sympy.Symbol('y'))[0]\n",
        "difference5 = (f5(x) - curve_y)**2\n",
        "curve_y_np = sympy.lambdify(x, curve_y)\n",
        "print(round(sympy.integrate(difference5, (x, 1, 4)), 3))\n",
        "X5_1 = np.arange(1.000001, 4.1, 0.1)\n",
        "difference5 = npf5(X5_1) - curve_y_np(X5_1)\n",
        "print(*[round(item, 4) for item in (norm(difference5), norm(difference5, 1), norm(difference5, -1), norm(difference5, 2), norm(difference5, -2), \n",
        "      norm(difference5, 3), norm(difference5, -3), norm(difference5, np.inf), norm(difference5, -np.inf))])"
      ],
      "execution_count": 66,
      "outputs": [
        {
          "output_type": "stream",
          "text": [
            "0.002\n",
            "0.1357 0.6231 0.0 0.1357 0.0 0.0843 0.0 0.0387 0.0\n"
          ],
          "name": "stdout"
        },
        {
          "output_type": "display_data",
          "data": {
            "image/png": "[encoded data removed]",
            "text/plain": [
              "<Figure size 432x288 with 1 Axes>"
            ]
          },
          "metadata": {
            "tags": [],
            "needs_background": "light"
          }
        }
      ]
    }
  ]
}