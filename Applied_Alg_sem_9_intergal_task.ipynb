{
  "nbformat": 4,
  "nbformat_minor": 0,
  "metadata": {
    "kernelspec": {
      "display_name": "Python 3",
      "language": "python",
      "name": "python3"
    },
    "colab": {
      "name": "Applied_Alg_sem_9_intergal_task",
      "provenance": [],
      "collapsed_sections": [],
      "include_colab_link": true
    }
  },
  "cells": [
    {
      "cell_type": "markdown",
      "metadata": {
        "id": "view-in-github",
        "colab_type": "text"
      },
      "source": [
        "<a href=\"https://colab.research.google.com/github/GalinaZh/Appl_alg2021/blob/main/Applied_Alg_sem_9_intergal_task.ipynb\" target=\"_parent\"><img src=\"https://colab.research.google.com/assets/colab-badge.svg\" alt=\"Open In Colab\"/></a>"
      ]
    },
    {
      "cell_type": "markdown",
      "metadata": {
        "id": "fis1w-TTVnuw"
      },
      "source": [
        "# Занятие 9 \n",
        "# Прикладная алгебра и численные методы\n",
        "## Численное интегрирование"
      ]
    },
    {
      "cell_type": "code",
      "metadata": {
        "id": "mGFcxneQVnu6"
      },
      "source": [
        "import numpy as np\n",
        "import sympy\n",
        "import scipy.integrate\n",
        "import pandas as pd\n",
        "from google.colab import files"
      ],
      "execution_count": null,
      "outputs": []
    },
    {
      "cell_type": "code",
      "metadata": {
        "id": "KAFvuycBiIR-"
      },
      "source": [
        "#!python -m pip install scipy --upgrade"
      ],
      "execution_count": null,
      "outputs": []
    },
    {
      "cell_type": "code",
      "metadata": {
        "colab": {
          "base_uri": "https://localhost:8080/"
        },
        "id": "8I2nsbIp-Tzb",
        "outputId": "240d15b3-2f91-445f-b123-5fca8dbba1e9"
      },
      "source": [
        "sympy.__version__, scipy.__version__, np.__version__"
      ],
      "execution_count": null,
      "outputs": [
        {
          "output_type": "execute_result",
          "data": {
            "text/plain": [
              "('1.7.1', '1.6.1', '1.19.5')"
            ]
          },
          "metadata": {
            "tags": []
          },
          "execution_count": 3
        }
      ]
    },
    {
      "cell_type": "markdown",
      "metadata": {
        "id": "_JT1iMxoMIgQ"
      },
      "source": [
        "## Численное интегрирование\r\n",
        "\r\n",
        "Определенный интеграл функции $f(x)$ есть предел интегральных сумм\r\n",
        "при стремлении к нулю диаметра разбиения (если этот предел\r\n",
        "существует и конечен):\r\n",
        "\\begin{align}\r\n",
        "&\\int_a^b f(x)\\,dx=\\lim_{d\\to0}\\sum_{k=1}^n f(\\xi_k)\\Delta_k,\r\n",
        "\\quad a=x_0<x_1<\\ldots<x_n=b,\\\\\r\n",
        "&\\xi_k\\in[x_{k-1};x_k],\\Delta_k=x_k-x_{k-1},\\ d=\\max_{1\\le k\\le n}\r\n",
        "\\Delta_k.\r\n",
        "\\end{align}\r\n",
        "\r\n",
        "## Метод  трапеций\r\n",
        "\r\n",
        "Приближенным значением интеграла $\\int_a^b f(x)\\,dx$ в методе\r\n",
        "трапеций считается сумма площадей прямоугольных трапеций высоты\r\n",
        "$h_k=x_k-x_{k-1}$ с основаниями длины $f(x_{k-1})$ и $f(x_k)$.\r\n",
        "\r\n",
        "\r\n",
        "\r\n",
        "Площадь $S_k$ одной элементарной трапеции\r\n",
        "\\begin{align*}\r\n",
        "S_k=\\frac{f(x_{k-1})+f(x_k)}{2}h_k,\r\n",
        "\\end{align*}\r\n",
        "сложив площади всех элементарных трапеций, получим\r\n",
        "\\begin{align*}\r\n",
        "\\int_a^b f(x)\\,dx\\approx\\sum_{k=1}^n \\frac{f(x_{k-1})+f(x_k)}{2}h_k.\r\n",
        "\\end{align*}\r\n",
        "\r\n",
        "Пусть задана равномерная сетка $x_k=a+hk$, $k=0,\\ldots,n$,\r\n",
        "$h=(b-a)/n$, тогда\r\n",
        "\\begin{align*}\r\n",
        "&\\int_a^b f(x)\\,dx\\approx \\frac{h }{2}\\sum_{k=1}^n\r\n",
        "(f(x_{k-1})+f(x_k))=h\\Biggl(\\frac{f(x_0)+ f(x_n)}{2}+\\sum_{k=1}^{n-1}\r\n",
        "f(x_k)\\Biggr),\r\n",
        "\\end{align*}\r\n",
        "погрешность этого приближения\r\n",
        "\\begin{align*}\r\n",
        "R=-h^2\\frac{b-a}{12}f''(\\xi),\\quad\\xi\\in[a;b].\r\n",
        "\\end{align*}\r\n",
        "Если функция $f(x)$ имеет ограниченную на $[a;b]$ вторую\r\n",
        "производную, то\r\n",
        "\\begin{align*}\r\n",
        "|R|\\le h^2M\\frac{b-a}{12},\\quad M=\\max_{[a;b]}f''(x).\r\n",
        "\\end{align*}\r\n",
        "\r\n",
        "\r\n",
        "## Метод Симпсона\r\n",
        "\r\n",
        "Приближенным значением интеграла $\\int_a^b f(x)\\,dx$ в методе\r\n",
        "Симпсона считается сумма площадей криволинейных трапеций ширины\r\n",
        "$h_k=x_k-x_{k-1}$, ограниченных сверху параболой, проходящей через\r\n",
        "точки $A_k(x_{k-1};f(x_{k-1}))$, $B_k(x_{k};f(x_k))$ и\r\n",
        "$C_k(x_{k+1};f(x_{k+1}))$.\r\n",
        "\r\n",
        "Обозначим $f_{-1}=f(-h)$,\r\n",
        "$f_{0}=f(0)$,$f_{1}=f(h)$. \r\n",
        "Вычислим вначале площадь одной элементарной криволинейной трапеции\r\n",
        "при $x_{k-1}=-h$, $x_{k}=0$, $x_{k+1}=h$\r\n",
        "\\begin{align*}\r\n",
        "S=\\frac{h}{3}(f_{-1}+4f_0+f_1).\r\n",
        "\\end{align*}\r\n",
        "\r\n",
        "\r\n",
        "Пусть задана равномерная сетка $x_k=a+hk$, $k=0,\\ldots,2n$,\r\n",
        "$h=(b-a)/2n$, тогда \r\n",
        "\\begin{align*}\r\n",
        "&\\int_a^b f(x)\\,dx\\approx \\frac{h }{3}\\sum_{k=1}^n\r\n",
        "(f_{k-1}+4f_k+f_{k+1})= \\frac{h }{3}\\Biggl(f_0+f_{2n}+4\\sum_{k=1}^n\r\n",
        "f_{2k-1}+2\\sum_{k=1}^{n-1} f_{2k}\\Biggr),\r\n",
        "\\end{align*}\r\n",
        "погрешность этого приближения\r\n",
        "\\begin{align*}\r\n",
        "R=-h^4\\frac{b-a}{180}f^{(4)}(\\xi),\\quad\\xi\\in[a;b].\r\n",
        "\\end{align*}\r\n",
        "Если функция $f(x)$ имеет ограниченную на $[a;b]$  производную\r\n",
        "четвертого порядка, то\r\n",
        "\\begin{align*}\r\n",
        "|R|\\le h^4M\\frac{b-a}{180},\\quad M=\\max_{[a;b]}f^{(4)}(x).\r\n",
        "\\end{align*}\r\n",
        "\r\n",
        "\r\n",
        "\r\n",
        "## Уточнение результата численного интегрирования.\r\n",
        "\r\n",
        "В случае, если ничего не известно о производных функции $f(x)$,\r\n",
        "можно уточнять значение интеграла $\\int_a^b f(x)\\,dx$, сравнивая\r\n",
        "результаты численного интегрирования $I_h$ и $I_{h/2}$ (шаг\r\n",
        "разбиения соответственно $h$ и $h/2$).\r\n",
        "\r\n",
        "Пусть требуется вычислить  $\\int_a^b f(x)\\,dx$ с точностью $\\varepsilon$,\r\n",
        "тогда\r\n",
        "\\begin{align*}\r\n",
        "\\int_a^b f(x)\\,dx\\approx I_{h/2},\\quad\\mbox{ если }\r\n",
        "|I_h-I_{h/2}|<\\varepsilon,\r\n",
        "\\end{align*}\r\n",
        "если же условие не выполняется, уменьшаем шаг разбиения и вычисляем\r\n",
        "$I_{h/4}$. Процесс продолжаем до тех пор, пока не выполнится условие\r\n",
        "\\begin{align*}\r\n",
        "|I_{h_k}-I_{h_{k+1}}|<\\varepsilon,\r\n",
        "\\end{align*}\r\n",
        "тогда считаем\r\n",
        "\\begin{align*}\r\n",
        "\\int_a^b f(x)\\,dx\\approx I_{h_{k+1}}.\r\n",
        "\\end{align*}\r\n",
        "\r\n",
        "## Задание 1\r\n",
        "Найти методом трапеций интеграл таблично заданной функции из файла f.xlsx"
      ]
    },
    {
      "cell_type": "code",
      "metadata": {
        "id": "MnHhK3sD-5Ud"
      },
      "source": [
        "uploaded = files.upload()\r\n",
        "\r\n",
        "for fn in uploaded.keys():\r\n",
        "  print('User uploaded file \"{name}\" with length {length} bytes'.format(name=fn, length=len(uploaded[fn])))"
      ],
      "execution_count": null,
      "outputs": []
    },
    {
      "cell_type": "code",
      "metadata": {
        "id": "4sJBx8gTeWRM"
      },
      "source": [
        ""
      ],
      "execution_count": null,
      "outputs": []
    },
    {
      "cell_type": "markdown",
      "metadata": {
        "id": "o2U0tG78BYjg"
      },
      "source": [
        "## Задание 2\r\n",
        "Найти интеграл задания 1 методом Симпсона."
      ]
    },
    {
      "cell_type": "code",
      "metadata": {
        "id": "hSekYltQ_E36"
      },
      "source": [
        ""
      ],
      "execution_count": null,
      "outputs": []
    },
    {
      "cell_type": "markdown",
      "metadata": {
        "id": "kETpkwmANiFs"
      },
      "source": [
        "## Задание 3\r\n",
        "Вычислить приближенно интеграл\r\n",
        "$$\r\n",
        "\\int_2^5\\sin^3(2x - 1)\\,dx\r\n",
        "$$\r\n",
        "используя scipy.integrate"
      ]
    },
    {
      "cell_type": "code",
      "metadata": {
        "id": "ftgp2_rw_uVD"
      },
      "source": [
        ""
      ],
      "execution_count": null,
      "outputs": []
    },
    {
      "cell_type": "markdown",
      "metadata": {
        "id": "26k9QPtO_u2j"
      },
      "source": [
        "## Задание 4\r\n",
        "Вычислить аналитически интеграл \r\n",
        "$$\r\n",
        "\\int_0^{\\pi/3}\\sin^5(2x)\\,dx\r\n",
        "$$\r\n",
        "с помощью sympy, затем вычислить этот интеграл приближенно,\r\n",
        "используя scipy.integrate (scipy.integrate.quad  и  метод Ромберга). "
      ]
    },
    {
      "cell_type": "code",
      "metadata": {
        "id": "v59kUbluAYpy"
      },
      "source": [
        ""
      ],
      "execution_count": null,
      "outputs": []
    },
    {
      "cell_type": "markdown",
      "metadata": {
        "id": "6jL1wDdZAZA6"
      },
      "source": [
        "## Задание 5\r\n",
        "Вычислить интеграл задания 4 с помощью метода Симпсона из scipy, использовать равномерную сетку."
      ]
    },
    {
      "cell_type": "code",
      "metadata": {
        "id": "S_aPM9_nAowz"
      },
      "source": [
        ""
      ],
      "execution_count": null,
      "outputs": []
    },
    {
      "cell_type": "markdown",
      "metadata": {
        "id": "DUEOsJZ2aNf-"
      },
      "source": [
        "## Задание 6\r\n",
        "Написать функцию, которая возвращает определенный интеграл, вычисленный методом трапеций с заданной точностью. Аргументы функции - имя интегрируемой функции, пределы интегрирования и точность. Для достижения заданной точности измельчать сетку X."
      ]
    },
    {
      "cell_type": "code",
      "metadata": {
        "id": "CfEQqfEvaOZZ"
      },
      "source": [
        ""
      ],
      "execution_count": null,
      "outputs": []
    }
  ]
}