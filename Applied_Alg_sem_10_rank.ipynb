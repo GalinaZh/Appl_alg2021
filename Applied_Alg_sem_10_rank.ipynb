{
  "nbformat": 4,
  "nbformat_minor": 0,
  "metadata": {
    "kernelspec": {
      "display_name": "Python 3",
      "language": "python",
      "name": "python3"
    },
    "colab": {
      "name": "Applied_Alg_sem_10_rank",
      "provenance": [],
      "collapsed_sections": [],
      "include_colab_link": true
    }
  },
  "cells": [
    {
      "cell_type": "markdown",
      "metadata": {
        "id": "view-in-github",
        "colab_type": "text"
      },
      "source": [
        "<a href=\"https://colab.research.google.com/github/GalinaZh/Appl_alg2021/blob/main/Applied_Alg_sem_10_rank.ipynb\" target=\"_parent\"><img src=\"https://colab.research.google.com/assets/colab-badge.svg\" alt=\"Open In Colab\"/></a>"
      ]
    },
    {
      "cell_type": "markdown",
      "metadata": {
        "id": "fis1w-TTVnuw"
      },
      "source": [
        "# Занятие 10 \n",
        "# Прикладная алгебра и численные методы\n",
        "## Матричные нормы. Приближение матриц меньшего ранга"
      ]
    },
    {
      "cell_type": "code",
      "metadata": {
        "id": "mGFcxneQVnu6"
      },
      "source": [
        "import numpy as np\n",
        "import sympy\n",
        "import scipy.linalg"
      ],
      "execution_count": 5,
      "outputs": []
    },
    {
      "cell_type": "code",
      "metadata": {
        "id": "KAFvuycBiIR-",
        "colab": {
          "base_uri": "https://localhost:8080/"
        },
        "outputId": "5d31a815-7b23-46c3-9cee-b928aee02100"
      },
      "source": [
        "!python -m pip install scipy --upgrade"
      ],
      "execution_count": 9,
      "outputs": [
        {
          "output_type": "stream",
          "text": [
            "Collecting scipy\n",
            "\u001b[?25l  Downloading https://files.pythonhosted.org/packages/b6/3a/9e0649ab2d5ade703baa70ef980aa08739226e5d6a642f084bb201a92fc2/scipy-1.6.1-cp37-cp37m-manylinux1_x86_64.whl (27.4MB)\n",
            "\u001b[K     |████████████████████████████████| 27.4MB 147kB/s \n",
            "\u001b[?25hRequirement already satisfied, skipping upgrade: numpy>=1.16.5 in /usr/local/lib/python3.7/dist-packages (from scipy) (1.19.5)\n",
            "\u001b[31mERROR: albumentations 0.1.12 has requirement imgaug<0.2.7,>=0.2.5, but you'll have imgaug 0.2.9 which is incompatible.\u001b[0m\n",
            "Installing collected packages: scipy\n",
            "  Found existing installation: scipy 1.4.1\n",
            "    Uninstalling scipy-1.4.1:\n",
            "      Successfully uninstalled scipy-1.4.1\n",
            "Successfully installed scipy-1.6.1\n"
          ],
          "name": "stdout"
        }
      ]
    },
    {
      "cell_type": "code",
      "metadata": {
        "colab": {
          "base_uri": "https://localhost:8080/"
        },
        "id": "8I2nsbIp-Tzb",
        "outputId": "240d15b3-2f91-445f-b123-5fca8dbba1e9"
      },
      "source": [
        "sympy.__version__, scipy.__version__, np.__version__"
      ],
      "execution_count": null,
      "outputs": [
        {
          "output_type": "execute_result",
          "data": {
            "text/plain": [
              "('1.7.1', '1.6.1', '1.19.5')"
            ]
          },
          "metadata": {
            "tags": []
          },
          "execution_count": 3
        }
      ]
    },
    {
      "cell_type": "markdown",
      "metadata": {
        "id": "focs6r2D_dit"
      },
      "source": [
        "## Подчиненные (операторные) матричные нормы.\r\n",
        "\r\n",
        "https://numpy.org/doc/stable/reference/generated/numpy.linalg.norm.html\r\n",
        "\r\n",
        "numpy.linalg.norm(x, ord=None, axis=None, keepdims=False)\r\n",
        "\r\n",
        "https://docs.scipy.org/doc/scipy/reference/generated/scipy.linalg.norm.html\r\n",
        "\r\n",
        "scipy.linalg.norm(a, ord=None, axis=None, keepdims=False, check_finite=True)\r\n",
        "\r\n",
        "если check_finite=True, проверяется, все ли элементы матрицы конечны  \r\n",
        "\r\n",
        "\r\n",
        "#### Возможные значения параметра ord \r\n",
        "одинаково в numpy и scipy\r\n",
        "$$\r\n",
        "\\begin{matrix}\r\n",
        "ord &\tnorm\\ for\\ matrices\\\\\r\n",
        "None &\t\tFrobenius\\ norm\\\\\r\n",
        "‘fro’\t &\tFrobenius\\ norm\\\\\r\n",
        "‘nuc’ &\t\tnuclear\\ norm\\\\\r\n",
        "inf &\t\tmax(sum(abs(x),\\ axis=1))\\\\\r\n",
        "-inf &\t\tmin(sum(abs(x),\\ axis=1))\\\\\r\n",
        "0\t &\t–\\\\\r\n",
        "1\t &\tmax(sum(abs(x),\\ axis=0))\\\\\r\n",
        "-1 &\t\tmin(sum(abs(x),\\ axis=0))\\\\\r\n",
        "2\t &\t2-norm\\ (largest\\ singular\\ value)\\\\\r\n",
        "-2 &\t\tsmallest\\ singular\\ value\\\\\r\n",
        "other &\t\t–\r\n",
        "\\end{matrix}\r\n",
        "$$\r\n",
        "\r\n",
        "\r\n",
        "Матричная норма \r\n",
        "$ \\|A\\|_{1}=\\max \\limits _{1\\leq j\\leq n}\\sum _{i=1}^{m}|a_{ij}|$, подчинённая векторной норме$ \\|x\\|_{1}=\\sum _{i=1}^{n}|x_{i}|$.\r\n",
        "\r\n",
        "Матричная норма $\\|A\\|_{\\infty }=\\max \\limits _{1\\leq i\\leq m}\\sum _{j=1}^{n}|a_{ij}|$, подчинённая векторной норме $\\|x\\|_{\\infty }=\\max \\limits _{1\\leq i\\leq n}|x_{i}|$.\r\n",
        "\r\n",
        "Спектральная норма $\\|A\\|_{2}=\\sup \\limits _{\\|x\\|_{2}=1}\\|Ax\\|_{2}=\\sup \\limits _{(x,x)=1}{\\sqrt {(Ax,Ax)}}={\\sqrt {\\lambda _{max}(A^{*}A)}}$, подчиненная векторной норме $\\|x\\|_{2}={\\sqrt {\\sum _{i=1}^{n}|x_{i}|^{2}}}$.\r\n",
        "\r\n",
        "## Пример 1.\r\n",
        "Вычислим матричные нормы для матрицы \r\n",
        "$$\r\n",
        "\\left(\r\n",
        "\\begin{matrix}\r\n",
        "1 & 3 & 5\\\\\r\n",
        "2 & 5 & 8\\\\\r\n",
        "3 & 7 & 11\r\n",
        "\\end{matrix}\r\n",
        "  \\right)\r\n",
        "$$\r\n"
      ]
    },
    {
      "cell_type": "code",
      "metadata": {
        "colab": {
          "base_uri": "https://localhost:8080/",
          "height": 150
        },
        "id": "722533YfazJD",
        "outputId": "603d2e41-8a5c-497e-9db3-c778d4f2aea3"
      },
      "source": [
        "M = [[1, 3, 5], [2, 5, 8], [3, 7, 11]]\r\n",
        "for package in (np, scipy):\r\n",
        "  display(package.__name__, *[('ord', item, '||M||', package.linalg.norm(M, ord=item)) for item in (1, 2, np.inf)])"
      ],
      "execution_count": 34,
      "outputs": [
        {
          "output_type": "display_data",
          "data": {
            "application/vnd.google.colaboratory.intrinsic+json": {
              "type": "string"
            },
            "text/plain": [
              "'numpy'"
            ]
          },
          "metadata": {
            "tags": []
          }
        },
        {
          "output_type": "display_data",
          "data": {
            "text/plain": [
              "('ord', 1, '||M||', 24.0)"
            ]
          },
          "metadata": {
            "tags": []
          }
        },
        {
          "output_type": "display_data",
          "data": {
            "text/plain": [
              "('ord', 2, '||M||', 17.518067568404707)"
            ]
          },
          "metadata": {
            "tags": []
          }
        },
        {
          "output_type": "display_data",
          "data": {
            "text/plain": [
              "('ord', inf, '||M||', 21.0)"
            ]
          },
          "metadata": {
            "tags": []
          }
        },
        {
          "output_type": "display_data",
          "data": {
            "application/vnd.google.colaboratory.intrinsic+json": {
              "type": "string"
            },
            "text/plain": [
              "'scipy'"
            ]
          },
          "metadata": {
            "tags": []
          }
        },
        {
          "output_type": "display_data",
          "data": {
            "text/plain": [
              "('ord', 1, '||M||', 24.0)"
            ]
          },
          "metadata": {
            "tags": []
          }
        },
        {
          "output_type": "display_data",
          "data": {
            "text/plain": [
              "('ord', 2, '||M||', 17.518067568404707)"
            ]
          },
          "metadata": {
            "tags": []
          }
        },
        {
          "output_type": "display_data",
          "data": {
            "text/plain": [
              "('ord', inf, '||M||', 21.0)"
            ]
          },
          "metadata": {
            "tags": []
          }
        }
      ]
    },
    {
      "cell_type": "markdown",
      "metadata": {
        "id": "o2U0tG78BYjg"
      },
      "source": [
        "https://docs.sympy.org/latest/modules/matrices/matrices.html#sympy.matrices.matrices.MatrixBase.norm\r\n",
        "\r\n",
        "В sympy реализованы нормы с такими же значениями ord, как в scipy и numpy:\r\n",
        "\r\n",
        "norm(ord=None)\r\n",
        "\r\n",
        "это метод в классе матриц.\r\n",
        "\r\n",
        "## Пример 2\r\n",
        "Вычислим нормы $||M||_1$, $||M||_2$ и $||M||_\\infty$  матрицы Примера 1 с помощью sympy:\r\n"
      ]
    },
    {
      "cell_type": "code",
      "metadata": {
        "colab": {
          "base_uri": "https://localhost:8080/",
          "height": 66
        },
        "id": "OztbjFvbMmPm",
        "outputId": "d59b7bf6-5d9a-4509-b44b-d394a12e1260"
      },
      "source": [
        "Msym = sympy.Matrix(M)\r\n",
        "display([('ord', item, '||M||', [(Mnorm, round(Mnorm, 5)) for Mnorm in [Msym.norm(ord=item)]]) for  item in (1, 2, sympy.oo)])"
      ],
      "execution_count": 42,
      "outputs": [
        {
          "output_type": "display_data",
          "data": {
            "text/plain": [
              "[('ord', 1, '||M||', [(24, 24)]),\n",
              " ('ord', 2, '||M||', [(sqrt(sqrt(94105)/2 + 307/2), 17.51807)]),\n",
              " ('ord', oo, '||M||', [(21, 21)])]"
            ]
          },
          "metadata": {
            "tags": []
          }
        }
      ]
    },
    {
      "cell_type": "markdown",
      "metadata": {
        "id": "kETpkwmANiFs"
      },
      "source": [
        "## Пример 3\r\n"
      ]
    },
    {
      "cell_type": "code",
      "metadata": {
        "id": "LSPjCP5YmAC4"
      },
      "source": [
        ""
      ],
      "execution_count": null,
      "outputs": []
    },
    {
      "cell_type": "markdown",
      "metadata": {
        "id": "91_OtLysZFwj"
      },
      "source": [
        "## Пример 4\r\n"
      ]
    },
    {
      "cell_type": "code",
      "metadata": {
        "colab": {
          "base_uri": "https://localhost:8080/"
        },
        "id": "ghYJzrn3aGyq",
        "outputId": "8eca0273-3f60-4bd6-d3ae-8c8d4bb51808"
      },
      "source": [
        "\r\n"
      ],
      "execution_count": null,
      "outputs": [
        {
          "output_type": "stream",
          "text": [
            "(0.009465126280781055, None)\n",
            "(0.10277248496370375, None)\n",
            "(0.10357010563457898, None)\n"
          ],
          "name": "stdout"
        }
      ]
    },
    {
      "cell_type": "markdown",
      "metadata": {
        "id": "zDPcyRk8dK9F"
      },
      "source": [
        "\r\n",
        "\r\n",
        "\r\n",
        "## Пример 5\r\n",
        "\r\n"
      ]
    },
    {
      "cell_type": "code",
      "metadata": {
        "colab": {
          "base_uri": "https://localhost:8080/"
        },
        "id": "GzyvOvaddoMT",
        "outputId": "10b0c971-6515-4df9-de72-f6f1d2c76ca8"
      },
      "source": [
        ""
      ],
      "execution_count": null,
      "outputs": [
        {
          "output_type": "stream",
          "text": [
            "(0.10277248496370375, 0.012283176171385676)\n",
            "(0.1036058697929914, 0.000833384829287645)\n",
            "(0.10357010563457898, 3.576415841241576e-05)\n"
          ],
          "name": "stdout"
        }
      ]
    }
  ]
}