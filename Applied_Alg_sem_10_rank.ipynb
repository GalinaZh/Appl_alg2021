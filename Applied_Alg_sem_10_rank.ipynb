{
  "nbformat": 4,
  "nbformat_minor": 0,
  "metadata": {
    "kernelspec": {
      "display_name": "Python 3",
      "language": "python",
      "name": "python3"
    },
    "colab": {
      "name": "Applied_Alg_sem_10_rank",
      "provenance": [],
      "collapsed_sections": [],
      "include_colab_link": true
    }
  },
  "cells": [
    {
      "cell_type": "markdown",
      "metadata": {
        "id": "view-in-github",
        "colab_type": "text"
      },
      "source": [
        "<a href=\"https://colab.research.google.com/github/GalinaZh/Appl_alg2021/blob/main/Applied_Alg_sem_10_rank.ipynb\" target=\"_parent\"><img src=\"https://colab.research.google.com/assets/colab-badge.svg\" alt=\"Open In Colab\"/></a>"
      ]
    },
    {
      "cell_type": "markdown",
      "metadata": {
        "id": "fis1w-TTVnuw"
      },
      "source": [
        "# Занятие 10 \n",
        "# Прикладная алгебра и численные методы\n",
        "## Матричные нормы. Приближение матриц меньшего ранга"
      ]
    },
    {
      "cell_type": "code",
      "metadata": {
        "id": "mGFcxneQVnu6"
      },
      "source": [
        "import numpy as np\n",
        "import sympy\n",
        "import scipy.linalg\n",
        "import numpy.linalg\n",
        "import pandas as pd\n",
        "import matplotlib.pyplot as plt\n",
        "from google.colab import files"
      ],
      "execution_count": 1,
      "outputs": []
    },
    {
      "cell_type": "code",
      "metadata": {
        "id": "KAFvuycBiIR-",
        "colab": {
          "base_uri": "https://localhost:8080/",
          "height": 0
        },
        "outputId": "04ed66d9-6712-429e-f90b-3482435a22f6"
      },
      "source": [
        "!python -m pip install scipy --upgrade"
      ],
      "execution_count": 3,
      "outputs": [
        {
          "output_type": "stream",
          "text": [
            "Collecting scipy\n",
            "\u001b[?25l  Downloading https://files.pythonhosted.org/packages/b6/3a/9e0649ab2d5ade703baa70ef980aa08739226e5d6a642f084bb201a92fc2/scipy-1.6.1-cp37-cp37m-manylinux1_x86_64.whl (27.4MB)\n",
            "\u001b[K     |████████████████████████████████| 27.4MB 147kB/s \n",
            "\u001b[?25hRequirement already satisfied, skipping upgrade: numpy>=1.16.5 in /usr/local/lib/python3.7/dist-packages (from scipy) (1.19.5)\n",
            "\u001b[31mERROR: albumentations 0.1.12 has requirement imgaug<0.2.7,>=0.2.5, but you'll have imgaug 0.2.9 which is incompatible.\u001b[0m\n",
            "Installing collected packages: scipy\n",
            "  Found existing installation: scipy 1.4.1\n",
            "    Uninstalling scipy-1.4.1:\n",
            "      Successfully uninstalled scipy-1.4.1\n",
            "Successfully installed scipy-1.6.1\n"
          ],
          "name": "stdout"
        }
      ]
    },
    {
      "cell_type": "code",
      "metadata": {
        "colab": {
          "base_uri": "https://localhost:8080/",
          "height": 0
        },
        "id": "8I2nsbIp-Tzb",
        "outputId": "043ea729-83de-4a07-b4be-3395c7bb4f32"
      },
      "source": [
        "sympy.__version__, scipy.__version__, np.__version__"
      ],
      "execution_count": 2,
      "outputs": [
        {
          "output_type": "execute_result",
          "data": {
            "text/plain": [
              "('1.7.1', '1.6.1', '1.19.5')"
            ]
          },
          "metadata": {
            "tags": []
          },
          "execution_count": 2
        }
      ]
    },
    {
      "cell_type": "markdown",
      "metadata": {
        "id": "focs6r2D_dit"
      },
      "source": [
        "## Подчиненные (операторные) матричные нормы.\r\n",
        "\r\n",
        "https://numpy.org/doc/stable/reference/generated/numpy.linalg.norm.html\r\n",
        "\r\n",
        "numpy.linalg.norm(x, ord=None, axis=None, keepdims=False)\r\n",
        "\r\n",
        "https://docs.scipy.org/doc/scipy/reference/generated/scipy.linalg.norm.html\r\n",
        "\r\n",
        "scipy.linalg.norm(a, ord=None, axis=None, keepdims=False, check_finite=True)\r\n",
        "\r\n",
        "если check_finite=True, проверяется, все ли элементы матрицы конечны  \r\n",
        "\r\n",
        "\r\n",
        "#### Возможные значения параметра ord \r\n",
        "одинаково в numpy и scipy\r\n",
        "$$\r\n",
        "\\begin{matrix}\r\n",
        "ord &\tnorm\\ for\\ matrices\\\\\r\n",
        "None &\t\tFrobenius\\ norm\\\\\r\n",
        "‘fro’\t &\tFrobenius\\ norm\\\\\r\n",
        "‘nuc’ &\t\tnuclear\\ norm\\\\\r\n",
        "inf &\t\tmax(sum(abs(x),\\ axis=1))\\\\\r\n",
        "-inf &\t\tmin(sum(abs(x),\\ axis=1))\\\\\r\n",
        "0\t &\t–\\\\\r\n",
        "1\t &\tmax(sum(abs(x),\\ axis=0))\\\\\r\n",
        "-1 &\t\tmin(sum(abs(x),\\ axis=0))\\\\\r\n",
        "2\t &\t2-norm\\ (largest\\ singular\\ value)\\\\\r\n",
        "-2 &\t\tsmallest\\ singular\\ value\\\\\r\n",
        "other &\t\t–\r\n",
        "\\end{matrix}\r\n",
        "$$\r\n",
        "\r\n",
        "\r\n",
        "Матричная норма \r\n",
        "$ \\|A\\|_{1}=\\max \\limits _{1\\leq j\\leq n}\\sum _{i=1}^{m}|a_{ij}|$, подчинённая векторной норме$ \\|x\\|_{1}=\\sum _{i=1}^{n}|x_{i}|$.\r\n",
        "\r\n",
        "Матричная норма $\\|A\\|_{\\infty }=\\max \\limits _{1\\leq i\\leq m}\\sum _{j=1}^{n}|a_{ij}|$, подчинённая векторной норме $\\|x\\|_{\\infty }=\\max \\limits _{1\\leq i\\leq n}|x_{i}|$.\r\n",
        "\r\n",
        "Спектральная норма $\\|A\\|_{2}=\\sup \\limits _{\\|x\\|_{2}=1}\\|Ax\\|_{2}=\\sup \\limits _{(x,x)=1}{\\sqrt {(Ax,Ax)}}={\\sqrt {\\lambda _{max}(A^{*}A)}}$, подчиненная векторной норме $\\|x\\|_{2}={\\sqrt {\\sum _{i=1}^{n}|x_{i}|^{2}}}$.\r\n",
        "\r\n",
        "Норма Фробениуса $ \\|A\\|_{F} = \\sqrt{\\sum _{i, j}|a_{ij}|^2} = {\\rm tr}(A^*A) = \\sqrt{\\sum _{i=1}^{n}\\sigma_{i}^2}$\r\n",
        "\r\n",
        "## Пример 1.\r\n",
        "Вычислим матричные нормы $||M||_1$, $||M||_2$, $||M||_\\infty$ и $||M||_F$  для матрицы \r\n",
        "\r\n",
        "$$\r\n",
        "\\left(\r\n",
        "\\begin{matrix}\r\n",
        "1 & 3 & 5\\\\\r\n",
        "2 & 5 & 8\\\\\r\n",
        "3 & 7 & 11\r\n",
        "\\end{matrix}\r\n",
        "  \\right)\r\n",
        "$$\r\n"
      ]
    },
    {
      "cell_type": "code",
      "metadata": {
        "colab": {
          "base_uri": "https://localhost:8080/",
          "height": 182
        },
        "id": "722533YfazJD",
        "outputId": "ffdde034-7104-46b2-d547-b84b4ad1a795"
      },
      "source": [
        "M = [[1, 3, 5], [2, 5, 8], [3, 7, 11]]\r\n",
        "for package in (np, scipy):\r\n",
        "  display(package.__name__, *[('ord', item, '||M||', package.linalg.norm(M, ord=item)) for item in (1, 2, np.inf, 'fro')])"
      ],
      "execution_count": 3,
      "outputs": [
        {
          "output_type": "display_data",
          "data": {
            "application/vnd.google.colaboratory.intrinsic+json": {
              "type": "string"
            },
            "text/plain": [
              "'numpy'"
            ]
          },
          "metadata": {
            "tags": []
          }
        },
        {
          "output_type": "display_data",
          "data": {
            "text/plain": [
              "('ord', 1, '||M||', 24.0)"
            ]
          },
          "metadata": {
            "tags": []
          }
        },
        {
          "output_type": "display_data",
          "data": {
            "text/plain": [
              "('ord', 2, '||M||', 17.518067568404707)"
            ]
          },
          "metadata": {
            "tags": []
          }
        },
        {
          "output_type": "display_data",
          "data": {
            "text/plain": [
              "('ord', inf, '||M||', 21.0)"
            ]
          },
          "metadata": {
            "tags": []
          }
        },
        {
          "output_type": "display_data",
          "data": {
            "text/plain": [
              "('ord', 'fro', '||M||', 17.52141546793523)"
            ]
          },
          "metadata": {
            "tags": []
          }
        },
        {
          "output_type": "display_data",
          "data": {
            "application/vnd.google.colaboratory.intrinsic+json": {
              "type": "string"
            },
            "text/plain": [
              "'scipy'"
            ]
          },
          "metadata": {
            "tags": []
          }
        },
        {
          "output_type": "display_data",
          "data": {
            "text/plain": [
              "('ord', 1, '||M||', 24.0)"
            ]
          },
          "metadata": {
            "tags": []
          }
        },
        {
          "output_type": "display_data",
          "data": {
            "text/plain": [
              "('ord', 2, '||M||', 17.518067568404707)"
            ]
          },
          "metadata": {
            "tags": []
          }
        },
        {
          "output_type": "display_data",
          "data": {
            "text/plain": [
              "('ord', inf, '||M||', 21.0)"
            ]
          },
          "metadata": {
            "tags": []
          }
        },
        {
          "output_type": "display_data",
          "data": {
            "text/plain": [
              "('ord', 'fro', '||M||', 17.52141546793523)"
            ]
          },
          "metadata": {
            "tags": []
          }
        }
      ]
    },
    {
      "cell_type": "markdown",
      "metadata": {
        "id": "o2U0tG78BYjg"
      },
      "source": [
        "https://docs.sympy.org/latest/modules/matrices/matrices.html#sympy.matrices.matrices.MatrixBase.norm\r\n",
        "\r\n",
        "В sympy реализованы нормы с такими же значениями ord, как в scipy и numpy:\r\n",
        "\r\n",
        "norm(ord=None)\r\n",
        "\r\n",
        "это метод в классе матриц.\r\n",
        "\r\n",
        "## Пример 2\r\n",
        "Вычислим нормы $||M||_1$, $||M||_2$, $||M||_\\infty$ и $||M||_F$  матрицы Примера 1 с помощью sympy:\r\n"
      ]
    },
    {
      "cell_type": "code",
      "metadata": {
        "colab": {
          "base_uri": "https://localhost:8080/",
          "height": 82
        },
        "id": "OztbjFvbMmPm",
        "outputId": "544ba30d-ed3c-4765-f54a-7c5daf07e812"
      },
      "source": [
        "Msym = sympy.Matrix(M)\r\n",
        "display([('ord', item, '||M||', [(Mnorm, round(Mnorm, 5)) for Mnorm in [Msym.norm(ord=item)]]) for  item in (1, 2, sympy.oo, 'fro')])"
      ],
      "execution_count": 4,
      "outputs": [
        {
          "output_type": "display_data",
          "data": {
            "text/plain": [
              "[('ord', 1, '||M||', [(24, 24)]),\n",
              " ('ord', 2, '||M||', [(sqrt(sqrt(94105)/2 + 307/2), 17.51807)]),\n",
              " ('ord', oo, '||M||', [(21, 21)]),\n",
              " ('ord', 'fro', '||M||', [(sqrt(307), 17.52142)])]"
            ]
          },
          "metadata": {
            "tags": []
          }
        }
      ]
    },
    {
      "cell_type": "markdown",
      "metadata": {
        "id": "kETpkwmANiFs"
      },
      "source": [
        "## Спектр матрицы - множество ее собственных значений.\r\n",
        "https://numpy.org/doc/stable/reference/generated/numpy.linalg.eigvals.html\r\n",
        "\r\n",
        "numpy.linalg.eigvals(a)\r\n",
        "\r\n",
        "https://docs.scipy.org/doc/scipy/reference/generated/scipy.linalg.eigvals.html\r\n",
        "\r\n",
        "scipy.linalg.eigvals(a, b=None, overwrite_a=False, check_finite=True, homogeneous_eigvals=False)\r\n",
        "\r\n",
        "\r\n",
        "## Пример 3\r\n",
        "Найдем собственные числа матрицы из файла A_10_3.xlsx"
      ]
    },
    {
      "cell_type": "code",
      "metadata": {
        "colab": {
          "resources": {
            "http://localhost:8080/nbextensions/google.colab/files.js": {
              "data": "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",
              "ok": true,
              "headers": [
                [
                  "content-type",
                  "application/javascript"
                ]
              ],
              "status": 200,
              "status_text": ""
            }
          },
          "base_uri": "https://localhost:8080/",
          "height": 86
        },
        "id": "LSPjCP5YmAC4",
        "outputId": "14cc493b-fe64-4351-bdd7-8a81adc85a16"
      },
      "source": [
        "uploaded = files.upload()\r\n",
        "\r\n",
        "for fn in uploaded.keys():\r\n",
        "\r\n",
        "  print('User uploaded file \"{name}\" with length {length} bytes'.format(name=fn, length=len(uploaded[fn])))"
      ],
      "execution_count": 5,
      "outputs": [
        {
          "output_type": "display_data",
          "data": {
            "text/html": [
              "\n",
              "     <input type=\"file\" id=\"files-1718c62f-5087-4cf6-b98a-67463e0b4311\" name=\"files[]\" multiple disabled\n",
              "        style=\"border:none\" />\n",
              "     <output id=\"result-1718c62f-5087-4cf6-b98a-67463e0b4311\">\n",
              "      Upload widget is only available when the cell has been executed in the\n",
              "      current browser session. Please rerun this cell to enable.\n",
              "      </output>\n",
              "      <script src=\"/nbextensions/google.colab/files.js\"></script> "
            ],
            "text/plain": [
              "<IPython.core.display.HTML object>"
            ]
          },
          "metadata": {
            "tags": []
          }
        },
        {
          "output_type": "stream",
          "text": [
            "Saving A_10_3.xlsx to A_10_3.xlsx\n",
            "User uploaded file \"A_10_3.xlsx\" with length 12784 bytes\n"
          ],
          "name": "stdout"
        }
      ]
    },
    {
      "cell_type": "code",
      "metadata": {
        "colab": {
          "base_uri": "https://localhost:8080/",
          "height": 342
        },
        "id": "wJNAVV1O74qQ",
        "outputId": "e340286c-af52-42b3-d3ed-2c24bd3e215b"
      },
      "source": [
        "A3 = pd.read_excel(fn, index_col=0, header=0, dtype={'Name': int, 'Value': int}).values \r\n",
        "\r\n",
        "A3_spectr = numpy.linalg.eigvals(A3)\r\n",
        "display(*A3_spectr)"
      ],
      "execution_count": 6,
      "outputs": [
        {
          "output_type": "display_data",
          "data": {
            "text/plain": [
              "(999.6319322682816+0j)"
            ]
          },
          "metadata": {
            "tags": []
          }
        },
        {
          "output_type": "display_data",
          "data": {
            "text/plain": [
              "(15.544588050261174+109.26947516511581j)"
            ]
          },
          "metadata": {
            "tags": []
          }
        },
        {
          "output_type": "display_data",
          "data": {
            "text/plain": [
              "(15.544588050261174-109.26947516511581j)"
            ]
          },
          "metadata": {
            "tags": []
          }
        },
        {
          "output_type": "display_data",
          "data": {
            "text/plain": [
              "(88.71954071691479+31.229896226005277j)"
            ]
          },
          "metadata": {
            "tags": []
          }
        },
        {
          "output_type": "display_data",
          "data": {
            "text/plain": [
              "(88.71954071691479-31.229896226005277j)"
            ]
          },
          "metadata": {
            "tags": []
          }
        },
        {
          "output_type": "display_data",
          "data": {
            "text/plain": [
              "(78.16595494011501+0j)"
            ]
          },
          "metadata": {
            "tags": []
          }
        },
        {
          "output_type": "display_data",
          "data": {
            "text/plain": [
              "(53.652504475303154+42.59017589133343j)"
            ]
          },
          "metadata": {
            "tags": []
          }
        },
        {
          "output_type": "display_data",
          "data": {
            "text/plain": [
              "(53.652504475303154-42.59017589133343j)"
            ]
          },
          "metadata": {
            "tags": []
          }
        },
        {
          "output_type": "display_data",
          "data": {
            "text/plain": [
              "(10.8819667049992+75.52752013123322j)"
            ]
          },
          "metadata": {
            "tags": []
          }
        },
        {
          "output_type": "display_data",
          "data": {
            "text/plain": [
              "(10.8819667049992-75.52752013123322j)"
            ]
          },
          "metadata": {
            "tags": []
          }
        },
        {
          "output_type": "display_data",
          "data": {
            "text/plain": [
              "(-102.1390320856124+40.62023986302754j)"
            ]
          },
          "metadata": {
            "tags": []
          }
        },
        {
          "output_type": "display_data",
          "data": {
            "text/plain": [
              "(-102.1390320856124-40.62023986302754j)"
            ]
          },
          "metadata": {
            "tags": []
          }
        },
        {
          "output_type": "display_data",
          "data": {
            "text/plain": [
              "(-99.78578669709361+20.64267357079272j)"
            ]
          },
          "metadata": {
            "tags": []
          }
        },
        {
          "output_type": "display_data",
          "data": {
            "text/plain": [
              "(-99.78578669709361-20.64267357079272j)"
            ]
          },
          "metadata": {
            "tags": []
          }
        },
        {
          "output_type": "display_data",
          "data": {
            "text/plain": [
              "(-19.761777313467+71.5172096845359j)"
            ]
          },
          "metadata": {
            "tags": []
          }
        },
        {
          "output_type": "display_data",
          "data": {
            "text/plain": [
              "(-19.761777313467-71.5172096845359j)"
            ]
          },
          "metadata": {
            "tags": []
          }
        },
        {
          "output_type": "display_data",
          "data": {
            "text/plain": [
              "(12.121686002207094+0j)"
            ]
          },
          "metadata": {
            "tags": []
          }
        },
        {
          "output_type": "display_data",
          "data": {
            "text/plain": [
              "(-25.248735665312054+50.26721265487169j)"
            ]
          },
          "metadata": {
            "tags": []
          }
        },
        {
          "output_type": "display_data",
          "data": {
            "text/plain": [
              "(-25.248735665312054-50.26721265487169j)"
            ]
          },
          "metadata": {
            "tags": []
          }
        },
        {
          "output_type": "display_data",
          "data": {
            "text/plain": [
              "(-55.64610958258963+0j)"
            ]
          },
          "metadata": {
            "tags": []
          }
        }
      ]
    },
    {
      "cell_type": "markdown",
      "metadata": {
        "id": "KycLY3cM9Elq"
      },
      "source": [
        "Получились в основном комплексные числа. Модули найдем с помощью abs, составим список модулей собственных значений и отсортируем его по возрастанию, послений элемент списка - максимальное собственное число."
      ]
    },
    {
      "cell_type": "code",
      "metadata": {
        "colab": {
          "base_uri": "https://localhost:8080/",
          "height": 150
        },
        "id": "2ioPD9MQ9f2i",
        "outputId": "1ea61ef7-2c46-4ec0-ede6-362618c44d7e"
      },
      "source": [
        "A3_spectr_abs = abs(A3_spectr)\r\n",
        "A3_spectr_abs.sort()\r\n",
        "radiusA3 = A3_spectr_abs[-1]\r\n",
        "display('спектральный радиус', radiusA3, 'спектр', A3_spectr_abs)"
      ],
      "execution_count": 7,
      "outputs": [
        {
          "output_type": "display_data",
          "data": {
            "application/vnd.google.colaboratory.intrinsic+json": {
              "type": "string"
            },
            "text/plain": [
              "'спектральный радиус'"
            ]
          },
          "metadata": {
            "tags": []
          }
        },
        {
          "output_type": "display_data",
          "data": {
            "text/plain": [
              "999.6319322682816"
            ]
          },
          "metadata": {
            "tags": []
          }
        },
        {
          "output_type": "display_data",
          "data": {
            "application/vnd.google.colaboratory.intrinsic+json": {
              "type": "string"
            },
            "text/plain": [
              "'спектр'"
            ]
          },
          "metadata": {
            "tags": []
          }
        },
        {
          "output_type": "display_data",
          "data": {
            "text/plain": [
              "array([ 12.121686  ,  55.64610958,  56.25203393,  56.25203393,\n",
              "        68.50192931,  68.50192931,  74.19729863,  74.19729863,\n",
              "        76.30742753,  76.30742753,  78.16595494,  94.05563951,\n",
              "        94.05563951, 101.89859272, 101.89859272, 109.91990612,\n",
              "       109.91990612, 110.36961729, 110.36961729, 999.63193227])"
            ]
          },
          "metadata": {
            "tags": []
          }
        }
      ]
    },
    {
      "cell_type": "markdown",
      "metadata": {
        "id": "91_OtLysZFwj"
      },
      "source": [
        "Сингулярные числа матрицы можно найти с помощью scipy.linalg.svdvals\r\n",
        "\r\n",
        "https://docs.scipy.org/doc/scipy/reference/generated/scipy.linalg.svdvals.html\r\n",
        "\r\n",
        "\r\n",
        "## Пример 4\r\n",
        "С помощью разложения SVD (scipy.linalg.svdvals) получим сингулярные числа матрицы Примера 3. Изобразим на комплексной плоскости сингулярные числа, собственные числа и окружность с радиусом, равным спектральному радиусу матрицы A3."
      ]
    },
    {
      "cell_type": "code",
      "metadata": {
        "colab": {
          "base_uri": "https://localhost:8080/",
          "height": 343
        },
        "id": "ghYJzrn3aGyq",
        "outputId": "b5a6ae45-e25b-45d1-d249-d796171f822e"
      },
      "source": [
        "sing_val_A3 = scipy.linalg.svdvals(A3)\r\n",
        "ax = plt.gca()  \r\n",
        "radius2 = radiusA3**2\r\n",
        "X = np.linspace(-radiusA3, radiusA3, 256)\r\n",
        "Y = np.sqrt(radius2 - X**2)\r\n",
        "ax.axis('equal')\r\n",
        "ax.plot(sing_val_A3, np.zeros(len(sing_val_A3)), 'ro', np.real(A3_spectr), np.imag(A3_spectr), 'go', X, Y, 'm--', X, -Y, 'm--')\r\n",
        "ax.set_xlabel('Re')\r\n",
        "ax.set_ylabel('Im')\r\n",
        "print(sing_val_A3)"
      ],
      "execution_count": 25,
      "outputs": [
        {
          "output_type": "stream",
          "text": [
            "[1019.71326226  226.78433187  211.38641442  188.97939044  173.02870319\n",
            "  162.90671788  148.57740324  145.38108335  126.59258294  124.4057928\n",
            "  100.92702017   98.73307441   80.35492349   73.2819829    59.12720602\n",
            "   44.6663829    35.08737985   23.68261836    9.10951098    3.26386598]\n"
          ],
          "name": "stdout"
        },
        {
          "output_type": "display_data",
          "data": {
            "image/png": "[encoded data removed]",
            "text/plain": [
              "<Figure size 432x288 with 1 Axes>"
            ]
          },
          "metadata": {
            "tags": [],
            "needs_background": "light"
          }
        }
      ]
    },
    {
      "cell_type": "markdown",
      "metadata": {
        "id": "zDPcyRk8dK9F"
      },
      "source": [
        "## Пример 5\r\n",
        "Проверим утверждение $||A||_F = \\sqrt{\\sigma_1^2 + \\sigma_1^2 + ... + \\sigma_1^n}$ на матрице А3.\r\n"
      ]
    },
    {
      "cell_type": "code",
      "metadata": {
        "colab": {
          "base_uri": "https://localhost:8080/",
          "height": 50
        },
        "id": "GzyvOvaddoMT",
        "outputId": "65a9648f-c813-48fb-d6b7-59f78f7d65bf"
      },
      "source": [
        "display(numpy.linalg.norm(sing_val_A3, ord=2), \r\n",
        "        numpy.linalg.norm(A3, ord='fro'))"
      ],
      "execution_count": 11,
      "outputs": [
        {
          "output_type": "display_data",
          "data": {
            "text/plain": [
              "1158.4355830170268"
            ]
          },
          "metadata": {
            "tags": []
          }
        },
        {
          "output_type": "display_data",
          "data": {
            "text/plain": [
              "1158.4355830170273"
            ]
          },
          "metadata": {
            "tags": []
          }
        }
      ]
    },
    {
      "cell_type": "markdown",
      "metadata": {
        "id": "eob7zxeyhL_z"
      },
      "source": [
        "## Пример 6\r\n",
        "Проверим утверждение, что норма, согласованная с некоторой векторной нормой, равна числу, которое не меньше, чем спектральный радиус.\r\n",
        "\r\n",
        "Вычислим нормы матрицы А3 и сравним их со спектральным радиусом."
      ]
    },
    {
      "cell_type": "code",
      "metadata": {
        "colab": {
          "base_uri": "https://localhost:8080/",
          "height": 98
        },
        "id": "Vi2LcPhshqtS",
        "outputId": "2173cdb2-37dd-4f6b-cf92-ebaa1f1a5286"
      },
      "source": [
        "display(*[('ord', item, '||A3|', [(normA3, normA3 >= radiusA3) for normA3 in (scipy.linalg.norm(A3, ord=item),)][0]) for item in (1, 2, np.inf, 'fro')], radiusA3)"
      ],
      "execution_count": 14,
      "outputs": [
        {
          "output_type": "display_data",
          "data": {
            "text/plain": [
              "('ord', 1, '||A3|', (1391.0, True))"
            ]
          },
          "metadata": {
            "tags": []
          }
        },
        {
          "output_type": "display_data",
          "data": {
            "text/plain": [
              "('ord', 2, '||A3|', (1019.7132622612315, True))"
            ]
          },
          "metadata": {
            "tags": []
          }
        },
        {
          "output_type": "display_data",
          "data": {
            "text/plain": [
              "('ord', inf, '||A3|', (1210.0, True))"
            ]
          },
          "metadata": {
            "tags": []
          }
        },
        {
          "output_type": "display_data",
          "data": {
            "text/plain": [
              "('ord', 'fro', '||A3|', (1158.4355830170273, True))"
            ]
          },
          "metadata": {
            "tags": []
          }
        },
        {
          "output_type": "display_data",
          "data": {
            "text/plain": [
              "999.6319322682816"
            ]
          },
          "metadata": {
            "tags": []
          }
        }
      ]
    },
    {
      "cell_type": "markdown",
      "metadata": {
        "id": "pgdPqksvJNxa"
      },
      "source": [
        "## Приближенное разложение меньшего ранга\r\n",
        "$$\r\n",
        "A_{n\\times n} = A_{n\\times r} \\times  A_{r\\times n},\\quad\r\n",
        "r - \\mbox{ ранг матрицы А}. \r\n",
        "$$\r\n",
        "Пусть SVD-разложение матрицы $A = V\\Sigma U^*$, где \r\n",
        "$$\r\n",
        "\\Sigma =\r\n",
        "\\left(\r\n",
        "\\begin{matrix}\r\n",
        "\\sigma_1 & 0 & 0 & ... & 0\\\\\r\n",
        "0 & \\sigma_2 & 0 & ... & 0 \\\\\r\n",
        "0 &0 & ...& ... & 0\\\\\r\n",
        "0 & ... & ...& ... & 0 \\\\\r\n",
        "0 &0 & ... & ... & \\sigma_n\r\n",
        "\\end{matrix}\r\n",
        "\\right),\r\n",
        "$$\r\n",
        "тогда $A_r = V\\Sigma_r U^*$, где\r\n",
        "$$\r\n",
        "\\Sigma_r  = \r\n",
        "\\left(\r\n",
        "\\begin{matrix}\r\n",
        "\\sigma_1 & 0 & 0 & ... & ... & 0\\\\\r\n",
        "0 & \\sigma_2 & 0 & ... & ... &0 \\\\\r\n",
        "0 &0 & ...& ... & ... & 0\\\\\r\n",
        "0 & ... & ...& \\sigma_r & ... & 0 \\\\\r\n",
        "0 &0 & ... & ... &... & 0\\\\\r\n",
        " ...  & ...  & ... & ... &... &  ... \\\\\r\n",
        "0 &0 & ... & ... &... & 0\\\\\r\n",
        "\\end{matrix}\r\n",
        "\\right),\r\n",
        "$$\r\n",
        "## Пример 7\r\n",
        "Построим приближение ранга 1 для матрицы А7 в спектральной норме, найдем норму разности матриц.\r\n",
        "Пусть SVD-разложение матрицы $A = V\\Sigma U^*$, где \r\n",
        "$$\r\n",
        "A_7 =\r\n",
        "\\left(\r\n",
        "\\begin{matrix}\r\n",
        "6 & 0 & 6\\\\\r\n",
        "0 & 12 & 6\\\\\r\n",
        "6 & 6 & 9\r\n",
        "\\end{matrix}\r\n",
        "\\right),\r\n",
        "$$\r\n"
      ]
    },
    {
      "cell_type": "code",
      "metadata": {
        "colab": {
          "base_uri": "https://localhost:8080/",
          "height": 290
        },
        "id": "qxMDIrFYnG42",
        "outputId": "432af86f-0828-462b-eef1-a32a3173ce3b"
      },
      "source": [
        "A7 = [[6, 0, 6], [0, 12, 6], [6, 6, 9]]\r\n",
        "U7, sigmaA7, Vh7 = scipy.linalg.svd(A7)\r\n",
        "Sigma7 = np.diag(sigmaA7)\r\n",
        "UsVh7 = U7 @ Sigma7 @ Vh7\r\n",
        "Sigma7_1 = np.zeros((3, 3))\r\n",
        "Sigma7_1[0] = Sigma7[0]\r\n",
        "A7r = U7 @ Sigma7_1 @ Vh7\r\n",
        "display(U7, sigmaA7, Vh7, UsVh7, np.allclose(UsVh7, A7), A7r, scipy.linalg.norm(A7 - A7r))"
      ],
      "execution_count": 22,
      "outputs": [
        {
          "output_type": "display_data",
          "data": {
            "text/plain": [
              "array([[-0.33333333,  0.66666667, -0.66666667],\n",
              "       [-0.66666667, -0.66666667, -0.33333333],\n",
              "       [-0.66666667,  0.33333333,  0.66666667]])"
            ]
          },
          "metadata": {
            "tags": []
          }
        },
        {
          "output_type": "display_data",
          "data": {
            "text/plain": [
              "array([1.80000000e+01, 9.00000000e+00, 4.94791776e-16])"
            ]
          },
          "metadata": {
            "tags": []
          }
        },
        {
          "output_type": "display_data",
          "data": {
            "text/plain": [
              "array([[-0.33333333, -0.66666667, -0.66666667],\n",
              "       [ 0.66666667, -0.66666667,  0.33333333],\n",
              "       [-0.66666667, -0.33333333,  0.66666667]])"
            ]
          },
          "metadata": {
            "tags": []
          }
        },
        {
          "output_type": "display_data",
          "data": {
            "text/plain": [
              "array([[ 6.00000000e+00,  2.92251872e-15,  6.00000000e+00],\n",
              "       [-7.04209823e-16,  1.20000000e+01,  6.00000000e+00],\n",
              "       [ 6.00000000e+00,  6.00000000e+00,  9.00000000e+00]])"
            ]
          },
          "metadata": {
            "tags": []
          }
        },
        {
          "output_type": "display_data",
          "data": {
            "text/plain": [
              "True"
            ]
          },
          "metadata": {
            "tags": []
          }
        },
        {
          "output_type": "display_data",
          "data": {
            "text/plain": [
              "array([[2., 4., 4.],\n",
              "       [4., 8., 8.],\n",
              "       [4., 8., 8.]])"
            ]
          },
          "metadata": {
            "tags": []
          }
        },
        {
          "output_type": "display_data",
          "data": {
            "text/plain": [
              "9.0"
            ]
          },
          "metadata": {
            "tags": []
          }
        }
      ]
    },
    {
      "cell_type": "markdown",
      "metadata": {
        "id": "RXx3Ii9XrTLH"
      },
      "source": [
        "## Круги Гершгорина\r\n",
        "#### Первая теорема Гершгорина\r\n",
        "\r\n",
        "Все собственные значения матрицы $A_{n\\times n} = (a_{ij})$ содержатся в объединении кругов на комплексной плоскости\r\n",
        "$$\r\n",
        "|\\lambda - a_{ii}| \\le \\sum_{k = 1, k \\neq i}^n |a_{ik}|, \\quad i = 1, ..., n.\r\n",
        "$$\r\n",
        "\r\n",
        "## Пример 8\r\n",
        "$$\r\n",
        "A_8 =\r\n",
        "\\left(\r\n",
        "\\begin{matrix}\r\n",
        "1 & 2 & 0 & 0 & 0\\\\\r\n",
        "3 & 1 & 2 & 0 & 0 \\\\\r\n",
        "0 & 3 & 1 & 2 & 0\\\\\r\n",
        "0 & 0 & 3 & 1 & 2 \\\\\r\n",
        "0 &0 & 0 & 3 & 1\r\n",
        "\\end{matrix}\r\n",
        "\\right),\r\n",
        "$$"
      ]
    },
    {
      "cell_type": "code",
      "metadata": {
        "colab": {
          "base_uri": "https://localhost:8080/",
          "height": 295
        },
        "id": "EtwYA8hLu7ni",
        "outputId": "4efcae37-4c4d-4192-cfc8-cc211741a4fd"
      },
      "source": [
        "A8 = np.array([[1, 2, 0, 0, 0], [3, -1, 2, 0, 0 ], [0, 3, 2, 2, 0], [0, 0, 3, 5, 2 ], [0, 0, 0, 3, 1]])\r\n",
        "n = A8.shape[0]\r\n",
        "A8_spectr = numpy.linalg.eigvals(A8)\r\n",
        "center = [A8[i, i] for i in range(n)]\r\n",
        "R_i = [sum(A8[:, i]) for i in range(n)]\r\n",
        "ax = plt.gca()  \r\n",
        "ax.axis('equal')\r\n",
        "style = ['r', 'g', 'b', 'k', 'c']*10\r\n",
        "for i in  range(n):\r\n",
        "  radius_i = R_i[i]\r\n",
        "  center_i = center[i]\r\n",
        "  style_i = style[i]\r\n",
        "  X = np.linspace(center_i - radius_i, center_i + radius_i, 256)\r\n",
        "  Y = np.sqrt(radius_i**2 - (X - center_i)**2)\r\n",
        "  ax.plot(X, Y, style_i + '-', X, -Y, style_i + '-') \r\n",
        "ax.plot(np.real(A8_spectr), np.imag(A8_spectr), 'go')  \r\n",
        "ax.set_xlabel('Re')\r\n",
        "ax.set_ylabel('Im')\r\n",
        "print(A8_spectr)"
      ],
      "execution_count": 37,
      "outputs": [
        {
          "output_type": "stream",
          "text": [
            "[ 7.29371773 -3.57494429  3.46020426  1.3355524  -0.5145301 ]\n"
          ],
          "name": "stdout"
        },
        {
          "output_type": "display_data",
          "data": {
            "image/png": "[encoded data removed]",
            "text/plain": [
              "<Figure size 432x288 with 1 Axes>"
            ]
          },
          "metadata": {
            "tags": [],
            "needs_background": "light"
          }
        }
      ]
    }
  ]
}