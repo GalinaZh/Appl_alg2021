{
  "nbformat": 4,
  "nbformat_minor": 0,
  "metadata": {
    "kernelspec": {
      "display_name": "Python 3",
      "language": "python",
      "name": "python3"
    },
    "colab": {
      "name": "Applied_Alg_sem_5_Interpolation_task.ipynb",
      "provenance": [],
      "collapsed_sections": [],
      "include_colab_link": true
    }
  },
  "cells": [
    {
      "cell_type": "markdown",
      "metadata": {
        "id": "view-in-github",
        "colab_type": "text"
      },
      "source": [
        "<a href=\"https://colab.research.google.com/github/GalinaZh/Appl_alg2021/blob/main/Applied_Alg_sem_5_Interpolation_task.ipynb\" target=\"_parent\"><img src=\"https://colab.research.google.com/assets/colab-badge.svg\" alt=\"Open In Colab\"/></a>"
      ]
    },
    {
      "cell_type": "markdown",
      "metadata": {
        "id": "fis1w-TTVnuw"
      },
      "source": [
        "# Занятие 5\n",
        "# Прикладная алгебра и численные методы\n",
        "## Интерполяция: полиномы Лагранжа, сплайны и кривые Безье"
      ]
    },
    {
      "cell_type": "code",
      "metadata": {
        "id": "mGFcxneQVnu6"
      },
      "source": [
        "import numpy as np\n",
        "import scipy.linalg\n",
        "import sympy\n",
        "from sympy import S\n",
        "import matplotlib.pyplot as plt\n",
        "from copy import deepcopy\n",
        "from scipy.interpolate import interp1d, splrep, splev, InterpolatedUnivariateSpline, BPoly, CubicSpline\n",
        "%matplotlib inline"
      ],
      "execution_count": null,
      "outputs": []
    },
    {
      "cell_type": "code",
      "metadata": {
        "id": "PAkxl_bYer7c"
      },
      "source": [
        "#sympy.init_printing(use_unicode=False, wrap_line=False, no_global=True)"
      ],
      "execution_count": null,
      "outputs": []
    },
    {
      "cell_type": "markdown",
      "metadata": {
        "id": "XMPgEBNnVnu8"
      },
      "source": [
        "## Многочлен Лагранжа\n",
        "$$\n",
        "f(x) = L(x) = \\sum_{i=1}^n y_i \n",
        "\\frac{(x - x_0)(x - x_1)...(x - x_{i-1})(x - x_{i+1})...(x - x_n)}{(x_i - x_0)(x_i - x_1)...(x_i - x_{i-1})(x_i - x_{i+1})...(x_i - x_n)}, \n",
        "\\quad y_i = f(x_i), \\quad i = 0, ..., n.\n",
        "$$\n",
        "## Задача 1\n",
        "Приблизить параболой косинус на отрезке от $-\\frac{\\pi}{4}$ до $\\frac{\\pi}{4}$, выбрать промежуточную точку на середине отрезка."
      ]
    },
    {
      "cell_type": "code",
      "metadata": {
        "id": "1sbt5kXjHKnt"
      },
      "source": [
        ""
      ],
      "execution_count": null,
      "outputs": []
    },
    {
      "cell_type": "markdown",
      "metadata": {
        "id": "xnBC98kbVnu-"
      },
      "source": [
        "## Задача 2 Линейная регрессия\n",
        "Для косинуса построить параболу методом линейной регрессии\n",
        "на отрезке от $-\\frac{\\pi}{4}$ до $\\frac{\\pi}{4}$, выбрать 10 промежуточных точек равномерно распределенных на отрезке. \n",
        "Изобразить на графике точки косинуса и полученную параболу."
      ]
    },
    {
      "cell_type": "markdown",
      "metadata": {
        "id": "HP-oIIrKVnvE"
      },
      "source": [
        "## Задача 3\n",
        "Построить по определению и с помощью scipy.interpolate.lagrange полином Лагранжа для косинуса \n",
        "на отрезке от $-\\frac{\\pi}{4}$ до $\\frac{\\pi}{4}$, выбрать 3 промежуточных точки равномерно распределенных на отрезке. \n",
        "Изобразить на графике точки косинуса и полиномы Лагранжа."
      ]
    },
    {
      "cell_type": "code",
      "metadata": {
        "id": "BhFnJc_xJ-4D"
      },
      "source": [
        ""
      ],
      "execution_count": null,
      "outputs": []
    },
    {
      "cell_type": "markdown",
      "metadata": {
        "id": "zugBxFZiVnvG"
      },
      "source": [
        "## Сплайны\n",
        "\n",
        "## Задача 4\n",
        "Аппроксимировать $f(x) = \\tan(x^2)$ на отрезке $[-0.75, 0.75]$ квадратичным и кубическим сплайном с узлами на концах и в трех равномерно распределенных промежуточных точках. \n",
        "\n",
        "Построить на графике исходную функцию и сплайны."
      ]
    },
    {
      "cell_type": "code",
      "metadata": {
        "id": "j2WczeQKSYuQ"
      },
      "source": [
        ""
      ],
      "execution_count": null,
      "outputs": []
    },
    {
      "cell_type": "markdown",
      "metadata": {
        "id": "1XC5Wo-VVnvL"
      },
      "source": [
        "## Сплайны scipy.interpolate: interp1d, splrep, InterpolatedUnivariateSpline\n",
        "https://docs.scipy.org/doc/scipy/reference/interpolate.html#module-scipy.interpolate\n",
        "#### Кубический сплайн:\n",
        "https://docs.scipy.org/doc/scipy/reference/generated/scipy.interpolate.CubicSpline.html#scipy.interpolate.CubicSpline\n",
        "####  interp1d\n",
        "https://docs.scipy.org/doc/scipy/reference/generated/scipy.interpolate.interp1d.html#scipy.interpolate.interp1d\n",
        "####  Полиномы Бернштейна\n",
        "https://docs.scipy.org/doc/scipy/reference/generated/scipy.interpolate.BPoly.html#scipy.interpolate.BPoly\n",
        "\n",
        "Теперь будем строить сплайны средствами scipy.interpolate, вначале подключим необходимые функции:"
      ]
    },
    {
      "cell_type": "markdown",
      "metadata": {
        "id": "-DMIm1NtVnvM"
      },
      "source": [
        "## interp1d\n",
        "Параметры $x$ и  $y$ - координаты узлов сплайна, \n",
        "kind - str или int, необязательный параметр, определяющий тип сплайна, по умолчанию линейный (‘linear’), можно сделать ‘nearest’, ‘nearest-up’, ‘zero’, ‘slinear’, ‘quadratic’, ‘cubic’, ‘previous’ или ‘next’. \n",
        "\n",
        "‘zero’, ‘slinear’, ‘quadratic’ и ‘cubic’ обозначают интерполяцию нулевого, первого, второго или третьего порядка,\n",
        "\n",
        "‘previous’ и ‘next’ просто возвращают предыдущее или следующее значение функции\n",
        "\n",
        "‘nearest-up’ и ‘nearest’ различаются обработкой полуцелых чисел, таких как 0.5, 1.5.\n"
      ]
    },
    {
      "cell_type": "markdown",
      "metadata": {
        "id": "nWVGdlq6VnvO"
      },
      "source": [
        "## Кривые Безье\n",
        "#### Линейная кривая Безье\n",
        "$P_0$ и $P_1$ две различные точки, тогда линейная кривая Безье - отрезок, соединяющий эти точки:\n",
        "$$\n",
        "B(t) = P_0 + t(P_1 - P_0) = (1 - t)P_0 + tP_1,\\quad 1\\le t \\le 1 \n",
        "$$\n",
        "#### Квадратичная кривая Безье\n",
        "$P_0$, $P_1$ и $P_2$ три различные точки, тогда квадратичная кривая Безье - отрезок, соединяющий эти точки:\n",
        "$$\n",
        "B(t) = (1 - t)^2P_0 + 2(1 - t)tP_1 + t^2P_2 = P_1 + (1 - t)^2(P_0 - P_1) + t^2(P_2 - P_1),\\quad 1\\le t \\le 1 \n",
        "$$\n",
        "#### Кубическая кривая Безье\n",
        "$P_0$, $P_1$, $P_2$ и $P_3$ четыре различные точки, тогда кубическая кривая Безье - отрезок, соединяющий эти точки:\n",
        "$$\n",
        "B(t) = (1 - t)^3P_0 + 3(1 - t)^2tP_1 + 3(1 - t)t^2P_2 +t^3P_3,\\quad 1\\le t \\le 1 \n",
        "$$\n",
        "#### Общий вид кривой Безье\n",
        "$P_0$, $P_1$, ...  и $P_n$ - $n$ различных точек, тогда линейная кривая Безье - отрезок, соединяющий эти точки:\n",
        "$$\n",
        "B(t) = \\sum_{k=0}^n C_n^k(1 - t)^{n - k}t^kP_k,\\quad 1\\le t \\le 1 \n",
        "$$\n",
        "\n",
        "https://bezier.readthedocs.io/en/stable/python/reference/bezier.curve.html\n",
        "\n",
        "## Задача 5\n",
        "Построим кривую Безье по точкам на графике $\\sin x^2$ на отрезке .\n",
        "\n",
        "Для каждой точки построим полином Бернштейна $C_n^k(1 - t)^{n - k}t^k$, $1\\le t \\le 1$ и составим сумму произведений соответствующих координат точки на полиномы  Бернштейна."
      ]
    },
    {
      "cell_type": "code",
      "metadata": {
        "id": "sXtpSRupSXBr"
      },
      "source": [
        ""
      ],
      "execution_count": null,
      "outputs": []
    },
    {
      "cell_type": "markdown",
      "metadata": {
        "id": "WGYrnOmMVnvP"
      },
      "source": [
        "## Задача 6\n",
        "Построить кривую Безье Задачи 5 с помощью модуля bezier:\n",
        "\n",
        "https://bezier.readthedocs.io/en/stable/python/reference/bezier.curve.html"
      ]
    },
    {
      "cell_type": "code",
      "metadata": {
        "colab": {
          "base_uri": "https://localhost:8080/"
        },
        "id": "DesVh72JVnvP",
        "outputId": "e1d15af9-f6e7-4896-b017-03572b851d66"
      },
      "source": [
        "!pip install bezier #--user"
      ],
      "execution_count": null,
      "outputs": [
        {
          "output_type": "stream",
          "text": [
            "Requirement already satisfied: bezier in /root/.local/lib/python3.6/site-packages (2020.5.19)\n",
            "Requirement already satisfied: numpy>=1.18.1 in /usr/local/lib/python3.6/dist-packages (from bezier) (1.19.5)\n"
          ],
          "name": "stdout"
        }
      ]
    },
    {
      "cell_type": "code",
      "metadata": {
        "id": "bycToZPRVnvP"
      },
      "source": [
        "import bezier"
      ],
      "execution_count": null,
      "outputs": []
    },
    {
      "cell_type": "code",
      "metadata": {
        "id": "4rOCXtseSgng"
      },
      "source": [
        ""
      ],
      "execution_count": null,
      "outputs": []
    }
  ]
}