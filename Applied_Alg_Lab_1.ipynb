{
  "nbformat": 4,
  "nbformat_minor": 0,
  "metadata": {
    "kernelspec": {
      "display_name": "Python 3",
      "language": "python",
      "name": "python3"
    },
    "colab": {
      "name": "Applied_Alg_Lab_1",
      "provenance": [],
      "collapsed_sections": [],
      "include_colab_link": true
    }
  },
  "cells": [
    {
      "cell_type": "markdown",
      "metadata": {
        "id": "view-in-github",
        "colab_type": "text"
      },
      "source": [
        "<a href=\"https://colab.research.google.com/github/GalinaZh/Appl_alg2021/blob/main/Applied_Alg_Lab_1.ipynb\" target=\"_parent\"><img src=\"https://colab.research.google.com/assets/colab-badge.svg\" alt=\"Open In Colab\"/></a>"
      ]
    },
    {
      "cell_type": "markdown",
      "metadata": {
        "id": "fis1w-TTVnuw"
      },
      "source": [
        "# Лабораторная работа 1\n",
        "# Прикладная алгебра и численные методы\n",
        "## Псевдообратная матрица, ортогонализация Грама-Шмидта, LU, QR, МНК, полиномы Лагранжа, Чебышева, сплайны, кривые Безье, нормы."
      ]
    },
    {
      "cell_type": "code",
      "metadata": {
        "id": "mGFcxneQVnu6"
      },
      "source": [
        "import numpy as np\n",
        "import pandas as pd\n",
        "import sympy\n",
        "from sympy import S, latex, Matrix, I, simplify, expand\n",
        "import scipy.linalg\n",
        "import numpy.linalg\n",
        "from google.colab import files\n",
        "from copy import deepcopy"
      ],
      "execution_count": null,
      "outputs": []
    },
    {
      "cell_type": "markdown",
      "metadata": {
        "id": "_JT1iMxoMIgQ"
      },
      "source": [
        "## Задание 1\r\n",
        "Найти псевдообратную матрицу к матрице из файла ХХХ.xlsx \r\n",
        "\r\n",
        "с помощью sympy, numpy и scipy\r\n",
        "\r\n",
        "\r\n",
        "Записать в файл YYY.csv полученные псевдообратные матрицы. Каждый элемент матрицы должен быть в отдельной ячейке. Можно пользоваться средствами pandas, можно написать всою функцию для преобразования матрицы в строку, подходящую для записи в файл .csv.\r\n"
      ]
    },
    {
      "cell_type": "code",
      "metadata": {
        "id": "0HxLvQ2bOAhW"
      },
      "source": [
        ""
      ],
      "execution_count": null,
      "outputs": []
    },
    {
      "cell_type": "markdown",
      "metadata": {
        "id": "1x-2rU76TPBR"
      },
      "source": [
        "### Задание 2\r\n",
        "Построить LU разложение для матрицы Задания 1 с помощью sympy и scipy. \r\n",
        "\r\n",
        "Выполнить проверку сравнением с исходной матрицей."
      ]
    },
    {
      "cell_type": "code",
      "metadata": {
        "id": "LJtl5wzKOjzN"
      },
      "source": [
        ""
      ],
      "execution_count": null,
      "outputs": []
    },
    {
      "cell_type": "markdown",
      "metadata": {
        "id": "b35g5UYOZmHC"
      },
      "source": [
        "## Задание 3\r\n",
        " На основе LU разложения Задания 2 построить псевдообратную матрицу. Выполнить проверку по определению псевдообратной матрицы (должны выполняться два равенства)\r\n"
      ]
    },
    {
      "cell_type": "code",
      "metadata": {
        "id": "iWSsUYqwG_YS"
      },
      "source": [
        ""
      ],
      "execution_count": null,
      "outputs": []
    },
    {
      "cell_type": "markdown",
      "metadata": {
        "id": "_y38fB3BOqNU"
      },
      "source": [
        "## Задание 4\r\n",
        " Считать данные из файла ZZZ.xlsx.\r\n",
        "\r\n",
        "Найти коэффициенты $a$, $b$, $c$, $d$ линейной регрессии $Y = at + bu + cv + d$, если\r\n",
        "$Y$ - столбец 1, $t$  столбец 2, $u$ - столбец 3, $v$ - столбец 4.\r\n",
        "\r\n",
        "Искать так: составить матрицу по данным задачи из файла, с помощью процесса ортогонализации Грама-Шмидта построить $QR$-разложение, по нему псевдообратную матрицу и по псевдообратной матрице найти коэффициенты."
      ]
    },
    {
      "cell_type": "code",
      "metadata": {
        "id": "5rbClORYPcuf"
      },
      "source": [
        ""
      ],
      "execution_count": null,
      "outputs": []
    },
    {
      "cell_type": "markdown",
      "metadata": {
        "id": "iXAMsPy2PdMF"
      },
      "source": [
        "## Задание 5\r\n",
        "Найти как можно больше разных норм разности вектора данных $Y_{data}$ Задания 4 (столбец 1 из файла ZZZ.xlsx) и вектора значений, полученных по формуле линейной регрессии $Y = at + bu + cv + d$ с найденными в Задании 4 параметрами."
      ]
    },
    {
      "cell_type": "code",
      "metadata": {
        "id": "rF5DSVNlPytJ"
      },
      "source": [
        ""
      ],
      "execution_count": null,
      "outputs": []
    },
    {
      "cell_type": "markdown",
      "metadata": {
        "id": "5iNT2CJpPzkh"
      },
      "source": [
        "## Задание 6\r\n",
        "Построить разложение SVD с помощью numpy для матрицы XXX. На основе полученного разложения составить псевдообратную матрицу."
      ]
    },
    {
      "cell_type": "code",
      "metadata": {
        "id": "OQIvEbd6P7DY"
      },
      "source": [
        ""
      ],
      "execution_count": null,
      "outputs": []
    },
    {
      "cell_type": "markdown",
      "metadata": {
        "id": "NVfw1t_IP7Wx"
      },
      "source": [
        "## Задание 7\r\n",
        "Для данных из файла PPP.xlsx построить полином Лагранжа "
      ]
    },
    {
      "cell_type": "code",
      "metadata": {
        "id": "hD_qf8myQDR1"
      },
      "source": [
        ""
      ],
      "execution_count": null,
      "outputs": []
    },
    {
      "cell_type": "markdown",
      "metadata": {
        "id": "DY3eivMDP8t0"
      },
      "source": [
        "## Задание 8\r\n",
        "Построить по данным Задания 7 кубический сплайн."
      ]
    },
    {
      "cell_type": "code",
      "metadata": {
        "id": "A70bkPjzQEAc"
      },
      "source": [
        ""
      ],
      "execution_count": null,
      "outputs": []
    },
    {
      "cell_type": "markdown",
      "metadata": {
        "id": "ADU0oRjIP-lU"
      },
      "source": [
        "## Задание 9\r\n",
        "Построить полином Чебышева степени не выше 4, приближающий $f(x) = 3x^6 - 4x^3 +x^2 - x + 2$."
      ]
    },
    {
      "cell_type": "code",
      "metadata": {
        "id": "90gmBRqaQE0E"
      },
      "source": [
        ""
      ],
      "execution_count": null,
      "outputs": []
    },
    {
      "cell_type": "markdown",
      "metadata": {
        "id": "fiOP6GskQAVE"
      },
      "source": [
        "## Задание 10\r\n",
        "Соединить точки A и B кривой Безье так, чтобы касательные на концах совпадали с касательными к функции в точках  A и B.\r\n",
        "\r\n",
        " A и B точки  на графике функции  $f(x) = 3tg(x/6)$ с горизонтальными координатами  1 и 4."
      ]
    },
    {
      "cell_type": "code",
      "metadata": {
        "id": "FEUNGb1YQFp0"
      },
      "source": [
        ""
      ],
      "execution_count": null,
      "outputs": []
    }
  ]
}